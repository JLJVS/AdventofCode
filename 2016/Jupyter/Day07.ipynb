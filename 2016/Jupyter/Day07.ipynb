{
 "cells": [
  {
   "cell_type": "markdown",
   "id": "d1eff6c7",
   "metadata": {},
   "source": [
    "--- Day 7: Internet Protocol Version 7 ---\n",
    "\n",
    "While snooping around the local network of EBHQ, you compile a list of IP addresses (they're IPv7, of course; IPv6 is much too limited). You'd like to figure out which IPs support TLS (transport-layer snooping).\n",
    "\n",
    "An IP supports TLS if it has an Autonomous Bridge Bypass Annotation, or ABBA. An ABBA is any four-character sequence which consists of a pair of two different characters followed by the reverse of that pair, such as xyyx or abba. However, the IP also must not have an ABBA within any hypernet sequences, which are contained by square brackets.\n",
    "\n",
    "For example:\n",
    "\n",
    "    abba[mnop]qrst supports TLS (abba outside square brackets).\n",
    "    abcd[bddb]xyyx does not support TLS (bddb is within square brackets, even though xyyx is outside square brackets).\n",
    "    aaaa[qwer]tyui does not support TLS (aaaa is invalid; the interior characters must be different).\n",
    "    ioxxoj[asdfgh]zxcvbn supports TLS (oxxo is outside square brackets, even though it's within a larger string).\n",
    "\n",
    "How many IPs in your puzzle input support TLS?\n",
    "\n",
    "--- Part Two ---\n",
    "\n",
    "You would also like to know which IPs support SSL (super-secret listening).\n",
    "\n",
    "An IP supports SSL if it has an Area-Broadcast Accessor, or ABA, anywhere in the supernet sequences (outside any square bracketed sections), and a corresponding Byte Allocation Block, or BAB, anywhere in the hypernet sequences. An ABA is any three-character sequence which consists of the same character twice with a different character between them, such as xyx or aba. A corresponding BAB is the same characters but in reversed positions: yxy and bab, respectively.\n",
    "\n",
    "For example:\n",
    "\n",
    "    aba[bab]xyz supports SSL (aba outside square brackets with corresponding bab within square brackets).\n",
    "    xyx[xyx]xyx does not support SSL (xyx, but no corresponding yxy).\n",
    "    aaa[kek]eke supports SSL (eke in supernet with corresponding kek in hypernet; the aaa sequence is not related, because the interior character must be different).\n",
    "    zazbz[bzb]cdb supports SSL (zaz has no corresponding aza, but zbz has a corresponding bzb, even though zaz and zbz overlap).\n",
    "\n",
    "How many IPs in your puzzle input support SSL?\n",
    "\n"
   ]
  },
  {
   "cell_type": "code",
   "execution_count": 1,
   "id": "1e1d3ac8",
   "metadata": {},
   "outputs": [],
   "source": [
    "import re"
   ]
  },
  {
   "cell_type": "code",
   "execution_count": 2,
   "id": "c72e78fe",
   "metadata": {},
   "outputs": [],
   "source": [
    "filepath = \"..\\\\data\\\\input_day_07.txt\"\n",
    "test1 = \"..\\\\test\\\\test07_1.txt\"\n",
    "test2 = \"..\\\\test\\\\test07_2.txt\"\n",
    "test3 = \"..\\\\test\\\\test07_3.txt\"\n",
    "test4 = \"..\\\\test\\\\test07_4.txt\"\n",
    "test5 = \"..\\\\test\\\\test07_5.txt\"\n"
   ]
  },
  {
   "cell_type": "code",
   "execution_count": 3,
   "id": "95141587",
   "metadata": {},
   "outputs": [],
   "source": [
    "# first we import our files\n",
    "def read_input(filepath):\n",
    "    with open(filepath, 'r') as f:\n",
    "        lines = f.readlines()\n",
    "    \n",
    "    return lines"
   ]
  },
  {
   "cell_type": "code",
   "execution_count": 4,
   "id": "048d0cab",
   "metadata": {},
   "outputs": [],
   "source": [
    "def convert_input(lines):\n",
    "    # even entries i=0,2,4,etc are outside\n",
    "    splits = []\n",
    "    \n",
    "    for line in lines:\n",
    "        line = line.replace(\"]\", \"[\")\n",
    "        splits.append(line.split(\"[\"))\n",
    "    return splits"
   ]
  },
  {
   "cell_type": "code",
   "execution_count": 5,
   "id": "b1179c4d",
   "metadata": {},
   "outputs": [],
   "source": [
    "def TLS_support(string):\n",
    "    \n",
    "    for i, char in enumerate(string[:-3]):\n",
    "        \n",
    "        if (char==string[i+3]) and (string[i+1]==string[i+2]) and char!=string[i+1]:\n",
    "            return True\n",
    "    return False"
   ]
  },
  {
   "cell_type": "code",
   "execution_count": 6,
   "id": "32dcb5e3",
   "metadata": {},
   "outputs": [],
   "source": [
    "def SSL_support(string):\n",
    "    \n",
    "    triplets = []\n",
    "    found_triplets = False\n",
    "    \n",
    "    for i, char in enumerate(string[:-2]):\n",
    "        if (char == string[i+2]) and (char != string[i+1]):\n",
    "            found_triplets = True\n",
    "            triplets.append(string[i:i+3])\n",
    "    return found_triplets, triplets"
   ]
  },
  {
   "cell_type": "code",
   "execution_count": 7,
   "id": "a442066a",
   "metadata": {},
   "outputs": [],
   "source": [
    "def day07a(filepath):\n",
    "    \n",
    "    lines = read_input(filepath)\n",
    "    splits = convert_input(lines)\n",
    "    \n",
    "    valid = []\n",
    "    \n",
    "    for parts in splits:\n",
    "        inside, outside = True, False\n",
    "        for i, part in enumerate(parts):\n",
    "            if i%2==0:\n",
    "                if TLS_support(part):\n",
    "                    outside = True\n",
    "            else:\n",
    "                if TLS_support(part):\n",
    "                    inside = False\n",
    "        if inside and outside:\n",
    "            valid.append(parts)\n",
    "    print(f\"There are {len(valid)} IPs that support TLS.\")\n",
    "    return len(valid)"
   ]
  },
  {
   "cell_type": "code",
   "execution_count": 8,
   "id": "3117edd6",
   "metadata": {},
   "outputs": [],
   "source": [
    "def day07b(filepath):\n",
    "    \n",
    "    lines = read_input(filepath)\n",
    "    splits = convert_input(lines)\n",
    "    \n",
    "    valid = []\n",
    "        \n",
    "    for parts in splits:\n",
    "        inside, outside = False, False\n",
    "        inside_triplets, outside_triplets = [], []\n",
    "        \n",
    "        # first find the triplets inside and outside\n",
    "        for i, part in enumerate(parts):\n",
    "            if i%2==0:\n",
    "                if SSL_support(part)[0]:\n",
    "                    outside = True\n",
    "                    outside_triplets.extend(SSL_support(part)[1])\n",
    "            else:\n",
    "                if SSL_support(part)[0]:\n",
    "                    inside = True\n",
    "                    inside_triplets.extend(SSL_support(part)[1])\n",
    "        \n",
    "        # if we have both kind of triplets check if the patterns are inverted\n",
    "        if inside and outside:\n",
    "            matching_triplet = False\n",
    "            for triplet_a in inside_triplets:\n",
    "                for triplet_b in outside_triplets:\n",
    "                    if (triplet_a[0] == triplet_b[1]) and (triplet_a[1]==triplet_b[0]):\n",
    "                        matching_triplet = True\n",
    "            if matching_triplet:\n",
    "                valid.append(parts)\n",
    "    \n",
    "    print(f\"There are {len(valid)} IPs that support SSL.\")                    \n",
    "    return len(valid)\n",
    "        "
   ]
  },
  {
   "cell_type": "code",
   "execution_count": 9,
   "id": "16d24563",
   "metadata": {},
   "outputs": [],
   "source": [
    "def test07():\n",
    "    assert day07a(test1) == 1\n",
    "    assert day07a(test2) == 0\n",
    "    assert day07a(test3) == 0\n",
    "    assert day07a(test4) == 1\n",
    "    assert day07a(test5) == 2\n",
    "    print(\"Passed all checks\")"
   ]
  },
  {
   "cell_type": "code",
   "execution_count": 10,
   "id": "df8abf14",
   "metadata": {},
   "outputs": [
    {
     "name": "stdout",
     "output_type": "stream",
     "text": [
      "There are 1 IPs that support TLS.\n",
      "There are 0 IPs that support TLS.\n",
      "There are 0 IPs that support TLS.\n",
      "There are 1 IPs that support TLS.\n",
      "There are 2 IPs that support TLS.\n",
      "Passed all checks\n"
     ]
    }
   ],
   "source": [
    "test07()"
   ]
  },
  {
   "cell_type": "code",
   "execution_count": 11,
   "id": "e46c21cb",
   "metadata": {},
   "outputs": [
    {
     "name": "stdout",
     "output_type": "stream",
     "text": [
      "There are 118 IPs that support TLS.\n"
     ]
    },
    {
     "data": {
      "text/plain": [
       "118"
      ]
     },
     "execution_count": 11,
     "metadata": {},
     "output_type": "execute_result"
    }
   ],
   "source": [
    "day07a(filepath)"
   ]
  },
  {
   "cell_type": "code",
   "execution_count": 12,
   "id": "a2fd258c",
   "metadata": {},
   "outputs": [
    {
     "name": "stdout",
     "output_type": "stream",
     "text": [
      "There are 260 IPs that support SSL.\n"
     ]
    },
    {
     "data": {
      "text/plain": [
       "260"
      ]
     },
     "execution_count": 12,
     "metadata": {},
     "output_type": "execute_result"
    }
   ],
   "source": [
    "day07b(filepath)"
   ]
  }
 ],
 "metadata": {
  "kernelspec": {
   "display_name": "Python 3 (ipykernel)",
   "language": "python",
   "name": "python3"
  },
  "language_info": {
   "codemirror_mode": {
    "name": "ipython",
    "version": 3
   },
   "file_extension": ".py",
   "mimetype": "text/x-python",
   "name": "python",
   "nbconvert_exporter": "python",
   "pygments_lexer": "ipython3",
   "version": "3.10.9"
  }
 },
 "nbformat": 4,
 "nbformat_minor": 5
}
