{
 "cells": [
  {
   "cell_type": "markdown",
   "id": "ac4ca974",
   "metadata": {},
   "source": [
    "--- Day 21: Scrambled Letters and Hash ---\n",
    "\n",
    "The computer system you're breaking into uses a weird scrambling function to store its passwords. It shouldn't be much trouble to create your own scrambled password so you can add it to the system; you just have to implement the scrambler.\n",
    "\n",
    "The scrambling function is a series of operations (the exact list is provided in your puzzle input). Starting with the password to be scrambled, apply each operation in succession to the string. The individual operations behave as follows:\n",
    "\n",
    "    swap position X with position Y means that the letters at indexes X and Y (counting from 0) should be swapped.\n",
    "    swap letter X with letter Y means that the letters X and Y should be swapped (regardless of where they appear in the string).\n",
    "    rotate left/right X steps means that the whole string should be rotated; for example, one right rotation would turn abcd into dabc.\n",
    "    rotate based on position of letter X means that the whole string should be rotated to the right based on the index of letter X (counting from 0) as determined before this instruction does any rotations. Once the index is determined, rotate the string to the right one time, plus a number of times equal to that index, plus one additional time if the index was at least 4.\n",
    "    reverse positions X through Y means that the span of letters at indexes X through Y (including the letters at X and Y) should be reversed in order.\n",
    "    move position X to position Y means that the letter which is at index X should be removed from the string, then inserted such that it ends up at index Y.\n",
    "\n",
    "For example, suppose you start with abcde and perform the following operations:\n",
    "\n",
    "    swap position 4 with position 0 swaps the first and last letters, producing the input for the next step, ebcda.\n",
    "    swap letter d with letter b swaps the positions of d and b: edcba.\n",
    "    reverse positions 0 through 4 causes the entire string to be reversed, producing abcde.\n",
    "    rotate left 1 step shifts all letters left one position, causing the first letter to wrap to the end of the string: bcdea.\n",
    "    move position 1 to position 4 removes the letter at position 1 (c), then inserts it at position 4 (the end of the string): bdeac.\n",
    "    move position 3 to position 0 removes the letter at position 3 (a), then inserts it at position 0 (the front of the string): abdec.\n",
    "    rotate based on position of letter b finds the index of letter b (1), then rotates the string right once plus a number of times equal to that index (2): ecabd.\n",
    "    rotate based on position of letter d finds the index of letter d (4), then rotates the string right once, plus a number of times equal to that index, plus an additional time because the index was at least 4, for a total of 6 right rotations: decab.\n",
    "\n",
    "After these steps, the resulting scrambled password is decab.\n",
    "\n",
    "Now, you just need to generate a new scrambled password and you can access the system. Given the list of scrambling operations in your puzzle input, what is the result of scrambling abcdefgh?\n",
    "\n",
    "\n",
    "--- Part Two ---\n",
    "\n",
    "You scrambled the password correctly, but you discover that you can't actually modify the password file on the system. You'll need to un-scramble one of the existing passwords by reversing the scrambling process.\n",
    "\n",
    "What is the un-scrambled version of the scrambled password fbgdceah?\n"
   ]
  },
  {
   "cell_type": "code",
   "execution_count": 1,
   "id": "09877a73",
   "metadata": {},
   "outputs": [],
   "source": [
    "filepath = \"..\\\\data\\\\input_day_21.txt\"\n",
    "test1 = \"..\\\\test\\\\test21_1.txt\"\n",
    "test2 = \"..\\\\test\\\\test21_2.txt\""
   ]
  },
  {
   "cell_type": "code",
   "execution_count": 2,
   "id": "126b7e1f",
   "metadata": {},
   "outputs": [],
   "source": [
    "def read_input(filepath):\n",
    "    with open(filepath, 'r') as f:\n",
    "        lines = f.readlines()\n",
    "    \n",
    "    return lines"
   ]
  },
  {
   "cell_type": "code",
   "execution_count": 3,
   "id": "77ef46ad",
   "metadata": {},
   "outputs": [],
   "source": [
    "def swap_positions(index_1, index_2, string):\n",
    "    string_list = list(string)\n",
    "    a, b = string_list[index_1], string_list[index_2]\n",
    "    string_list[index_1] = b\n",
    "    string_list[index_2] = a\n",
    "    return \"\".join(string_list)"
   ]
  },
  {
   "cell_type": "code",
   "execution_count": 4,
   "id": "7b485cea",
   "metadata": {},
   "outputs": [],
   "source": [
    "def swap_letters(letter_1, letter_2, string):\n",
    "    index_1 = string.find(letter_1)\n",
    "    index_2 = string.find(letter_2)\n",
    "    string_list = list(string)\n",
    "    string_list[index_1] = letter_2\n",
    "    string_list[index_2] = letter_1\n",
    "    return \"\".join(string_list)"
   ]
  },
  {
   "cell_type": "code",
   "execution_count": 5,
   "id": "5308a99f",
   "metadata": {},
   "outputs": [],
   "source": [
    "def rotate_direction(direction, steps, string):\n",
    "    N = len(string)\n",
    "    steps = steps%N\n",
    "    if direction == \"right\":\n",
    "        string = string[-steps:] + string[:-steps]\n",
    "    elif direction == \"left\":\n",
    "        string = string[steps:]+string[:steps]\n",
    "    return string"
   ]
  },
  {
   "cell_type": "code",
   "execution_count": 6,
   "id": "968eacdb",
   "metadata": {},
   "outputs": [],
   "source": [
    "def rotate_letter(letter, string):\n",
    "    index = string.find(letter)\n",
    "    if index >= 4:\n",
    "        index += 1\n",
    "    index += 1\n",
    "    return rotate_direction(\"right\", index, string)"
   ]
  },
  {
   "cell_type": "code",
   "execution_count": 7,
   "id": "425604a2",
   "metadata": {},
   "outputs": [],
   "source": [
    "def derotate_letter(letter, string):\n",
    "    index = string.find(letter)\n",
    "    N = len(string)\n",
    "    # I can't think of an elegant solution so just try all possible rotations \n",
    "    for i in range(N):\n",
    "        possible_string = rotate_direction(\"right\", i, string)\n",
    "        if rotate_letter(letter, possible_string) == string:\n",
    "            return possible_string\n",
    "    "
   ]
  },
  {
   "cell_type": "code",
   "execution_count": 8,
   "id": "10fb857f",
   "metadata": {},
   "outputs": [],
   "source": [
    "def reverse_positions(start, end , string):\n",
    "    return string[:start] + string[start:end+1][::-1] + string[end+1:]"
   ]
  },
  {
   "cell_type": "code",
   "execution_count": 9,
   "id": "688e77bc",
   "metadata": {},
   "outputs": [],
   "source": [
    "def move_position(original, target, string):\n",
    "    string_list = list(string)\n",
    "    a = string_list[original]\n",
    "    string_list.remove(a)\n",
    "    string_list.insert(target, a)\n",
    "    return \"\".join(string_list)"
   ]
  },
  {
   "cell_type": "code",
   "execution_count": 10,
   "id": "30ca41c7",
   "metadata": {},
   "outputs": [],
   "source": [
    "def day21a(filepath, string=\"abcdefgh\"):\n",
    "    \n",
    "    lines = read_input(filepath)\n",
    "    \n",
    "    for i, line in enumerate(lines):\n",
    "        #print(string)\n",
    "        #print(i, line)\n",
    "        # swap checks first\n",
    "        if \"swap\" in line:\n",
    "            if \"position\" in line:\n",
    "                index_1 = int(line.strip().split()[2])\n",
    "                index_2 = int(line.strip().split()[-1])\n",
    "                string = swap_positions(index_1, index_2, string)\n",
    "            elif \"letter\" in line:\n",
    "                letter_1 = line.strip().split()[2]\n",
    "                letter_2 = line.strip().split()[-1]\n",
    "                string = swap_letters(letter_1, letter_2, string)\n",
    "        \n",
    "        # check for rotations\n",
    "        elif \"rotate\" in line:\n",
    "            if line.strip().split()[1] in [\"left\", \"right\"]:\n",
    "                steps = int(line.strip().split()[2])\n",
    "                direction = line.strip().split()[1]\n",
    "                #print(direction, steps)\n",
    "                string = rotate_direction(direction, steps, string)\n",
    "            elif \"letter\" in line:\n",
    "                letter = line.strip().split()[-1]\n",
    "                string = rotate_letter(letter, string)\n",
    "        \n",
    "        # check for reverse\n",
    "        elif \"reverse\" in line:\n",
    "            start = int(line.strip().split()[2])\n",
    "            end = int(line.strip().split()[-1])\n",
    "            string = reverse_positions(start, end, string)\n",
    "        \n",
    "        # check for move\n",
    "        elif \"move\" in line:\n",
    "            original = int(line.strip().split()[2])\n",
    "            target = int(line.strip().split()[-1])\n",
    "            string = move_position(original, target, string)\n",
    "    print(string)\n",
    "    return string"
   ]
  },
  {
   "cell_type": "code",
   "execution_count": 11,
   "id": "d4afa998",
   "metadata": {},
   "outputs": [],
   "source": [
    "def day21b(filepath, string = \"fbgdceah\"):\n",
    "    \n",
    "    lines = read_input(filepath)\n",
    "    new_direction = {\"left\": \"right\", \"right\": \"left\"}\n",
    "    for i, line in enumerate(lines[::-1]):\n",
    "        #print(string)\n",
    "        #print(i, line)\n",
    "        # swap checks first\n",
    "        if \"swap\" in line:\n",
    "            if \"position\" in line:\n",
    "                index_1 = int(line.strip().split()[2])\n",
    "                index_2 = int(line.strip().split()[-1])\n",
    "                string = swap_positions(index_1, index_2, string)\n",
    "            elif \"letter\" in line:\n",
    "                letter_1 = line.strip().split()[2]\n",
    "                letter_2 = line.strip().split()[-1]\n",
    "                string = swap_letters(letter_1, letter_2, string)\n",
    "        \n",
    "        # check for rotations\n",
    "        elif \"rotate\" in line:\n",
    "            if line.strip().split()[1] in [\"left\", \"right\"]:\n",
    "                steps = int(line.strip().split()[2])\n",
    "                direction = line.strip().split()[1]\n",
    "                direction = new_direction[direction]                \n",
    "                #print(direction, steps)\n",
    "                string = rotate_direction(direction, steps, string)\n",
    "            elif \"letter\" in line:\n",
    "                letter = line.strip().split()[-1]\n",
    "                string = derotate_letter(letter, string)\n",
    "        \n",
    "        # check for reverse\n",
    "        elif \"reverse\" in line:\n",
    "            start = int(line.strip().split()[2])\n",
    "            end = int(line.strip().split()[-1])\n",
    "            string = reverse_positions(start, end, string)\n",
    "        \n",
    "        # check for move\n",
    "        elif \"move\" in line:\n",
    "            original = int(line.strip().split()[2])\n",
    "            target = int(line.strip().split()[-1])\n",
    "            string = move_position(target, original, string)\n",
    "    print(string)\n",
    "    return string"
   ]
  },
  {
   "cell_type": "code",
   "execution_count": 12,
   "id": "0945b347",
   "metadata": {},
   "outputs": [],
   "source": [
    "def test():\n",
    "    \n",
    "    # rotate directions tests\n",
    "    string = \"abcd\"\n",
    "    assert rotate_direction(\"right\", 1, string) == \"dabc\"\n",
    "    assert rotate_direction(\"right\", 2, string) == \"cdab\"\n",
    "    assert rotate_direction(\"left\", 1, string) == \"bcda\"\n",
    "    print(\"Passed string rotation checks\")\n",
    "    \n",
    "    string = \"abcde\"\n",
    "    assert swap_positions(0, 4, string) == \"ebcda\"\n",
    "    \n",
    "    \n",
    "    assert day21a(test1, \"abcde\") == \"decab\"\n",
    "    print(\"Passed all checks\")"
   ]
  },
  {
   "cell_type": "code",
   "execution_count": 13,
   "id": "717e7f44",
   "metadata": {},
   "outputs": [
    {
     "name": "stdout",
     "output_type": "stream",
     "text": [
      "Passed string rotation checks\n",
      "decab\n",
      "Passed all checks\n"
     ]
    }
   ],
   "source": [
    "test()"
   ]
  },
  {
   "cell_type": "code",
   "execution_count": 14,
   "id": "d7eb70c2",
   "metadata": {},
   "outputs": [
    {
     "name": "stdout",
     "output_type": "stream",
     "text": [
      "baecdfgh\n"
     ]
    },
    {
     "data": {
      "text/plain": [
       "'baecdfgh'"
      ]
     },
     "execution_count": 14,
     "metadata": {},
     "output_type": "execute_result"
    }
   ],
   "source": [
    "day21a(filepath)"
   ]
  },
  {
   "cell_type": "code",
   "execution_count": 15,
   "id": "18f2eddf",
   "metadata": {},
   "outputs": [
    {
     "name": "stdout",
     "output_type": "stream",
     "text": [
      "cegdahbf\n"
     ]
    },
    {
     "data": {
      "text/plain": [
       "'cegdahbf'"
      ]
     },
     "execution_count": 15,
     "metadata": {},
     "output_type": "execute_result"
    }
   ],
   "source": [
    "day21b(filepath)"
   ]
  }
 ],
 "metadata": {
  "kernelspec": {
   "display_name": "Python 3 (ipykernel)",
   "language": "python",
   "name": "python3"
  },
  "language_info": {
   "codemirror_mode": {
    "name": "ipython",
    "version": 3
   },
   "file_extension": ".py",
   "mimetype": "text/x-python",
   "name": "python",
   "nbconvert_exporter": "python",
   "pygments_lexer": "ipython3",
   "version": "3.10.9"
  }
 },
 "nbformat": 4,
 "nbformat_minor": 5
}
