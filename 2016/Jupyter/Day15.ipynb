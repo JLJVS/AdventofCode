{
 "cells": [
  {
   "cell_type": "markdown",
   "id": "ed5d30ba",
   "metadata": {},
   "source": [
    "--- Day 15: Timing is Everything ---\n",
    "\n",
    "The halls open into an interior plaza containing a large kinetic sculpture. The sculpture is in a sealed enclosure and seems to involve a set of identical spherical capsules that are carried to the top and allowed to bounce through the maze of spinning pieces.\n",
    "\n",
    "Part of the sculpture is even interactive! When a button is pressed, a capsule is dropped and tries to fall through slots in a set of rotating discs to finally go through a little hole at the bottom and come out of the sculpture. If any of the slots aren't aligned with the capsule as it passes, the capsule bounces off the disc and soars away. You feel compelled to get one of those capsules.\n",
    "\n",
    "The discs pause their motion each second and come in different sizes; they seem to each have a fixed number of positions at which they stop. You decide to call the position with the slot 0, and count up for each position it reaches next.\n",
    "\n",
    "Furthermore, the discs are spaced out so that after you push the button, one second elapses before the first disc is reached, and one second elapses as the capsule passes from one disc to the one below it. So, if you push the button at time=100, then the capsule reaches the top disc at time=101, the second disc at time=102, the third disc at time=103, and so on.\n",
    "\n",
    "The button will only drop a capsule at an integer time - no fractional seconds allowed.\n",
    "\n",
    "For example, at time=0, suppose you see the following arrangement:\n",
    "\n",
    "Disc #1 has 5 positions; at time=0, it is at position 4.  \n",
    "Disc #2 has 2 positions; at time=0, it is at position 1.  \n",
    "\n",
    "If you press the button exactly at time=0, the capsule would start to fall; it would reach the first disc at time=1. Since the first disc was at position 4 at time=0, by time=1 it has ticked one position forward. As a five-position disc, the next position is 0, and the capsule falls through the slot.\n",
    "\n",
    "Then, at time=2, the capsule reaches the second disc. The second disc has ticked forward two positions at this point: it started at position 1, then continued to position 0, and finally ended up at position 1 again. Because there's only a slot at position 0, the capsule bounces away.\n",
    "\n",
    "If, however, you wait until time=5 to push the button, then when the capsule reaches each disc, the first disc will have ticked forward 5+1 = 6 times (to position 0), and the second disc will have ticked forward 5+2 = 7 times (also to position 0). In this case, the capsule would fall through the discs and come out of the machine.\n",
    "\n",
    "However, your situation has more than two discs; you've noted their positions in your puzzle input. What is the first time you can press the button to get a capsule?\n",
    "\n",
    "\n",
    "--- Part Two ---\n",
    "\n",
    "After getting the first capsule (it contained a star! what great fortune!), the machine detects your success and begins to rearrange itself.\n",
    "\n",
    "When it's done, the discs are back in their original configuration as if it were time=0 again, but a new disc with 11 positions and starting at position 0 has appeared exactly one second below the previously-bottom disc.\n",
    "\n",
    "With this new disc, and counting again starting from time=0 with the configuration in your puzzle input, what is the first time you can press the button to get another capsule?\n"
   ]
  },
  {
   "cell_type": "code",
   "execution_count": 1,
   "id": "6e975b8b",
   "metadata": {},
   "outputs": [],
   "source": [
    "filepath = \"..\\\\data\\\\input_day_15.txt\"\n",
    "test1 = \"..\\\\test\\\\test15_1.txt\"\n",
    "test2 = \"..\\\\test\\\\test15_2.txt\""
   ]
  },
  {
   "cell_type": "code",
   "execution_count": 2,
   "id": "9065c624",
   "metadata": {},
   "outputs": [],
   "source": [
    "def read_input(filepath):\n",
    "    with open(filepath, 'r') as f:\n",
    "        lines = f.readlines()\n",
    "    \n",
    "    return lines"
   ]
  },
  {
   "cell_type": "code",
   "execution_count": 3,
   "id": "4e328f9c",
   "metadata": {},
   "outputs": [],
   "source": [
    "def convert_input(lines):\n",
    "    \n",
    "    discs = []\n",
    "    for line in lines:\n",
    "        slots = int(line.split()[3])\n",
    "        current = int(line.strip().replace(\".\", \"\").split()[-1])\n",
    "        discs.append([slots, current])\n",
    "    return discs"
   ]
  },
  {
   "cell_type": "code",
   "execution_count": 4,
   "id": "317d7fdc",
   "metadata": {},
   "outputs": [],
   "source": [
    "def update_position(discs, time):\n",
    "    \n",
    "    new_positions = []\n",
    "    for i, disc in enumerate(discs):\n",
    "        length, current = disc\n",
    "        new = (current + time + 1 + i)%length\n",
    "        new_positions.append(new)\n",
    "    return sum(new_positions)==0"
   ]
  },
  {
   "cell_type": "code",
   "execution_count": 5,
   "id": "b6fb11c6",
   "metadata": {},
   "outputs": [],
   "source": [
    "def day15a(filepath):\n",
    "    \n",
    "    \n",
    "    lines = read_input(filepath)\n",
    "    discs = convert_input(lines)\n",
    "    \n",
    "    for t in range(100000):\n",
    "        if update_position(discs, t):\n",
    "            print(f\"The first time you can press the button is {t}.\")\n",
    "            return t"
   ]
  },
  {
   "cell_type": "code",
   "execution_count": 6,
   "id": "277a6cb2",
   "metadata": {},
   "outputs": [],
   "source": [
    "def day15b(filepath):\n",
    "    \n",
    "    \n",
    "    lines = read_input(filepath)\n",
    "    discs = convert_input(lines)\n",
    "    # add the extra disc\n",
    "    discs.append([11, 0])\n",
    "    \n",
    "    for t in range(100000000):\n",
    "        if update_position(discs, t):\n",
    "            print(f\"The first time you can press the button is {t}.\")\n",
    "            return t"
   ]
  },
  {
   "cell_type": "code",
   "execution_count": 7,
   "id": "04cd1975",
   "metadata": {},
   "outputs": [
    {
     "name": "stdout",
     "output_type": "stream",
     "text": [
      "The first time you can press the button is 16824.\n"
     ]
    },
    {
     "data": {
      "text/plain": [
       "16824"
      ]
     },
     "execution_count": 7,
     "metadata": {},
     "output_type": "execute_result"
    }
   ],
   "source": [
    "day15a(filepath)"
   ]
  },
  {
   "cell_type": "code",
   "execution_count": 8,
   "id": "4fb48d6c",
   "metadata": {},
   "outputs": [
    {
     "name": "stdout",
     "output_type": "stream",
     "text": [
      "The first time you can press the button is 3543984.\n"
     ]
    },
    {
     "data": {
      "text/plain": [
       "3543984"
      ]
     },
     "execution_count": 8,
     "metadata": {},
     "output_type": "execute_result"
    }
   ],
   "source": [
    "day15b(filepath)"
   ]
  }
 ],
 "metadata": {
  "kernelspec": {
   "display_name": "Python 3 (ipykernel)",
   "language": "python",
   "name": "python3"
  },
  "language_info": {
   "codemirror_mode": {
    "name": "ipython",
    "version": 3
   },
   "file_extension": ".py",
   "mimetype": "text/x-python",
   "name": "python",
   "nbconvert_exporter": "python",
   "pygments_lexer": "ipython3",
   "version": "3.10.9"
  }
 },
 "nbformat": 4,
 "nbformat_minor": 5
}
