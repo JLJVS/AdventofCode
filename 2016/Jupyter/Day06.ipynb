{
 "cells": [
  {
   "cell_type": "markdown",
   "id": "69e55fd5",
   "metadata": {},
   "source": [
    "--- Day 6: Signals and Noise ---\n",
    "\n",
    "Something is jamming your communications with Santa. Fortunately, your signal is only partially jammed, and protocol in situations like this is to switch to a simple repetition code to get the message through.\n",
    "\n",
    "In this model, the same message is sent repeatedly. You've recorded the repeating message signal (your puzzle input), but the data seems quite corrupted - almost too badly to recover. Almost.\n",
    "\n",
    "All you need to do is figure out which character is most frequent for each position. For example, suppose you had recorded the following messages:\n",
    "\n",
    "eedadn  \n",
    "drvtee  \n",
    "eandsr  \n",
    "raavrd  \n",
    "atevrs  \n",
    "tsrnev  \n",
    "sdttsa  \n",
    "rasrtv  \n",
    "nssdts  \n",
    "ntnada  \n",
    "svetve  \n",
    "tesnvt  \n",
    "vntsnd  \n",
    "vrdear  \n",
    "dvrsen  \n",
    "enarar  \n",
    "\n",
    "The most common character in the first column is e; in the second, a; in the third, s, and so on. Combining these characters returns the error-corrected message, easter.\n",
    "\n",
    "Given the recording in your puzzle input, what is the error-corrected version of the message being sent?\n",
    "\n",
    "\n",
    "--- Part Two ---\n",
    "\n",
    "Of course, that would be the message - if you hadn't agreed to use a modified repetition code instead.\n",
    "\n",
    "In this modified code, the sender instead transmits what looks like random data, but for each character, the character they actually want to send is slightly less likely than the others. Even after signal-jamming noise, you can look at the letter distributions in each column and choose the least common letter to reconstruct the original message.\n",
    "\n",
    "In the above example, the least common character in the first column is a; in the second, d, and so on. Repeating this process for the remaining characters produces the original message, advent.\n",
    "\n",
    "Given the recording in your puzzle input and this new decoding methodology, what is the original message that Santa is trying to send?\n"
   ]
  },
  {
   "cell_type": "code",
   "execution_count": 1,
   "id": "103eb1e0",
   "metadata": {},
   "outputs": [],
   "source": [
    "filepath = \"..\\\\data\\\\input_day_06.txt\"\n",
    "test1 = \"..\\\\test\\\\test06_1.txt\"\n",
    "test2 = \"..\\\\test\\\\test04_2.txt\""
   ]
  },
  {
   "cell_type": "code",
   "execution_count": 2,
   "id": "eee569bf",
   "metadata": {},
   "outputs": [],
   "source": [
    "# first we import our files\n",
    "def read_input(filepath):\n",
    "    with open(filepath, 'r') as f:\n",
    "        lines = f.readlines()\n",
    "    \n",
    "    return lines"
   ]
  },
  {
   "cell_type": "code",
   "execution_count": 4,
   "id": "a5716ebc",
   "metadata": {},
   "outputs": [],
   "source": [
    "def convert_input(lines):\n",
    "    \n",
    "    columns = [[] for _ in range(len(lines[0].strip()))]\n",
    "    for line in lines:\n",
    "        for i, col in enumerate(line.strip()):\n",
    "            columns[i].append(col)\n",
    "    return columns"
   ]
  },
  {
   "cell_type": "code",
   "execution_count": 15,
   "id": "0e14c679",
   "metadata": {},
   "outputs": [],
   "source": [
    "def day06a(filepath):\n",
    "    \n",
    "    lines = read_input(filepath)\n",
    "    columns = convert_input(lines)\n",
    "    message = \"\"\n",
    "    \n",
    "    for column in columns:\n",
    "        col_letters = set(column)\n",
    "        highest = -1\n",
    "        highest_letter = \"\"\n",
    "        for letter in col_letters:\n",
    "            if column.count(letter)>highest:\n",
    "                highest = column.count(letter)\n",
    "                highest_letter = letter\n",
    "        message += highest_letter\n",
    "    print(f\"Error corrected message is: {message}.\")\n",
    "    return message"
   ]
  },
  {
   "cell_type": "code",
   "execution_count": 28,
   "id": "e0db4038",
   "metadata": {},
   "outputs": [],
   "source": [
    "def day06b(filepath):\n",
    "    \n",
    "    lines = read_input(filepath)\n",
    "    columns = convert_input(lines)\n",
    "    message = \"\"\n",
    "    \n",
    "    for column in columns:\n",
    "        col_letters = set(column)\n",
    "        lowest = 100000\n",
    "        lowest_letter = \"\"\n",
    "        for letter in col_letters:\n",
    "            if column.count(letter)<lowest:\n",
    "                lowest = column.count(letter)\n",
    "                lowest_letter = letter\n",
    "        message += lowest_letter\n",
    "    print(f\"Error corrected message is: {message}.\")\n",
    "    return message"
   ]
  },
  {
   "cell_type": "code",
   "execution_count": 29,
   "id": "b786c66a",
   "metadata": {},
   "outputs": [],
   "source": [
    "def test06():\n",
    "    assert day06a(test1) == \"easter\"\n",
    "    assert day06b(test1) == \"advent\"\n",
    "    print(\"Passed all checks\")"
   ]
  },
  {
   "cell_type": "code",
   "execution_count": 30,
   "id": "bb784551",
   "metadata": {},
   "outputs": [
    {
     "name": "stdout",
     "output_type": "stream",
     "text": [
      "Error corrected message is: easter.\n",
      "Error corrected message is: advent.\n",
      "Passed all checks\n"
     ]
    }
   ],
   "source": [
    "test06()"
   ]
  },
  {
   "cell_type": "code",
   "execution_count": 31,
   "id": "1591d942",
   "metadata": {},
   "outputs": [
    {
     "name": "stdout",
     "output_type": "stream",
     "text": [
      "Error corrected message is: tzstqsua.\n"
     ]
    },
    {
     "data": {
      "text/plain": [
       "'tzstqsua'"
      ]
     },
     "execution_count": 31,
     "metadata": {},
     "output_type": "execute_result"
    }
   ],
   "source": [
    "day06a(filepath)"
   ]
  },
  {
   "cell_type": "code",
   "execution_count": 32,
   "id": "6b2aeeac",
   "metadata": {},
   "outputs": [
    {
     "name": "stdout",
     "output_type": "stream",
     "text": [
      "Error corrected message is: myregdnr.\n"
     ]
    },
    {
     "data": {
      "text/plain": [
       "'myregdnr'"
      ]
     },
     "execution_count": 32,
     "metadata": {},
     "output_type": "execute_result"
    }
   ],
   "source": [
    "day06b(filepath)"
   ]
  }
 ],
 "metadata": {
  "kernelspec": {
   "display_name": "Python 3 (ipykernel)",
   "language": "python",
   "name": "python3"
  },
  "language_info": {
   "codemirror_mode": {
    "name": "ipython",
    "version": 3
   },
   "file_extension": ".py",
   "mimetype": "text/x-python",
   "name": "python",
   "nbconvert_exporter": "python",
   "pygments_lexer": "ipython3",
   "version": "3.10.9"
  }
 },
 "nbformat": 4,
 "nbformat_minor": 5
}
