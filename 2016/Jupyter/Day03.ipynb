{
 "cells": [
  {
   "cell_type": "markdown",
   "id": "0d9131a8",
   "metadata": {},
   "source": [
    "--- Day 3: Squares With Three Sides ---\n",
    "\n",
    "Now that you can think clearly, you move deeper into the labyrinth of hallways and office furniture that makes up this part of Easter Bunny HQ. This must be a graphic design department; the walls are covered in specifications for triangles.\n",
    "\n",
    "Or are they?\n",
    "\n",
    "The design document gives the side lengths of each triangle it describes, but... 5 10 25? Some of these aren't triangles. You can't help but mark the impossible ones.\n",
    "\n",
    "In a valid triangle, the sum of any two sides must be larger than the remaining side. For example, the \"triangle\" given above is impossible, because 5 + 10 is not larger than 25.\n",
    "\n",
    "In your puzzle input, how many of the listed triangles are possible?\n",
    "\n",
    "\n",
    "--- Part Two ---\n",
    "\n",
    "Now that you've helpfully marked up their design documents, it occurs to you that triangles are specified in groups of three vertically. Each set of three numbers in a column specifies a triangle. Rows are unrelated.\n",
    "\n",
    "For example, given the following specification, numbers with the same hundreds digit would be part of the same triangle:\n",
    "\n",
    "101 301 501  \n",
    "102 302 502  \n",
    "103 303 503  \n",
    "201 401 601  \n",
    "202 402 602  \n",
    "203 403 603  \n",
    "\n",
    "In your puzzle input, and instead reading by columns, how many of the listed triangles are possible?\n"
   ]
  },
  {
   "cell_type": "code",
   "execution_count": 1,
   "id": "8736c288",
   "metadata": {},
   "outputs": [],
   "source": [
    "filepath = \"..\\\\data\\\\input_day_03.txt\"\n",
    "test1 = \"..\\\\test\\\\test03_1.txt\""
   ]
  },
  {
   "cell_type": "code",
   "execution_count": 2,
   "id": "ff47db0d",
   "metadata": {},
   "outputs": [],
   "source": [
    "# first we import our files\n",
    "def read_input(filepath):\n",
    "    with open(filepath, 'r') as f:\n",
    "        lines = f.readlines()\n",
    "    \n",
    "    return lines"
   ]
  },
  {
   "cell_type": "code",
   "execution_count": 3,
   "id": "e099708a",
   "metadata": {},
   "outputs": [],
   "source": [
    "def convert_input(lines):\n",
    "    triangles = []\n",
    "    for line in lines:\n",
    "        a,b,c = line.strip().split()\n",
    "        triangles.append([int(a), int(b), int(c)])\n",
    "    return triangles"
   ]
  },
  {
   "cell_type": "code",
   "execution_count": 4,
   "id": "0e3fc2b2",
   "metadata": {},
   "outputs": [],
   "source": [
    "def get_triangle_numbers(numbers):\n",
    "    triangle_numbers = []\n",
    "    t1, t2, t3 = [], [], []\n",
    "    for number in numbers:\n",
    "        a, b, c = number\n",
    "        t1.append(a)\n",
    "        t2.append(b)\n",
    "        t3.append(c)\n",
    "        if len(t1)==3:\n",
    "            triangle_numbers.append(t1)\n",
    "            triangle_numbers.append(t2)\n",
    "            triangle_numbers.append(t3)\n",
    "            t1, t2, t3 = [], [], []\n",
    "    return triangle_numbers"
   ]
  },
  {
   "cell_type": "code",
   "execution_count": 5,
   "id": "8833ad44",
   "metadata": {},
   "outputs": [],
   "source": [
    "def viable_triangle(numbers):\n",
    "    a,b,c = numbers\n",
    "    return (a+b>c) & (a+c>b) & (b+c>a)"
   ]
  },
  {
   "cell_type": "code",
   "execution_count": 6,
   "id": "a3786bcc",
   "metadata": {},
   "outputs": [],
   "source": [
    "def day03a(filepath):\n",
    "    \n",
    "    numbers = read_input(filepath)\n",
    "    numbers = convert_input(numbers)\n",
    "    \n",
    "    valid_triangles = []\n",
    "    for number in numbers:\n",
    "        if viable_triangle(number):\n",
    "            valid_triangles.append(number)\n",
    "    print(f\"There are {len(valid_triangles)} possible triangles in the list of numbers.\")\n",
    "    return len(valid_triangles)"
   ]
  },
  {
   "cell_type": "code",
   "execution_count": 7,
   "id": "d729aca4",
   "metadata": {},
   "outputs": [],
   "source": [
    "def day03b(filepath):\n",
    "    \n",
    "    numbers = read_input(filepath)\n",
    "    numbers = convert_input(numbers)\n",
    "    numbers = get_triangle_numbers(numbers)\n",
    "    \n",
    "    valid_triangles = []\n",
    "    for number in numbers:\n",
    "        if viable_triangle(number):\n",
    "            valid_triangles.append(number)\n",
    "    print(f\"There are {len(valid_triangles)} possible triangles in the list of numbers.\")\n",
    "    return len(valid_triangles)"
   ]
  },
  {
   "cell_type": "code",
   "execution_count": 8,
   "id": "3baeae6c",
   "metadata": {},
   "outputs": [
    {
     "name": "stdout",
     "output_type": "stream",
     "text": [
      "There are 983 possible triangles in the list of numbers.\n"
     ]
    },
    {
     "data": {
      "text/plain": [
       "983"
      ]
     },
     "execution_count": 8,
     "metadata": {},
     "output_type": "execute_result"
    }
   ],
   "source": [
    "day03a(filepath)"
   ]
  },
  {
   "cell_type": "code",
   "execution_count": 9,
   "id": "e4aabbed",
   "metadata": {},
   "outputs": [
    {
     "name": "stdout",
     "output_type": "stream",
     "text": [
      "There are 1836 possible triangles in the list of numbers.\n"
     ]
    },
    {
     "data": {
      "text/plain": [
       "1836"
      ]
     },
     "execution_count": 9,
     "metadata": {},
     "output_type": "execute_result"
    }
   ],
   "source": [
    "day03b(filepath)"
   ]
  }
 ],
 "metadata": {
  "kernelspec": {
   "display_name": "Python 3 (ipykernel)",
   "language": "python",
   "name": "python3"
  },
  "language_info": {
   "codemirror_mode": {
    "name": "ipython",
    "version": 3
   },
   "file_extension": ".py",
   "mimetype": "text/x-python",
   "name": "python",
   "nbconvert_exporter": "python",
   "pygments_lexer": "ipython3",
   "version": "3.10.9"
  }
 },
 "nbformat": 4,
 "nbformat_minor": 5
}
