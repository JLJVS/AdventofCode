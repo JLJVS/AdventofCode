{
 "cells": [
  {
   "cell_type": "markdown",
   "id": "037f482e",
   "metadata": {},
   "source": [
    "--- Day 16: Dragon Checksum ---\n",
    "\n",
    "You're done scanning this part of the network, but you've left traces of your presence. You need to overwrite some disks with random-looking data to cover your tracks and update the local security system with a new checksum for those disks.\n",
    "\n",
    "For the data to not be suspicious, it needs to have certain properties; purely random data will be detected as tampering. To generate appropriate random data, you'll need to use a modified dragon curve.\n",
    "\n",
    "Start with an appropriate initial state (your puzzle input). Then, so long as you don't have enough data yet to fill the disk, repeat the following steps:\n",
    "\n",
    "    Call the data you have at this point \"a\".\n",
    "    Make a copy of \"a\"; call this copy \"b\".\n",
    "    Reverse the order of the characters in \"b\".\n",
    "    In \"b\", replace all instances of 0 with 1 and all 1s with 0.\n",
    "    The resulting data is \"a\", then a single 0, then \"b\".\n",
    "\n",
    "For example, after a single step of this process,\n",
    "\n",
    "    1 becomes 100.\n",
    "    0 becomes 001.\n",
    "    11111 becomes 11111000000.\n",
    "    111100001010 becomes 1111000010100101011110000.\n",
    "\n",
    "Repeat these steps until you have enough data to fill the desired disk.\n",
    "\n",
    "Once the data has been generated, you also need to create a checksum of that data. Calculate the checksum only for the data that fits on the disk, even if you generated more data than that in the previous step.\n",
    "\n",
    "The checksum for some given data is created by considering each non-overlapping pair of characters in the input data. If the two characters match (00 or 11), the next checksum character is a 1. If the characters do not match (01 or 10), the next checksum character is a 0. This should produce a new string which is exactly half as long as the original. If the length of the checksum is even, repeat the process until you end up with a checksum with an odd length.\n",
    "\n",
    "For example, suppose we want to fill a disk of length 12, and when we finally generate a string of at least length 12, the first 12 characters are 110010110100. To generate its checksum:\n",
    "\n",
    "    Consider each pair: 11, 00, 10, 11, 01, 00.\n",
    "    These are same, same, different, same, different, same, producing 110101.\n",
    "    The resulting string has length 6, which is even, so we repeat the process.\n",
    "    The pairs are 11 (same), 01 (different), 01 (different).\n",
    "    This produces the checksum 100, which has an odd length, so we stop.\n",
    "\n",
    "Therefore, the checksum for 110010110100 is 100.\n",
    "\n",
    "Combining all of these steps together, suppose you want to fill a disk of length 20 using an initial state of 10000:\n",
    "\n",
    "    Because 10000 is too short, we first use the modified dragon curve to make it longer.\n",
    "    After one round, it becomes 10000011110 (11 characters), still too short.\n",
    "    After two rounds, it becomes 10000011110010000111110 (23 characters), which is enough.\n",
    "    Since we only need 20, but we have 23, we get rid of all but the first 20 characters: 10000011110010000111.\n",
    "    Next, we start calculating the checksum; after one round, we have 0111110101, which 10 characters long (even), so we continue.\n",
    "    After two rounds, we have 01100, which is 5 characters long (odd), so we are done.\n",
    "\n",
    "In this example, the correct checksum would therefore be 01100.\n",
    "\n",
    "The first disk you have to fill has length 272. Using the initial state in your puzzle input, what is the correct checksum?\n",
    "\n",
    "\n",
    "--- Part Two ---\n",
    "\n",
    "The second disk you have to fill has length 35651584. Again using the initial state in your puzzle input, what is the correct checksum for this disk?\n",
    "\n"
   ]
  },
  {
   "cell_type": "code",
   "execution_count": 1,
   "id": "3b6fd06c",
   "metadata": {},
   "outputs": [],
   "source": [
    "filepath = \"..\\\\data\\\\input_day_16.txt\"\n",
    "test1 = \"..\\\\test\\\\test16_1.txt\"\n",
    "test2 = \"..\\\\test\\\\test16_2.txt\""
   ]
  },
  {
   "cell_type": "code",
   "execution_count": 2,
   "id": "12a0fde0",
   "metadata": {},
   "outputs": [],
   "source": [
    "def read_input(filepath):\n",
    "    with open(filepath, 'r') as f:\n",
    "        lines = f.readlines()\n",
    "    \n",
    "    return lines"
   ]
  },
  {
   "cell_type": "code",
   "execution_count": 3,
   "id": "3899a61f",
   "metadata": {},
   "outputs": [],
   "source": [
    "def pair_checker(pair):\n",
    "    \n",
    "    if pair[0]==pair[1]:\n",
    "        return \"1\"\n",
    "    \n",
    "    return \"0\""
   ]
  },
  {
   "cell_type": "code",
   "execution_count": 4,
   "id": "a0575558",
   "metadata": {},
   "outputs": [],
   "source": [
    "def generate_data(string):\n",
    "    \n",
    "    new_string = string[::] + \"0\"\n",
    "    \n",
    "    for char in string[::-1]:\n",
    "        if char == \"1\":\n",
    "            new_string += \"0\"\n",
    "        else:\n",
    "            new_string += \"1\"\n",
    "    \n",
    "    return new_string"
   ]
  },
  {
   "cell_type": "code",
   "execution_count": 5,
   "id": "41f219e0",
   "metadata": {},
   "outputs": [],
   "source": [
    "def checksum_gen(string):\n",
    "    \n",
    "    checksum = \"\"\n",
    "    for i, char in enumerate(string):\n",
    "        if i%2==0:\n",
    "            checksum += pair_checker(char+string[i+1])\n",
    "    return checksum"
   ]
  },
  {
   "cell_type": "code",
   "execution_count": 6,
   "id": "7e399e62",
   "metadata": {},
   "outputs": [],
   "source": [
    "def day16a(filepath, disk_size=272):\n",
    "    \n",
    "    data = read_input(filepath)[0]\n",
    "    \n",
    "    while len(data)<disk_size:\n",
    "        data = generate_data(data)\n",
    "    \n",
    "    data = data[:disk_size]\n",
    "    \n",
    "    while len(data)%2==0:\n",
    "        \n",
    "        data = checksum_gen(data)\n",
    "    \n",
    "    print(f\"The correct checksum is {data}\")\n",
    "    return data"
   ]
  },
  {
   "cell_type": "code",
   "execution_count": 7,
   "id": "1d053c30",
   "metadata": {},
   "outputs": [],
   "source": [
    "def test16():\n",
    "    \n",
    "    # check if the data is generated correctly\n",
    "    assert generate_data(\"1\") == \"100\"\n",
    "    assert generate_data(\"0\") == \"001\"\n",
    "    assert generate_data(\"11111\") == \"11111000000\"\n",
    "    assert generate_data(\"111100001010\") == \"1111000010100101011110000\"\n",
    "    print(\"Passed all data generation checks\")\n",
    "    \n",
    "    # check the checksum generation\n",
    "    assert pair_checker(\"11\") == \"1\"\n",
    "    assert pair_checker(\"00\") == \"1\"\n",
    "    assert pair_checker(\"10\") == \"0\"\n",
    "    assert pair_checker(\"01\") == \"0\"\n",
    "    assert checksum_gen(\"10000011110010000111\") == \"0111110101\"\n",
    "    print(\"Passed all checksum generation checks\")\n",
    "    \n",
    "    # check on the test input\n",
    "    assert day16a(test1, 20) == \"01100\"\n",
    "    print(\"Passed on the test input\")\n",
    "    \n",
    "    print(\"Passed all checks\")\n",
    "   \n",
    "\n",
    "\n"
   ]
  },
  {
   "cell_type": "code",
   "execution_count": 8,
   "id": "d673b0a9",
   "metadata": {},
   "outputs": [
    {
     "name": "stdout",
     "output_type": "stream",
     "text": [
      "Passed all data generation checks\n",
      "Passed all checksum generation checks\n",
      "The correct checksum is 01100\n",
      "Passed on the test input\n",
      "Passed all checks\n"
     ]
    }
   ],
   "source": [
    "test16()"
   ]
  },
  {
   "cell_type": "code",
   "execution_count": 9,
   "id": "e2536530",
   "metadata": {},
   "outputs": [
    {
     "name": "stdout",
     "output_type": "stream",
     "text": [
      "The correct checksum is 10010010110011010\n"
     ]
    },
    {
     "data": {
      "text/plain": [
       "'10010010110011010'"
      ]
     },
     "execution_count": 9,
     "metadata": {},
     "output_type": "execute_result"
    }
   ],
   "source": [
    "day16a(filepath)"
   ]
  },
  {
   "cell_type": "code",
   "execution_count": 10,
   "id": "53788abd",
   "metadata": {},
   "outputs": [
    {
     "name": "stdout",
     "output_type": "stream",
     "text": [
      "The correct checksum is 01010100101011100\n"
     ]
    },
    {
     "data": {
      "text/plain": [
       "'01010100101011100'"
      ]
     },
     "execution_count": 10,
     "metadata": {},
     "output_type": "execute_result"
    }
   ],
   "source": [
    "day16a(filepath, 35651584)"
   ]
  }
 ],
 "metadata": {
  "kernelspec": {
   "display_name": "Python 3 (ipykernel)",
   "language": "python",
   "name": "python3"
  },
  "language_info": {
   "codemirror_mode": {
    "name": "ipython",
    "version": 3
   },
   "file_extension": ".py",
   "mimetype": "text/x-python",
   "name": "python",
   "nbconvert_exporter": "python",
   "pygments_lexer": "ipython3",
   "version": "3.10.9"
  }
 },
 "nbformat": 4,
 "nbformat_minor": 5
}
