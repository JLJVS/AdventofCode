{
 "cells": [
  {
   "cell_type": "markdown",
   "id": "df417af4",
   "metadata": {},
   "source": [
    "--- Day 18: Like a Rogue ---\n",
    "\n",
    "As you enter this room, you hear a loud click! Some of the tiles in the floor here seem to be pressure plates for traps, and the trap you just triggered has run out of... whatever it tried to do to you. You doubt you'll be so lucky next time.\n",
    "\n",
    "Upon closer examination, the traps and safe tiles in this room seem to follow a pattern. The tiles are arranged into rows that are all the same width; you take note of the safe tiles (.) and traps (^) in the first row (your puzzle input).\n",
    "\n",
    "The type of tile (trapped or safe) in each row is based on the types of the tiles in the same position, and to either side of that position, in the previous row. (If either side is off either end of the row, it counts as \"safe\" because there isn't a trap embedded in the wall.)\n",
    "\n",
    "For example, suppose you know the first row (with tiles marked by letters) and want to determine the next row (with tiles marked by numbers):\n",
    "\n",
    "ABCDE  \n",
    "12345  \n",
    "\n",
    "The type of tile 2 is based on the types of tiles A, B, and C; the type of tile 5 is based on tiles D, E, and an imaginary \"safe\" tile. Let's call these three tiles from the previous row the left, center, and right tiles, respectively. Then, a new tile is a trap only in one of the following situations:\n",
    "\n",
    "    Its left and center tiles are traps, but its right tile is not.\n",
    "    Its center and right tiles are traps, but its left tile is not.\n",
    "    Only its left tile is a trap.\n",
    "    Only its right tile is a trap.\n",
    "\n",
    "In any other situation, the new tile is safe.\n",
    "\n",
    "Then, starting with the row ..^^., you can determine the next row by applying those rules to each new tile:\n",
    "\n",
    "    The leftmost character on the next row considers the left (nonexistent, so we assume \"safe\"), center (the first ., which means \"safe\"), and right (the second ., also \"safe\") tiles on the previous row. Because all of the trap rules require a trap in at least one of the previous three tiles, the first tile on this new row is also safe, ..\n",
    "    The second character on the next row considers its left (.), center (.), and right (^) tiles from the previous row. This matches the fourth rule: only the right tile is a trap. Therefore, the next tile in this new row is a trap, ^.\n",
    "    The third character considers .^^, which matches the second trap rule: its center and right tiles are traps, but its left tile is not. Therefore, this tile is also a trap, ^.\n",
    "    The last two characters in this new row match the first and third rules, respectively, and so they are both also traps, ^.\n",
    "\n",
    "After these steps, we now know the next row of tiles in the room: .^^^^. Then, we continue on to the next row, using the same rules, and get ^^..^. After determining two new rows, our map looks like this:\n",
    "\n",
    "..^^.  \n",
    ".^^^^  \n",
    "^^..^  \n",
    "\n",
    "Here's a larger example with ten tiles per row and ten rows:\n",
    "\n",
    ".^^.^.^^^^  \n",
    "^^^...^..^  \n",
    "^.^^.^.^^.  \n",
    "..^^...^^^  \n",
    ".^^^^.^^.^  \n",
    "^^..^.^^..  \n",
    "^^^^..^^^.  \n",
    "^..^^^^.^^  \n",
    ".^^^..^.^^  \n",
    "^^.^^^..^^  \n",
    "\n",
    "In ten rows, this larger example has 38 safe tiles.\n",
    "\n",
    "Starting with the map in your puzzle input, in a total of 40 rows (including the starting row), how many safe tiles are there?\n",
    "\n",
    "\n",
    "--- Part Two ---\n",
    "\n",
    "How many safe tiles are there in a total of 400000 rows?\n"
   ]
  },
  {
   "cell_type": "code",
   "execution_count": 1,
   "id": "30bc8713",
   "metadata": {},
   "outputs": [],
   "source": [
    "filepath = \"..\\\\data\\\\input_day_18.txt\"\n",
    "test1 = \"..\\\\test\\\\test18_1.txt\"\n",
    "test2 = \"..\\\\test\\\\test18_2.txt\""
   ]
  },
  {
   "cell_type": "code",
   "execution_count": 2,
   "id": "ef49a787",
   "metadata": {},
   "outputs": [],
   "source": [
    "def read_input(filepath):\n",
    "    with open(filepath, 'r') as f:\n",
    "        lines = f.readlines()\n",
    "    \n",
    "    return lines[0]"
   ]
  },
  {
   "cell_type": "code",
   "execution_count": 3,
   "id": "2e21e69e",
   "metadata": {},
   "outputs": [],
   "source": [
    "def trap_finder(L, C, R):\n",
    "    \n",
    "    trap, safe = \"^\", \".\"\n",
    "    \n",
    "    # Its left and center tiles are traps, but its right tile is not.\n",
    "    if L == C == trap and R == safe:\n",
    "        return trap\n",
    "    # Its center and right tiles are traps, but its left tile is not.\n",
    "    if R == C == trap and L == safe:\n",
    "        return trap\n",
    "    # Only its left tile is a trap.\n",
    "    if R == C == safe and L == trap:\n",
    "        return trap\n",
    "    # Only its right tile is a trap.\n",
    "    if L == C == safe and R == trap:\n",
    "        return trap\n",
    "    return safe\n",
    "    "
   ]
  },
  {
   "cell_type": "code",
   "execution_count": 4,
   "id": "6a736a32",
   "metadata": {},
   "outputs": [],
   "source": [
    "def grid_constructor(starting_line, N_rows=40):\n",
    "    \n",
    "    N = len(starting_line.strip())\n",
    "        \n",
    "    # create a grid of 40 rows with length N\n",
    "    grid = [[\".\" for i in range(N)] for _ in range(N_rows)]\n",
    "    \n",
    "    # set the first row of the grid as our starting_line\n",
    "    grid[0] = [i for i in starting_line.strip()]\n",
    "    \n",
    "    # we need to make sure that we only read values in our grid\n",
    "    allowed = set(i for i in range(N))\n",
    "    \n",
    "    for i, row in enumerate(grid[1:]):\n",
    "        for j, val in enumerate(row):\n",
    "            # get the tiles from the row above\n",
    "            L, R = \".\", \".\"\n",
    "            C = grid[i][j]\n",
    "            if j-1 in allowed:\n",
    "                L = grid[i][j-1]\n",
    "            if j+1 in allowed:\n",
    "                R = grid[i][j+1]\n",
    "            grid[i+1][j] = trap_finder(L,C,R)\n",
    "    return grid\n",
    "            "
   ]
  },
  {
   "cell_type": "code",
   "execution_count": 5,
   "id": "8a523bfb",
   "metadata": {},
   "outputs": [],
   "source": [
    "def safe_calc(grid):\n",
    "    \n",
    "    safe = 0\n",
    "    \n",
    "    for row in grid:\n",
    "        safe += sum([1 for val in row if val==\".\"])\n",
    "    \n",
    "    return safe"
   ]
  },
  {
   "cell_type": "code",
   "execution_count": 6,
   "id": "5498ca1d",
   "metadata": {},
   "outputs": [],
   "source": [
    "def day18a(filepath, N_rows):\n",
    "    \n",
    "    starting_line = read_input(filepath)\n",
    "    grid = grid_constructor(starting_line, N_rows= N_rows)\n",
    "    print(f\"There are {safe_calc(grid)} safe spaces in our grid of {N_rows} rows.\")\n",
    "    return safe_calc(grid)"
   ]
  },
  {
   "cell_type": "code",
   "execution_count": 7,
   "id": "54dfec20",
   "metadata": {},
   "outputs": [
    {
     "name": "stdout",
     "output_type": "stream",
     "text": [
      "There are 1987 safe spaces in our grid of 40 rows.\n"
     ]
    },
    {
     "data": {
      "text/plain": [
       "1987"
      ]
     },
     "execution_count": 7,
     "metadata": {},
     "output_type": "execute_result"
    }
   ],
   "source": [
    "day18a(filepath, N_rows=40)"
   ]
  },
  {
   "cell_type": "code",
   "execution_count": 8,
   "id": "c9966069",
   "metadata": {},
   "outputs": [
    {
     "name": "stdout",
     "output_type": "stream",
     "text": [
      "There are 19984714 safe spaces in our grid of 400000 rows.\n"
     ]
    },
    {
     "data": {
      "text/plain": [
       "19984714"
      ]
     },
     "execution_count": 8,
     "metadata": {},
     "output_type": "execute_result"
    }
   ],
   "source": [
    "day18a(filepath, N_rows=400000)"
   ]
  }
 ],
 "metadata": {
  "kernelspec": {
   "display_name": "Python 3 (ipykernel)",
   "language": "python",
   "name": "python3"
  },
  "language_info": {
   "codemirror_mode": {
    "name": "ipython",
    "version": 3
   },
   "file_extension": ".py",
   "mimetype": "text/x-python",
   "name": "python",
   "nbconvert_exporter": "python",
   "pygments_lexer": "ipython3",
   "version": "3.10.9"
  }
 },
 "nbformat": 4,
 "nbformat_minor": 5
}
