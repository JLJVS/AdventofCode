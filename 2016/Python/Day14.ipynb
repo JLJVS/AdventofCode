{
 "cells": [
  {
   "cell_type": "markdown",
   "id": "8f6afead",
   "metadata": {},
   "source": [
    "--- Day 14: One-Time Pad ---\n",
    "\n",
    "In order to communicate securely with Santa while you're on this mission, you've been using a one-time pad that you generate using a pre-agreed algorithm. Unfortunately, you've run out of keys in your one-time pad, and so you need to generate some more.\n",
    "\n",
    "To generate keys, you first get a stream of random data by taking the MD5 of a pre-arranged salt (your puzzle input) and an increasing integer index (starting with 0, and represented in decimal); the resulting MD5 hash should be represented as a string of lowercase hexadecimal digits.\n",
    "\n",
    "However, not all of these MD5 hashes are keys, and you need 64 new keys for your one-time pad. A hash is a key only if:\n",
    "\n",
    "    It contains three of the same character in a row, like 777. Only consider the first such triplet in a hash.\n",
    "    One of the next 1000 hashes in the stream contains that same character five times in a row, like 77777.\n",
    "\n",
    "Considering future hashes for five-of-a-kind sequences does not cause those hashes to be skipped; instead, regardless of whether the current hash is a key, always resume testing for keys starting with the very next hash.\n",
    "\n",
    "For example, if the pre-arranged salt is abc:\n",
    "\n",
    "    The first index which produces a triple is 18, because the MD5 hash of abc18 contains ...cc38887a5.... However, index 18 does not count as a key for your one-time pad, because none of the next thousand hashes (index 19 through index 1018) contain 88888.\n",
    "    The next index which produces a triple is 39; the hash of abc39 contains eee. It is also the first key: one of the next thousand hashes (the one at index 816) contains eeeee.\n",
    "    None of the next six triples are keys, but the one after that, at index 92, is: it contains 999 and index 200 contains 99999.\n",
    "    Eventually, index 22728 meets all of the criteria to generate the 64th key.\n",
    "\n",
    "So, using our example salt of abc, index 22728 produces the 64th key.\n",
    "\n",
    "Given the actual salt in your puzzle input, what index produces your 64th one-time pad key?\n"
   ]
  },
  {
   "cell_type": "code",
   "execution_count": 1,
   "id": "8a98a031",
   "metadata": {},
   "outputs": [],
   "source": [
    "import hashlib"
   ]
  },
  {
   "cell_type": "code",
   "execution_count": 2,
   "id": "dae6e04b",
   "metadata": {},
   "outputs": [],
   "source": [
    "filepath = \"..\\\\data\\\\input_day_14.txt\"\n",
    "test1 = \"..\\\\test\\\\test14_1.txt\"\n",
    "test2 = \"..\\\\test\\\\test14_2.txt\""
   ]
  },
  {
   "cell_type": "code",
   "execution_count": 3,
   "id": "b02edb57",
   "metadata": {},
   "outputs": [],
   "source": [
    "def read_input(filepath):\n",
    "    with open(filepath, 'r') as f:\n",
    "        lines = f.readlines()\n",
    "    \n",
    "    return lines"
   ]
  },
  {
   "cell_type": "code",
   "execution_count": 4,
   "id": "dee68d7e",
   "metadata": {},
   "outputs": [],
   "source": [
    "def generate_hash(base_seed, i):\n",
    "    seed = base_seed + str(i)\n",
    "    result = hashlib.md5(seed.encode())\n",
    "    return result.hexdigest()"
   ]
  },
  {
   "cell_type": "code",
   "execution_count": 5,
   "id": "7c7d214f",
   "metadata": {},
   "outputs": [],
   "source": [
    "def find_first_triplet(string):\n",
    "    \n",
    "    lowest, lowest_char = 1000, \"_\"\n",
    "    for char in set(string):\n",
    "            \n",
    "        trip = char * 3\n",
    "        if trip in string:\n",
    "            #print(i , trip, result)\n",
    "            current = string.find(trip)\n",
    "            if current < lowest :\n",
    "                lowest = current\n",
    "                lowest_char = char\n",
    "        \n",
    "    return lowest_char"
   ]
  },
  {
   "cell_type": "code",
   "execution_count": 15,
   "id": "31f93a40",
   "metadata": {},
   "outputs": [],
   "source": [
    "def find_five(string,  triplets, index):\n",
    "    \n",
    "    total = 0\n",
    "    for char in set(string):\n",
    "\n",
    "        fiver = char*5\n",
    "\n",
    "        if fiver in string and char in triplets:\n",
    "            total += \"\".join(triplets).count(char)\n",
    "            for i, t in enumerate(triplets):\n",
    "                if t==\"char\":\n",
    "                    print(index-1000+i)\n",
    "    return total\n",
    "                    "
   ]
  },
  {
   "cell_type": "code",
   "execution_count": 16,
   "id": "eb987b09",
   "metadata": {},
   "outputs": [],
   "source": [
    "def day14a(filepath):\n",
    "    \n",
    "    base_seed = read_input(filepath)[0]\n",
    "    print(base_seed)\n",
    "    \n",
    "    triplets = []\n",
    "    triplets_long = []\n",
    "    keys = 0\n",
    "    i = 0\n",
    "        \n",
    "    while True:\n",
    "                \n",
    "        result = generate_hash(base_seed, i)\n",
    "                     \n",
    "        # check for 5 of the same characters continuous\n",
    "        keys += find_five(result, triplets, i)\n",
    "        #print(i)\n",
    "            \n",
    "        # find the first triplet\n",
    "        triplets.append(find_first_triplet(result))\n",
    "        \n",
    "        if len(triplets)>1000:\n",
    "            triplets.pop(0)       \n",
    "        if keys >= 64:\n",
    "            print(i)\n",
    "            return i\n",
    "        i += 1                    \n",
    "    #print(keys_index)"
   ]
  },
  {
   "cell_type": "code",
   "execution_count": 17,
   "id": "2bef872f",
   "metadata": {},
   "outputs": [],
   "source": [
    "def test14a():\n",
    "    \n",
    "    # Check if the hashes are generated correctly\n",
    "    assert \"cc38887a5\" in generate_hash(\"abc\", 18)\n",
    "    assert \"eee\" in generate_hash(\"abc\", 39)\n",
    "    assert \"999\" in generate_hash(\"abc\", 92)\n",
    "    print(\"Passed all hashes checks\")\n",
    "    \n",
    "    \n",
    "    # Check if triplets are generated correctly\n",
    "    assert find_first_triplet(generate_hash(\"abc\", 18)) == \"8\"\n",
    "    assert find_first_triplet(generate_hash(\"abc\", 39)) == \"e\"\n",
    "    assert find_first_triplet(generate_hash(\"abc\", 92)) == \"9\"\n",
    "    print(\"Passed all triplet checks\")\n",
    "    \n",
    "    # Check if fivers are found correctly \n",
    "    \n",
    "    \n",
    "    print(\"Passed all checks\")"
   ]
  },
  {
   "cell_type": "code",
   "execution_count": 18,
   "id": "d045699f",
   "metadata": {},
   "outputs": [
    {
     "name": "stdout",
     "output_type": "stream",
     "text": [
      "Passed all hashes checks\n",
      "Passed all triplet checks\n",
      "Passed all checks\n"
     ]
    }
   ],
   "source": [
    "test14a()"
   ]
  },
  {
   "cell_type": "code",
   "execution_count": 19,
   "id": "f7e68764",
   "metadata": {},
   "outputs": [
    {
     "name": "stdout",
     "output_type": "stream",
     "text": [
      "abc\n",
      "22804\n"
     ]
    },
    {
     "data": {
      "text/plain": [
       "22804"
      ]
     },
     "execution_count": 19,
     "metadata": {},
     "output_type": "execute_result"
    }
   ],
   "source": [
    "day14a(test1)"
   ]
  },
  {
   "cell_type": "code",
   "execution_count": 20,
   "id": "b5f6f501",
   "metadata": {},
   "outputs": [
    {
     "name": "stdout",
     "output_type": "stream",
     "text": [
      "yjdafjpo\n",
      "25531\n"
     ]
    },
    {
     "data": {
      "text/plain": [
       "25531"
      ]
     },
     "execution_count": 20,
     "metadata": {},
     "output_type": "execute_result"
    }
   ],
   "source": [
    "day14a(filepath)"
   ]
  },
  {
   "cell_type": "code",
   "execution_count": 12,
   "id": "ee5597e4",
   "metadata": {},
   "outputs": [
    {
     "data": {
      "text/plain": [
       "'347dac6ee8eeea4652c7476d0f97bee5'"
      ]
     },
     "execution_count": 12,
     "metadata": {},
     "output_type": "execute_result"
    }
   ],
   "source": [
    "generate_hash(\"abc\", 39)"
   ]
  },
  {
   "cell_type": "code",
   "execution_count": 13,
   "id": "d7e0437d",
   "metadata": {},
   "outputs": [
    {
     "data": {
      "text/plain": [
       "'0034e0923cc38887a57bd7b1d4f953df'"
      ]
     },
     "execution_count": 13,
     "metadata": {},
     "output_type": "execute_result"
    }
   ],
   "source": [
    "generate_hash(\"abc\", 18)"
   ]
  },
  {
   "cell_type": "code",
   "execution_count": 14,
   "id": "c6e4ab63",
   "metadata": {},
   "outputs": [
    {
     "name": "stdout",
     "output_type": "stream",
     "text": [
      "39\n",
      "92\n",
      "110\n",
      "184\n",
      "291\n",
      "314\n",
      "343\n",
      "385\n",
      "459\n",
      "461\n",
      "489\n",
      "771\n",
      "781\n",
      "887\n",
      "955\n",
      "1144\n",
      "5742\n",
      "5781\n",
      "5783\n",
      "6016\n",
      "6093\n",
      "6219\n",
      "7833\n",
      "7858\n",
      "7918\n",
      "7937\n",
      "8042\n",
      "8045\n",
      "8183\n",
      "8189\n",
      "8205\n",
      "8232\n",
      "8375\n",
      "8407\n",
      "8431\n",
      "8503\n",
      "8517\n",
      "8626\n",
      "8672\n",
      "8730\n",
      "8811\n",
      "9497\n",
      "9536\n",
      "13268\n",
      "13439\n",
      "13479\n",
      "13560\n",
      "13663\n",
      "15758\n",
      "15883\n",
      "16187\n",
      "16342\n",
      "16479\n",
      "20087\n",
      "20371\n",
      "20582\n",
      "20635\n",
      "20669\n",
      "21908\n",
      "21927\n",
      "21978\n",
      "22023\n",
      "22193\n",
      "22728\n",
      "Part 1: 22728\n"
     ]
    }
   ],
   "source": [
    "import hashlib\n",
    "import sys\n",
    "import re\n",
    "\n",
    "def get_hash_part1(salt, index):\n",
    "    m = hashlib.md5()\n",
    "    m.update(salt.encode(\"utf-8\"))\n",
    "    m.update(str(index).encode(\"utf-8\"))\n",
    "    return m.hexdigest()\n",
    "\n",
    "def get_hash_part2(salt, index):\n",
    "    h = get_hash_part1(salt, index)\n",
    "\n",
    "    for i in range(2016):\n",
    "        h = hashlib.md5(h.encode(\"utf-8\")).hexdigest()\n",
    "\n",
    "    return h\n",
    "\n",
    "def find_five_repeats(hashes, ch):\n",
    "    quintuple = ch * 5\n",
    "\n",
    "    for h in hashes:\n",
    "        if h.find(quintuple) != -1:\n",
    "            return True\n",
    "\n",
    "    return False    \n",
    "\n",
    "def solve(salt, get_hash):\n",
    "    triple = re.compile(r'(.)\\1\\1')\n",
    "\n",
    "    hashes = [get_hash(salt, x) for x in range(1001)]\n",
    "\n",
    "    index = 0\n",
    "    found = 0\n",
    "\n",
    "    while True:\n",
    "        md = triple.search(hashes.pop(0))\n",
    "        if md and find_five_repeats(hashes, md.group(1)):\n",
    "            found += 1\n",
    "            print(index)\n",
    "            if found >= 64:\n",
    "                break\n",
    "\n",
    "        index += 1\n",
    "        hashes.append(get_hash(salt, index + len(hashes)))\n",
    "\n",
    "    return index\n",
    "\n",
    "salt = \"abc\"\n",
    "\n",
    "print(\"Part 1:\", solve(salt, get_hash_part1))\n",
    "#print(\"Part 2:\", solve(salt, get_hash_part2))"
   ]
  },
  {
   "cell_type": "code",
   "execution_count": null,
   "id": "aceef08f",
   "metadata": {},
   "outputs": [],
   "source": [
    "\n"
   ]
  },
  {
   "cell_type": "code",
   "execution_count": null,
   "id": "2ca4ed5c",
   "metadata": {},
   "outputs": [],
   "source": []
  },
  {
   "cell_type": "code",
   "execution_count": null,
   "id": "54105587",
   "metadata": {},
   "outputs": [],
   "source": []
  },
  {
   "cell_type": "code",
   "execution_count": null,
   "id": "0ccfb7e4",
   "metadata": {},
   "outputs": [],
   "source": []
  },
  {
   "cell_type": "code",
   "execution_count": null,
   "id": "f47186e2",
   "metadata": {},
   "outputs": [],
   "source": []
  }
 ],
 "metadata": {
  "kernelspec": {
   "display_name": "Python 3 (ipykernel)",
   "language": "python",
   "name": "python3"
  },
  "language_info": {
   "codemirror_mode": {
    "name": "ipython",
    "version": 3
   },
   "file_extension": ".py",
   "mimetype": "text/x-python",
   "name": "python",
   "nbconvert_exporter": "python",
   "pygments_lexer": "ipython3",
   "version": "3.10.9"
  }
 },
 "nbformat": 4,
 "nbformat_minor": 5
}
