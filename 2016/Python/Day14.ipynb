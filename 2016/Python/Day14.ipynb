{
 "cells": [
  {
   "cell_type": "markdown",
   "id": "8f6afead",
   "metadata": {},
   "source": [
    "--- Day 14: One-Time Pad ---\n",
    "\n",
    "In order to communicate securely with Santa while you're on this mission, you've been using a one-time pad that you generate using a pre-agreed algorithm. Unfortunately, you've run out of keys in your one-time pad, and so you need to generate some more.\n",
    "\n",
    "To generate keys, you first get a stream of random data by taking the MD5 of a pre-arranged salt (your puzzle input) and an increasing integer index (starting with 0, and represented in decimal); the resulting MD5 hash should be represented as a string of lowercase hexadecimal digits.\n",
    "\n",
    "However, not all of these MD5 hashes are keys, and you need 64 new keys for your one-time pad. A hash is a key only if:\n",
    "\n",
    "    It contains three of the same character in a row, like 777. Only consider the first such triplet in a hash.\n",
    "    One of the next 1000 hashes in the stream contains that same character five times in a row, like 77777.\n",
    "\n",
    "Considering future hashes for five-of-a-kind sequences does not cause those hashes to be skipped; instead, regardless of whether the current hash is a key, always resume testing for keys starting with the very next hash.\n",
    "\n",
    "For example, if the pre-arranged salt is abc:\n",
    "\n",
    "    The first index which produces a triple is 18, because the MD5 hash of abc18 contains ...cc38887a5.... However, index 18 does not count as a key for your one-time pad, because none of the next thousand hashes (index 19 through index 1018) contain 88888.\n",
    "    The next index which produces a triple is 39; the hash of abc39 contains eee. It is also the first key: one of the next thousand hashes (the one at index 816) contains eeeee.\n",
    "    None of the next six triples are keys, but the one after that, at index 92, is: it contains 999 and index 200 contains 99999.\n",
    "    Eventually, index 22728 meets all of the criteria to generate the 64th key.\n",
    "\n",
    "So, using our example salt of abc, index 22728 produces the 64th key.\n",
    "\n",
    "Given the actual salt in your puzzle input, what index produces your 64th one-time pad key?\n",
    "\n",
    "\n",
    "--- Part Two ---\n",
    "\n",
    "Of course, in order to make this process even more secure, you've also implemented key stretching.\n",
    "\n",
    "Key stretching forces attackers to spend more time generating hashes. Unfortunately, it forces everyone else to spend more time, too.\n",
    "\n",
    "To implement key stretching, whenever you generate a hash, before you use it, you first find the MD5 hash of that hash, then the MD5 hash of that hash, and so on, a total of 2016 additional hashings. Always use lowercase hexadecimal representations of hashes.\n",
    "\n",
    "For example, to find the stretched hash for index 0 and salt abc:\n",
    "\n",
    "    Find the MD5 hash of abc0: 577571be4de9dcce85a041ba0410f29f.\n",
    "    Then, find the MD5 hash of that hash: eec80a0c92dc8a0777c619d9bb51e910.\n",
    "    Then, find the MD5 hash of that hash: 16062ce768787384c81fe17a7a60c7e3.\n",
    "    ...repeat many times...\n",
    "    Then, find the MD5 hash of that hash: a107ff634856bb300138cac6568c0f24.\n",
    "\n",
    "So, the stretched hash for index 0 in this situation is a107ff.... In the end, you find the original hash (one use of MD5), then find the hash-of-the-previous-hash 2016 times, for a total of 2017 uses of MD5.\n",
    "\n",
    "The rest of the process remains the same, but now the keys are entirely different. Again for salt abc:\n",
    "\n",
    "    The first triple (222, at index 5) has no matching 22222 in the next thousand hashes.\n",
    "    The second triple (eee, at index 10) hash a matching eeeee at index 89, and so it is the first key.\n",
    "    Eventually, index 22551 produces the 64th key (triple fff with matching fffff at index 22859.\n",
    "\n",
    "Given the actual salt in your puzzle input and using 2016 extra MD5 calls of key stretching, what index now produces your 64th one-time pad key?\n"
   ]
  },
  {
   "cell_type": "code",
   "execution_count": 1,
   "id": "8a98a031",
   "metadata": {},
   "outputs": [],
   "source": [
    "import hashlib"
   ]
  },
  {
   "cell_type": "code",
   "execution_count": 2,
   "id": "dae6e04b",
   "metadata": {},
   "outputs": [],
   "source": [
    "filepath = \"..\\\\data\\\\input_day_14.txt\"\n",
    "test1 = \"..\\\\test\\\\test14_1.txt\"\n",
    "test2 = \"..\\\\test\\\\test14_2.txt\""
   ]
  },
  {
   "cell_type": "code",
   "execution_count": 3,
   "id": "b02edb57",
   "metadata": {},
   "outputs": [],
   "source": [
    "def read_input(filepath):\n",
    "    with open(filepath, 'r') as f:\n",
    "        lines = f.readlines()\n",
    "    \n",
    "    return lines"
   ]
  },
  {
   "cell_type": "code",
   "execution_count": 4,
   "id": "dee68d7e",
   "metadata": {},
   "outputs": [],
   "source": [
    "def generate_hash(base_seed, i):\n",
    "    seed = base_seed + str(i)\n",
    "    result = hashlib.md5(seed.encode())\n",
    "    return result.hexdigest()"
   ]
  },
  {
   "cell_type": "code",
   "execution_count": 5,
   "id": "6eca2455",
   "metadata": {},
   "outputs": [],
   "source": [
    "def generate_hash_stretch(base_seed, i):\n",
    "    seed = base_seed + str(i)\n",
    "    result = hashlib.md5(seed.encode())\n",
    "    for i in range(2016):\n",
    "        result = hashlib.md5(result.hexdigest().encode())\n",
    "    return result.hexdigest()"
   ]
  },
  {
   "cell_type": "code",
   "execution_count": 6,
   "id": "7c7d214f",
   "metadata": {},
   "outputs": [],
   "source": [
    "def find_first_triplet(string):\n",
    "    \n",
    "    lowest, lowest_char = 1000, \"_\"\n",
    "    for char in set(string):\n",
    "            \n",
    "        trip = char * 3\n",
    "        if trip in string:\n",
    "            #print(i , trip, result)\n",
    "            current = string.find(trip)\n",
    "            if current < lowest :\n",
    "                lowest = current\n",
    "                lowest_char = char\n",
    "        \n",
    "    return lowest_char"
   ]
  },
  {
   "cell_type": "code",
   "execution_count": 7,
   "id": "31f93a40",
   "metadata": {},
   "outputs": [],
   "source": [
    "def find_five(string,  triplets, index):\n",
    "    \n",
    "    total = 0\n",
    "    matches = []\n",
    "    \n",
    "    for char in set(string):\n",
    "\n",
    "        fiver = char*5\n",
    "\n",
    "        if fiver in string and char in triplets:\n",
    "            total += \"\".join(triplets).count(char)\n",
    "            for i, t in enumerate(triplets):\n",
    "                \n",
    "                if t==char:\n",
    "                    if index>1000:\n",
    "                        matches.append(index-1000+i)\n",
    "                    else:\n",
    "                        matches.append(i)\n",
    "    matches.sort()\n",
    "    \n",
    "    return total, matches\n",
    "                    "
   ]
  },
  {
   "cell_type": "code",
   "execution_count": 8,
   "id": "eb987b09",
   "metadata": {},
   "outputs": [],
   "source": [
    "def day14a(filepath):\n",
    "    \n",
    "    base_seed = read_input(filepath)[0]\n",
    "    #print(base_seed)\n",
    "    \n",
    "    triplets = []\n",
    "    matches = []\n",
    "    keys = 0\n",
    "    i = 0\n",
    "        \n",
    "    while True:\n",
    "                \n",
    "        result = generate_hash(base_seed, i)\n",
    "        found = 0             \n",
    "        # check for 5 of the same characters continuous\n",
    "        found, match = find_five(result, triplets, i)\n",
    "        keys += found\n",
    "        matches.extend(match)\n",
    "        #print(i)\n",
    "            \n",
    "        # find the first triplet\n",
    "        triplets.append(find_first_triplet(result))\n",
    "        \n",
    "        if len(triplets)>1000:\n",
    "            triplets.pop(0)       \n",
    "        if keys >= 64:\n",
    "            #print(i)\n",
    "            matches.sort()\n",
    "            #print(matches)\n",
    "            return matches[63]\n",
    "        i += 1                    \n",
    "    #print(keys_index)"
   ]
  },
  {
   "cell_type": "code",
   "execution_count": 9,
   "id": "d8f0ae89",
   "metadata": {},
   "outputs": [],
   "source": [
    "def day14b(filepath):\n",
    "    \n",
    "    base_seed = read_input(filepath)[0]\n",
    "    #print(base_seed)\n",
    "    \n",
    "    triplets = []\n",
    "    matches = []\n",
    "    keys = 0\n",
    "    i = 0\n",
    "        \n",
    "    while True:\n",
    "                \n",
    "        result = generate_hash_stretch(base_seed, i)\n",
    "        found = 0             \n",
    "        # check for 5 of the same characters continuous\n",
    "        found, match = find_five(result, triplets, i)\n",
    "        keys += found\n",
    "        matches.extend(match)\n",
    "        #print(i)\n",
    "            \n",
    "        # find the first triplet\n",
    "        triplets.append(find_first_triplet(result))\n",
    "        \n",
    "        if len(triplets)>1000:\n",
    "            triplets.pop(0)       \n",
    "        if keys >= 64:\n",
    "            #print(i)\n",
    "            matches.sort()\n",
    "            #print(matches)\n",
    "            return matches[63]\n",
    "        i += 1                    \n",
    "    #print(keys_index)"
   ]
  },
  {
   "cell_type": "code",
   "execution_count": 10,
   "id": "2bef872f",
   "metadata": {},
   "outputs": [],
   "source": [
    "def test14():\n",
    "    \n",
    "    # Check if the hashes are generated correctly\n",
    "    assert \"cc38887a5\" in generate_hash(\"abc\", 18)\n",
    "    assert \"eee\" in generate_hash(\"abc\", 39)\n",
    "    assert \"999\" in generate_hash(\"abc\", 92)\n",
    "    print(\"Passed all hashes checks\")\n",
    "    \n",
    "    \n",
    "    # Check if triplets are generated correctly\n",
    "    assert find_first_triplet(generate_hash(\"abc\", 18)) == \"8\"\n",
    "    assert find_first_triplet(generate_hash(\"abc\", 39)) == \"e\"\n",
    "    assert find_first_triplet(generate_hash(\"abc\", 92)) == \"9\"\n",
    "    print(\"Passed all triplet checks\")\n",
    "    \n",
    "    # Check if fivers are found correctly \n",
    "    \n",
    "    \n",
    "    # Check on our test input\n",
    "    assert day14a(test1) == 22728\n",
    "    print(\"Passed the test input\\n\")\n",
    "    \n",
    "    \n",
    "    # check if the stretch hashes are generated correctly\n",
    "    assert \"a107ff\" == generate_hash_stretch(\"abc\", 0)[:6]\n",
    "    print(\"Passed stretch hashes correctly\")\n",
    "        \n",
    "    # Check if triplets are found correctly with the stretch hashes\n",
    "    assert find_first_triplet(generate_hash_stretch(\"abc\", 5)) == \"2\"\n",
    "    assert find_first_triplet(generate_hash_stretch(\"abc\", 10)) == \"e\"\n",
    "    assert find_first_triplet(generate_hash_stretch(\"abc\", 22551)) == \"f\"\n",
    "    print(\"Passed all triplets with stretch hashes\")\n",
    "    \n",
    "    # Check on our test input\n",
    "    assert day14b(test1) == 22551\n",
    "    print(\"Passed the test input\")\n",
    "    \n",
    "    print(\"Passed all checks\")"
   ]
  },
  {
   "cell_type": "code",
   "execution_count": 11,
   "id": "d045699f",
   "metadata": {},
   "outputs": [
    {
     "name": "stdout",
     "output_type": "stream",
     "text": [
      "Passed all hashes checks\n",
      "Passed all triplet checks\n",
      "Passed the test input\n",
      "\n",
      "Passed stretch hashes correctly\n",
      "Passed all triplets with stretch hashes\n",
      "Passed the test input\n",
      "Passed all checks\n"
     ]
    }
   ],
   "source": [
    "test14()"
   ]
  },
  {
   "cell_type": "code",
   "execution_count": 12,
   "id": "f7e68764",
   "metadata": {},
   "outputs": [
    {
     "data": {
      "text/plain": [
       "25427"
      ]
     },
     "execution_count": 12,
     "metadata": {},
     "output_type": "execute_result"
    }
   ],
   "source": [
    "day14a(filepath)"
   ]
  },
  {
   "cell_type": "code",
   "execution_count": 13,
   "id": "4f455da7",
   "metadata": {},
   "outputs": [
    {
     "data": {
      "text/plain": [
       "22045"
      ]
     },
     "execution_count": 13,
     "metadata": {},
     "output_type": "execute_result"
    }
   ],
   "source": [
    "day14b(filepath)"
   ]
  }
 ],
 "metadata": {
  "kernelspec": {
   "display_name": "Python 3 (ipykernel)",
   "language": "python",
   "name": "python3"
  },
  "language_info": {
   "codemirror_mode": {
    "name": "ipython",
    "version": 3
   },
   "file_extension": ".py",
   "mimetype": "text/x-python",
   "name": "python",
   "nbconvert_exporter": "python",
   "pygments_lexer": "ipython3",
   "version": "3.10.9"
  }
 },
 "nbformat": 4,
 "nbformat_minor": 5
}
