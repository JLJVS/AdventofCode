{
 "cells": [
  {
   "cell_type": "markdown",
   "id": "c60d53b0",
   "metadata": {},
   "source": [
    "--- Day 10: Balance Bots ---\n",
    "\n",
    "You come upon a factory in which many robots are zooming around handing small microchips to each other.\n",
    "\n",
    "Upon closer examination, you notice that each bot only proceeds when it has two microchips, and once it does, it gives each one to a different bot or puts it in a marked \"output\" bin. Sometimes, bots take microchips from \"input\" bins, too.\n",
    "\n",
    "Inspecting one of the microchips, it seems like they each contain a single number; the bots must use some logic to decide what to do with each chip. You access the local control computer and download the bots' instructions (your puzzle input).\n",
    "\n",
    "Some of the instructions specify that a specific-valued microchip should be given to a specific bot; the rest of the instructions indicate what a given bot should do with its lower-value or higher-value chip.\n",
    "\n",
    "For example, consider the following instructions:\n",
    "\n",
    "value 5 goes to bot 2  \n",
    "bot 2 gives low to bot 1 and high to bot 0  \n",
    "value 3 goes to bot 1  \n",
    "bot 1 gives low to output 1 and high to bot 0  \n",
    "bot 0 gives low to output 2 and high to output 0  \n",
    "value 2 goes to bot 2  \n",
    "\n",
    "    Initially, bot 1 starts with a value-3 chip, and bot 2 starts with a value-2 chip and a value-5 chip.\n",
    "    Because bot 2 has two microchips, it gives its lower one (2) to bot 1 and its higher one (5) to bot 0.\n",
    "    Then, bot 1 has two microchips; it puts the value-2 chip in output 1 and gives the value-3 chip to bot 0.\n",
    "    Finally, bot 0 has two microchips; it puts the 3 in output 2 and the 5 in output 0.\n",
    "\n",
    "In the end, output bin 0 contains a value-5 microchip, output bin 1 contains a value-2 microchip, and output bin 2 contains a value-3 microchip. In this configuration, bot number 2 is responsible for comparing value-5 microchips with value-2 microchips.\n",
    "\n",
    "Based on your instructions, what is the number of the bot that is responsible for comparing value-61 microchips with value-17 microchips?\n",
    "\n",
    "\n",
    "--- Part Two ---\n",
    "\n",
    "What do you get if you multiply together the values of one chip in each of outputs 0, 1, and 2?\n"
   ]
  },
  {
   "cell_type": "code",
   "execution_count": 130,
   "id": "950ba754",
   "metadata": {},
   "outputs": [],
   "source": [
    "filepath = \"..\\\\data\\\\input_day_10.txt\"\n",
    "test1 = \"..\\\\test\\\\test10_1.txt\"\n",
    "test2 = \"..\\\\test\\\\test10_2.txt\""
   ]
  },
  {
   "cell_type": "code",
   "execution_count": 131,
   "id": "f01e1389",
   "metadata": {},
   "outputs": [],
   "source": [
    "def read_input(filepath):\n",
    "    with open(filepath, 'r') as f:\n",
    "        lines = f.readlines()\n",
    "    \n",
    "    return lines"
   ]
  },
  {
   "cell_type": "code",
   "execution_count": 132,
   "id": "12480f52",
   "metadata": {},
   "outputs": [],
   "source": [
    "def convert_input(lines):\n",
    "    \n",
    "    targets = dict()\n",
    "    vals = dict()\n",
    "    bots = set()\n",
    "    \n",
    "    for line in lines:\n",
    "        if \"value\" in line:\n",
    "            val = int(line.split()[1])\n",
    "            target_bot = int(line.split()[-1])\n",
    "            bots.add(target_bot)\n",
    "            if target_bot in vals:\n",
    "                vals[target_bot].append(val)\n",
    "            else:\n",
    "                vals[target_bot] = [val]\n",
    "        if line.split()[0] == \"bot\":\n",
    "            original = int(line.split()[1])\n",
    "            type_low = line.split()[5]\n",
    "            low = int(line.split()[6])\n",
    "            type_high = line.split()[-2]\n",
    "            high = int(line.split()[-1])\n",
    "            bots.add(low)\n",
    "            bots.add(high)\n",
    "            targets[original] = [type_low, low, type_high, high]\n",
    "    return bots, vals, targets\n",
    "            "
   ]
  },
  {
   "cell_type": "code",
   "execution_count": 133,
   "id": "4b97c270",
   "metadata": {
    "scrolled": true
   },
   "outputs": [],
   "source": [
    "def day10a(filepath):\n",
    "    \n",
    "    lines = read_input(filepath)\n",
    "    bots, vals, targets = convert_input(lines)\n",
    "    outputs = dict()\n",
    "    #print(vals)\n",
    "    \n",
    "    for bot in bots:\n",
    "        if bot not in vals:\n",
    "            vals[bot] = []\n",
    "        \n",
    "    for i in range(30):\n",
    "        for original in targets:\n",
    "            #print(original, vals[original])\n",
    "            # check if we have both low and high value to assign\n",
    "            chips = vals[original]\n",
    "            if len(chips) == 2:\n",
    "                target_low, target_high = -1, -1\n",
    "                type_low, target_low, type_high, target_high = targets[original]\n",
    "                low_val, high_val = chips\n",
    "                # assign the low values if they've not been set yet\n",
    "                if type_low == \"output\":\n",
    "                    outputs[targets[original][1]] = low_val\n",
    "                else:\n",
    "                    low_vals = vals[target_low]\n",
    "                    if low_val not in low_vals:\n",
    "                        low_vals.append(low_val)\n",
    "                        low_vals.sort()\n",
    "                        vals[target_low] = low_vals\n",
    "                if type_high == \"output\":\n",
    "                    outputs[targets[original][3]] = high_val\n",
    "                else:\n",
    "                    high_vals = vals[target_high]\n",
    "                    if high_val not in high_vals:\n",
    "                        high_vals.append(high_val)\n",
    "                        high_vals.sort()\n",
    "                        vals[target_high] = high_vals\n",
    "                \n",
    "    for bot in vals:\n",
    "        if vals[bot]==[17, 61]:\n",
    "            print(f\"The responsible bot is bot number {bot}.\")\n",
    "    \n",
    "    print(outputs)\n",
    "    return outputs"
   ]
  },
  {
   "cell_type": "code",
   "execution_count": 134,
   "id": "46d83de5",
   "metadata": {},
   "outputs": [],
   "source": [
    "def day10b(filepath):\n",
    "    \n",
    "    outputs = day10a(filepath)\n",
    "    \n",
    "    print(outputs[0]*outputs[1]*outputs[2])"
   ]
  },
  {
   "cell_type": "code",
   "execution_count": 135,
   "id": "1ffc821d",
   "metadata": {
    "scrolled": false
   },
   "outputs": [
    {
     "name": "stdout",
     "output_type": "stream",
     "text": [
      "The responsible bot is bot number 86.\n",
      "{3: 2, 10: 3, 8: 5, 5: 7, 1: 11, 20: 13, 13: 17, 15: 19, 14: 23, 19: 29, 2: 31, 16: 37, 6: 41, 9: 43, 7: 47, 18: 53, 4: 59, 17: 61, 0: 67, 11: 71, 12: 73}\n"
     ]
    },
    {
     "data": {
      "text/plain": [
       "{3: 2,\n",
       " 10: 3,\n",
       " 8: 5,\n",
       " 5: 7,\n",
       " 1: 11,\n",
       " 20: 13,\n",
       " 13: 17,\n",
       " 15: 19,\n",
       " 14: 23,\n",
       " 19: 29,\n",
       " 2: 31,\n",
       " 16: 37,\n",
       " 6: 41,\n",
       " 9: 43,\n",
       " 7: 47,\n",
       " 18: 53,\n",
       " 4: 59,\n",
       " 17: 61,\n",
       " 0: 67,\n",
       " 11: 71,\n",
       " 12: 73}"
      ]
     },
     "execution_count": 135,
     "metadata": {},
     "output_type": "execute_result"
    }
   ],
   "source": [
    "day10a(filepath)"
   ]
  },
  {
   "cell_type": "code",
   "execution_count": 136,
   "id": "adc56303",
   "metadata": {},
   "outputs": [
    {
     "name": "stdout",
     "output_type": "stream",
     "text": [
      "The responsible bot is bot number 86.\n",
      "{3: 2, 10: 3, 8: 5, 5: 7, 1: 11, 20: 13, 13: 17, 15: 19, 14: 23, 19: 29, 2: 31, 16: 37, 6: 41, 9: 43, 7: 47, 18: 53, 4: 59, 17: 61, 0: 67, 11: 71, 12: 73}\n",
      "22847\n"
     ]
    }
   ],
   "source": [
    "day10b(filepath)"
   ]
  },
  {
   "cell_type": "code",
   "execution_count": null,
   "id": "951b417f",
   "metadata": {},
   "outputs": [],
   "source": []
  },
  {
   "cell_type": "code",
   "execution_count": null,
   "id": "a0630735",
   "metadata": {},
   "outputs": [],
   "source": []
  },
  {
   "cell_type": "code",
   "execution_count": null,
   "id": "a970d163",
   "metadata": {},
   "outputs": [],
   "source": []
  },
  {
   "cell_type": "code",
   "execution_count": null,
   "id": "fca718c6",
   "metadata": {},
   "outputs": [],
   "source": []
  },
  {
   "cell_type": "code",
   "execution_count": null,
   "id": "a42e1713",
   "metadata": {},
   "outputs": [],
   "source": []
  },
  {
   "cell_type": "code",
   "execution_count": null,
   "id": "94b390f9",
   "metadata": {},
   "outputs": [],
   "source": []
  },
  {
   "cell_type": "code",
   "execution_count": null,
   "id": "56a5fe16",
   "metadata": {},
   "outputs": [],
   "source": []
  }
 ],
 "metadata": {
  "kernelspec": {
   "display_name": "Python 3 (ipykernel)",
   "language": "python",
   "name": "python3"
  },
  "language_info": {
   "codemirror_mode": {
    "name": "ipython",
    "version": 3
   },
   "file_extension": ".py",
   "mimetype": "text/x-python",
   "name": "python",
   "nbconvert_exporter": "python",
   "pygments_lexer": "ipython3",
   "version": "3.10.9"
  }
 },
 "nbformat": 4,
 "nbformat_minor": 5
}
