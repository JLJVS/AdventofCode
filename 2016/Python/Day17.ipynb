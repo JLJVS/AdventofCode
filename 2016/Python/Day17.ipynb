{
 "cells": [
  {
   "cell_type": "markdown",
   "id": "8bc1789b",
   "metadata": {},
   "source": [
    "--- Day 17: Two Steps Forward ---\n",
    "\n",
    "You're trying to access a secure vault protected by a 4x4 grid of small rooms connected by doors. You start in the top-left room (marked S), and you can access the vault (marked V) once you reach the bottom-right room:\n",
    "\n",
    "xxxxxxxxx  \n",
    "xS|  |  | x  \n",
    "x-x-x-x-x  \n",
    "x |  |  | x  \n",
    "x-x-x-x-x  \n",
    "x |  |  | x  \n",
    "x-x-x-x-x  \n",
    "x |  |  |    \n",
    "xxxxxxxxV  \n",
    "\n",
    "Fixed walls are marked with x, and doors are marked with - or |.\n",
    "\n",
    "The doors in your current room are either open or closed (and locked) based on the hexadecimal MD5 hash of a passcode (your puzzle input) followed by a sequence of uppercase characters representing the path you have taken so far (U for up, D for down, L for left, and R for right).\n",
    "\n",
    "Only the first four characters of the hash are used; they represent, respectively, the doors up, down, left, and right from your current position. Any b, c, d, e, or f means that the corresponding door is open; any other character (any number or a) means that the corresponding door is closed and locked.\n",
    "\n",
    "To access the vault, all you need to do is reach the bottom-right room; reaching this room opens the vault and all doors in the maze.\n",
    "\n",
    "For example, suppose the passcode is hijkl. Initially, you have taken no steps, and so your path is empty: you simply find the MD5 hash of hijkl alone. The first four characters of this hash are ced9, which indicate that up is open (c), down is open (e), left is open (d), and right is closed and locked (9). Because you start in the top-left corner, there are no \"up\" or \"left\" doors to be open, so your only choice is down.\n",
    "\n",
    "Next, having gone only one step (down, or D), you find the hash of hijklD. This produces f2bc, which indicates that you can go back up, left (but that's a wall), or right. Going right means hashing hijklDR to get 5745 - all doors closed and locked. However, going up instead is worthwhile: even though it returns you to the room you started in, your path would then be DU, opening a different set of doors.\n",
    "\n",
    "After going DU (and then hashing hijklDU to get 528e), only the right door is open; after going DUR, all doors lock. (Fortunately, your actual passcode is not hijkl).\n",
    "\n",
    "Passcodes actually used by Easter Bunny Vault Security do allow access to the vault if you know the right path. For example:\n",
    "\n",
    "    If your passcode were ihgpwlah, the shortest path would be DDRRRD.\n",
    "    With kglvqrro, the shortest path would be DDUDRLRRUDRD.\n",
    "    With ulqzkmiv, the shortest would be DRURDRUDDLLDLUURRDULRLDUUDDDRR.\n",
    "\n",
    "Given your vault's passcode, what is the shortest path (the actual path, not just the length) to reach the vault?\n"
   ]
  },
  {
   "cell_type": "code",
   "execution_count": 1,
   "id": "7b76a79b",
   "metadata": {},
   "outputs": [],
   "source": [
    "import hashlib"
   ]
  },
  {
   "cell_type": "code",
   "execution_count": 2,
   "id": "aa4bd73a",
   "metadata": {},
   "outputs": [],
   "source": [
    "filepath = \"..\\\\data\\\\input_day_17.txt\"\n",
    "test1 = \"..\\\\test\\\\test17_1.txt\"\n",
    "test2 = \"..\\\\test\\\\test17_2.txt\""
   ]
  },
  {
   "cell_type": "code",
   "execution_count": 3,
   "id": "32588489",
   "metadata": {},
   "outputs": [],
   "source": [
    "def read_input(filepath):\n",
    "    with open(filepath, 'r') as f:\n",
    "        lines = f.readlines()\n",
    "    \n",
    "    return lines"
   ]
  },
  {
   "cell_type": "code",
   "execution_count": 4,
   "id": "a87f75b4",
   "metadata": {},
   "outputs": [],
   "source": [
    "def generate_grid(N):\n",
    "    '''\n",
    "    generates the grid of size NxN through which we must find a path\n",
    "    '''\n",
    "    grid = set()\n",
    "    for i in range(N):\n",
    "        for j in range(N):\n",
    "            grid.add((i,j))\n",
    "    return grid"
   ]
  },
  {
   "cell_type": "code",
   "execution_count": 5,
   "id": "8a613749",
   "metadata": {},
   "outputs": [],
   "source": [
    "def generate_next_position(current_state, grid):\n",
    "    \n",
    "    # generate\n",
    "    new_states = []\n",
    "    allowed = \"bcdef\"\n",
    "    new_chars = {0:[(-1,0), \"U\"], 1:[(1,0), \"D\"], 2:[(0, -1), \"L\"], 3:[(0,1), \"R\"]}\n",
    "    \n",
    "    # read our current position and the string to get there\n",
    "    (x,y), current_string = current_state\n",
    "    \n",
    "    hash_current = hashlib.md5(current_string.encode())\n",
    "    \n",
    "    \n",
    "    for i, char in enumerate(hash_current.hexdigest()[:4]):\n",
    "        if char in allowed:\n",
    "            dx, dy = new_chars[i][0]\n",
    "            if (x+dx, y+dy) in grid:\n",
    "                new_states.append([(x+dx, y+dy), current_string + new_chars[i][1]])\n",
    "    \n",
    "    return new_states"
   ]
  },
  {
   "cell_type": "code",
   "execution_count": 6,
   "id": "d01efabe",
   "metadata": {},
   "outputs": [],
   "source": [
    "def day17a(filepath):\n",
    "    \n",
    "    base_seed = read_input(filepath)[0]\n",
    "    grid = generate_grid(4)\n",
    "    current_states = [[(0,0), base_seed]]\n",
    "    #print(current_states)\n",
    "    steps = 0\n",
    "    \n",
    "    # make sure our target destination (3,3) is not reached\n",
    "    while (3,3) not in [i[0] for i in current_states]:\n",
    "        \n",
    "        steps += 1\n",
    "        new_states = []\n",
    "        \n",
    "        # generate the new states\n",
    "        for state in current_states:\n",
    "            new_states.extend(generate_next_position(state, grid))\n",
    "        \n",
    "        # update the states\n",
    "        current_states = new_states\n",
    "        \n",
    "    print(steps)\n",
    "    for state in current_states:\n",
    "        if state[0]==(3,3):\n",
    "            print(state[1][len(base_seed):])\n",
    "            "
   ]
  },
  {
   "cell_type": "code",
   "execution_count": 7,
   "id": "f147c971",
   "metadata": {},
   "outputs": [],
   "source": [
    "def day17b(filepath):\n",
    "    \n",
    "    base_seed = read_input(filepath)[0]\n",
    "    grid = generate_grid(4)\n",
    "    current_states = [[(0,0), base_seed]]\n",
    "    #print(current_states)\n",
    "    steps = 0\n",
    "    index_destination = 0\n",
    "    while len(current_states)!=0:\n",
    "        \n",
    "        steps += 1\n",
    "        new_states = []\n",
    "        # generate the new states\n",
    "        for state in current_states:\n",
    "            new_states.extend(generate_next_position(state, grid))\n",
    "        \n",
    "        # Filter out the paths that have reached the target destination\n",
    "        new_states_clean = [i for i in new_states if i[0]!=(3,3)]\n",
    "        \n",
    "        # check if at least one path reaches the destination\n",
    "        if len(new_states_clean) != len(new_states):\n",
    "            index_destination = steps\n",
    "        \n",
    "        # update the states\n",
    "        current_states = new_states_clean\n",
    "        \n",
    "    print(f\"The longest path is {index_destination} steps long.\")\n",
    "   "
   ]
  },
  {
   "cell_type": "code",
   "execution_count": 8,
   "id": "d76833b8",
   "metadata": {},
   "outputs": [
    {
     "name": "stdout",
     "output_type": "stream",
     "text": [
      "10\n",
      "DURLDRRDRD\n"
     ]
    }
   ],
   "source": [
    "day17a(filepath)"
   ]
  },
  {
   "cell_type": "code",
   "execution_count": 9,
   "id": "a5c6494d",
   "metadata": {},
   "outputs": [
    {
     "name": "stdout",
     "output_type": "stream",
     "text": [
      "The longest path is 650 steps long.\n"
     ]
    }
   ],
   "source": [
    "day17b(filepath)"
   ]
  }
 ],
 "metadata": {
  "kernelspec": {
   "display_name": "Python 3 (ipykernel)",
   "language": "python",
   "name": "python3"
  },
  "language_info": {
   "codemirror_mode": {
    "name": "ipython",
    "version": 3
   },
   "file_extension": ".py",
   "mimetype": "text/x-python",
   "name": "python",
   "nbconvert_exporter": "python",
   "pygments_lexer": "ipython3",
   "version": "3.10.9"
  }
 },
 "nbformat": 4,
 "nbformat_minor": 5
}
