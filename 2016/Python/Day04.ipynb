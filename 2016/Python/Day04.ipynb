{
 "cells": [
  {
   "cell_type": "markdown",
   "id": "8803c66f",
   "metadata": {},
   "source": [
    "--- Day 4: Security Through Obscurity ---\n",
    "\n",
    "Finally, you come across an information kiosk with a list of rooms. Of course, the list is encrypted and full of decoy data, but the instructions to decode the list are barely hidden nearby. Better remove the decoy data first.\n",
    "\n",
    "Each room consists of an encrypted name (lowercase letters separated by dashes) followed by a dash, a sector ID, and a checksum in square brackets.\n",
    "\n",
    "A room is real (not a decoy) if the checksum is the five most common letters in the encrypted name, in order, with ties broken by alphabetization. For example:\n",
    "\n",
    "    aaaaa-bbb-z-y-x-123[abxyz] is a real room because the most common letters are a (5), b (3), and then a tie between x, y, and z, which are listed alphabetically.\n",
    "    a-b-c-d-e-f-g-h-987[abcde] is a real room because although the letters are all tied (1 of each), the first five are listed alphabetically.\n",
    "    not-a-real-room-404[oarel] is a real room.\n",
    "    totally-real-room-200[decoy] is not.\n",
    "\n",
    "Of the real rooms from the list above, the sum of their sector IDs is 1514.\n",
    "\n",
    "What is the sum of the sector IDs of the real rooms?\n",
    "\n",
    "\n",
    "--- Part Two ---\n",
    "\n",
    "With all the decoy data out of the way, it's time to decrypt this list and get moving.\n",
    "\n",
    "The room names are encrypted by a state-of-the-art shift cipher, which is nearly unbreakable without the right software. However, the information kiosk designers at Easter Bunny HQ were not expecting to deal with a master cryptographer like yourself.\n",
    "\n",
    "To decrypt a room name, rotate each letter forward through the alphabet a number of times equal to the room's sector ID. A becomes B, B becomes C, Z becomes A, and so on. Dashes become spaces.\n",
    "\n",
    "For example, the real name for qzmt-zixmtkozy-ivhz-343 is very encrypted name.\n",
    "\n",
    "What is the sector ID of the room where North Pole objects are stored?\n",
    "\n"
   ]
  },
  {
   "cell_type": "code",
   "execution_count": 1,
   "id": "c7ae95cb",
   "metadata": {},
   "outputs": [],
   "source": [
    "filepath = \"..\\\\data\\\\input_day_04.txt\"\n",
    "test1 = \"..\\\\test\\\\test04_1.txt\"\n",
    "test2 = \"..\\\\test\\\\test04_2.txt\"\n",
    "test3 = \"..\\\\test\\\\test04_3.txt\"\n",
    "test4 = \"..\\\\test\\\\test04_4.txt\"\n",
    "test5 = \"..\\\\test\\\\test04_5.txt\""
   ]
  },
  {
   "cell_type": "code",
   "execution_count": 2,
   "id": "f8017d36",
   "metadata": {},
   "outputs": [],
   "source": [
    "# first we import our files\n",
    "def read_input(filepath):\n",
    "    with open(filepath, 'r') as f:\n",
    "        lines = f.readlines()\n",
    "    \n",
    "    return lines"
   ]
  },
  {
   "cell_type": "code",
   "execution_count": 3,
   "id": "26371dc3",
   "metadata": {},
   "outputs": [],
   "source": [
    "def convert_input(rooms):\n",
    "    \n",
    "    checksums, room_letters, room_ids = [], [], []\n",
    "    for room in rooms:\n",
    "        room = room.strip()\n",
    "        # get the room_letter\n",
    "        room_letter = room[:-10]\n",
    "        room_letters.append(room_letter.replace(\"-\",\"\"))\n",
    "        room_id = int(room[-10:-7])\n",
    "        room_ids.append(room_id)\n",
    "        checksum = room[-6:-1]\n",
    "        checksums.append(checksum)\n",
    "    return room_letters, room_ids, checksums"
   ]
  },
  {
   "cell_type": "code",
   "execution_count": 4,
   "id": "a53a4811",
   "metadata": {},
   "outputs": [],
   "source": [
    "def valid_room(room_letter, checksum):\n",
    "    \n",
    "    letters = set(room_letter)\n",
    "    letter_counts = {letter: room_letter.count(letter) for letter in letters}\n",
    "    letters = [(val, key) for key, val in letter_counts.items()]\n",
    "    letters.sort(key=lambda x: (-x[0], x[1]))\n",
    "    letters = [i[1] for i in letters]\n",
    "    #print(letters)\n",
    "    #print(\"\".join(letters)[:5])\n",
    "    return \"\".join(letters)[:5] == checksum\n",
    "    "
   ]
  },
  {
   "cell_type": "code",
   "execution_count": 5,
   "id": "96818030",
   "metadata": {},
   "outputs": [],
   "source": [
    "def decrypt_message(room_letters, shift):\n",
    "    \n",
    "    letters = \"abcdefghijklmnopqrstuvwxyz\"\n",
    "    decrypted = \"\"\n",
    "    for letter in room_letters:\n",
    "        if letter == \"-\":\n",
    "            decrypted += \" \"\n",
    "        else:\n",
    "            letter_index = (letters.index(letter) + shift)%26\n",
    "            decrypted += letters[letter_index]\n",
    "    #print(decrypted)\n",
    "    return decrypted"
   ]
  },
  {
   "cell_type": "code",
   "execution_count": 6,
   "id": "3feac049",
   "metadata": {},
   "outputs": [],
   "source": [
    "def day04a(filepath):\n",
    "    \n",
    "    rooms = read_input(filepath)\n",
    "    room_letters, sector_ids, checksums = convert_input(rooms)\n",
    "    id_sum = 0\n",
    "    \n",
    "    for i, room in enumerate(room_letters):\n",
    "        if valid_room(room, checksums[i]):\n",
    "            id_sum += sector_ids[i]\n",
    "    print(f\"The sum of the real room sector ids is {id_sum}.\")\n",
    "    return id_sum"
   ]
  },
  {
   "cell_type": "code",
   "execution_count": 7,
   "id": "cd287ad1",
   "metadata": {},
   "outputs": [],
   "source": [
    "def day04b(filepath):\n",
    "    \n",
    "    rooms = read_input(filepath)\n",
    "    room_letters, sector_ids, checksums = convert_input(rooms)\n",
    "    \n",
    "    valid_rooms, valid_sector_ids = [], []\n",
    "        \n",
    "    for i, room in enumerate(room_letters):\n",
    "        if valid_room(room, checksums[i]):\n",
    "            valid_rooms.append(room)\n",
    "            valid_sector_ids.append(sector_ids[i])\n",
    "        \n",
    "    for i, room in enumerate(valid_rooms):\n",
    "        decrypt = decrypt_message(room, valid_sector_ids[i])\n",
    "        \n",
    "        if \"north\" in decrypt:\n",
    "            #print(decrypt, valid_sector_ids[i])\n",
    "            print(f\"The north pole objects are stored in the room {decrypt} with sector id {valid_sector_ids[i]}\")\n",
    "            return valid_sector_ids[i]"
   ]
  },
  {
   "cell_type": "code",
   "execution_count": 8,
   "id": "184e2ef7",
   "metadata": {},
   "outputs": [],
   "source": [
    "def test04a():\n",
    "    # check if the valid room function works\n",
    "    assert valid_room(convert_input(read_input(test1))[0][0], convert_input(read_input(test1))[2][0],) == True\n",
    "    assert valid_room(convert_input(read_input(test2))[0][0], convert_input(read_input(test2))[2][0],) == True\n",
    "    assert valid_room(convert_input(read_input(test3))[0][0], convert_input(read_input(test3))[2][0],) == True\n",
    "    assert valid_room(convert_input(read_input(test4))[0][0], convert_input(read_input(test4))[2][0],) == False\n",
    "    print(\"Passed all valid room tests\")\n",
    "    # test the example input\n",
    "    assert day04a(test5) == 1514\n",
    "    print(\"Passed the example input\")\n",
    "    \n",
    "    # test decryption function\n",
    "    \n",
    "    assert decrypt_message(\"qzmt-zixmtkozy-ivhz\", 343) == \"very encrypted name\"\n",
    "    print(\"Passed all checks\")"
   ]
  },
  {
   "cell_type": "code",
   "execution_count": 9,
   "id": "7110f566",
   "metadata": {},
   "outputs": [
    {
     "name": "stdout",
     "output_type": "stream",
     "text": [
      "Passed all valid room tests\n",
      "The sum of the real room sector ids is 1514.\n",
      "Passed the example input\n",
      "Passed all checks\n"
     ]
    }
   ],
   "source": [
    "test04a()"
   ]
  },
  {
   "cell_type": "code",
   "execution_count": 10,
   "id": "5af6e6b7",
   "metadata": {},
   "outputs": [
    {
     "name": "stdout",
     "output_type": "stream",
     "text": [
      "The sum of the real room sector ids is 173787.\n"
     ]
    },
    {
     "data": {
      "text/plain": [
       "173787"
      ]
     },
     "execution_count": 10,
     "metadata": {},
     "output_type": "execute_result"
    }
   ],
   "source": [
    "day04a(filepath)"
   ]
  },
  {
   "cell_type": "code",
   "execution_count": 11,
   "id": "dbe4110c",
   "metadata": {},
   "outputs": [
    {
     "name": "stdout",
     "output_type": "stream",
     "text": [
      "The north pole objects are stored in the room northpoleobjectstorage with sector id 548\n"
     ]
    },
    {
     "data": {
      "text/plain": [
       "548"
      ]
     },
     "execution_count": 11,
     "metadata": {},
     "output_type": "execute_result"
    }
   ],
   "source": [
    "day04b(filepath)"
   ]
  }
 ],
 "metadata": {
  "kernelspec": {
   "display_name": "Python 3 (ipykernel)",
   "language": "python",
   "name": "python3"
  },
  "language_info": {
   "codemirror_mode": {
    "name": "ipython",
    "version": 3
   },
   "file_extension": ".py",
   "mimetype": "text/x-python",
   "name": "python",
   "nbconvert_exporter": "python",
   "pygments_lexer": "ipython3",
   "version": "3.10.9"
  }
 },
 "nbformat": 4,
 "nbformat_minor": 5
}
