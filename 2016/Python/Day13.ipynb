{
 "cells": [
  {
   "cell_type": "markdown",
   "id": "22449037",
   "metadata": {},
   "source": [
    "--- Day 13: A Maze of Twisty Little Cubicles ---\n",
    "\n",
    "You arrive at the first floor of this new building to discover a much less welcoming environment than the shiny atrium of the last one. Instead, you are in a maze of twisty little cubicles, all alike.\n",
    "\n",
    "Every location in this area is addressed by a pair of non-negative integers (x,y). Each such coordinate is either a wall or an open space. You can't move diagonally. The cube maze starts at 0,0 and seems to extend infinitely toward positive x and y; negative values are invalid, as they represent a location outside the building. You are in a small waiting area at 1,1.\n",
    "\n",
    "While it seems chaotic, a nearby morale-boosting poster explains, the layout is actually quite logical. You can determine whether a given x,y coordinate will be a wall or an open space using a simple system:\n",
    "\n",
    "    Find x*x + 3*x + 2*x*y + y + y*y.\n",
    "    Add the office designer's favorite number (your puzzle input).\n",
    "    Find the binary representation of that sum; count the number of bits that are 1.\n",
    "        If the number of bits that are 1 is even, it's an open space.\n",
    "        If the number of bits that are 1 is odd, it's a wall.\n",
    "\n",
    "For example, if the office designer's favorite number were 10, drawing walls as # and open spaces as ., the corner of the building containing 0,0 would look like this:\n",
    "\n",
    "  0123456789  \n",
    "0 .#.####.##  \n",
    "1 ..#..#...#  \n",
    "2 #....##...  \n",
    "3 ###.#.###.  \n",
    "4 .##..#..#.  \n",
    "5 ..##....#.  \n",
    "6 #...##.###  \n",
    "\n",
    "Now, suppose you wanted to reach 7,4. The shortest route you could take is marked as O:\n",
    "\n",
    "  0123456789  \n",
    "0 .#.####.##  \n",
    "1 .O#..#...#  \n",
    "2 #OOO.##...  \n",
    "3 ###O#.###.  \n",
    "4 .##OO#OO#.  \n",
    "5 ..##OOO.#.  \n",
    "6 #...##.###  \n",
    "\n",
    "Thus, reaching 7,4 would take a minimum of 11 steps (starting from your current location, 1,1).\n",
    "\n",
    "What is the fewest number of steps required for you to reach 31,39?\n",
    "\n",
    "--- Part Two ---\n",
    "\n",
    "How many locations (distinct x,y coordinates, including your starting location) can you reach in at most 50 steps?\n",
    "\n"
   ]
  },
  {
   "cell_type": "code",
   "execution_count": 1,
   "id": "36c5fc7f",
   "metadata": {},
   "outputs": [],
   "source": [
    "filepath = \"..\\\\data\\\\input_day_13.txt\"\n",
    "test1 = \"..\\\\test\\\\test13_1.txt\"\n",
    "test2 = \"..\\\\test\\\\test13_2.txt\""
   ]
  },
  {
   "cell_type": "code",
   "execution_count": 2,
   "id": "48452d86",
   "metadata": {},
   "outputs": [],
   "source": [
    "def read_input(filepath):\n",
    "    with open(filepath, 'r') as f:\n",
    "        lines = f.readlines()\n",
    "    \n",
    "    return lines"
   ]
  },
  {
   "cell_type": "code",
   "execution_count": 9,
   "id": "04c14052",
   "metadata": {},
   "outputs": [],
   "source": [
    "def generate_maze(favorite_number, N=50):\n",
    "    \n",
    "    '''\n",
    "    Find x*x + 3*x + 2*x*y + y + y*y.\n",
    "    Add the office designer's favorite number (your puzzle input).\n",
    "    Find the binary representation of that sum; count the number of bits that are 1.\n",
    "        If the number of bits that are 1 is even, it's an open space.\n",
    "        If the number of bits that are 1 is odd, it's a wall.\n",
    "    '''\n",
    "    \n",
    "    grid = [[\".\" for _ in range(N)] for _ in range(N)]\n",
    "    \n",
    "    for i in range(N):\n",
    "        for j in range(N):\n",
    "            # use the coordinates to generate the base number\n",
    "            num = i*i + 3*i + 2*i*j + j + j*j\n",
    "            num += favorite_number\n",
    "            bin_num = bin(num)\n",
    "            one_count = 0\n",
    "            for char in bin_num:\n",
    "                if char == \"1\":\n",
    "                    one_count += 1\n",
    "            if one_count%2==1:\n",
    "                grid[j][i] = \"#\"\n",
    "                \n",
    "    return grid"
   ]
  },
  {
   "cell_type": "code",
   "execution_count": 62,
   "id": "b12ee3c0",
   "metadata": {},
   "outputs": [],
   "source": [
    "def find_next_step(current_location, grid):\n",
    "    '''\n",
    "    We can only move up, down, left and right. If the new location is a wall we can't move there.\n",
    "    Returns all possible locations we can move.\n",
    "    '''\n",
    "    \n",
    "    \n",
    "    x, y = current_location\n",
    "    neighbors = [(1,0), (0,1), (-1, 0), (0, -1)]\n",
    "    allowed = range(len(grid))\n",
    "    possible = []\n",
    "    \n",
    "    for neighbor in neighbors:\n",
    "        dx, dy = neighbor\n",
    "        if x+dx in allowed and y+dy in allowed:\n",
    "            if grid[y+dy][x+dx]==\".\":\n",
    "                possible.append((x+dx, y+dy))\n",
    "    return possible"
   ]
  },
  {
   "cell_type": "code",
   "execution_count": 63,
   "id": "b5088b4e",
   "metadata": {},
   "outputs": [],
   "source": [
    "def day13a(filepath, target):\n",
    "    \n",
    "    favorite_number = int(read_input(filepath)[0])\n",
    "    grid = generate_maze(favorite_number)\n",
    "    \n",
    "    locations = [(1,1)]\n",
    "    before_seen = set()\n",
    "    steps = 0\n",
    "    not_found = True\n",
    "    \n",
    "    while not_found:\n",
    "        #print(locations)\n",
    "        new_locations = []\n",
    "        steps += 1\n",
    "        for location in locations:\n",
    "            before_seen.add(location)\n",
    "            possible = find_next_step(location, grid)\n",
    "            possible = (i for i in possible if i not in before_seen)\n",
    "            new_locations.extend(possible)\n",
    "            if target in new_locations:\n",
    "                not_found = False\n",
    "                break\n",
    "        locations = new_locations\n",
    "    print(f\"We reach our target destination {target} in {steps} steps.\")\n",
    "    return steps\n",
    "    "
   ]
  },
  {
   "cell_type": "code",
   "execution_count": 64,
   "id": "8451c8e0",
   "metadata": {},
   "outputs": [],
   "source": [
    "def day13b(filepath):\n",
    "    \n",
    "    favorite_number = int(read_input(filepath)[0])\n",
    "    grid = generate_maze(favorite_number)\n",
    "    \n",
    "    locations = [(1,1)]\n",
    "    before_seen = set()\n",
    "    steps = 0\n",
    "    \n",
    "    \n",
    "    while steps<50:\n",
    "        #print(locations)\n",
    "        new_locations = []\n",
    "        steps += 1\n",
    "        for location in locations:\n",
    "            before_seen.add(location)\n",
    "            possible = find_next_step(location, grid)\n",
    "            possible = (i for i in possible if i not in before_seen)\n",
    "            new_locations.extend(possible)\n",
    "            \n",
    "        locations = new_locations\n",
    "    before_seen.add(*locations)\n",
    "    print(f\"We can reach {len(before_seen)} locations in 50 steps.\")\n",
    "    return len(before_seen)"
   ]
  },
  {
   "cell_type": "code",
   "execution_count": 65,
   "id": "0df7b273",
   "metadata": {},
   "outputs": [],
   "source": [
    "def test13a():\n",
    "    \n",
    "    assert day13a(test1, (7,4)) == 11\n",
    "    \n",
    "    print(\"Passed all checks\")"
   ]
  },
  {
   "cell_type": "code",
   "execution_count": 66,
   "id": "4cf2c5c2",
   "metadata": {},
   "outputs": [
    {
     "name": "stdout",
     "output_type": "stream",
     "text": [
      "We reach our target destination (7, 4) in 11 steps.\n",
      "Passed all checks\n"
     ]
    }
   ],
   "source": [
    "test13a()"
   ]
  },
  {
   "cell_type": "code",
   "execution_count": 67,
   "id": "22778c64",
   "metadata": {},
   "outputs": [
    {
     "name": "stdout",
     "output_type": "stream",
     "text": [
      "We reach our target destination (31, 39) in 86 steps.\n"
     ]
    },
    {
     "data": {
      "text/plain": [
       "86"
      ]
     },
     "execution_count": 67,
     "metadata": {},
     "output_type": "execute_result"
    }
   ],
   "source": [
    "day13a(filepath, (31,39))"
   ]
  },
  {
   "cell_type": "code",
   "execution_count": 68,
   "id": "7bcdb904",
   "metadata": {},
   "outputs": [
    {
     "name": "stdout",
     "output_type": "stream",
     "text": [
      "We can reach 127 locations in 50 steps.\n"
     ]
    },
    {
     "data": {
      "text/plain": [
       "127"
      ]
     },
     "execution_count": 68,
     "metadata": {},
     "output_type": "execute_result"
    }
   ],
   "source": [
    "day13b(filepath)"
   ]
  }
 ],
 "metadata": {
  "kernelspec": {
   "display_name": "Python 3 (ipykernel)",
   "language": "python",
   "name": "python3"
  },
  "language_info": {
   "codemirror_mode": {
    "name": "ipython",
    "version": 3
   },
   "file_extension": ".py",
   "mimetype": "text/x-python",
   "name": "python",
   "nbconvert_exporter": "python",
   "pygments_lexer": "ipython3",
   "version": "3.10.9"
  }
 },
 "nbformat": 4,
 "nbformat_minor": 5
}
