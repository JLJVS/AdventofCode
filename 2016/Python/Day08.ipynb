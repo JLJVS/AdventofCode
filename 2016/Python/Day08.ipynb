{
 "cells": [
  {
   "cell_type": "markdown",
   "id": "683946f4",
   "metadata": {},
   "source": [
    "--- Day 8: Two-Factor Authentication ---\n",
    "\n",
    "You come across a door implementing what you can only assume is an implementation of two-factor authentication after a long game of requirements telephone.\n",
    "\n",
    "To get past the door, you first swipe a keycard (no problem; there was one on a nearby desk). Then, it displays a code on a little screen, and you type that code on a keypad. Then, presumably, the door unlocks.\n",
    "\n",
    "Unfortunately, the screen has been smashed. After a few minutes, you've taken everything apart and figured out how it works. Now you just have to work out what the screen would have displayed.\n",
    "\n",
    "The magnetic strip on the card you swiped encodes a series of instructions for the screen; these instructions are your puzzle input. The screen is 50 pixels wide and 6 pixels tall, all of which start off, and is capable of three somewhat peculiar operations:\n",
    "\n",
    "    rect AxB turns on all of the pixels in a rectangle at the top-left of the screen which is A wide and B tall.\n",
    "    rotate row y=A by B shifts all of the pixels in row A (0 is the top row) right by B pixels. Pixels that would fall off the right end appear at the left end of the row.\n",
    "    rotate column x=A by B shifts all of the pixels in column A (0 is the left column) down by B pixels. Pixels that would fall off the bottom appear at the top of the column.\n",
    "\n",
    "For example, here is a simple sequence on a smaller screen:\n",
    "\n",
    "    rect 3x2 creates a small rectangle in the top-left corner:\n",
    "\n",
    "    ###....\n",
    "    ###....\n",
    "    .......\n",
    "\n",
    "    rotate column x=1 by 1 rotates the second column down by one pixel:\n",
    "\n",
    "    #.#....\n",
    "    ###....\n",
    "    .#.....\n",
    "\n",
    "    rotate row y=0 by 4 rotates the top row right by four pixels:\n",
    "\n",
    "    ....#.#\n",
    "    ###....\n",
    "    .#.....\n",
    "\n",
    "    rotate column x=1 by 1 again rotates the second column down by one pixel, causing the bottom pixel to wrap back to the top:\n",
    "\n",
    "    .#..#.#\n",
    "    #.#....\n",
    "    .#.....\n",
    "\n",
    "As you can see, this display technology is extremely powerful, and will soon dominate the tiny-code-displaying-screen market. That's what the advertisement on the back of the display tries to convince you, anyway.\n",
    "\n",
    "There seems to be an intermediate check of the voltage used by the display: after you swipe your card, if the screen did work, how many pixels should be lit?\n",
    "\n",
    "\n",
    "--- Part Two ---\n",
    "\n",
    "You notice that the screen is only capable of displaying capital letters; in the font it uses, each letter is 5 pixels wide and 6 tall.\n",
    "\n",
    "After you swipe your card, what code is the screen trying to display?\n"
   ]
  },
  {
   "cell_type": "code",
   "execution_count": 1,
   "id": "2a1a504a",
   "metadata": {},
   "outputs": [],
   "source": [
    "import matplotlib.pyplot as plt"
   ]
  },
  {
   "cell_type": "code",
   "execution_count": 2,
   "id": "f63870e2",
   "metadata": {},
   "outputs": [],
   "source": [
    "filepath = \"..\\\\data\\\\input_day_08.txt\"\n",
    "test1 = \"..\\\\test\\\\test08_1.txt\"\n",
    "test2 = \"..\\\\test\\\\test08_2.txt\""
   ]
  },
  {
   "cell_type": "code",
   "execution_count": 3,
   "id": "fceb3e15",
   "metadata": {},
   "outputs": [],
   "source": [
    "def read_input(filepath):\n",
    "    with open(filepath, 'r') as f:\n",
    "        lines = f.readlines()\n",
    "    \n",
    "    return lines"
   ]
  },
  {
   "cell_type": "code",
   "execution_count": 4,
   "id": "e1b7fd8f",
   "metadata": {},
   "outputs": [],
   "source": [
    "def convert_input(lines):\n",
    "    split = []\n",
    "    for line in lines:\n",
    "        if \"rect\" in line:\n",
    "            line = line.strip().replace(\"x\", \" \")\n",
    "            command, y, x = line.split()\n",
    "            split.append([command, int(x), int(y)])\n",
    "        if \"rotate\" in line:\n",
    "            line = line.strip()\n",
    "            command, _, coord, _, n = line.split()\n",
    "            split.append([command, coord, int(n)])\n",
    "    return split"
   ]
  },
  {
   "cell_type": "code",
   "execution_count": 5,
   "id": "af0d3d09",
   "metadata": {},
   "outputs": [],
   "source": [
    "def get_axis_index(coord):\n",
    "    \n",
    "    axis, index = coord.split(\"=\")\n",
    "    return axis, int(index)"
   ]
  },
  {
   "cell_type": "code",
   "execution_count": 6,
   "id": "a3bdfc33",
   "metadata": {},
   "outputs": [],
   "source": [
    "def turn_on(x, y, grid):\n",
    "    \n",
    "    for i in range(x):\n",
    "        for j in range(y):\n",
    "            grid[i][j] = 1\n",
    "    return grid"
   ]
  },
  {
   "cell_type": "code",
   "execution_count": 7,
   "id": "e8006ae7",
   "metadata": {},
   "outputs": [],
   "source": [
    "def rotate(axis, index, n, grid):\n",
    "    if axis == \"x\":\n",
    "        col = [i[index] for i in grid]\n",
    "        shifted_col = col[-n:] + col[:-n]\n",
    "        \n",
    "        for i, val in enumerate(shifted_col):\n",
    "            grid[i][index] = val\n",
    "    \n",
    "    if axis == \"y\":\n",
    "        row = grid[index]\n",
    "        shifted_row = row[-n:] + row[:-n]\n",
    "        grid[index] = shifted_row\n",
    "        \n",
    "    return grid"
   ]
  },
  {
   "cell_type": "code",
   "execution_count": 8,
   "id": "08a55850",
   "metadata": {},
   "outputs": [],
   "source": [
    "def day08a(filepath):\n",
    "    \n",
    "    # read the input\n",
    "    instructions = read_input(filepath)\n",
    "    instructions = convert_input(instructions)\n",
    "    \n",
    "    grid = [[0 for _ in range(50)] for _ in range(6)]\n",
    "    \n",
    "    for instruction in instructions:\n",
    "        \n",
    "        if \"rect\" in instruction:\n",
    "            _, x, y = instruction \n",
    "            grid = turn_on(x, y, grid)\n",
    "            \n",
    "        if \"rotate\" in instruction:\n",
    "            _,  coord, n = instruction\n",
    "            axis, index = get_axis_index(coord)\n",
    "            grid = rotate(axis, index, n, grid)\n",
    "        \n",
    "    #for row in grid:\n",
    "    #    print(row)\n",
    "    voltage = sum([sum(i) for i in grid])\n",
    "    print(f\"There should be {voltage} pixels lit.\")\n",
    "    return voltage, grid"
   ]
  },
  {
   "cell_type": "code",
   "execution_count": 9,
   "id": "ad2bde17",
   "metadata": {},
   "outputs": [],
   "source": [
    "def day08b(filepath):\n",
    "    \n",
    "    _, grid = day08a(filepath)\n",
    "    \n",
    "    plt.figure(figsize=(12,8))\n",
    "    plt.imshow(grid)\n",
    "    plt.show()"
   ]
  },
  {
   "cell_type": "code",
   "execution_count": 10,
   "id": "700b25f1",
   "metadata": {},
   "outputs": [
    {
     "name": "stdout",
     "output_type": "stream",
     "text": [
      "There should be 121 pixels lit.\n"
     ]
    }
   ],
   "source": [
    "voltage, grid = day08a(filepath)"
   ]
  },
  {
   "cell_type": "code",
   "execution_count": 11,
   "id": "623f4646",
   "metadata": {},
   "outputs": [
    {
     "name": "stdout",
     "output_type": "stream",
     "text": [
      "There should be 121 pixels lit.\n"
     ]
    },
    {
     "data": {
      "image/png": "[encoded data removed]",
      "text/plain": [
       "<Figure size 1200x800 with 1 Axes>"
      ]
     },
     "metadata": {},
     "output_type": "display_data"
    }
   ],
   "source": [
    "day08b(filepath)"
   ]
  }
 ],
 "metadata": {
  "kernelspec": {
   "display_name": "Python 3 (ipykernel)",
   "language": "python",
   "name": "python3"
  },
  "language_info": {
   "codemirror_mode": {
    "name": "ipython",
    "version": 3
   },
   "file_extension": ".py",
   "mimetype": "text/x-python",
   "name": "python",
   "nbconvert_exporter": "python",
   "pygments_lexer": "ipython3",
   "version": "3.10.9"
  }
 },
 "nbformat": 4,
 "nbformat_minor": 5
}
