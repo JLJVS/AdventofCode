{
 "cells": [
  {
   "cell_type": "markdown",
   "id": "7b089c63",
   "metadata": {},
   "source": [
    "--- Day 9: Explosives in Cyberspace ---\n",
    "\n",
    "Wandering around a secure area, you come across a datalink port to a new part of the network. After briefly scanning it for interesting files, you find one file in particular that catches your attention. It's compressed with an experimental format, but fortunately, the documentation for the format is nearby.\n",
    "\n",
    "The format compresses a sequence of characters. Whitespace is ignored. To indicate that some sequence should be repeated, a marker is added to the file, like (10x2). To decompress this marker, take the subsequent 10 characters and repeat them 2 times. Then, continue reading the file after the repeated data. The marker itself is not included in the decompressed output.\n",
    "\n",
    "If parentheses or other characters appear within the data referenced by a marker, that's okay - treat it like normal data, not a marker, and then resume looking for markers after the decompressed section.\n",
    "\n",
    "For example:\n",
    "\n",
    "    ADVENT contains no markers and decompresses to itself with no changes, resulting in a decompressed length of 6.\n",
    "    A(1x5)BC repeats only the B a total of 5 times, becoming ABBBBBC for a decompressed length of 7.\n",
    "    (3x3)XYZ becomes XYZXYZXYZ for a decompressed length of 9.\n",
    "    A(2x2)BCD(2x2)EFG doubles the BC and EF, becoming ABCBCDEFEFG for a decompressed length of 11.\n",
    "    (6x1)(1x3)A simply becomes (1x3)A - the (1x3) looks like a marker, but because it's within a data section of another marker, it is not treated any differently from the A that comes after it. It has a decompressed length of 6.\n",
    "    X(8x2)(3x3)ABCY becomes X(3x3)ABC(3x3)ABCY (for a decompressed length of 18), because the decompressed data from the (8x2) marker (the (3x3)ABC) is skipped and not processed further.\n",
    "\n",
    "What is the decompressed length of the file (your puzzle input)? Don't count whitespace.\n",
    "\n",
    "--- Part Two ---\n",
    "\n",
    "Apparently, the file actually uses version two of the format.\n",
    "\n",
    "In version two, the only difference is that markers within decompressed data are decompressed. This, the documentation explains, provides much more substantial compression capabilities, allowing many-gigabyte files to be stored in only a few kilobytes.\n",
    "\n",
    "For example:\n",
    "\n",
    "    (3x3)XYZ still becomes XYZXYZXYZ, as the decompressed section contains no markers.\n",
    "    X(8x2)(3x3)ABCY becomes XABCABCABCABCABCABCY, because the decompressed data from the (8x2) marker is then further decompressed, thus triggering the (3x3) marker twice for a total of six ABC sequences.\n",
    "    (27x12)(20x12)(13x14)(7x10)(1x12)A decompresses into a string of A repeated 241920 times.\n",
    "    (25x3)(3x3)ABC(2x3)XY(5x2)PQRSTX(18x9)(3x2)TWO(5x7)SEVEN becomes 445 characters long.\n",
    "\n",
    "Unfortunately, the computer you brought probably doesn't have enough memory to actually decompress the file; you'll have to come up with another way to get its decompressed length.\n",
    "\n",
    "What is the decompressed length of the file using this improved format?\n"
   ]
  },
  {
   "cell_type": "code",
   "execution_count": 1,
   "id": "04e07506",
   "metadata": {},
   "outputs": [],
   "source": [
    "filepath = \"..\\\\data\\\\input_day_09.txt\"\n",
    "test1 = \"..\\\\test\\\\test09_1.txt\"\n",
    "test2 = \"..\\\\test\\\\test09_2.txt\""
   ]
  },
  {
   "cell_type": "code",
   "execution_count": 2,
   "id": "c49c6800",
   "metadata": {},
   "outputs": [],
   "source": [
    "def read_input(filepath):\n",
    "    with open(filepath, 'r') as f:\n",
    "        lines = f.readlines()\n",
    "    \n",
    "    return lines"
   ]
  },
  {
   "cell_type": "code",
   "execution_count": 3,
   "id": "3c2b19af",
   "metadata": {},
   "outputs": [],
   "source": [
    "def decompress(string):\n",
    "    \n",
    "    '''\n",
    "    We want to decompress the string and find the length of the string.\n",
    "    Our data is currently compressed i.e. \n",
    "    A(1x5)BC -> ABBBBBC\n",
    "    We'll know if our length is decompressed if all left brackets ( are gone.\n",
    "    '''\n",
    "    decompressed_length = 0\n",
    "    \n",
    "    while \"(\" in string:\n",
    "        # find the first ( in our string\n",
    "        first_index = string.find(\"(\")\n",
    "        decompressed_length += first_index\n",
    "        \n",
    "        # remove all entries inbetween the start of the string and the (\n",
    "        string = string[first_index:]\n",
    "        \n",
    "        # find how long to repeat and how often i.e. untill )\n",
    "        second_index = string.find(\")\")\n",
    "        \n",
    "        # extract for how long to repeat and how often\n",
    "        to_repeat, reps = string[1:second_index].split(\"x\")\n",
    "        to_repeat, reps = int(to_repeat), int(reps)\n",
    "        \n",
    "        # update the string to after the )\n",
    "        string = string[second_index+1:]\n",
    "        decompressed_length += to_repeat*reps\n",
    "        \n",
    "        # update the string to after the repeats\n",
    "        string = string[to_repeat:]\n",
    "    return decompressed_length"
   ]
  },
  {
   "cell_type": "code",
   "execution_count": 4,
   "id": "0b8ce952",
   "metadata": {},
   "outputs": [],
   "source": [
    "def decompress_v2(string):\n",
    "    \n",
    "    \n",
    "    decompressed_length = 0\n",
    "    \n",
    "    while \"(\" in string:\n",
    "        # find the first ( in our string\n",
    "        first_index = string.find(\"(\")\n",
    "        decompressed_length += first_index\n",
    "        \n",
    "        # remove all entries inbetween the start of the string and the (\n",
    "        string = string[first_index:]\n",
    "        \n",
    "        # find how long to repeat and how often i.e. untill )\n",
    "        second_index = string.find(\")\")\n",
    "        \n",
    "        # extract for how long to repeat and how often\n",
    "        to_repeat, reps = string[1:second_index].split(\"x\")\n",
    "        to_repeat, reps = int(to_repeat), int(reps)\n",
    "        \n",
    "        # update the string to after the )\n",
    "        string = string[second_index+1:]\n",
    "        decompressed_length += decompress_v2(string[:to_repeat]) * reps\n",
    "        \n",
    "        # update the string to after the repeats\n",
    "        string = string[to_repeat:]\n",
    "    decompressed_length += len(string)\n",
    "    return decompressed_length"
   ]
  },
  {
   "cell_type": "code",
   "execution_count": 5,
   "id": "1b8eec32",
   "metadata": {},
   "outputs": [],
   "source": [
    "def day09a(filepath):\n",
    "    \n",
    "    line = read_input(filepath)[0].strip()\n",
    "    print(decompress(line))\n",
    "    "
   ]
  },
  {
   "cell_type": "code",
   "execution_count": 6,
   "id": "a744c264",
   "metadata": {},
   "outputs": [],
   "source": [
    "def day09b(filepath):\n",
    "    \n",
    "    line = read_input(filepath)[0].strip()\n",
    "    print(decompress_v2(line))\n",
    "    "
   ]
  },
  {
   "cell_type": "code",
   "execution_count": 7,
   "id": "617f5223",
   "metadata": {},
   "outputs": [
    {
     "name": "stdout",
     "output_type": "stream",
     "text": [
      "97714\n"
     ]
    }
   ],
   "source": [
    "day09a(filepath)"
   ]
  },
  {
   "cell_type": "code",
   "execution_count": 8,
   "id": "b9b5c9ff",
   "metadata": {},
   "outputs": [
    {
     "name": "stdout",
     "output_type": "stream",
     "text": [
      "10762972461\n"
     ]
    }
   ],
   "source": [
    "day09b(filepath)"
   ]
  }
 ],
 "metadata": {
  "kernelspec": {
   "display_name": "Python 3 (ipykernel)",
   "language": "python",
   "name": "python3"
  },
  "language_info": {
   "codemirror_mode": {
    "name": "ipython",
    "version": 3
   },
   "file_extension": ".py",
   "mimetype": "text/x-python",
   "name": "python",
   "nbconvert_exporter": "python",
   "pygments_lexer": "ipython3",
   "version": "3.10.9"
  }
 },
 "nbformat": 4,
 "nbformat_minor": 5
}
