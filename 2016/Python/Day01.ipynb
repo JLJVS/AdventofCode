{
 "cells": [
  {
   "cell_type": "markdown",
   "id": "3bf47559",
   "metadata": {},
   "source": [
    "--- Day 1: No Time for a Taxicab ---\n",
    "\n",
    "Santa's sleigh uses a very high-precision clock to guide its movements, and the clock's oscillator is regulated by stars. Unfortunately, the stars have been stolen... by the Easter Bunny. To save Christmas, Santa needs you to retrieve all fifty stars by December 25th.\n",
    "\n",
    "Collect stars by solving puzzles. Two puzzles will be made available on each day in the Advent calendar; the second puzzle is unlocked when you complete the first. Each puzzle grants one star. Good luck!\n",
    "\n",
    "You're airdropped near Easter Bunny Headquarters in a city somewhere. \"Near\", unfortunately, is as close as you can get - the instructions on the Easter Bunny Recruiting Document the Elves intercepted start here, and nobody had time to work them out further.\n",
    "\n",
    "The Document indicates that you should start at the given coordinates (where you just landed) and face North. Then, follow the provided sequence: either turn left (L) or right (R) 90 degrees, then walk forward the given number of blocks, ending at a new intersection.\n",
    "\n",
    "There's no time to follow such ridiculous instructions on foot, though, so you take a moment and work out the destination. Given that you can only walk on the street grid of the city, how far is the shortest path to the destination?\n",
    "\n",
    "For example:\n",
    "\n",
    "    Following R2, L3 leaves you 2 blocks East and 3 blocks North, or 5 blocks away.\n",
    "    R2, R2, R2 leaves you 2 blocks due South of your starting position, which is 2 blocks away.\n",
    "    R5, L5, R5, R3 leaves you 12 blocks away.\n",
    "\n",
    "How many blocks away is Easter Bunny HQ?\n",
    "\n",
    "\n",
    "--- Part Two ---\n",
    "\n",
    "Then, you notice the instructions continue on the back of the Recruiting Document. Easter Bunny HQ is actually at the first location you visit twice.\n",
    "\n",
    "For example, if your instructions are R8, R4, R4, R8, the first location you visit twice is 4 blocks away, due East.\n",
    "\n",
    "How many blocks away is the first location you visit twice?\n"
   ]
  },
  {
   "cell_type": "code",
   "execution_count": 4,
   "id": "d824f4af",
   "metadata": {},
   "outputs": [],
   "source": [
    "filepath = \"..\\\\data\\\\input_day_01.txt\""
   ]
  },
  {
   "cell_type": "code",
   "execution_count": 5,
   "id": "3e9c2641",
   "metadata": {},
   "outputs": [],
   "source": [
    "# first we import our files\n",
    "def read_input(filepath):\n",
    "    with open(filepath, 'r') as f:\n",
    "        lines = f.readlines()\n",
    "    \n",
    "    return lines"
   ]
  },
  {
   "cell_type": "code",
   "execution_count": 9,
   "id": "60242d6f",
   "metadata": {},
   "outputs": [],
   "source": [
    "def convert_input(instructions):\n",
    "    instructions = instructions[0].strip().split(\",\")\n",
    "    return [i.strip() for i in instructions]"
   ]
  },
  {
   "cell_type": "code",
   "execution_count": 16,
   "id": "7066af16",
   "metadata": {},
   "outputs": [],
   "source": [
    "def change_directions(instruction, current_direction):\n",
    "    directions = [\"N\", \"E\", \"S\", \"W\"]\n",
    "    if instruction == \"R\":\n",
    "        change = 1\n",
    "    else:\n",
    "        change = -1\n",
    "    return directions[(directions.index(current_direction)+change)%4]"
   ]
  },
  {
   "cell_type": "code",
   "execution_count": 17,
   "id": "b37b45db",
   "metadata": {},
   "outputs": [],
   "source": [
    "def update_position(location, direction, instruction):\n",
    "    \n",
    "    x, y = location\n",
    "    change = instruction[0]\n",
    "    distance = int(instruction[1:])\n",
    "    new_direction = change_directions(change, direction)\n",
    "    dx, dy = 0, 0\n",
    "    \n",
    "    if new_direction == \"N\":\n",
    "        dy += distance\n",
    "    elif new_direction == \"S\":\n",
    "        dy -= distance\n",
    "    elif new_direction == \"E\":\n",
    "        dx += distance\n",
    "    elif new_direction == \"W\":\n",
    "        dx -= distance\n",
    "        \n",
    "    new_location = (x+dx, y+dy)\n",
    "    \n",
    "    return new_location, new_direction"
   ]
  },
  {
   "cell_type": "code",
   "execution_count": 40,
   "id": "7a659fb3",
   "metadata": {},
   "outputs": [],
   "source": [
    "def update_position_tracking(location, direction, instruction, visited):\n",
    "    \n",
    "    x, y = location\n",
    "    change = instruction[0]\n",
    "    distance = int(instruction[1:])\n",
    "    new_direction = change_directions(change, direction)\n",
    "    dx, dy = 0, 0\n",
    "        \n",
    "    if new_direction == \"N\":\n",
    "        dy = 1\n",
    "    elif new_direction == \"S\":\n",
    "        dy = -1\n",
    "    elif new_direction == \"E\":\n",
    "        dx = 1\n",
    "    elif new_direction == \"W\":\n",
    "        dx = -1\n",
    "    \n",
    "    for i in range(distance):\n",
    "        x += dx\n",
    "        y += dy\n",
    "        if (x, y) in visited:\n",
    "            return True, (x, y), new_direction\n",
    "        else:\n",
    "            visited.add((x,y))\n",
    "            \n",
    "    return False, (x,y), new_direction \n",
    "    "
   ]
  },
  {
   "cell_type": "code",
   "execution_count": 41,
   "id": "fbb1fce2",
   "metadata": {},
   "outputs": [],
   "source": [
    "def day01a(filepath):\n",
    "    \n",
    "    instructions = read_input(filepath)\n",
    "    instructions = convert_input(instructions)\n",
    "    \n",
    "    location = (0,0)\n",
    "    direction = \"N\"\n",
    "    \n",
    "    for instruction in instructions:\n",
    "        location, direction = update_position(location, direction, instruction)\n",
    "    print(f\"Easter Bunny HQ is {sum([abs(i) for i in location])} blocks away.\")\n",
    "    return location"
   ]
  },
  {
   "cell_type": "code",
   "execution_count": 45,
   "id": "692f3552",
   "metadata": {},
   "outputs": [],
   "source": [
    "def day01b(filepath):\n",
    "    \n",
    "    instructions = read_input(filepath)\n",
    "    instructions = convert_input(instructions)\n",
    "    \n",
    "    location = (0,0)\n",
    "    visited = set()\n",
    "    visited.add(location)\n",
    "    direction = \"N\"\n",
    "    \n",
    "    for instruction in instructions:\n",
    "        already_visited, location, direction = update_position_tracking(location, direction, instruction, visited)\n",
    "        if already_visited:\n",
    "            print(f\"Easter Bunny HQ is {sum([abs(i) for i in location])} blocks away.\")\n",
    "            return location\n",
    "    "
   ]
  },
  {
   "cell_type": "code",
   "execution_count": 46,
   "id": "07caf33e",
   "metadata": {},
   "outputs": [
    {
     "name": "stdout",
     "output_type": "stream",
     "text": [
      "Easter Bunny HQ is 298 blocks away.\n"
     ]
    },
    {
     "data": {
      "text/plain": [
       "(-151, 147)"
      ]
     },
     "execution_count": 46,
     "metadata": {},
     "output_type": "execute_result"
    }
   ],
   "source": [
    "day01a(filepath)"
   ]
  },
  {
   "cell_type": "code",
   "execution_count": 47,
   "id": "b2173d63",
   "metadata": {},
   "outputs": [
    {
     "name": "stdout",
     "output_type": "stream",
     "text": [
      "Easter Bunny HQ is 158 blocks away.\n"
     ]
    },
    {
     "data": {
      "text/plain": [
       "(-22, 136)"
      ]
     },
     "execution_count": 47,
     "metadata": {},
     "output_type": "execute_result"
    }
   ],
   "source": [
    "day01b(filepath)"
   ]
  }
 ],
 "metadata": {
  "kernelspec": {
   "display_name": "Python 3 (ipykernel)",
   "language": "python",
   "name": "python3"
  },
  "language_info": {
   "codemirror_mode": {
    "name": "ipython",
    "version": 3
   },
   "file_extension": ".py",
   "mimetype": "text/x-python",
   "name": "python",
   "nbconvert_exporter": "python",
   "pygments_lexer": "ipython3",
   "version": "3.10.9"
  }
 },
 "nbformat": 4,
 "nbformat_minor": 5
}
