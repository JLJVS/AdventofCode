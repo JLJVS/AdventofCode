{
 "cells": [
  {
   "cell_type": "markdown",
   "id": "aecf6edc",
   "metadata": {},
   "source": [
    "--- Day 19: An Elephant Named Joseph ---\n",
    "\n",
    "The Elves contact you over a highly secure emergency channel. Back at the North Pole, the Elves are busy misunderstanding White Elephant parties.\n",
    "\n",
    "Each Elf brings a present. They all sit in a circle, numbered starting with position 1. Then, starting with the first Elf, they take turns stealing all the presents from the Elf to their left. An Elf with no presents is removed from the circle and does not take turns.\n",
    "\n",
    "For example, with five Elves (numbered 1 to 5):\n",
    "\n",
    "..1..    \n",
    "5...2    \n",
    ".4.3.    \n",
    "\n",
    "    Elf 1 takes Elf 2's present.\n",
    "    Elf 2 has no presents and is skipped.\n",
    "    Elf 3 takes Elf 4's present.\n",
    "    Elf 4 has no presents and is also skipped.\n",
    "    Elf 5 takes Elf 1's two presents.\n",
    "    Neither Elf 1 nor Elf 2 have any presents, so both are skipped.\n",
    "    Elf 3 takes Elf 5's three presents.\n",
    "\n",
    "So, with five Elves, the Elf that sits starting in position 3 gets all the presents.\n",
    "\n",
    "With the number of Elves given in your puzzle input, which Elf gets all the presents?\n",
    "\n",
    "\n",
    "--- Part Two ---\n",
    "\n",
    "Realizing the folly of their present-exchange rules, the Elves agree to instead steal presents from the Elf directly across the circle. If two Elves are across the circle, the one on the left (from the perspective of the stealer) is stolen from. The other rules remain unchanged: Elves with no presents are removed from the circle entirely, and the other elves move in slightly to keep the circle evenly spaced.\n",
    "\n",
    "For example, with five Elves (again numbered 1 to 5):\n",
    "\n",
    "    The Elves sit in a circle; Elf 1 goes first:\n",
    "\n",
    "      1\n",
    "    5   2\n",
    "     4 3\n",
    "\n",
    "    Elves 3 and 4 are across the circle; Elf 3's present is stolen, being the one to the left. Elf 3 leaves the circle, and the rest of the Elves move in:\n",
    "\n",
    "      1           1\n",
    "    5   2  -->  5   2\n",
    "     4 -          4\n",
    "\n",
    "    Elf 2 steals from the Elf directly across the circle, Elf 5:\n",
    "\n",
    "      1         1 \n",
    "    -   2  -->     2\n",
    "      4         4 \n",
    "\n",
    "    Next is Elf 4 who, choosing between Elves 1 and 2, steals from Elf 1:\n",
    "\n",
    "     -          2  \n",
    "        2  -->\n",
    "     4          4\n",
    "\n",
    "    Finally, Elf 2 steals from Elf 4:\n",
    "\n",
    "     2\n",
    "        -->  2  \n",
    "     -\n",
    "\n",
    "So, with five Elves, the Elf that sits starting in position 2 gets all the presents.\n",
    "\n",
    "With the number of Elves given in your puzzle input, which Elf now gets all the presents?\n"
   ]
  },
  {
   "cell_type": "code",
   "execution_count": 47,
   "id": "2a957c02",
   "metadata": {},
   "outputs": [],
   "source": [
    "from collections import deque"
   ]
  },
  {
   "cell_type": "code",
   "execution_count": 48,
   "id": "3fe3d035",
   "metadata": {},
   "outputs": [],
   "source": [
    "filepath = \"..\\\\data\\\\input_day_19.txt\"\n",
    "test1 = \"..\\\\test\\\\test19_1.txt\"\n",
    "test2 = \"..\\\\test\\\\test19_2.txt\""
   ]
  },
  {
   "cell_type": "code",
   "execution_count": 49,
   "id": "ef1fdad2",
   "metadata": {},
   "outputs": [],
   "source": [
    "def read_input(filepath):\n",
    "    with open(filepath, 'r') as f:\n",
    "        lines = f.readlines()\n",
    "    \n",
    "    return lines"
   ]
  },
  {
   "cell_type": "code",
   "execution_count": 125,
   "id": "3aae7f13",
   "metadata": {},
   "outputs": [],
   "source": [
    "def starting_elfs(N):\n",
    "    '''\n",
    "    gives all elfs 1 present\n",
    "    '''\n",
    "    return deque([i+1 for i in range(N)])\n",
    "    "
   ]
  },
  {
   "cell_type": "code",
   "execution_count": 126,
   "id": "3efa2650",
   "metadata": {},
   "outputs": [],
   "source": [
    "def steal_presents(all_elfs):\n",
    "    all_elfs.rotate(-1)\n",
    "    all_elfs.popleft()\n",
    "    return all_elfs"
   ]
  },
  {
   "cell_type": "code",
   "execution_count": 127,
   "id": "dc9af661",
   "metadata": {},
   "outputs": [],
   "source": [
    "def steal_presents_opposite(all_elfs):\n",
    "    \n",
    "    number_elfs = len(all_elfs)\n",
    "    to_rotate = number_elfs//2\n",
    "    all_elfs.rotate(-to_rotate)\n",
    "    all_elfs.popleft()\n",
    "    all_elfs.rotate(to_rotate-1)\n",
    "    return all_elfs"
   ]
  },
  {
   "cell_type": "code",
   "execution_count": 128,
   "id": "5c0c37f5",
   "metadata": {},
   "outputs": [],
   "source": [
    "def day19a(filepath):\n",
    "\n",
    "    N = int(read_input(filepath)[0])\n",
    "    all_elfs = starting_elfs(N)\n",
    "    while len(all_elfs)>1:\n",
    "        steal_presents(all_elfs)\n",
    "    print(f\"Elf number {all_elfs[0]} gets all the presents.\")\n",
    "    return all_elfs[0]"
   ]
  },
  {
   "cell_type": "code",
   "execution_count": 129,
   "id": "e2c11196",
   "metadata": {},
   "outputs": [],
   "source": [
    "def day19b(filepath):\n",
    "\n",
    "    N = int(read_input(filepath)[0])\n",
    "    all_elfs = starting_elfs(N)\n",
    "    while len(all_elfs)>1:\n",
    "        \n",
    "        steal_presents_opposite(all_elfs)\n",
    "    print(f\"Elf number {all_elfs[0]} gets all the presents with the new scheme.\")\n",
    "    return all_elfs[0]"
   ]
  },
  {
   "cell_type": "code",
   "execution_count": 130,
   "id": "323e7874",
   "metadata": {},
   "outputs": [],
   "source": [
    "def test():\n",
    "    # test on our input\n",
    "    assert day19a(test1)==3\n",
    "    assert day19b(test1)==2\n",
    "    print(\"Passed all tests\")"
   ]
  },
  {
   "cell_type": "code",
   "execution_count": 131,
   "id": "f6263fc7",
   "metadata": {},
   "outputs": [
    {
     "name": "stdout",
     "output_type": "stream",
     "text": [
      "Elf number 3 gets all the presents.\n",
      "Elf number 2 gets all the presents with the new scheme.\n",
      "Passed all tests\n"
     ]
    }
   ],
   "source": [
    "test()"
   ]
  },
  {
   "cell_type": "code",
   "execution_count": 132,
   "id": "c5617a14",
   "metadata": {},
   "outputs": [
    {
     "name": "stdout",
     "output_type": "stream",
     "text": [
      "Elf number 1841611 gets all the presents.\n"
     ]
    },
    {
     "data": {
      "text/plain": [
       "1841611"
      ]
     },
     "execution_count": 132,
     "metadata": {},
     "output_type": "execute_result"
    }
   ],
   "source": [
    "day19a(filepath)"
   ]
  },
  {
   "cell_type": "code",
   "execution_count": 133,
   "id": "2749da47",
   "metadata": {},
   "outputs": [
    {
     "name": "stdout",
     "output_type": "stream",
     "text": [
      "Elf number 1423634 gets all the presents with the new scheme.\n"
     ]
    },
    {
     "data": {
      "text/plain": [
       "1423634"
      ]
     },
     "execution_count": 133,
     "metadata": {},
     "output_type": "execute_result"
    }
   ],
   "source": [
    "day19b(filepath)"
   ]
  },
  {
   "cell_type": "code",
   "execution_count": null,
   "id": "af6db43c",
   "metadata": {},
   "outputs": [],
   "source": []
  },
  {
   "cell_type": "code",
   "execution_count": null,
   "id": "ef7f792a",
   "metadata": {},
   "outputs": [],
   "source": []
  }
 ],
 "metadata": {
  "kernelspec": {
   "display_name": "Python 3 (ipykernel)",
   "language": "python",
   "name": "python3"
  },
  "language_info": {
   "codemirror_mode": {
    "name": "ipython",
    "version": 3
   },
   "file_extension": ".py",
   "mimetype": "text/x-python",
   "name": "python",
   "nbconvert_exporter": "python",
   "pygments_lexer": "ipython3",
   "version": "3.10.9"
  }
 },
 "nbformat": 4,
 "nbformat_minor": 5
}
