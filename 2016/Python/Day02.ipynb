{
 "cells": [
  {
   "cell_type": "markdown",
   "id": "f08d7afd",
   "metadata": {},
   "source": [
    "--- Day 2: Bathroom Security ---\n",
    "\n",
    "You arrive at Easter Bunny Headquarters under cover of darkness. However, you left in such a rush that you forgot to use the bathroom! Fancy office buildings like this one usually have keypad locks on their bathrooms, so you search the front desk for the code.\n",
    "\n",
    "\"In order to improve security,\" the document you find says, \"bathroom codes will no longer be written down. Instead, please memorize and follow the procedure below to access the bathrooms.\"\n",
    "\n",
    "The document goes on to explain that each button to be pressed can be found by starting on the previous button and moving to adjacent buttons on the keypad: U moves up, D moves down, L moves left, and R moves right. Each line of instructions corresponds to one button, starting at the previous button (or, for the first line, the \"5\" button); press whatever button you're on at the end of each line. If a move doesn't lead to a button, ignore it.\n",
    "\n",
    "You can't hold it much longer, so you decide to figure out the code as you walk to the bathroom. You picture a keypad like this:\n",
    "\n",
    "1 2 3  \n",
    "4 5 6  \n",
    "7 8 9  \n",
    "\n",
    "Suppose your instructions are:\n",
    "\n",
    "ULL  \n",
    "RRDDD  \n",
    "LURDL  \n",
    "UUUUD  \n",
    "\n",
    "    You start at \"5\" and move up (to \"2\"), left (to \"1\"), and left (you can't, and stay on \"1\"), so the first button is 1.\n",
    "    Starting from the previous button (\"1\"), you move right twice (to \"3\") and then down three times (stopping at \"9\" after two moves and ignoring the third), ending up with 9.\n",
    "    Continuing from \"9\", you move left, up, right, down, and left, ending with 8.\n",
    "    Finally, you move up four times (stopping at \"2\"), then down once, ending with 5.\n",
    "\n",
    "So, in this example, the bathroom code is 1985.\n",
    "\n",
    "Your puzzle input is the instructions from the document you found at the front desk. What is the bathroom code?\n",
    "\n",
    "\n",
    "--- Part Two ---\n",
    "\n",
    "You finally arrive at the bathroom (it's a several minute walk from the lobby so visitors can behold the many fancy conference rooms and water coolers on this floor) and go to punch in the code. Much to your bladder's dismay, the keypad is not at all like you imagined it. Instead, you are confronted with the result of hundreds of man-hours of bathroom-keypad-design meetings:\n",
    "\n",
    "    1  \n",
    "  2 3 4  \n",
    "5 6 7 8 9  \n",
    "  A B C  \n",
    "    D  \n",
    "\n",
    "You still start at \"5\" and stop when you're at an edge, but given the same instructions as above, the outcome is very different:\n",
    "\n",
    "    You start at \"5\" and don't move at all (up and left are both edges), ending at 5.\n",
    "    Continuing from \"5\", you move right twice and down three times (through \"6\", \"7\", \"B\", \"D\", \"D\"), ending at D.\n",
    "    Then, from \"D\", you move five more times (through \"D\", \"B\", \"C\", \"C\", \"B\"), ending at B.\n",
    "    Finally, after five more moves, you end at 3.\n",
    "\n",
    "So, given the actual keypad layout, the code would be 5DB3.\n",
    "\n",
    "Using the same instructions in your puzzle input, what is the correct bathroom code?\n"
   ]
  },
  {
   "cell_type": "code",
   "execution_count": 1,
   "id": "855b4829",
   "metadata": {},
   "outputs": [],
   "source": [
    "filepath = \"..\\\\data\\\\input_day_02.txt\"\n",
    "test1 = \"..\\\\test\\\\test02_1.txt\""
   ]
  },
  {
   "cell_type": "code",
   "execution_count": 2,
   "id": "437d471d",
   "metadata": {},
   "outputs": [],
   "source": [
    "# first we import our files\n",
    "def read_input(filepath):\n",
    "    with open(filepath, 'r') as f:\n",
    "        lines = f.readlines()\n",
    "    \n",
    "    return lines"
   ]
  },
  {
   "cell_type": "code",
   "execution_count": 3,
   "id": "eca2d092",
   "metadata": {},
   "outputs": [],
   "source": [
    "def convert_input(lines):\n",
    "    return [i.strip() for i in lines]"
   ]
  },
  {
   "cell_type": "code",
   "execution_count": 4,
   "id": "c8ab577b",
   "metadata": {},
   "outputs": [],
   "source": [
    "def move_position(instruction, current_pos):\n",
    "    \n",
    "    dx, dy = 0, 0\n",
    "    x, y = current_pos\n",
    "    if instruction==\"U\":\n",
    "        dx = -1\n",
    "    if instruction == \"D\":\n",
    "        dx = 1\n",
    "    if instruction == \"R\":\n",
    "        dy = 1\n",
    "    if instruction == \"L\":\n",
    "        dy = -1\n",
    "        \n",
    "    if x+dx in [0,1,2]:\n",
    "        x = x+dx\n",
    "    if y+dy in [0,1,2]:\n",
    "        y = y+dy\n",
    "    return (x,y)"
   ]
  },
  {
   "cell_type": "code",
   "execution_count": 5,
   "id": "032d69da",
   "metadata": {},
   "outputs": [],
   "source": [
    "def move_position_special(instruction, current_pos, keypad):\n",
    "    \n",
    "    dx, dy = 0, 0\n",
    "    x, y = current_pos\n",
    "    if instruction==\"U\":\n",
    "        dx = -1\n",
    "    if instruction == \"D\":\n",
    "        dx = 1\n",
    "    if instruction == \"R\":\n",
    "        dy = 1\n",
    "    if instruction == \"L\":\n",
    "        dy = -1\n",
    "    \n",
    "    allowed = keypad.keys()\n",
    "    \n",
    "    if (x+dx, y+dy) in allowed:\n",
    "        return x+dx, y+dy\n",
    "    return x, y"
   ]
  },
  {
   "cell_type": "code",
   "execution_count": 6,
   "id": "c114ef58",
   "metadata": {},
   "outputs": [],
   "source": [
    "def day02a(filepath):\n",
    "    \n",
    "    instructions = read_input(filepath)\n",
    "    instructions = convert_input(instructions)\n",
    "    \n",
    "    keypad = {(0,0): 1, (0,1): 2, (0,2): 3,\n",
    "             (1,0): 4, (1,1): 5, (1,2): 6,\n",
    "             (2,0): 7, (2,1): 8, (2,2): 9}\n",
    "    # starting position\n",
    "    position = (1,1)\n",
    "    numbers = []\n",
    "    for instruction in instructions:\n",
    "        for move in instruction:\n",
    "            position = move_position(move, position)\n",
    "        numbers.append(keypad[position])\n",
    "    print(f\"The bathroom code is {''.join([str(i) for i in numbers])}.\")\n",
    "    return numbers"
   ]
  },
  {
   "cell_type": "code",
   "execution_count": 7,
   "id": "b70ec9a4",
   "metadata": {},
   "outputs": [],
   "source": [
    "def day02b(filepath):\n",
    "    \n",
    "    instructions = read_input(filepath)\n",
    "    instructions = convert_input(instructions)\n",
    "    \n",
    "    keypad = {                 (-2, 2): 1,\n",
    "                    (-1,1): 2, (-1, 2): 3, (-1,3): 4,\n",
    "             (0,0):5 ,(0,1): 6, (0, 2): 7, (0,3): 8, (0,4):9,\n",
    "                     (1,1): \"A\", (1,2): \"B\", (1,3): \"C\",\n",
    "                                 (2,2): \"D\"\n",
    "             }\n",
    "    # starting position\n",
    "    position = (0,0)\n",
    "    numbers = []\n",
    "    for instruction in instructions:\n",
    "        for move in instruction:\n",
    "            position = move_position_special(move, position, keypad)\n",
    "        numbers.append(keypad[position])\n",
    "    print(f\"The bathroom code is {''.join([str(i) for i in numbers])}.\")\n",
    "    return numbers"
   ]
  },
  {
   "cell_type": "code",
   "execution_count": 8,
   "id": "8f6cc30f",
   "metadata": {},
   "outputs": [],
   "source": [
    "def test02():\n",
    "    \n",
    "    # test on the example given\n",
    "    assert day02a(test1) ==  [1, 9, 8, 5]\n",
    "    print(\"Passed part a checks\")\n",
    "    assert day02b(test1) == [5, \"D\", \"B\", 3]\n",
    "    print(\"Passed part b checks\")\n",
    "    print(\"Passed all checks\")"
   ]
  },
  {
   "cell_type": "code",
   "execution_count": 9,
   "id": "fb04cff5",
   "metadata": {},
   "outputs": [
    {
     "name": "stdout",
     "output_type": "stream",
     "text": [
      "The bathroom code is 1985.\n",
      "Passed part a checks\n",
      "The bathroom code is 5DB3.\n",
      "Passed part b checks\n",
      "Passed all checks\n"
     ]
    }
   ],
   "source": [
    "test02()"
   ]
  },
  {
   "cell_type": "code",
   "execution_count": 10,
   "id": "72a197ce",
   "metadata": {},
   "outputs": [
    {
     "name": "stdout",
     "output_type": "stream",
     "text": [
      "The bathroom code is 19636.\n"
     ]
    },
    {
     "data": {
      "text/plain": [
       "[1, 9, 6, 3, 6]"
      ]
     },
     "execution_count": 10,
     "metadata": {},
     "output_type": "execute_result"
    }
   ],
   "source": [
    "day02a(filepath)"
   ]
  },
  {
   "cell_type": "code",
   "execution_count": 11,
   "id": "90c099d1",
   "metadata": {},
   "outputs": [
    {
     "name": "stdout",
     "output_type": "stream",
     "text": [
      "The bathroom code is 3CC43.\n"
     ]
    },
    {
     "data": {
      "text/plain": [
       "[3, 'C', 'C', 4, 3]"
      ]
     },
     "execution_count": 11,
     "metadata": {},
     "output_type": "execute_result"
    }
   ],
   "source": [
    "day02b(filepath)"
   ]
  }
 ],
 "metadata": {
  "kernelspec": {
   "display_name": "Python 3 (ipykernel)",
   "language": "python",
   "name": "python3"
  },
  "language_info": {
   "codemirror_mode": {
    "name": "ipython",
    "version": 3
   },
   "file_extension": ".py",
   "mimetype": "text/x-python",
   "name": "python",
   "nbconvert_exporter": "python",
   "pygments_lexer": "ipython3",
   "version": "3.10.9"
  }
 },
 "nbformat": 4,
 "nbformat_minor": 5
}
