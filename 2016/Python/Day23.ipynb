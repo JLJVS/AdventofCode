{
 "cells": [
  {
   "cell_type": "markdown",
   "id": "b4c01d19",
   "metadata": {},
   "source": [
    "--- Day 23: Safe Cracking ---\n",
    "\n",
    "This is one of the top floors of the nicest tower in EBHQ. The Easter Bunny's private office is here, complete with a safe hidden behind a painting, and who wouldn't hide a star in a safe behind a painting?\n",
    "\n",
    "The safe has a digital screen and keypad for code entry. A sticky note attached to the safe has a password hint on it: \"eggs\". The painting is of a large rabbit coloring some eggs. You see 7.\n",
    "\n",
    "When you go to type the code, though, nothing appears on the display; instead, the keypad comes apart in your hands, apparently having been smashed. Behind it is some kind of socket - one that matches a connector in your prototype computer! You pull apart the smashed keypad and extract the logic circuit, plug it into your computer, and plug your computer into the safe.\n",
    "\n",
    "Now, you just need to figure out what output the keypad would have sent to the safe. You extract the assembunny code from the logic chip (your puzzle input).\n",
    "\n",
    "The code looks like it uses almost the same architecture and instruction set that the monorail computer used! You should be able to use the same assembunny interpreter for this as you did there, but with one new instruction:\n",
    "\n",
    "tgl x toggles the instruction x away (pointing at instructions like jnz does: positive means forward; negative means backward):\n",
    "\n",
    "    For one-argument instructions, inc becomes dec, and all other one-argument instructions become inc.\n",
    "    For two-argument instructions, jnz becomes cpy, and all other two-instructions become jnz.\n",
    "    The arguments of a toggled instruction are not affected.\n",
    "    If an attempt is made to toggle an instruction outside the program, nothing happens.\n",
    "    If toggling produces an invalid instruction (like cpy 1 2) and an attempt is later made to execute that instruction, skip it instead.\n",
    "    If tgl toggles itself (for example, if a is 0, tgl a would target itself and become inc a), the resulting instruction is not executed until the next time it is reached.\n",
    "\n",
    "For example, given this program:\n",
    "\n",
    "cpy 2 a\n",
    "tgl a\n",
    "tgl a\n",
    "tgl a\n",
    "cpy 1 a\n",
    "dec a\n",
    "dec a\n",
    "\n",
    "    cpy 2 a initializes register a to 2.\n",
    "    The first tgl a toggles an instruction a (2) away from it, which changes the third tgl a into inc a.\n",
    "    The second tgl a also modifies an instruction 2 away from it, which changes the cpy 1 a into jnz 1 a.\n",
    "    The fourth line, which is now inc a, increments a to 3.\n",
    "    Finally, the fifth line, which is now jnz 1 a, jumps a (3) instructions ahead, skipping the dec a instructions.\n",
    "\n",
    "In this example, the final value in register a is 3.\n",
    "\n",
    "The rest of the electronics seem to place the keypad entry (the number of eggs, 7) in register a, run the code, and then send the value left in register a to the safe.\n",
    "\n",
    "What value should be sent to the safe?\n"
   ]
  },
  {
   "cell_type": "code",
   "execution_count": 1,
   "id": "c8271262",
   "metadata": {},
   "outputs": [],
   "source": [
    "filepath = \"..\\\\data\\\\input_day_23.txt\"\n",
    "test1 = \"..\\\\test\\\\test23_1.txt\"\n",
    "test2 = \"..\\\\test\\\\test23_2.txt\""
   ]
  },
  {
   "cell_type": "code",
   "execution_count": 2,
   "id": "2ee23765",
   "metadata": {},
   "outputs": [],
   "source": [
    "def read_input(filepath):\n",
    "    with open(filepath, 'r') as f:\n",
    "        lines = f.readlines()\n",
    "    \n",
    "    return lines"
   ]
  },
  {
   "cell_type": "code",
   "execution_count": 3,
   "id": "f7f557c2",
   "metadata": {},
   "outputs": [
    {
     "data": {
      "text/plain": [
       "['cpy a b\\n',\n",
       " 'dec b\\n',\n",
       " 'cpy a d\\n',\n",
       " 'cpy 0 a\\n',\n",
       " 'cpy b c\\n',\n",
       " 'inc a\\n',\n",
       " 'dec c\\n',\n",
       " 'jnz c -2\\n',\n",
       " 'dec d\\n',\n",
       " 'jnz d -5\\n',\n",
       " 'dec b\\n',\n",
       " 'cpy b c\\n',\n",
       " 'cpy c d\\n',\n",
       " 'dec d\\n',\n",
       " 'inc c\\n',\n",
       " 'jnz d -2\\n',\n",
       " 'tgl c\\n',\n",
       " 'cpy -16 c\\n',\n",
       " 'jnz 1 c\\n',\n",
       " 'cpy 84 c\\n',\n",
       " 'jnz 71 d\\n',\n",
       " 'inc a\\n',\n",
       " 'inc d\\n',\n",
       " 'jnz d -2\\n',\n",
       " 'inc c\\n',\n",
       " 'jnz c -5\\n']"
      ]
     },
     "execution_count": 3,
     "metadata": {},
     "output_type": "execute_result"
    }
   ],
   "source": [
    "read_input(filepath)"
   ]
  },
  {
   "cell_type": "code",
   "execution_count": null,
   "id": "be15a3a2",
   "metadata": {},
   "outputs": [],
   "source": []
  },
  {
   "cell_type": "code",
   "execution_count": null,
   "id": "bc50231a",
   "metadata": {},
   "outputs": [],
   "source": []
  },
  {
   "cell_type": "code",
   "execution_count": null,
   "id": "6482edb1",
   "metadata": {},
   "outputs": [],
   "source": []
  },
  {
   "cell_type": "code",
   "execution_count": null,
   "id": "d9099000",
   "metadata": {},
   "outputs": [],
   "source": []
  },
  {
   "cell_type": "code",
   "execution_count": null,
   "id": "f37d3df9",
   "metadata": {},
   "outputs": [],
   "source": []
  }
 ],
 "metadata": {
  "kernelspec": {
   "display_name": "Python 3 (ipykernel)",
   "language": "python",
   "name": "python3"
  },
  "language_info": {
   "codemirror_mode": {
    "name": "ipython",
    "version": 3
   },
   "file_extension": ".py",
   "mimetype": "text/x-python",
   "name": "python",
   "nbconvert_exporter": "python",
   "pygments_lexer": "ipython3",
   "version": "3.10.9"
  }
 },
 "nbformat": 4,
 "nbformat_minor": 5
}
