{
 "cells": [
  {
   "cell_type": "markdown",
   "id": "c24f26a8",
   "metadata": {},
   "source": [
    "--- Day 5: How About a Nice Game of Chess? ---\n",
    "\n",
    "You are faced with a security door designed by Easter Bunny engineers that seem to have acquired most of their security knowledge by watching hacking movies.\n",
    "\n",
    "The eight-character password for the door is generated one character at a time by finding the MD5 hash of some Door ID (your puzzle input) and an increasing integer index (starting with 0).\n",
    "\n",
    "A hash indicates the next character in the password if its hexadecimal representation starts with five zeroes. If it does, the sixth character in the hash is the next character of the password.\n",
    "\n",
    "For example, if the Door ID is abc:\n",
    "\n",
    "    The first index which produces a hash that starts with five zeroes is 3231929, which we find by hashing abc3231929; the sixth character of the hash, and thus the first character of the password, is 1.\n",
    "    5017308 produces the next interesting hash, which starts with 000008f82..., so the second character of the password is 8.\n",
    "    The third time a hash starts with five zeroes is for abc5278568, discovering the character f.\n",
    "\n",
    "In this example, after continuing this search a total of eight times, the password is 18f47a30.\n",
    "\n",
    "Given the actual Door ID, what is the password?\n"
   ]
  },
  {
   "cell_type": "code",
   "execution_count": 1,
   "id": "de225bb3",
   "metadata": {},
   "outputs": [],
   "source": [
    "import hashlib"
   ]
  },
  {
   "cell_type": "code",
   "execution_count": 2,
   "id": "037a8657",
   "metadata": {},
   "outputs": [],
   "source": [
    "filepath = \"..\\\\data\\\\input_day_05.txt\"\n",
    "test1 = \"..\\\\test\\\\test05_1.txt\"\n",
    "test2 = \"..\\\\test\\\\test05_2.txt\""
   ]
  },
  {
   "cell_type": "code",
   "execution_count": 3,
   "id": "32cac756",
   "metadata": {},
   "outputs": [],
   "source": [
    "# first we import our files\n",
    "def read_input(filepath):\n",
    "    with open(filepath, 'r') as f:\n",
    "        lines = f.readlines()\n",
    "    \n",
    "    return lines"
   ]
  },
  {
   "cell_type": "code",
   "execution_count": 4,
   "id": "9df1f5c5",
   "metadata": {},
   "outputs": [],
   "source": [
    "def day05a(filepath):\n",
    "    \n",
    "    secretKey = read_input(filepath)[0]\n",
    "    ans = \"\"\n",
    "    i = 1\n",
    "    while len(ans)<8:\n",
    "        toHash = secretKey + str(i)\n",
    "        hashed = hashlib.md5(toHash.encode()).hexdigest()\n",
    "        if str(hashed)[:5]==\"00000\":\n",
    "            ans += hashed[5]\n",
    "        i += 1\n",
    "    print(f\"The password is {ans}.\")\n",
    "    return ans\n",
    "    "
   ]
  },
  {
   "cell_type": "code",
   "execution_count": 5,
   "id": "3f8107d4",
   "metadata": {},
   "outputs": [],
   "source": [
    "def day05b(filepath):\n",
    "    \n",
    "    secretKey = read_input(filepath)[0]\n",
    "    ans = [-1 for _ in range(8)]\n",
    "    \n",
    "    # add all letters and 8,9\n",
    "    already_set = set(\"abcdefghijklmnopqrstuvwxyz\")\n",
    "    already_set.add(\"8\")\n",
    "    already_set.add(\"9\")\n",
    "        \n",
    "    i = 1\n",
    "    while -1 in ans:\n",
    "        toHash = secretKey + str(i)\n",
    "        hashed = hashlib.md5(toHash.encode()).hexdigest()\n",
    "        if str(hashed)[:5]==\"00000\":\n",
    "            if hashed[5] not in already_set:\n",
    "                ans[int(hashed[5])] = hashed[6]\n",
    "                already_set.add(hashed[5])\n",
    "        i += 1\n",
    "    print(f\"The password is {''.join(ans)}.\")\n",
    "    return \"\".join(ans)\n",
    "    "
   ]
  },
  {
   "cell_type": "code",
   "execution_count": 6,
   "id": "ce2f10c1",
   "metadata": {},
   "outputs": [],
   "source": [
    "def test05():\n",
    "    assert day05a(test1) == \"18f47a30\"\n",
    "    assert day05b(test1) == \"05ace8e3\"\n",
    "    print(\"Passed all checks\")"
   ]
  },
  {
   "cell_type": "code",
   "execution_count": 7,
   "id": "b291a913",
   "metadata": {},
   "outputs": [
    {
     "name": "stdout",
     "output_type": "stream",
     "text": [
      "The password is 18f47a30.\n",
      "The password is 05ace8e3.\n",
      "Passed all checks\n"
     ]
    }
   ],
   "source": [
    "test05()"
   ]
  },
  {
   "cell_type": "code",
   "execution_count": 8,
   "id": "bc8104e1",
   "metadata": {},
   "outputs": [
    {
     "name": "stdout",
     "output_type": "stream",
     "text": [
      "The password is c6697b55.\n"
     ]
    },
    {
     "data": {
      "text/plain": [
       "'c6697b55'"
      ]
     },
     "execution_count": 8,
     "metadata": {},
     "output_type": "execute_result"
    }
   ],
   "source": [
    "day05a(filepath)"
   ]
  },
  {
   "cell_type": "code",
   "execution_count": 9,
   "id": "8f5dcace",
   "metadata": {},
   "outputs": [
    {
     "name": "stdout",
     "output_type": "stream",
     "text": [
      "The password is 8c35d1ab.\n"
     ]
    },
    {
     "data": {
      "text/plain": [
       "'8c35d1ab'"
      ]
     },
     "execution_count": 9,
     "metadata": {},
     "output_type": "execute_result"
    }
   ],
   "source": [
    "day05b(filepath)"
   ]
  }
 ],
 "metadata": {
  "kernelspec": {
   "display_name": "Python 3 (ipykernel)",
   "language": "python",
   "name": "python3"
  },
  "language_info": {
   "codemirror_mode": {
    "name": "ipython",
    "version": 3
   },
   "file_extension": ".py",
   "mimetype": "text/x-python",
   "name": "python",
   "nbconvert_exporter": "python",
   "pygments_lexer": "ipython3",
   "version": "3.10.9"
  }
 },
 "nbformat": 4,
 "nbformat_minor": 5
}
