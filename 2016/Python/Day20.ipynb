{
 "cells": [
  {
   "cell_type": "markdown",
   "id": "e3cb5491",
   "metadata": {},
   "source": [
    "--- Day 20: Firewall Rules ---\n",
    "\n",
    "You'd like to set up a small hidden computer here so you can use it to get back into the network later. However, the corporate firewall only allows communication with certain external IP addresses.\n",
    "\n",
    "You've retrieved the list of blocked IPs from the firewall, but the list seems to be messy and poorly maintained, and it's not clear which IPs are allowed. Also, rather than being written in dot-decimal notation, they are written as plain 32-bit integers, which can have any value from 0 through 4294967295, inclusive.\n",
    "\n",
    "For example, suppose only the values 0 through 9 were valid, and that you retrieved the following blacklist:\n",
    "\n",
    "5-8  \n",
    "0-2  \n",
    "4-7  \n",
    "\n",
    "The blacklist specifies ranges of IPs (inclusive of both the start and end value) that are not allowed. Then, the only IPs that this firewall allows are 3 and 9, since those are the only numbers not in any range.\n",
    "\n",
    "Given the list of blocked IPs you retrieved from the firewall (your puzzle input), what is the lowest-valued IP that is not blocked?\n"
   ]
  },
  {
   "cell_type": "code",
   "execution_count": 1,
   "id": "f3727a64",
   "metadata": {},
   "outputs": [],
   "source": [
    "filepath = \"..\\\\data\\\\input_day_20.txt\"\n",
    "test1 = \"..\\\\test\\\\test20_1.txt\"\n",
    "test2 = \"..\\\\test\\\\test20_2.txt\""
   ]
  },
  {
   "cell_type": "code",
   "execution_count": 2,
   "id": "ecf9e694",
   "metadata": {},
   "outputs": [],
   "source": [
    "def read_input(filepath):\n",
    "    with open(filepath, 'r') as f:\n",
    "        lines = f.readlines()\n",
    "    \n",
    "    return lines"
   ]
  },
  {
   "cell_type": "code",
   "execution_count": 3,
   "id": "d8ed7fd3",
   "metadata": {},
   "outputs": [],
   "source": [
    "def convert_input(lines):\n",
    "    ranges = []\n",
    "    for line in lines:\n",
    "        start, end = line.strip().split(\"-\")\n",
    "        start, end = int(start), int(end)\n",
    "        ranges.append([start,end])\n",
    "    ranges.sort(key=lambda x: x[0])\n",
    "    return ranges"
   ]
  },
  {
   "cell_type": "code",
   "execution_count": 4,
   "id": "427b4cf2",
   "metadata": {},
   "outputs": [],
   "source": [
    "def find_first_allowed_ip(ranges):\n",
    "    \n",
    "    last = 0\n",
    "    for (start, end) in ranges:\n",
    "        if start <= last + 1:\n",
    "            last = end\n",
    "        else:\n",
    "            #print(last+1)\n",
    "            return last+1\n",
    "                "
   ]
  },
  {
   "cell_type": "code",
   "execution_count": 5,
   "id": "cfa3a777",
   "metadata": {},
   "outputs": [],
   "source": [
    "def find_allowed_ips(ranges, max_ip = 4294967295):\n",
    "    \n",
    "    last, highest = ranges[0]\n",
    "    allowed = 0\n",
    "    for (start, end) in ranges:\n",
    "        if start > highest + 1:\n",
    "            allowed += highest-last+1\n",
    "            last = start\n",
    "            highest = end\n",
    "        else:\n",
    "            highest = max(highest, end)\n",
    "        \n",
    "    return max_ip - allowed - (highest-last)\n"
   ]
  },
  {
   "cell_type": "code",
   "execution_count": 6,
   "id": "3bf8e924",
   "metadata": {},
   "outputs": [],
   "source": [
    "def day20a(filepath):\n",
    "    \n",
    "    lines = read_input(filepath)\n",
    "    ranges = convert_input(lines)\n",
    "    first_ip = find_first_allowed_ip(ranges)\n",
    "    print(f\"The first allowed ip by the blacklists is {first_ip}.\")\n",
    "    return first_ip"
   ]
  },
  {
   "cell_type": "code",
   "execution_count": 7,
   "id": "2dbcf2e1",
   "metadata": {},
   "outputs": [],
   "source": [
    "def day20b(filepath, max_ip=4294967295):\n",
    "    \n",
    "    lines = read_input(filepath)\n",
    "    ranges = convert_input(lines)\n",
    "    all_ips = find_allowed_ips(ranges, max_ip)\n",
    "    print(f\"There are {all_ips} allowed ips by the blacklists.\")\n",
    "    return all_ips\n",
    "    "
   ]
  },
  {
   "cell_type": "code",
   "execution_count": 8,
   "id": "046cf70c",
   "metadata": {},
   "outputs": [],
   "source": [
    "def test20():\n",
    "    assert day20a(test1)==3\n",
    "    assert day20b(test1, 9)==2\n",
    "    print(\"Passed all checks\")"
   ]
  },
  {
   "cell_type": "code",
   "execution_count": 9,
   "id": "fad11d83",
   "metadata": {},
   "outputs": [
    {
     "name": "stdout",
     "output_type": "stream",
     "text": [
      "The first allowed ip by the blacklists is 3.\n",
      "There are 2 allowed ips by the blacklists.\n",
      "Passed all checks\n"
     ]
    }
   ],
   "source": [
    "test20()"
   ]
  },
  {
   "cell_type": "code",
   "execution_count": 10,
   "id": "342d4acf",
   "metadata": {},
   "outputs": [
    {
     "name": "stdout",
     "output_type": "stream",
     "text": [
      "The first allowed ip by the blacklists is 32259706.\n"
     ]
    },
    {
     "data": {
      "text/plain": [
       "32259706"
      ]
     },
     "execution_count": 10,
     "metadata": {},
     "output_type": "execute_result"
    }
   ],
   "source": [
    "day20a(filepath)"
   ]
  },
  {
   "cell_type": "code",
   "execution_count": 11,
   "id": "5b02a7a8",
   "metadata": {},
   "outputs": [
    {
     "name": "stdout",
     "output_type": "stream",
     "text": [
      "There are 113 allowed ips by the blacklists.\n"
     ]
    },
    {
     "data": {
      "text/plain": [
       "113"
      ]
     },
     "execution_count": 11,
     "metadata": {},
     "output_type": "execute_result"
    }
   ],
   "source": [
    "day20b(filepath)"
   ]
  }
 ],
 "metadata": {
  "kernelspec": {
   "display_name": "Python 3 (ipykernel)",
   "language": "python",
   "name": "python3"
  },
  "language_info": {
   "codemirror_mode": {
    "name": "ipython",
    "version": 3
   },
   "file_extension": ".py",
   "mimetype": "text/x-python",
   "name": "python",
   "nbconvert_exporter": "python",
   "pygments_lexer": "ipython3",
   "version": "3.10.9"
  }
 },
 "nbformat": 4,
 "nbformat_minor": 5
}
