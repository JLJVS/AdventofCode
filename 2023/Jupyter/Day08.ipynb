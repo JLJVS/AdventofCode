{
 "cells": [
  {
   "cell_type": "markdown",
   "id": "9ba5de6a",
   "metadata": {},
   "source": [
    "--- Day 8: Haunted Wasteland ---\n",
    "\n",
    "You're still riding a camel across Desert Island when you spot a sandstorm quickly approaching. When you turn to warn the Elf, she disappears before your eyes! To be fair, she had just finished warning you about ghosts a few minutes ago.\n",
    "\n",
    "One of the camel's pouches is labeled \"maps\" - sure enough, it's full of documents (your puzzle input) about how to navigate the desert. At least, you're pretty sure that's what they are; one of the documents contains a list of left/right instructions, and the rest of the documents seem to describe some kind of network of labeled nodes.\n",
    "\n",
    "It seems like you're meant to use the left/right instructions to navigate the network. Perhaps if you have the camel follow the same instructions, you can escape the haunted wasteland!\n",
    "\n",
    "After examining the maps for a bit, two nodes stick out: AAA and ZZZ. You feel like AAA is where you are now, and you have to follow the left/right instructions until you reach ZZZ.\n",
    "\n",
    "This format defines each node of the network individually. For example:\n",
    "\n",
    "RL  \n",
    "\n",
    "AAA = (BBB, CCC)  \n",
    "BBB = (DDD, EEE)  \n",
    "CCC = (ZZZ, GGG)  \n",
    "DDD = (DDD, DDD)  \n",
    "EEE = (EEE, EEE)  \n",
    "GGG = (GGG, GGG)  \n",
    "ZZZ = (ZZZ, ZZZ)  \n",
    "\n",
    "Starting with AAA, you need to look up the next element based on the next left/right instruction in your input. In this example, start with AAA and go right (R) by choosing the right element of AAA, CCC. Then, L means to choose the left element of CCC, ZZZ. By following the left/right instructions, you reach ZZZ in 2 steps.\n",
    "\n",
    "Of course, you might not find ZZZ right away. If you run out of left/right instructions, repeat the whole sequence of instructions as necessary: RL really means RLRLRLRLRLRLRLRL... and so on. For example, here is a situation that takes 6 steps to reach ZZZ:\n",
    "\n",
    "LLR  \n",
    "\n",
    "AAA = (BBB, BBB)  \n",
    "BBB = (AAA, ZZZ)  \n",
    "ZZZ = (ZZZ, ZZZ)  \n",
    "\n",
    "Starting at AAA, follow the left/right instructions. How many steps are required to reach ZZZ?\n"
   ]
  },
  {
   "cell_type": "code",
   "execution_count": 87,
   "id": "13180516",
   "metadata": {},
   "outputs": [],
   "source": [
    "filepath = \"..\\\\data\\\\input_day_08.txt\"\n",
    "test1 = \"..\\\\test\\\\test08_1.txt\"\n",
    "test2 = \"..\\\\test\\\\test08_2.txt\"\n",
    "test3 = \"..\\\\test\\\\test08_3.txt\""
   ]
  },
  {
   "cell_type": "code",
   "execution_count": 2,
   "id": "c1af154d",
   "metadata": {},
   "outputs": [],
   "source": [
    "def read_input(filepath):\n",
    "    with open(filepath, 'r') as f:\n",
    "        lines = f.readlines()\n",
    "    \n",
    "    return lines"
   ]
  },
  {
   "cell_type": "code",
   "execution_count": 3,
   "id": "88dbdc57",
   "metadata": {},
   "outputs": [
    {
     "ename": "NameError",
     "evalue": "name 'convert_input' is not defined",
     "output_type": "error",
     "traceback": [
      "\u001b[1;31m---------------------------------------------------------------------------\u001b[0m",
      "\u001b[1;31mNameError\u001b[0m                                 Traceback (most recent call last)",
      "Cell \u001b[1;32mIn[3], line 3\u001b[0m\n\u001b[0;32m      1\u001b[0m lines \u001b[38;5;241m=\u001b[39m read_input(test1)\n\u001b[1;32m----> 3\u001b[0m \u001b[43mconvert_input\u001b[49m(lines)\n",
      "\u001b[1;31mNameError\u001b[0m: name 'convert_input' is not defined"
     ]
    }
   ],
   "source": [
    "lines = read_input(test1)\n",
    "\n",
    "convert_input(lines)"
   ]
  },
  {
   "cell_type": "code",
   "execution_count": 4,
   "id": "b0725989",
   "metadata": {},
   "outputs": [],
   "source": [
    "def get_directions(lines):\n",
    "    return lines[0].strip()"
   ]
  },
  {
   "cell_type": "code",
   "execution_count": 5,
   "id": "76da68ce",
   "metadata": {},
   "outputs": [],
   "source": [
    "def get_nodes(lines):\n",
    "    \n",
    "    nodes = dict()\n",
    "    \n",
    "    for line in lines[2:]:\n",
    "        original, left, right = line.strip().replace(\"=\",\"\").replace(\",\",\"\").replace(\"(\",\"\").replace(\")\",\"\").split()\n",
    "        nodes[original] = [left, right]\n",
    "    return nodes\n",
    "        \n",
    "        "
   ]
  },
  {
   "cell_type": "code",
   "execution_count": 6,
   "id": "251e6421",
   "metadata": {},
   "outputs": [],
   "source": [
    "def convert_input(lines):\n",
    "    \n",
    "    directions = get_directions(lines)\n",
    "    nodes = get_nodes(lines)\n",
    "    \n",
    "    return directions, nodes"
   ]
  },
  {
   "cell_type": "code",
   "execution_count": 107,
   "id": "efb0cd1d",
   "metadata": {},
   "outputs": [],
   "source": [
    "def day08a(filepath, start=\"AAA\", target=\"ZZZ\"):\n",
    "    \n",
    "    # read the input and get hte directions and nodes\n",
    "    lines = read_input(filepath)\n",
    "    directions, nodes = convert_input(lines)\n",
    "    \n",
    "    # set up the variables for our starting position and steps required\n",
    "    current = start   \n",
    "    total = 0\n",
    "    \n",
    "    while current != target:\n",
    "        for i, direction in enumerate(directions):\n",
    "            \n",
    "            total += 1\n",
    "            \n",
    "            if direction == \"L\":\n",
    "                new = nodes[current][0]\n",
    "            else:\n",
    "                new = nodes[current][1]\n",
    "            \n",
    "            if new == target:\n",
    "                print(f\"There are {total} steps required to reach {target}.\")\n",
    "                return total\n",
    "            current = new"
   ]
  },
  {
   "cell_type": "code",
   "execution_count": 154,
   "id": "95f97872",
   "metadata": {},
   "outputs": [],
   "source": [
    "def day08b(filepath, target=\"ZZZ\"):\n",
    "    \n",
    "    # read the input and get hte directions and nodes\n",
    "    lines = read_input(filepath)\n",
    "    directions, nodes = convert_input(lines)\n",
    "    \n",
    "    # set up the variables from our starting position (ends with \"A\") and steps required\n",
    "    starters = [node for node in nodes if node[-1]==\"A\"]\n",
    "    starters.sort()\n",
    "    originals = starters[::]\n",
    "    N = len(starters)\n",
    "    cycles =[0 for i in range(N)]\n",
    "    \n",
    "       \n",
    "    \n",
    "    print(starters)\n",
    "    \n",
    "    on_destination = []\n",
    "    total = 0\n",
    "    \n",
    "    while len(on_destination) != N:\n",
    "        for i, direction in enumerate(directions):\n",
    "            \n",
    "            total += 1\n",
    "            on_destination = []\n",
    "            for j, starter in enumerate(starters):\n",
    "                if direction == \"L\":\n",
    "                    new = nodes[starter][0]\n",
    "                else:\n",
    "                    new = nodes[starter][1]\n",
    "\n",
    "                if new[-1] == \"Z\":\n",
    "                    on_destination.append(new)\n",
    "                starters[j] = new\n",
    "                if starters[j] == originals[j]:\n",
    "                    cycles[j] = total\n",
    "                    print(cycles)\n",
    "                    \n",
    "            if 0 not in cycles:\n",
    "                print(cycles)\n",
    "                return cycles\n",
    "            if len(on_destination)>N-2:\n",
    "                print(starters)\n",
    "            if len(on_destination) == N:\n",
    "                print(total)\n",
    "                return total\n",
    "    "
   ]
  },
  {
   "cell_type": "code",
   "execution_count": 155,
   "id": "73fdbc1c",
   "metadata": {},
   "outputs": [],
   "source": [
    "def test08():\n",
    "    \n",
    "    # check on the test input\n",
    "    assert day08a(test1) == 2\n",
    "    assert day08a(test2) == 6\n",
    "    assert day08b(test3) == 6\n",
    "    \n",
    "    print(\"Passed all checks\")"
   ]
  },
  {
   "cell_type": "code",
   "execution_count": 156,
   "id": "924fa5df",
   "metadata": {},
   "outputs": [
    {
     "name": "stdout",
     "output_type": "stream",
     "text": [
      "There are 2 steps required to reach ZZZ.\n",
      "There are 6 steps required to reach ZZZ.\n",
      "['11A', '22A']\n",
      "['11Z', '22C']\n",
      "['11B', '22Z']\n",
      "['11Z', '22B']\n",
      "['11Z', '22Z']\n",
      "6\n",
      "Passed all checks\n"
     ]
    }
   ],
   "source": [
    "test08()"
   ]
  },
  {
   "cell_type": "code",
   "execution_count": 157,
   "id": "38ef581d",
   "metadata": {},
   "outputs": [
    {
     "name": "stdout",
     "output_type": "stream",
     "text": [
      "There are 18827 steps required to reach ZZZ.\n"
     ]
    },
    {
     "data": {
      "text/plain": [
       "18827"
      ]
     },
     "execution_count": 157,
     "metadata": {},
     "output_type": "execute_result"
    }
   ],
   "source": [
    "day08a(filepath)"
   ]
  },
  {
   "cell_type": "code",
   "execution_count": 158,
   "id": "10a04fa2",
   "metadata": {},
   "outputs": [
    {
     "name": "stdout",
     "output_type": "stream",
     "text": [
      "['AAA', 'KLA', 'LBA', 'NDA', 'NNA', 'QVA']\n"
     ]
    },
    {
     "ename": "KeyboardInterrupt",
     "evalue": "",
     "output_type": "error",
     "traceback": [
      "\u001b[1;31m---------------------------------------------------------------------------\u001b[0m",
      "\u001b[1;31mKeyboardInterrupt\u001b[0m                         Traceback (most recent call last)",
      "Cell \u001b[1;32mIn[158], line 1\u001b[0m\n\u001b[1;32m----> 1\u001b[0m \u001b[43mday08b\u001b[49m\u001b[43m(\u001b[49m\u001b[43mfilepath\u001b[49m\u001b[43m)\u001b[49m\n",
      "Cell \u001b[1;32mIn[154], line 35\u001b[0m, in \u001b[0;36mday08b\u001b[1;34m(filepath, target)\u001b[0m\n\u001b[0;32m     33\u001b[0m     on_destination\u001b[38;5;241m.\u001b[39mappend(new)\n\u001b[0;32m     34\u001b[0m starters[j] \u001b[38;5;241m=\u001b[39m new\n\u001b[1;32m---> 35\u001b[0m \u001b[38;5;28;01mif\u001b[39;00m \u001b[43mstarters\u001b[49m\u001b[43m[\u001b[49m\u001b[43mj\u001b[49m\u001b[43m]\u001b[49m\u001b[43m \u001b[49m\u001b[38;5;241;43m==\u001b[39;49m\u001b[43m \u001b[49m\u001b[43moriginals\u001b[49m\u001b[43m[\u001b[49m\u001b[43mj\u001b[49m\u001b[43m]\u001b[49m:\n\u001b[0;32m     36\u001b[0m     cycles[j] \u001b[38;5;241m=\u001b[39m total\n\u001b[0;32m     37\u001b[0m     \u001b[38;5;28mprint\u001b[39m(cycles)\n",
      "\u001b[1;31mKeyboardInterrupt\u001b[0m: "
     ]
    }
   ],
   "source": [
    "day08b(filepath)"
   ]
  },
  {
   "cell_type": "code",
   "execution_count": null,
   "id": "bbeab562",
   "metadata": {},
   "outputs": [],
   "source": []
  },
  {
   "cell_type": "code",
   "execution_count": null,
   "id": "ce379e55",
   "metadata": {},
   "outputs": [],
   "source": []
  }
 ],
 "metadata": {
  "kernelspec": {
   "display_name": "Python 3 (ipykernel)",
   "language": "python",
   "name": "python3"
  },
  "language_info": {
   "codemirror_mode": {
    "name": "ipython",
    "version": 3
   },
   "file_extension": ".py",
   "mimetype": "text/x-python",
   "name": "python",
   "nbconvert_exporter": "python",
   "pygments_lexer": "ipython3",
   "version": "3.10.9"
  }
 },
 "nbformat": 4,
 "nbformat_minor": 5
}
