{
 "cells": [
  {
   "cell_type": "markdown",
   "id": "8de4e48c",
   "metadata": {},
   "source": [
    "--- Day 5: If You Give A Seed A Fertilizer ---\n",
    "\n",
    "You take the boat and find the gardener right where you were told he would be: managing a giant \"garden\" that looks more to you like a farm.\n",
    "\n",
    "\"A water source? Island Island is the water source!\" You point out that Snow Island isn't receiving any water.\n",
    "\n",
    "\"Oh, we had to stop the water because we ran out of sand to filter it with! Can't make snow with dirty water. Don't worry, I'm sure we'll get more sand soon; we only turned off the water a few days... weeks... oh no.\" His face sinks into a look of horrified realization.\n",
    "\n",
    "\"I've been so busy making sure everyone here has food that I completely forgot to check why we stopped getting more sand! There's a ferry leaving soon that is headed over in that direction - it's much faster than your boat. Could you please go check it out?\"\n",
    "\n",
    "You barely have time to agree to this request when he brings up another. \"While you wait for the ferry, maybe you can help us with our food production problem. The latest Island Island Almanac just arrived and we're having trouble making sense of it.\"\n",
    "\n",
    "The almanac (your puzzle input) lists all of the seeds that need to be planted. It also lists what type of soil to use with each kind of seed, what type of fertilizer to use with each kind of soil, what type of water to use with each kind of fertilizer, and so on. Every type of seed, soil, fertilizer and so on is identified with a number, but numbers are reused by each category - that is, soil 123 and fertilizer 123 aren't necessarily related to each other.\n",
    "\n",
    "For example:\n",
    "\n",
    "seeds: 79 14 55 13  \n",
    "\n",
    "seed-to-soil map:  \n",
    "50 98 2  \n",
    "52 50 48  \n",
    "\n",
    "soil-to-fertilizer map:  \n",
    "0 15 37  \n",
    "37 52 2  \n",
    "39 0 15  \n",
    "\n",
    "fertilizer-to-water map:  \n",
    "49 53 8  \n",
    "0 11 42  \n",
    "42 0 7  \n",
    "57 7 4  \n",
    "\n",
    "water-to-light map:  \n",
    "88 18 7  \n",
    "18 25 70  \n",
    "\n",
    "light-to-temperature map:  \n",
    "45 77 23  \n",
    "81 45 19  \n",
    "68 64 13  \n",
    "\n",
    "temperature-to-humidity map:  \n",
    "0 69 1  \n",
    "1 0 69  \n",
    "\n",
    "humidity-to-location map:  \n",
    "60 56 37  \n",
    "56 93 4  \n",
    "\n",
    "The almanac starts by listing which seeds need to be planted: seeds 79, 14, 55, and 13.\n",
    "\n",
    "The rest of the almanac contains a list of maps which describe how to convert numbers from a source category into numbers in a destination category. That is, the section that starts with seed-to-soil map: describes how to convert a seed number (the source) to a soil number (the destination). This lets the gardener and his team know which soil to use with which seeds, which water to use with which fertilizer, and so on.\n",
    "\n",
    "Rather than list every source number and its corresponding destination number one by one, the maps describe entire ranges of numbers that can be converted. Each line within a map contains three numbers: the destination range start, the source range start, and the range length.\n",
    "\n",
    "Consider again the example seed-to-soil map:  \n",
    "\n",
    "50 98 2  \n",
    "52 50 48  \n",
    "\n",
    "The first line has a destination range start of 50, a source range start of 98, and a range length of 2. This line means that the source range starts at 98 and contains two values: 98 and 99. The destination range is the same length, but it starts at 50, so its two values are 50 and 51. With this information, you know that seed number 98 corresponds to soil number 50 and that seed number 99 corresponds to soil number 51.\n",
    "\n",
    "The second line means that the source range starts at 50 and contains 48 values: 50, 51, ..., 96, 97. This corresponds to a destination range starting at 52 and also containing 48 values: 52, 53, ..., 98, 99. So, seed number 53 corresponds to soil number 55.\n",
    "\n",
    "Any source numbers that aren't mapped correspond to the same destination number. So, seed number 10 corresponds to soil number 10.\n",
    "\n",
    "So, the entire list of seed numbers and their corresponding soil numbers looks like this:\n",
    "\n",
    "seed  soil  \n",
    "0     0  \n",
    "1     1  \n",
    "...   ...  \n",
    "48    48  \n",
    "49    49  \n",
    "50    52  \n",
    "51    53  \n",
    "...   ...  \n",
    "96    98  \n",
    "97    99  \n",
    "98    50  \n",
    "99    51  \n",
    "\n",
    "With this map, you can look up the soil number required for each initial seed number:\n",
    "\n",
    "    Seed number 79 corresponds to soil number 81.  \n",
    "    Seed number 14 corresponds to soil number 14.  \n",
    "    Seed number 55 corresponds to soil number 57.  \n",
    "    Seed number 13 corresponds to soil number 13.  \n",
    "\n",
    "The gardener and his team want to get started as soon as possible, so they'd like to know the closest location that needs a seed. Using these maps, find the lowest location number that corresponds to any of the initial seeds. To do this, you'll need to convert each seed number through other categories until you can find its corresponding location number. In this example, the corresponding types are:\n",
    "\n",
    "    Seed 79, soil 81, fertilizer 81, water 81, light 74, temperature 78, humidity 78, location 82.  \n",
    "    Seed 14, soil 14, fertilizer 53, water 49, light 42, temperature 42, humidity 43, location 43.  \n",
    "    Seed 55, soil 57, fertilizer 57, water 53, light 46, temperature 82, humidity 82, location 86.  \n",
    "    Seed 13, soil 13, fertilizer 52, water 41, light 34, temperature 34, humidity 35, location 35.  \n",
    "\n",
    "So, the lowest location number in this example is 35.\n",
    "\n",
    "What is the lowest location number that corresponds to any of the initial seed numbers?\n",
    "\n",
    "\n",
    "--- Part Two ---\n",
    "\n",
    "Everyone will starve if you only plant such a small number of seeds. Re-reading the almanac, it looks like the seeds: line actually describes ranges of seed numbers.\n",
    "\n",
    "The values on the initial seeds: line come in pairs. Within each pair, the first value is the start of the range and the second value is the length of the range. So, in the first line of the example above:\n",
    "\n",
    "seeds: 79 14 55 13\n",
    "\n",
    "This line describes two ranges of seed numbers to be planted in the garden. The first range starts with seed number 79 and contains 14 values: 79, 80, ..., 91, 92. The second range starts with seed number 55 and contains 13 values: 55, 56, ..., 66, 67.\n",
    "\n",
    "Now, rather than considering four seed numbers, you need to consider a total of 27 seed numbers.\n",
    "\n",
    "In the above example, the lowest location number can be obtained from seed number 82, which corresponds to soil 84, fertilizer 84, water 84, light 77, temperature 45, humidity 46, and location 46. So, the lowest location number is 46.\n",
    "\n",
    "Consider all of the initial seed numbers listed in the ranges on the first line of the almanac. What is the lowest location number that corresponds to any of the initial seed numbers?\n"
   ]
  },
  {
   "cell_type": "code",
   "execution_count": 1,
   "id": "5859c261",
   "metadata": {},
   "outputs": [],
   "source": [
    "filepath = \"..\\\\data\\\\input_day_05.txt\"\n",
    "test1 = \"..\\\\test\\\\test05_1.txt\"\n",
    "test2 = \"..\\\\test\\\\test05_2.txt\""
   ]
  },
  {
   "cell_type": "code",
   "execution_count": 2,
   "id": "6e41d83d",
   "metadata": {},
   "outputs": [],
   "source": [
    "def read_input(filepath):\n",
    "    with open(filepath, 'r') as f:\n",
    "        lines = f.readlines()\n",
    "    \n",
    "    return lines"
   ]
  },
  {
   "cell_type": "code",
   "execution_count": 3,
   "id": "502c1436",
   "metadata": {},
   "outputs": [],
   "source": [
    "def get_seeds(lines):\n",
    "    \n",
    "    seeds = []\n",
    "    for i in lines[0].strip().split(\":\")[1].split():\n",
    "        seeds.append(int(i))\n",
    "    return seeds"
   ]
  },
  {
   "cell_type": "code",
   "execution_count": 4,
   "id": "6d4cb21b",
   "metadata": {},
   "outputs": [],
   "source": [
    "def convert_seeds(seeds):\n",
    "    new_seeds = set()\n",
    "    N = len(seeds)\n",
    "    for i in range(0, N, 2):\n",
    "        #print(seeds[i], seeds[i+1])\n",
    "        [new_seeds.add(j) for j in range(seeds[i], seeds[i]+ seeds[i+1])]\n",
    "    return new_seeds"
   ]
  },
  {
   "cell_type": "code",
   "execution_count": 5,
   "id": "383030de",
   "metadata": {},
   "outputs": [],
   "source": [
    "def get_mapping(lines):\n",
    "    mapping = dict()\n",
    "    found_Start = False\n",
    "    start = \"map\"\n",
    "    for line in lines:\n",
    "        if line == \"\\n\":\n",
    "            found_Start = False\n",
    "        if found_Start:\n",
    "            b_start, a_start, N = [int(i) for i in line.split()]\n",
    "            mapping[(a,b)][(a_start, a_start+N)] = b_start\n",
    "        if start in line:\n",
    "            a = line.split(\"-\")[0].strip()\n",
    "            b = line.split()[0].split(\"-\")[-1].strip()\n",
    "            found_Start = True\n",
    "            mapping[(a,b)] = dict()\n",
    "        \n",
    "    return mapping"
   ]
  },
  {
   "cell_type": "code",
   "execution_count": 6,
   "id": "44c02c45",
   "metadata": {},
   "outputs": [],
   "source": [
    "def get_possibles(a, val,mapping):\n",
    "    \n",
    "    for key in mapping.keys():\n",
    "        if key[0] == a:\n",
    "            b = key[1]\n",
    "            for (a_start, a_end) in mapping[key].keys():\n",
    "                if val in range(a_start, a_end):\n",
    "                    delta = val-a_start\n",
    "                    return b, mapping[key][(a_start, a_end)] + delta\n",
    "            return b, val"
   ]
  },
  {
   "cell_type": "code",
   "execution_count": 7,
   "id": "634cc832",
   "metadata": {},
   "outputs": [],
   "source": [
    "def get_locations(mapping, origin=\"seed\", destination=\"location\", origin_val=-1):\n",
    "    \n",
    "    a = origin\n",
    "    possible = origin_val\n",
    "    while a!=destination:\n",
    "        #print(a, possible)\n",
    "        a, possible = get_possibles(a, possible, mapping)\n",
    "        \n",
    "    #print(possible)\n",
    "    return possible"
   ]
  },
  {
   "cell_type": "code",
   "execution_count": 28,
   "id": "e3161db4",
   "metadata": {},
   "outputs": [],
   "source": [
    "def find_largest_input(filepath,origin=\"seed\", destination=\"location\"):\n",
    "    \n",
    "    lines = read_input(filepath)\n",
    "    seeds = get_seeds(lines)\n",
    "    mapping = get_mapping(lines)\n",
    "    \n",
    "    val = mapping[(\"humidity\", destination)]\n",
    "    print(val)\n",
    "    while i != get_locations(mapping, origin_val=i):\n",
    "        i += 1\n",
    "    return i"
   ]
  },
  {
   "cell_type": "code",
   "execution_count": 8,
   "id": "c00e4b5c",
   "metadata": {
    "scrolled": false
   },
   "outputs": [],
   "source": [
    "def day05a(filepath):\n",
    "    \n",
    "    \n",
    "    # read the seeds and the mapping\n",
    "    lines = read_input(filepath)\n",
    "    seeds = get_seeds(lines)\n",
    "    mapping = get_mapping(lines)\n",
    "    \n",
    "    \n",
    "    locations = []\n",
    "    for seed in seeds:\n",
    "        locations.append(get_locations(mapping, origin_val=seed))\n",
    "        \n",
    "    print(f\"The lowest location number is {min(locations)}.\")\n",
    "    return min(locations)"
   ]
  },
  {
   "cell_type": "code",
   "execution_count": 20,
   "id": "46d4a239",
   "metadata": {},
   "outputs": [],
   "source": [
    "def day05b(filepath):\n",
    "    \n",
    "    \n",
    "    # read the seeds and the mapping\n",
    "    lines = read_input(filepath)\n",
    "    seeds = get_seeds(lines)\n",
    "    mapping = get_mapping(lines)\n",
    "    \n",
    "    \n",
    "    lowest = 100000000\n",
    "    N = len(seeds)\n",
    "    for i in range(0, N, 2):\n",
    "        print(seeds[i], seeds[i]+ seeds[i+1])\n",
    "        for j in range(seeds[i], seeds[i]+ seeds[i+1]):\n",
    "            locations = get_locations(mapping, origin_val=j)\n",
    "            lowest = min(lowest, locations)\n",
    "    print(f\"The lowest location number is {lowest}.\")\n",
    "    return lowest"
   ]
  },
  {
   "cell_type": "code",
   "execution_count": 21,
   "id": "2de6b122",
   "metadata": {},
   "outputs": [],
   "source": [
    "def test05():\n",
    "    \n",
    "    # test get_locations\n",
    "    lines = read_input(test1)\n",
    "    mapping = get_mapping(lines)\n",
    "    \n",
    "    assert get_locations(mapping, origin_val=79) == 82\n",
    "    assert get_locations(mapping, origin_val=14) == 43\n",
    "    assert get_locations(mapping, origin_val=55) == 86\n",
    "    assert get_locations(mapping, origin_val=13) == 35\n",
    "    \n",
    "    print(\"get locations passed all tests\")\n",
    "    \n",
    "    assert day05a(test1)==35\n",
    "    assert day05b(test1)==46\n",
    "    \n",
    "    print(\"Passed the test input\")"
   ]
  },
  {
   "cell_type": "code",
   "execution_count": 22,
   "id": "d667ae47",
   "metadata": {},
   "outputs": [
    {
     "name": "stdout",
     "output_type": "stream",
     "text": [
      "get locations passed all tests\n",
      "The lowest location number is 35.\n",
      "79 93\n",
      "55 68\n",
      "The lowest location number is 46.\n",
      "Passed the test input\n"
     ]
    }
   ],
   "source": [
    "test05()"
   ]
  },
  {
   "cell_type": "code",
   "execution_count": 23,
   "id": "627de0ba",
   "metadata": {},
   "outputs": [
    {
     "name": "stdout",
     "output_type": "stream",
     "text": [
      "The lowest location number is 403695602.\n"
     ]
    },
    {
     "data": {
      "text/plain": [
       "403695602"
      ]
     },
     "execution_count": 23,
     "metadata": {},
     "output_type": "execute_result"
    }
   ],
   "source": [
    "day05a(filepath)"
   ]
  },
  {
   "cell_type": "code",
   "execution_count": 24,
   "id": "f252a8f4",
   "metadata": {},
   "outputs": [
    {
     "name": "stdout",
     "output_type": "stream",
     "text": [
      "629551616 939855513\n"
     ]
    },
    {
     "ename": "KeyboardInterrupt",
     "evalue": "",
     "output_type": "error",
     "traceback": [
      "\u001b[1;31m---------------------------------------------------------------------------\u001b[0m",
      "\u001b[1;31mKeyboardInterrupt\u001b[0m                         Traceback (most recent call last)",
      "Cell \u001b[1;32mIn[24], line 1\u001b[0m\n\u001b[1;32m----> 1\u001b[0m \u001b[43mday05b\u001b[49m\u001b[43m(\u001b[49m\u001b[43mfilepath\u001b[49m\u001b[43m)\u001b[49m\n",
      "Cell \u001b[1;32mIn[20], line 15\u001b[0m, in \u001b[0;36mday05b\u001b[1;34m(filepath)\u001b[0m\n\u001b[0;32m     13\u001b[0m     \u001b[38;5;28mprint\u001b[39m(seeds[i], seeds[i]\u001b[38;5;241m+\u001b[39m seeds[i\u001b[38;5;241m+\u001b[39m\u001b[38;5;241m1\u001b[39m])\n\u001b[0;32m     14\u001b[0m     \u001b[38;5;28;01mfor\u001b[39;00m j \u001b[38;5;129;01min\u001b[39;00m \u001b[38;5;28mrange\u001b[39m(seeds[i], seeds[i]\u001b[38;5;241m+\u001b[39m seeds[i\u001b[38;5;241m+\u001b[39m\u001b[38;5;241m1\u001b[39m]):\n\u001b[1;32m---> 15\u001b[0m         locations \u001b[38;5;241m=\u001b[39m \u001b[43mget_locations\u001b[49m\u001b[43m(\u001b[49m\u001b[43mmapping\u001b[49m\u001b[43m,\u001b[49m\u001b[43m \u001b[49m\u001b[43morigin_val\u001b[49m\u001b[38;5;241;43m=\u001b[39;49m\u001b[43mj\u001b[49m\u001b[43m)\u001b[49m\n\u001b[0;32m     16\u001b[0m         lowest \u001b[38;5;241m=\u001b[39m \u001b[38;5;28mmin\u001b[39m(lowest, locations)\n\u001b[0;32m     17\u001b[0m \u001b[38;5;28mprint\u001b[39m(\u001b[38;5;124mf\u001b[39m\u001b[38;5;124m\"\u001b[39m\u001b[38;5;124mThe lowest location number is \u001b[39m\u001b[38;5;132;01m{\u001b[39;00mlowest\u001b[38;5;132;01m}\u001b[39;00m\u001b[38;5;124m.\u001b[39m\u001b[38;5;124m\"\u001b[39m)\n",
      "Cell \u001b[1;32mIn[7], line 7\u001b[0m, in \u001b[0;36mget_locations\u001b[1;34m(mapping, origin, destination, origin_val)\u001b[0m\n\u001b[0;32m      4\u001b[0m possible \u001b[38;5;241m=\u001b[39m origin_val\n\u001b[0;32m      5\u001b[0m \u001b[38;5;28;01mwhile\u001b[39;00m a\u001b[38;5;241m!=\u001b[39mdestination:\n\u001b[0;32m      6\u001b[0m     \u001b[38;5;66;03m#print(a, possible)\u001b[39;00m\n\u001b[1;32m----> 7\u001b[0m     a, possible \u001b[38;5;241m=\u001b[39m \u001b[43mget_possibles\u001b[49m\u001b[43m(\u001b[49m\u001b[43ma\u001b[49m\u001b[43m,\u001b[49m\u001b[43m \u001b[49m\u001b[43mpossible\u001b[49m\u001b[43m,\u001b[49m\u001b[43m \u001b[49m\u001b[43mmapping\u001b[49m\u001b[43m)\u001b[49m\n\u001b[0;32m      9\u001b[0m \u001b[38;5;66;03m#print(possible)\u001b[39;00m\n\u001b[0;32m     10\u001b[0m \u001b[38;5;28;01mreturn\u001b[39;00m possible\n",
      "Cell \u001b[1;32mIn[6], line 7\u001b[0m, in \u001b[0;36mget_possibles\u001b[1;34m(a, val, mapping)\u001b[0m\n\u001b[0;32m      5\u001b[0m b \u001b[38;5;241m=\u001b[39m key[\u001b[38;5;241m1\u001b[39m]\n\u001b[0;32m      6\u001b[0m \u001b[38;5;28;01mfor\u001b[39;00m (a_start, a_end) \u001b[38;5;129;01min\u001b[39;00m mapping[key]\u001b[38;5;241m.\u001b[39mkeys():\n\u001b[1;32m----> 7\u001b[0m     \u001b[38;5;28;01mif\u001b[39;00m \u001b[43mval\u001b[49m\u001b[43m \u001b[49m\u001b[38;5;129;43;01min\u001b[39;49;00m\u001b[43m \u001b[49m\u001b[38;5;28;43mrange\u001b[39;49m\u001b[43m(\u001b[49m\u001b[43ma_start\u001b[49m\u001b[43m,\u001b[49m\u001b[43m \u001b[49m\u001b[43ma_end\u001b[49m\u001b[43m)\u001b[49m:\n\u001b[0;32m      8\u001b[0m         delta \u001b[38;5;241m=\u001b[39m val\u001b[38;5;241m-\u001b[39ma_start\n\u001b[0;32m      9\u001b[0m         \u001b[38;5;28;01mreturn\u001b[39;00m b, mapping[key][(a_start, a_end)] \u001b[38;5;241m+\u001b[39m delta\n",
      "\u001b[1;31mKeyboardInterrupt\u001b[0m: "
     ]
    }
   ],
   "source": [
    "day05b(filepath)"
   ]
  },
  {
   "cell_type": "code",
   "execution_count": 29,
   "id": "e8abaa6a",
   "metadata": {},
   "outputs": [
    {
     "name": "stdout",
     "output_type": "stream",
     "text": [
      "{(1202474782, 1393766369): 4029426902, (708692227, 1202474782): 2764446301, (3350514524, 3383535984): 2188304413, (4213528230, 4280683347): 3318755823, (620732246, 708692227): 2000392671, (3075811923, 3350514524): 3754724301, (1393766369, 1454293336): 3258228856, (4113576469, 4213528230): 2088352652, (1849258760, 2463336253): 363515622, (342257124, 353386243): 1213242541, (353386243, 620732246): 1733046668, (4280683347, 4294967296): 1224371660, (2888435710, 3075811923): 2577070088, (2832149614, 2888435710): 4220718489, (1810037551, 1849258760): 324294413, (2463336253, 2832149614): 3385910940, (3383535984, 3619185410): 977593115, (3619185410, 4113576469): 1238655609, (324294413, 342257124): 4277004585, (1454293336, 1810037551): 2221325873}\n"
     ]
    },
    {
     "ename": "UnboundLocalError",
     "evalue": "local variable 'i' referenced before assignment",
     "output_type": "error",
     "traceback": [
      "\u001b[1;31m---------------------------------------------------------------------------\u001b[0m",
      "\u001b[1;31mUnboundLocalError\u001b[0m                         Traceback (most recent call last)",
      "Cell \u001b[1;32mIn[29], line 1\u001b[0m\n\u001b[1;32m----> 1\u001b[0m \u001b[43mfind_largest_input\u001b[49m\u001b[43m(\u001b[49m\u001b[43mfilepath\u001b[49m\u001b[43m)\u001b[49m\n",
      "Cell \u001b[1;32mIn[28], line 9\u001b[0m, in \u001b[0;36mfind_largest_input\u001b[1;34m(filepath, origin, destination)\u001b[0m\n\u001b[0;32m      7\u001b[0m val \u001b[38;5;241m=\u001b[39m mapping[(\u001b[38;5;124m\"\u001b[39m\u001b[38;5;124mhumidity\u001b[39m\u001b[38;5;124m\"\u001b[39m, destination)]\n\u001b[0;32m      8\u001b[0m \u001b[38;5;28mprint\u001b[39m(val)\n\u001b[1;32m----> 9\u001b[0m \u001b[38;5;28;01mwhile\u001b[39;00m \u001b[43mi\u001b[49m \u001b[38;5;241m!=\u001b[39m get_locations(mapping, origin_val\u001b[38;5;241m=\u001b[39mi):\n\u001b[0;32m     10\u001b[0m     i \u001b[38;5;241m+\u001b[39m\u001b[38;5;241m=\u001b[39m \u001b[38;5;241m1\u001b[39m\n\u001b[0;32m     11\u001b[0m \u001b[38;5;28;01mreturn\u001b[39;00m i\n",
      "\u001b[1;31mUnboundLocalError\u001b[0m: local variable 'i' referenced before assignment"
     ]
    }
   ],
   "source": [
    "find_largest_input(filepath)"
   ]
  },
  {
   "cell_type": "code",
   "execution_count": null,
   "id": "0fe5d4e0",
   "metadata": {},
   "outputs": [],
   "source": []
  }
 ],
 "metadata": {
  "kernelspec": {
   "display_name": "Python 3 (ipykernel)",
   "language": "python",
   "name": "python3"
  },
  "language_info": {
   "codemirror_mode": {
    "name": "ipython",
    "version": 3
   },
   "file_extension": ".py",
   "mimetype": "text/x-python",
   "name": "python",
   "nbconvert_exporter": "python",
   "pygments_lexer": "ipython3",
   "version": "3.10.9"
  }
 },
 "nbformat": 4,
 "nbformat_minor": 5
}
