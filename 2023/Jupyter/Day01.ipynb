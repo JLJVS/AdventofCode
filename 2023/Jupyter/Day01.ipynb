{
 "cells": [
  {
   "cell_type": "markdown",
   "id": "a4839e7c",
   "metadata": {},
   "source": [
    "--- Day 1: Trebuchet?! ---\n",
    "\n",
    "Something is wrong with global snow production, and you've been selected to take a look. The Elves have even given you a map; on it, they've used stars to mark the top fifty locations that are likely to be having problems.\n",
    "\n",
    "You've been doing this long enough to know that to restore snow operations, you need to check all fifty stars by December 25th.\n",
    "\n",
    "Collect stars by solving puzzles. Two puzzles will be made available on each day in the Advent calendar; the second puzzle is unlocked when you complete the first. Each puzzle grants one star. Good luck!\n",
    "\n",
    "You try to ask why they can't just use a weather machine (\"not powerful enough\") and where they're even sending you (\"the sky\") and why your map looks mostly blank (\"you sure ask a lot of questions\") and hang on did you just say the sky (\"of course, where do you think snow comes from\") when you realize that the Elves are already loading you into a trebuchet (\"please hold still, we need to strap you in\").\n",
    "\n",
    "As they're making the final adjustments, they discover that their calibration document (your puzzle input) has been amended by a very young Elf who was apparently just excited to show off her art skills. Consequently, the Elves are having trouble reading the values on the document.\n",
    "\n",
    "The newly-improved calibration document consists of lines of text; each line originally contained a specific calibration value that the Elves now need to recover. On each line, the calibration value can be found by combining the first digit and the last digit (in that order) to form a single two-digit number.\n",
    "\n",
    "For example:\n",
    "\n",
    "1abc2  \n",
    "pqr3stu8vwx  \n",
    "a1b2c3d4e5f  \n",
    "treb7uchet  \n",
    "\n",
    "In this example, the calibration values of these four lines are 12, 38, 15, and 77. Adding these together produces 142.\n",
    "\n",
    "Consider your entire calibration document. What is the sum of all of the calibration values?\n",
    "\n",
    "\n",
    "--- Part Two ---\n",
    "\n",
    "Your calculation isn't quite right. It looks like some of the digits are actually spelled out with letters: one, two, three, four, five, six, seven, eight, and nine also count as valid \"digits\".\n",
    "\n",
    "Equipped with this new information, you now need to find the real first and last digit on each line. For example:\n",
    "\n",
    "two1nine  \n",
    "eightwothree  \n",
    "abcone2threexyz  \n",
    "xtwone3four  \n",
    "4nineeightseven2  \n",
    "zoneight234  \n",
    "7pqrstsixteen  \n",
    "\n",
    "In this example, the calibration values are 29, 83, 13, 24, 42, 14, and 76. Adding these together produces 281.\n",
    "\n",
    "What is the sum of all of the calibration values?\n",
    "\n"
   ]
  },
  {
   "cell_type": "code",
   "execution_count": 12,
   "id": "5798108c",
   "metadata": {},
   "outputs": [],
   "source": [
    "filepath = \"..\\\\data\\\\input01.txt\"\n",
    "test1 = \"..\\\\test\\\\test01_1.txt\"\n",
    "test2 = \"..\\\\test\\\\test01_2.txt\""
   ]
  },
  {
   "cell_type": "code",
   "execution_count": 2,
   "id": "09d9aa77",
   "metadata": {},
   "outputs": [],
   "source": [
    "def read_input(filepath):\n",
    "    with open(filepath, 'r') as f:\n",
    "        lines = f.readlines()\n",
    "    \n",
    "    return lines\n"
   ]
  },
  {
   "cell_type": "code",
   "execution_count": 3,
   "id": "c29c4ef2",
   "metadata": {},
   "outputs": [],
   "source": [
    "def extract_numbers(lines):\n",
    "    \n",
    "    numbers = []\n",
    "    \n",
    "    for line in lines:\n",
    "        num = \"\"\n",
    "        for char in line:\n",
    "            # check if the character is a digit\n",
    "            if char.isdigit():\n",
    "                num += char\n",
    "        num = num[0]+num[-1]\n",
    "        numbers.append(int(num))\n",
    "        \n",
    "    return numbers"
   ]
  },
  {
   "cell_type": "code",
   "execution_count": 4,
   "id": "7881f8e4",
   "metadata": {},
   "outputs": [],
   "source": [
    "def extract_written_numbers(lines):\n",
    "    \n",
    "    \n",
    "    numbers = []\n",
    "    written = {\"one\":\"1\", \"two\":\"2\", \"three\":\"3\",\n",
    "              \"four\":\"4\", \"five\":\"5\", \"six\":\"6\",\n",
    "              \"seven\":\"7\", \"eight\":\"8\", \"nine\":\"9\"}\n",
    "    \n",
    "    for line in lines:\n",
    "        first_digit = \"\"\n",
    "        first_digit_index = 1000\n",
    "        last_digit = \"\"\n",
    "        last_digit_index = -1\n",
    "        \n",
    "        \n",
    "        # check for digits\n",
    "        for i, char in enumerate(line):\n",
    "            if char.isdigit():\n",
    "                # check for the first digit\n",
    "                if i<first_digit_index:\n",
    "                    first_digit = char\n",
    "                    first_digit_index = i\n",
    "                # check for the last digit\n",
    "                if i>last_digit_index:\n",
    "                    last_digit = char\n",
    "                    last_digit_index = i\n",
    "        \n",
    "        # convert the digit to find the reversed value see below why\n",
    "        last_digit_index = len(line) - 1 - last_digit_index\n",
    "        \n",
    "        # check for written digits\n",
    "        for written_number in written.keys():\n",
    "            first_index = line.find(written_number)\n",
    "            # reverse the string and the digit to check for a list digit\n",
    "            last_index = line[::-1].find(written_number[::-1])\n",
    "            \n",
    "            if first_index != -1:\n",
    "                                \n",
    "                if first_index<first_digit_index:\n",
    "                    first_digit = written[written_number]\n",
    "                    first_digit_index = first_index\n",
    "           \n",
    "                if last_index<last_digit_index:\n",
    "                    last_digit = written[written_number]\n",
    "                    last_digit_index = last_index\n",
    "        \n",
    "        numbers.append(int(first_digit+last_digit))\n",
    "    return numbers"
   ]
  },
  {
   "cell_type": "code",
   "execution_count": 5,
   "id": "cfd7d03e",
   "metadata": {},
   "outputs": [],
   "source": [
    "def extract_with_regex(lines):\n",
    "    \n",
    "    import re\n",
    "    \n",
    "    numbers = []\n",
    "    written = {\"one\":\"1\", \"two\":\"2\", \"three\":\"3\",\n",
    "              \"four\":\"4\", \"five\":\"5\", \"six\":\"6\",\n",
    "              \"seven\":\"7\", \"eight\":\"8\", \"nine\":\"9\"}\n",
    "    \n",
    "    # create the regex pattern\n",
    "    pattern = \"|\".join(written)+\"|\\d\"\n",
    "    \n",
    "    for line in lines:\n",
    "        # find all the matches for our pattern        \n",
    "        matches = re.findall(\"({pattern})\".format(pattern=pattern), line)\n",
    "                \n",
    "        # convert our written digits to actual digits\n",
    "        first_digit, last_digit = matches[0], matches[-1]\n",
    "        if first_digit in written:\n",
    "            first_digit = written[first_digit]\n",
    "        if last_digit in written:\n",
    "            last_digit = written[last_digit]\n",
    "        \n",
    "        numbers.append(int(first_digit+last_digit))\n",
    "    return numbers"
   ]
  },
  {
   "cell_type": "code",
   "execution_count": 6,
   "id": "c3d636ee",
   "metadata": {},
   "outputs": [],
   "source": [
    "def day01a(filepath):\n",
    "    \n",
    "    lines = read_input(filepath)\n",
    "    numbers = extract_numbers(lines)\n",
    "    \n",
    "    print(f\"The sum of all calibration values is {sum(numbers)}.\")\n",
    "    return sum(numbers)"
   ]
  },
  {
   "cell_type": "code",
   "execution_count": 7,
   "id": "c3d1bc60",
   "metadata": {},
   "outputs": [],
   "source": [
    "def day01b(filepath):\n",
    "    \n",
    "    lines = read_input(filepath)\n",
    "    #numbers = extract_written_numbers_v2(lines)\n",
    "    numbers = extract_with_regex(lines)\n",
    "    print(numbers)\n",
    "    print(f\"The sum of all calibration values is {sum(numbers)}.\")\n",
    "    return sum(numbers)"
   ]
  },
  {
   "cell_type": "code",
   "execution_count": 8,
   "id": "0a45e142",
   "metadata": {},
   "outputs": [],
   "source": [
    "def test01():\n",
    "    \n",
    "    # test on the file input\n",
    "    assert day01a(test1) == 142\n",
    "    assert day01b(test2) == 281\n",
    "    print(\"Passed all tests\")"
   ]
  },
  {
   "cell_type": "code",
   "execution_count": 9,
   "id": "cf1098de",
   "metadata": {},
   "outputs": [
    {
     "name": "stdout",
     "output_type": "stream",
     "text": [
      "The sum of all calibration values is 142.\n",
      "[29, 83, 13, 24, 42, 14, 76]\n",
      "The sum of all calibration values is 281.\n",
      "Passed all tests\n"
     ]
    }
   ],
   "source": [
    "test01()"
   ]
  },
  {
   "cell_type": "code",
   "execution_count": 10,
   "id": "dee26512",
   "metadata": {},
   "outputs": [
    {
     "ename": "FileNotFoundError",
     "evalue": "[Errno 2] No such file or directory: '..\\\\data\\\\inputday1Robert.txt'",
     "output_type": "error",
     "traceback": [
      "\u001b[1;31m---------------------------------------------------------------------------\u001b[0m",
      "\u001b[1;31mFileNotFoundError\u001b[0m                         Traceback (most recent call last)",
      "Cell \u001b[1;32mIn[10], line 1\u001b[0m\n\u001b[1;32m----> 1\u001b[0m \u001b[43mday01a\u001b[49m\u001b[43m(\u001b[49m\u001b[43mfilepath\u001b[49m\u001b[43m)\u001b[49m\n",
      "Cell \u001b[1;32mIn[6], line 3\u001b[0m, in \u001b[0;36mday01a\u001b[1;34m(filepath)\u001b[0m\n\u001b[0;32m      1\u001b[0m \u001b[38;5;28;01mdef\u001b[39;00m \u001b[38;5;21mday01a\u001b[39m(filepath):\n\u001b[1;32m----> 3\u001b[0m     lines \u001b[38;5;241m=\u001b[39m \u001b[43mread_input\u001b[49m\u001b[43m(\u001b[49m\u001b[43mfilepath\u001b[49m\u001b[43m)\u001b[49m\n\u001b[0;32m      4\u001b[0m     numbers \u001b[38;5;241m=\u001b[39m extract_numbers(lines)\n\u001b[0;32m      6\u001b[0m     \u001b[38;5;28mprint\u001b[39m(\u001b[38;5;124mf\u001b[39m\u001b[38;5;124m\"\u001b[39m\u001b[38;5;124mThe sum of all calibration values is \u001b[39m\u001b[38;5;132;01m{\u001b[39;00m\u001b[38;5;28msum\u001b[39m(numbers)\u001b[38;5;132;01m}\u001b[39;00m\u001b[38;5;124m.\u001b[39m\u001b[38;5;124m\"\u001b[39m)\n",
      "Cell \u001b[1;32mIn[2], line 2\u001b[0m, in \u001b[0;36mread_input\u001b[1;34m(filepath)\u001b[0m\n\u001b[0;32m      1\u001b[0m \u001b[38;5;28;01mdef\u001b[39;00m \u001b[38;5;21mread_input\u001b[39m(filepath):\n\u001b[1;32m----> 2\u001b[0m     \u001b[38;5;28;01mwith\u001b[39;00m \u001b[38;5;28;43mopen\u001b[39;49m\u001b[43m(\u001b[49m\u001b[43mfilepath\u001b[49m\u001b[43m,\u001b[49m\u001b[43m \u001b[49m\u001b[38;5;124;43m'\u001b[39;49m\u001b[38;5;124;43mr\u001b[39;49m\u001b[38;5;124;43m'\u001b[39;49m\u001b[43m)\u001b[49m \u001b[38;5;28;01mas\u001b[39;00m f:\n\u001b[0;32m      3\u001b[0m         lines \u001b[38;5;241m=\u001b[39m f\u001b[38;5;241m.\u001b[39mreadlines()\n\u001b[0;32m      5\u001b[0m     \u001b[38;5;28;01mreturn\u001b[39;00m lines\n",
      "File \u001b[1;32m~\\anaconda3\\lib\\site-packages\\IPython\\core\\interactiveshell.py:282\u001b[0m, in \u001b[0;36m_modified_open\u001b[1;34m(file, *args, **kwargs)\u001b[0m\n\u001b[0;32m    275\u001b[0m \u001b[38;5;28;01mif\u001b[39;00m file \u001b[38;5;129;01min\u001b[39;00m {\u001b[38;5;241m0\u001b[39m, \u001b[38;5;241m1\u001b[39m, \u001b[38;5;241m2\u001b[39m}:\n\u001b[0;32m    276\u001b[0m     \u001b[38;5;28;01mraise\u001b[39;00m \u001b[38;5;167;01mValueError\u001b[39;00m(\n\u001b[0;32m    277\u001b[0m         \u001b[38;5;124mf\u001b[39m\u001b[38;5;124m\"\u001b[39m\u001b[38;5;124mIPython won\u001b[39m\u001b[38;5;124m'\u001b[39m\u001b[38;5;124mt let you open fd=\u001b[39m\u001b[38;5;132;01m{\u001b[39;00mfile\u001b[38;5;132;01m}\u001b[39;00m\u001b[38;5;124m by default \u001b[39m\u001b[38;5;124m\"\u001b[39m\n\u001b[0;32m    278\u001b[0m         \u001b[38;5;124m\"\u001b[39m\u001b[38;5;124mas it is likely to crash IPython. If you know what you are doing, \u001b[39m\u001b[38;5;124m\"\u001b[39m\n\u001b[0;32m    279\u001b[0m         \u001b[38;5;124m\"\u001b[39m\u001b[38;5;124myou can use builtins\u001b[39m\u001b[38;5;124m'\u001b[39m\u001b[38;5;124m open.\u001b[39m\u001b[38;5;124m\"\u001b[39m\n\u001b[0;32m    280\u001b[0m     )\n\u001b[1;32m--> 282\u001b[0m \u001b[38;5;28;01mreturn\u001b[39;00m io_open(file, \u001b[38;5;241m*\u001b[39margs, \u001b[38;5;241m*\u001b[39m\u001b[38;5;241m*\u001b[39mkwargs)\n",
      "\u001b[1;31mFileNotFoundError\u001b[0m: [Errno 2] No such file or directory: '..\\\\data\\\\inputday1Robert.txt'"
     ]
    }
   ],
   "source": [
    "day01a(filepath)"
   ]
  },
  {
   "cell_type": "code",
   "execution_count": 13,
   "id": "6a49edab",
   "metadata": {},
   "outputs": [
    {
     "name": "stdout",
     "output_type": "stream",
     "text": [
      "[56, 96, 44, 22, 88, 93, 23, 79, 83, 56, 22, 44, 29, 15, 71, 99, 62, 97, 16, 41, 26, 54, 49, 74, 68, 39, 82, 11, 99, 27, 66, 44, 94, 75, 45, 33, 78, 29, 43, 66, 16, 38, 97, 95, 56, 44, 51, 55, 79, 99, 95, 73, 67, 49, 13, 51, 15, 16, 63, 58, 93, 52, 71, 85, 98, 46, 27, 63, 56, 22, 19, 22, 81, 32, 54, 99, 72, 44, 92, 24, 58, 61, 12, 72, 61, 26, 37, 19, 87, 13, 88, 57, 58, 58, 39, 78, 78, 31, 37, 45, 73, 21, 61, 44, 24, 45, 49, 46, 75, 26, 95, 78, 76, 63, 97, 78, 45, 29, 69, 15, 75, 68, 74, 44, 88, 99, 87, 11, 17, 51, 29, 17, 55, 16, 68, 56, 96, 45, 21, 97, 13, 41, 31, 33, 76, 52, 81, 44, 92, 52, 72, 29, 49, 67, 37, 49, 58, 25, 23, 98, 88, 73, 23, 62, 29, 49, 29, 24, 46, 56, 61, 84, 33, 25, 58, 58, 27, 11, 74, 57, 96, 63, 36, 48, 78, 97, 69, 23, 89, 23, 32, 87, 14, 53, 92, 32, 12, 22, 99, 18, 87, 92, 66, 27, 41, 21, 28, 97, 87, 66, 31, 89, 42, 44, 75, 19, 36, 63, 87, 22, 28, 84, 29, 66, 24, 23, 52, 41, 45, 71, 55, 64, 75, 22, 48, 23, 59, 41, 17, 24, 27, 82, 98, 94, 64, 32, 12, 94, 22, 85, 54, 55, 84, 77, 81, 41, 38, 92, 88, 98, 43, 95, 92, 55, 33, 17, 24, 18, 74, 51, 51, 15, 15, 98, 44, 68, 66, 85, 64, 33, 25, 58, 82, 59, 15, 61, 89, 17, 51, 34, 41, 27, 16, 88, 12, 81, 18, 81, 16, 99, 58, 34, 11, 43, 54, 51, 92, 86, 19, 88, 38, 11, 12, 89, 88, 98, 22, 37, 91, 66, 55, 91, 88, 22, 26, 25, 89, 35, 51, 94, 65, 57, 87, 24, 25, 18, 42, 96, 59, 14, 94, 21, 12, 55, 93, 78, 77, 59, 32, 72, 71, 47, 51, 77, 89, 88, 55, 77, 61, 18, 18, 31, 85, 87, 92, 45, 94, 27, 84, 99, 44, 67, 62, 53, 36, 98, 18, 39, 61, 59, 48, 96, 11, 47, 44, 44, 35, 59, 31, 29, 11, 62, 26, 42, 28, 83, 69, 23, 17, 22, 11, 31, 31, 83, 74, 91, 77, 22, 49, 12, 38, 55, 79, 15, 43, 51, 61, 77, 14, 76, 33, 91, 85, 83, 19, 11, 36, 27, 43, 29, 89, 33, 11, 72, 77, 46, 33, 78, 31, 19, 84, 59, 49, 39, 24, 63, 16, 82, 97, 48, 37, 33, 39, 31, 42, 63, 47, 71, 42, 54, 17, 22, 37, 94, 19, 67, 32, 46, 46, 29, 11, 34, 82, 58, 91, 11, 55, 65, 67, 77, 55, 76, 89, 92, 59, 27, 66, 79, 85, 41, 25, 27, 13, 44, 42, 61, 96, 99, 77, 13, 43, 59, 48, 41, 46, 45, 65, 85, 33, 32, 99, 41, 22, 44, 52, 77, 15, 89, 32, 41, 48, 35, 18, 22, 85, 45, 17, 94, 47, 96, 81, 24, 23, 46, 66, 86, 66, 81, 88, 24, 55, 96, 49, 79, 85, 54, 92, 42, 19, 47, 33, 13, 58, 66, 87, 11, 27, 88, 11, 37, 71, 44, 35, 55, 15, 69, 44, 45, 83, 99, 11, 43, 99, 23, 74, 71, 75, 27, 36, 61, 19, 46, 55, 17, 19, 93, 19, 42, 28, 88, 11, 29, 66, 26, 69, 24, 78, 73, 57, 88, 26, 88, 61, 62, 68, 29, 26, 96, 17, 76, 21, 39, 28, 22, 86, 56, 76, 63, 82, 64, 16, 56, 81, 71, 91, 45, 73, 63, 25, 83, 64, 88, 78, 62, 77, 33, 54, 56, 77, 14, 88, 88, 54, 58, 52, 24, 44, 41, 18, 97, 77, 38, 29, 82, 41, 96, 86, 38, 66, 74, 38, 22, 49, 49, 86, 37, 21, 12, 65, 71, 85, 16, 55, 59, 57, 91, 19, 47, 79, 86, 96, 41, 99, 47, 93, 58, 46, 77, 33, 87, 21, 88, 81, 13, 31, 98, 85, 14, 49, 97, 12, 64, 96, 14, 38, 49, 56, 87, 89, 77, 56, 99, 11, 36, 38, 23, 44, 58, 32, 45, 71, 51, 45, 65, 77, 63, 32, 87, 33, 89, 71, 75, 44, 53, 38, 28, 58, 89, 18, 71, 31, 79, 52, 77, 87, 95, 88, 79, 38, 12, 48, 21, 11, 11, 61, 13, 87, 73, 74, 54, 98, 18, 55, 15, 71, 74, 74, 55, 68, 12, 82, 94, 95, 93, 17, 76, 56, 99, 79, 61, 75, 31, 32, 59, 95, 15, 64, 37, 59, 23, 45, 34, 95, 17, 71, 16, 73, 27, 64, 44, 96, 27, 43, 79, 46, 89, 92, 41, 33, 52, 43, 81, 35, 71, 83, 64, 59, 38, 42, 46, 94, 68, 18, 22, 26, 52, 21, 14, 63, 56, 88, 11, 62, 12, 47, 17, 22, 63, 46, 63, 89, 81, 24, 47, 57, 68, 55, 42, 83, 48, 98, 81, 25, 77, 42, 51, 66, 77, 23, 66, 64, 31, 37, 93, 53, 66, 38, 42, 33, 71, 88, 18, 34, 76, 97, 25, 63, 89, 67, 11, 47, 85, 27, 43, 49, 43, 77, 69, 93, 21, 27, 89, 11, 38, 31, 44, 83, 73, 54, 11, 13, 24, 52, 97, 75, 67, 81, 76, 35, 72, 82, 94, 92, 64, 93, 44, 55, 27, 72, 47, 17, 27, 97, 98, 88, 14, 99, 63, 69, 77, 53, 11, 66, 33, 35, 61, 14, 83, 55, 33, 31, 61, 61, 25, 62, 61, 99, 99, 35, 25, 37, 37, 87, 95, 52, 42, 37, 48, 99, 42, 12, 53, 33, 59, 18, 11, 89, 91, 36, 93, 75, 34, 97, 57, 45, 54, 66, 76, 18, 67, 21, 94, 15, 22, 18, 88, 16, 13, 41, 16, 59, 39, 31, 32, 23, 18, 64, 47, 41, 82]\n",
      "The sum of all calibration values is 53846.\n"
     ]
    },
    {
     "data": {
      "text/plain": [
       "53846"
      ]
     },
     "execution_count": 13,
     "metadata": {},
     "output_type": "execute_result"
    }
   ],
   "source": [
    "day01b(filepath)"
   ]
  },
  {
   "cell_type": "code",
   "execution_count": null,
   "id": "fa3ce497",
   "metadata": {},
   "outputs": [],
   "source": []
  }
 ],
 "metadata": {
  "kernelspec": {
   "display_name": "Python 3 (ipykernel)",
   "language": "python",
   "name": "python3"
  },
  "language_info": {
   "codemirror_mode": {
    "name": "ipython",
    "version": 3
   },
   "file_extension": ".py",
   "mimetype": "text/x-python",
   "name": "python",
   "nbconvert_exporter": "python",
   "pygments_lexer": "ipython3",
   "version": "3.10.9"
  }
 },
 "nbformat": 4,
 "nbformat_minor": 5
}
