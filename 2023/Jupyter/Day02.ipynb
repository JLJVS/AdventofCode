{
 "cells": [
  {
   "cell_type": "markdown",
   "id": "dcda03c1",
   "metadata": {},
   "source": [
    "--- Day 2: Cube Conundrum ---\n",
    "\n",
    "You're launched high into the atmosphere! The apex of your trajectory just barely reaches the surface of a large island floating in the sky. You gently land in a fluffy pile of leaves. It's quite cold, but you don't see much snow. An Elf runs over to greet you.\n",
    "\n",
    "The Elf explains that you've arrived at Snow Island and apologizes for the lack of snow. He'll be happy to explain the situation, but it's a bit of a walk, so you have some time. They don't get many visitors up here; would you like to play a game in the meantime?\n",
    "\n",
    "As you walk, the Elf shows you a small bag and some cubes which are either red, green, or blue. Each time you play this game, he will hide a secret number of cubes of each color in the bag, and your goal is to figure out information about the number of cubes.\n",
    "\n",
    "To get information, once a bag has been loaded with cubes, the Elf will reach into the bag, grab a handful of random cubes, show them to you, and then put them back in the bag. He'll do this a few times per game.\n",
    "\n",
    "You play several games and record the information from each game (your puzzle input). Each game is listed with its ID number (like the 11 in Game 11: ...) followed by a semicolon-separated list of subsets of cubes that were revealed from the bag (like 3 red, 5 green, 4 blue).\n",
    "\n",
    "For example, the record of a few games might look like this:\n",
    "\n",
    "Game 1: 3 blue, 4 red; 1 red, 2 green, 6 blue; 2 green  \n",
    "Game 2: 1 blue, 2 green; 3 green, 4 blue, 1 red; 1 green, 1 blue  \n",
    "Game 3: 8 green, 6 blue, 20 red; 5 blue, 4 red, 13 green; 5 green, 1 red  \n",
    "Game 4: 1 green, 3 red, 6 blue; 3 green, 6 red; 3 green, 15 blue, 14 red  \n",
    "Game 5: 6 red, 1 blue, 3 green; 2 blue, 1 red, 2 green  \n",
    "\n",
    "In game 1, three sets of cubes are revealed from the bag (and then put back again). The first set is 3 blue cubes and 4 red cubes; the second set is 1 red cube, 2 green cubes, and 6 blue cubes; the third set is only 2 green cubes.\n",
    "\n",
    "The Elf would first like to know which games would have been possible if the bag contained only 12 red cubes, 13 green cubes, and 14 blue cubes?\n",
    "\n",
    "In the example above, games 1, 2, and 5 would have been possible if the bag had been loaded with that configuration. However, game 3 would have been impossible because at one point the Elf showed you 20 red cubes at once; similarly, game 4 would also have been impossible because the Elf showed you 15 blue cubes at once. If you add up the IDs of the games that would have been possible, you get 8.\n",
    "\n",
    "Determine which games would have been possible if the bag had been loaded with only 12 red cubes, 13 green cubes, and 14 blue cubes. What is the sum of the IDs of those games?\n",
    "\n",
    "\n",
    "--- Part Two ---\n",
    "\n",
    "The Elf says they've stopped producing snow because they aren't getting any water! He isn't sure why the water stopped; however, he can show you how to get to the water source to check it out for yourself. It's just up ahead!\n",
    "\n",
    "As you continue your walk, the Elf poses a second question: in each game you played, what is the fewest number of cubes of each color that could have been in the bag to make the game possible?\n",
    "\n",
    "Again consider the example games from earlier:\n",
    "\n",
    "Game 1: 3 blue, 4 red; 1 red, 2 green, 6 blue; 2 green  \n",
    "Game 2: 1 blue, 2 green; 3 green, 4 blue, 1 red; 1 green, 1 blue  \n",
    "Game 3: 8 green, 6 blue, 20 red; 5 blue, 4 red, 13 green; 5 green, 1 red  \n",
    "Game 4: 1 green, 3 red, 6 blue; 3 green, 6 red; 3 green, 15 blue, 14 red  \n",
    "Game 5: 6 red, 1 blue, 3 green; 2 blue, 1 red, 2 green  \n",
    "\n",
    "    In game 1, the game could have been played with as few as 4 red, 2 green, and 6 blue cubes. If any color had even one fewer cube, the game would have been impossible.\n",
    "    Game 2 could have been played with a minimum of 1 red, 3 green, and 4 blue cubes.\n",
    "    Game 3 must have been played with at least 20 red, 13 green, and 6 blue cubes.\n",
    "    Game 4 required at least 14 red, 3 green, and 15 blue cubes.\n",
    "    Game 5 needed no fewer than 6 red, 3 green, and 2 blue cubes in the bag.\n",
    "\n",
    "The power of a set of cubes is equal to the numbers of red, green, and blue cubes multiplied together. The power of the minimum set of cubes in game 1 is 48. In games 2-5 it was 12, 1560, 630, and 36, respectively. Adding up these five powers produces the sum 2286.\n",
    "\n",
    "For each game, find the minimum set of cubes that must have been present. What is the sum of the power of these sets?\n"
   ]
  },
  {
   "cell_type": "code",
   "execution_count": 1,
   "id": "d2d36dfc",
   "metadata": {},
   "outputs": [],
   "source": [
    "filepath = \"..\\\\data\\\\input_day_02.txt\"\n",
    "test1 = \"..\\\\test\\\\test02_1.txt\"\n",
    "test2 = \"..\\\\test\\\\test02_2.txt\""
   ]
  },
  {
   "cell_type": "code",
   "execution_count": 2,
   "id": "02c042d9",
   "metadata": {},
   "outputs": [],
   "source": [
    "def read_input(filepath):\n",
    "    with open(filepath, 'r') as f:\n",
    "        lines = f.readlines()\n",
    "    \n",
    "    return lines"
   ]
  },
  {
   "cell_type": "code",
   "execution_count": 3,
   "id": "df23fdbc",
   "metadata": {},
   "outputs": [],
   "source": [
    "def convert_input(lines):\n",
    "    '''\n",
    "    Converts the raw game info (lines) and seperates each game into the rounds played with [r, g, b] values per round\n",
    "    i.e. \n",
    "    Game 1: 3 blue, 4 red; 1 red, 2 green, 6 blue; 2 green\n",
    "    -> [[4, 0, 3], [1, 2, 6], [0, 2, 0]]\n",
    "    '''\n",
    "    \n",
    "    games = []\n",
    "    for line in lines:\n",
    "        # split a game into it's rounds \n",
    "        rounds = line.strip().split(\":\")[1].split(\";\")\n",
    "        # we're going to store the results of the rounds in parsed\n",
    "        # [r g b]\n",
    "        parsed = [[0 for _ in range(3)] for _ in range(len(rounds))]\n",
    "        for i, round in enumerate(rounds):\n",
    "            cubes = round.split(\",\")\n",
    "            for cube in cubes:\n",
    "                val = int(cube.split()[0])\n",
    "                if \"red\" in cube:\n",
    "                    j = 0\n",
    "                if \"green\" in cube:\n",
    "                    j = 1\n",
    "                if \"blue\" in cube:\n",
    "                    j = 2\n",
    "                parsed[i][j] = val\n",
    "        games.append(parsed)\n",
    "    return games"
   ]
  },
  {
   "cell_type": "code",
   "execution_count": 4,
   "id": "a527534c",
   "metadata": {},
   "outputs": [],
   "source": [
    "def eval_game(game, target=[12, 13, 14]):\n",
    "    '''\n",
    "    If it finds a color value higher than the allowed values (target) it returns false, otherwise true\n",
    "    '''\n",
    "    \n",
    "    for r in game:\n",
    "        for i, cube in enumerate(r):\n",
    "            if cube > target[i]:\n",
    "                return False\n",
    "    \n",
    "    return True"
   ]
  },
  {
   "cell_type": "code",
   "execution_count": 5,
   "id": "601690ce",
   "metadata": {},
   "outputs": [],
   "source": [
    "def min_game(game):\n",
    "    '''\n",
    "    Finds the min required values for red, green and blue for a game and returns\n",
    "    the minimum values counts for red, green and blue.\n",
    "    '''\n",
    "    \n",
    "    min_r, min_g, min_b = 0,0,0\n",
    "    \n",
    "    for r in game:\n",
    "        red, green, blue = r\n",
    "        min_r = max(min_r, red)\n",
    "        min_b = max(min_b, blue)\n",
    "        min_g = max(min_g, green)\n",
    "        \n",
    "    return min_r, min_g, min_b"
   ]
  },
  {
   "cell_type": "code",
   "execution_count": 6,
   "id": "26c2ea91",
   "metadata": {},
   "outputs": [],
   "source": [
    "def day02a(filepath, target=[12, 13, 14]):\n",
    "    \n",
    "    lines = read_input(filepath)\n",
    "    games = convert_input(lines)\n",
    "    total = 0\n",
    "    \n",
    "    for i, game in enumerate(games):\n",
    "        if eval_game(game, target):\n",
    "            total += i+1\n",
    "    \n",
    "    print(f\"The sum of possible game ID's is: {total}.\")\n",
    "    return total"
   ]
  },
  {
   "cell_type": "code",
   "execution_count": 7,
   "id": "d2e201d1",
   "metadata": {},
   "outputs": [],
   "source": [
    "def day02b(filepath):\n",
    "    \n",
    "    lines = read_input(filepath)\n",
    "    games = convert_input(lines)\n",
    "    total = 0\n",
    "    \n",
    "    for i, game in enumerate(games):\n",
    "        r,g,b = min_game(game)\n",
    "        total += r*g*b\n",
    "    \n",
    "    print(f\"The sum of the power of the sets is {total}.\")\n",
    "    return total"
   ]
  },
  {
   "cell_type": "code",
   "execution_count": 8,
   "id": "d758891f",
   "metadata": {},
   "outputs": [],
   "source": [
    "def test02():\n",
    "    \n",
    "    # test on input\n",
    "    assert day02a(test1) == 8\n",
    "    assert day02b(test1) == 2286\n",
    "    print(\"Passed all tests\")"
   ]
  },
  {
   "cell_type": "code",
   "execution_count": 9,
   "id": "894db144",
   "metadata": {},
   "outputs": [
    {
     "name": "stdout",
     "output_type": "stream",
     "text": [
      "The sum of possible game ID's is: 8.\n",
      "The sum of the power of the sets is 2286.\n",
      "Passed all tests\n"
     ]
    }
   ],
   "source": [
    "test02()"
   ]
  },
  {
   "cell_type": "code",
   "execution_count": 10,
   "id": "1289590c",
   "metadata": {},
   "outputs": [
    {
     "name": "stdout",
     "output_type": "stream",
     "text": [
      "The sum of possible game ID's is: 2716.\n"
     ]
    },
    {
     "data": {
      "text/plain": [
       "2716"
      ]
     },
     "execution_count": 10,
     "metadata": {},
     "output_type": "execute_result"
    }
   ],
   "source": [
    "day02a(filepath)"
   ]
  },
  {
   "cell_type": "code",
   "execution_count": 11,
   "id": "351c3131",
   "metadata": {},
   "outputs": [
    {
     "name": "stdout",
     "output_type": "stream",
     "text": [
      "The sum of the power of the sets is 72227.\n"
     ]
    },
    {
     "data": {
      "text/plain": [
       "72227"
      ]
     },
     "execution_count": 11,
     "metadata": {},
     "output_type": "execute_result"
    }
   ],
   "source": [
    "day02b(filepath)"
   ]
  }
 ],
 "metadata": {
  "kernelspec": {
   "display_name": "Python 3 (ipykernel)",
   "language": "python",
   "name": "python3"
  },
  "language_info": {
   "codemirror_mode": {
    "name": "ipython",
    "version": 3
   },
   "file_extension": ".py",
   "mimetype": "text/x-python",
   "name": "python",
   "nbconvert_exporter": "python",
   "pygments_lexer": "ipython3",
   "version": "3.10.9"
  }
 },
 "nbformat": 4,
 "nbformat_minor": 5
}
