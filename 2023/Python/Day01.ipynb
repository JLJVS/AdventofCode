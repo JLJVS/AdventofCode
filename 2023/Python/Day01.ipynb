{
 "cells": [
  {
   "cell_type": "markdown",
   "id": "a4839e7c",
   "metadata": {},
   "source": [
    "--- Day 1: Trebuchet?! ---\n",
    "\n",
    "Something is wrong with global snow production, and you've been selected to take a look. The Elves have even given you a map; on it, they've used stars to mark the top fifty locations that are likely to be having problems.\n",
    "\n",
    "You've been doing this long enough to know that to restore snow operations, you need to check all fifty stars by December 25th.\n",
    "\n",
    "Collect stars by solving puzzles. Two puzzles will be made available on each day in the Advent calendar; the second puzzle is unlocked when you complete the first. Each puzzle grants one star. Good luck!\n",
    "\n",
    "You try to ask why they can't just use a weather machine (\"not powerful enough\") and where they're even sending you (\"the sky\") and why your map looks mostly blank (\"you sure ask a lot of questions\") and hang on did you just say the sky (\"of course, where do you think snow comes from\") when you realize that the Elves are already loading you into a trebuchet (\"please hold still, we need to strap you in\").\n",
    "\n",
    "As they're making the final adjustments, they discover that their calibration document (your puzzle input) has been amended by a very young Elf who was apparently just excited to show off her art skills. Consequently, the Elves are having trouble reading the values on the document.\n",
    "\n",
    "The newly-improved calibration document consists of lines of text; each line originally contained a specific calibration value that the Elves now need to recover. On each line, the calibration value can be found by combining the first digit and the last digit (in that order) to form a single two-digit number.\n",
    "\n",
    "For example:\n",
    "\n",
    "1abc2  \n",
    "pqr3stu8vwx  \n",
    "a1b2c3d4e5f  \n",
    "treb7uchet  \n",
    "\n",
    "In this example, the calibration values of these four lines are 12, 38, 15, and 77. Adding these together produces 142.\n",
    "\n",
    "Consider your entire calibration document. What is the sum of all of the calibration values?\n",
    "\n",
    "\n",
    "--- Part Two ---\n",
    "\n",
    "Your calculation isn't quite right. It looks like some of the digits are actually spelled out with letters: one, two, three, four, five, six, seven, eight, and nine also count as valid \"digits\".\n",
    "\n",
    "Equipped with this new information, you now need to find the real first and last digit on each line. For example:\n",
    "\n",
    "two1nine  \n",
    "eightwothree  \n",
    "abcone2threexyz  \n",
    "xtwone3four  \n",
    "4nineeightseven2  \n",
    "zoneight234  \n",
    "7pqrstsixteen  \n",
    "\n",
    "In this example, the calibration values are 29, 83, 13, 24, 42, 14, and 76. Adding these together produces 281.\n",
    "\n",
    "What is the sum of all of the calibration values?\n",
    "\n"
   ]
  },
  {
   "cell_type": "code",
   "execution_count": 1,
   "id": "5798108c",
   "metadata": {},
   "outputs": [],
   "source": [
    "filepath = \"..\\\\data\\\\input_day_01.txt\"\n",
    "test1 = \"..\\\\test\\\\test01_1.txt\"\n",
    "test2 = \"..\\\\test\\\\test01_2.txt\""
   ]
  },
  {
   "cell_type": "code",
   "execution_count": 2,
   "id": "09d9aa77",
   "metadata": {},
   "outputs": [],
   "source": [
    "def read_input(filepath):\n",
    "    with open(filepath, 'r') as f:\n",
    "        lines = f.readlines()\n",
    "    \n",
    "    return lines\n"
   ]
  },
  {
   "cell_type": "code",
   "execution_count": 3,
   "id": "c29c4ef2",
   "metadata": {},
   "outputs": [],
   "source": [
    "def extract_numbers(lines):\n",
    "    \n",
    "    numbers = []\n",
    "    \n",
    "    for line in lines:\n",
    "        num = \"\"\n",
    "        for char in line:\n",
    "            # check if the character is a digit\n",
    "            if char.isdigit():\n",
    "                num += char\n",
    "        num = num[0]+num[-1]\n",
    "        numbers.append(int(num))\n",
    "        \n",
    "    return numbers"
   ]
  },
  {
   "cell_type": "code",
   "execution_count": 4,
   "id": "7881f8e4",
   "metadata": {},
   "outputs": [],
   "source": [
    "def extract_written_numbers(lines):\n",
    "    \n",
    "    \n",
    "    numbers = []\n",
    "    written = {\"one\":\"1\", \"two\":\"2\", \"three\":\"3\",\n",
    "              \"four\":\"4\", \"five\":\"5\", \"six\":\"6\",\n",
    "              \"seven\":\"7\", \"eight\":\"8\", \"nine\":\"9\"}\n",
    "    \n",
    "    for line in lines:\n",
    "        first_digit = \"\"\n",
    "        first_digit_index = 1000\n",
    "        last_digit = \"\"\n",
    "        last_digit_index = -1\n",
    "        \n",
    "        \n",
    "        # check for digits\n",
    "        for i, char in enumerate(line):\n",
    "            if char.isdigit():\n",
    "                if i<first_digit_index:\n",
    "                    first_digit = char\n",
    "                    first_digit_index = i\n",
    "                if i>last_digit_index:\n",
    "                    last_digit = char\n",
    "                    last_digit_index = i\n",
    "        \n",
    "        # convert the digit to find the reversed value see below why\n",
    "        last_digit_index = len(line) - 1 - last_digit_index\n",
    "        \n",
    "        # check for written digits\n",
    "        for written_number in written.keys():\n",
    "            first_index = line.find(written_number)\n",
    "            # reverse the string and the digit to check for a list digit\n",
    "            last_index = line[::-1].find(written_number[::-1])\n",
    "            \n",
    "            if first_index != -1:\n",
    "                                \n",
    "                if first_index<first_digit_index:\n",
    "                    first_digit = written[written_number]\n",
    "                    first_digit_index = first_index\n",
    "           \n",
    "                if last_index<last_digit_index:\n",
    "                    last_digit = written[written_number]\n",
    "                    last_digit_index = last_index\n",
    "        \n",
    "        numbers.append(int(first_digit+last_digit))\n",
    "    return numbers"
   ]
  },
  {
   "cell_type": "code",
   "execution_count": 5,
   "id": "c3d636ee",
   "metadata": {},
   "outputs": [],
   "source": [
    "def day01a(filepath):\n",
    "    \n",
    "    lines = read_input(filepath)\n",
    "    numbers = extract_numbers(lines)\n",
    "    \n",
    "    print(f\"The sum of all calibration values is {sum(numbers)}.\")\n",
    "    return sum(numbers)"
   ]
  },
  {
   "cell_type": "code",
   "execution_count": 6,
   "id": "c3d1bc60",
   "metadata": {},
   "outputs": [],
   "source": [
    "def day01b(filepath):\n",
    "    \n",
    "    lines = read_input(filepath)\n",
    "    numbers = extract_written_numbers(lines)\n",
    "    #print(numbers)\n",
    "    print(f\"The sum of all calibration values is {sum(numbers)}.\")\n",
    "    return sum(numbers)"
   ]
  },
  {
   "cell_type": "code",
   "execution_count": 7,
   "id": "0a45e142",
   "metadata": {},
   "outputs": [],
   "source": [
    "def test01():\n",
    "    \n",
    "    # test on the file input\n",
    "    assert day01a(test1) == 142\n",
    "    assert day01b(test2) == 281\n",
    "    print(\"Passed all tests\")"
   ]
  },
  {
   "cell_type": "code",
   "execution_count": 8,
   "id": "cf1098de",
   "metadata": {},
   "outputs": [
    {
     "name": "stdout",
     "output_type": "stream",
     "text": [
      "The sum of all calibration values is 142.\n",
      "The sum of all calibration values is 281.\n",
      "Passed all tests\n"
     ]
    }
   ],
   "source": [
    "test01()"
   ]
  },
  {
   "cell_type": "code",
   "execution_count": 9,
   "id": "dee26512",
   "metadata": {},
   "outputs": [
    {
     "name": "stdout",
     "output_type": "stream",
     "text": [
      "The sum of all calibration values is 54634.\n"
     ]
    },
    {
     "data": {
      "text/plain": [
       "54634"
      ]
     },
     "execution_count": 9,
     "metadata": {},
     "output_type": "execute_result"
    }
   ],
   "source": [
    "day01a(filepath)"
   ]
  },
  {
   "cell_type": "code",
   "execution_count": 10,
   "id": "6a49edab",
   "metadata": {},
   "outputs": [
    {
     "name": "stdout",
     "output_type": "stream",
     "text": [
      "The sum of all calibration values is 53855.\n"
     ]
    },
    {
     "data": {
      "text/plain": [
       "53855"
      ]
     },
     "execution_count": 10,
     "metadata": {},
     "output_type": "execute_result"
    }
   ],
   "source": [
    "day01b(filepath)"
   ]
  }
 ],
 "metadata": {
  "kernelspec": {
   "display_name": "Python 3 (ipykernel)",
   "language": "python",
   "name": "python3"
  },
  "language_info": {
   "codemirror_mode": {
    "name": "ipython",
    "version": 3
   },
   "file_extension": ".py",
   "mimetype": "text/x-python",
   "name": "python",
   "nbconvert_exporter": "python",
   "pygments_lexer": "ipython3",
   "version": "3.10.9"
  }
 },
 "nbformat": 4,
 "nbformat_minor": 5
}
