{
 "cells": [
  {
   "cell_type": "markdown",
   "id": "98378e57",
   "metadata": {},
   "source": [
    "--- Day 5: If You Give A Seed A Fertilizer ---\n",
    "\n",
    "You take the boat and find the gardener right where you were told he would be: managing a giant \"garden\" that looks more to you like a farm.\n",
    "\n",
    "\"A water source? Island Island is the water source!\" You point out that Snow Island isn't receiving any water.\n",
    "\n",
    "\"Oh, we had to stop the water because we ran out of sand to filter it with! Can't make snow with dirty water. Don't worry, I'm sure we'll get more sand soon; we only turned off the water a few days... weeks... oh no.\" His face sinks into a look of horrified realization.\n",
    "\n",
    "\"I've been so busy making sure everyone here has food that I completely forgot to check why we stopped getting more sand! There's a ferry leaving soon that is headed over in that direction - it's much faster than your boat. Could you please go check it out?\"\n",
    "\n",
    "You barely have time to agree to this request when he brings up another. \"While you wait for the ferry, maybe you can help us with our food production problem. The latest Island Island Almanac just arrived and we're having trouble making sense of it.\"\n",
    "\n",
    "The almanac (your puzzle input) lists all of the seeds that need to be planted. It also lists what type of soil to use with each kind of seed, what type of fertilizer to use with each kind of soil, what type of water to use with each kind of fertilizer, and so on. Every type of seed, soil, fertilizer and so on is identified with a number, but numbers are reused by each category - that is, soil 123 and fertilizer 123 aren't necessarily related to each other.\n",
    "\n",
    "For example:\n",
    "\n",
    "seeds: 79 14 55 13  \n",
    "\n",
    "seed-to-soil map:  \n",
    "50 98 2  \n",
    "52 50 48  \n",
    "\n",
    "soil-to-fertilizer map:  \n",
    "0 15 37  \n",
    "37 52 2  \n",
    "39 0 15  \n",
    "\n",
    "fertilizer-to-water map:  \n",
    "49 53 8  \n",
    "0 11 42  \n",
    "42 0 7  \n",
    "57 7 4  \n",
    "\n",
    "water-to-light map:  \n",
    "88 18 7  \n",
    "18 25 70  \n",
    "\n",
    "light-to-temperature map:  \n",
    "45 77 23  \n",
    "81 45 19  \n",
    "68 64 13  \n",
    "\n",
    "temperature-to-humidity map:  \n",
    "0 69 1  \n",
    "1 0 69  \n",
    "\n",
    "humidity-to-location map:  \n",
    "60 56 37  \n",
    "56 93 4  \n",
    "\n",
    "The almanac starts by listing which seeds need to be planted: seeds 79, 14, 55, and 13.\n",
    "\n",
    "The rest of the almanac contains a list of maps which describe how to convert numbers from a source category into numbers in a destination category. That is, the section that starts with seed-to-soil map: describes how to convert a seed number (the source) to a soil number (the destination). This lets the gardener and his team know which soil to use with which seeds, which water to use with which fertilizer, and so on.\n",
    "\n",
    "Rather than list every source number and its corresponding destination number one by one, the maps describe entire ranges of numbers that can be converted. Each line within a map contains three numbers: the destination range start, the source range start, and the range length.\n",
    "\n",
    "Consider again the example seed-to-soil map:  \n",
    "\n",
    "50 98 2  \n",
    "52 50 48  \n",
    "\n",
    "The first line has a destination range start of 50, a source range start of 98, and a range length of 2. This line means that the source range starts at 98 and contains two values: 98 and 99. The destination range is the same length, but it starts at 50, so its two values are 50 and 51. With this information, you know that seed number 98 corresponds to soil number 50 and that seed number 99 corresponds to soil number 51.\n",
    "\n",
    "The second line means that the source range starts at 50 and contains 48 values: 50, 51, ..., 96, 97. This corresponds to a destination range starting at 52 and also containing 48 values: 52, 53, ..., 98, 99. So, seed number 53 corresponds to soil number 55.\n",
    "\n",
    "Any source numbers that aren't mapped correspond to the same destination number. So, seed number 10 corresponds to soil number 10.\n",
    "\n",
    "So, the entire list of seed numbers and their corresponding soil numbers looks like this:\n",
    "\n",
    "seed  soil  \n",
    "0     0  \n",
    "1     1  \n",
    "...   ...  \n",
    "48    48  \n",
    "49    49  \n",
    "50    52  \n",
    "51    53  \n",
    "...   ...  \n",
    "96    98  \n",
    "97    99  \n",
    "98    50  \n",
    "99    51  \n",
    "\n",
    "With this map, you can look up the soil number required for each initial seed number:\n",
    "\n",
    "    Seed number 79 corresponds to soil number 81.  \n",
    "    Seed number 14 corresponds to soil number 14.  \n",
    "    Seed number 55 corresponds to soil number 57.  \n",
    "    Seed number 13 corresponds to soil number 13.  \n",
    "\n",
    "The gardener and his team want to get started as soon as possible, so they'd like to know the closest location that needs a seed. Using these maps, find the lowest location number that corresponds to any of the initial seeds. To do this, you'll need to convert each seed number through other categories until you can find its corresponding location number. In this example, the corresponding types are:\n",
    "\n",
    "    Seed 79, soil 81, fertilizer 81, water 81, light 74, temperature 78, humidity 78, location 82.  \n",
    "    Seed 14, soil 14, fertilizer 53, water 49, light 42, temperature 42, humidity 43, location 43.  \n",
    "    Seed 55, soil 57, fertilizer 57, water 53, light 46, temperature 82, humidity 82, location 86.  \n",
    "    Seed 13, soil 13, fertilizer 52, water 41, light 34, temperature 34, humidity 35, location 35.  \n",
    "\n",
    "So, the lowest location number in this example is 35.\n",
    "\n",
    "What is the lowest location number that corresponds to any of the initial seed numbers?\n",
    "\n",
    "\n",
    "--- Part Two ---\n",
    "\n",
    "Everyone will starve if you only plant such a small number of seeds. Re-reading the almanac, it looks like the seeds: line actually describes ranges of seed numbers.\n",
    "\n",
    "The values on the initial seeds: line come in pairs. Within each pair, the first value is the start of the range and the second value is the length of the range. So, in the first line of the example above:\n",
    "\n",
    "seeds: 79 14 55 13\n",
    "\n",
    "This line describes two ranges of seed numbers to be planted in the garden. The first range starts with seed number 79 and contains 14 values: 79, 80, ..., 91, 92. The second range starts with seed number 55 and contains 13 values: 55, 56, ..., 66, 67.\n",
    "\n",
    "Now, rather than considering four seed numbers, you need to consider a total of 27 seed numbers.\n",
    "\n",
    "In the above example, the lowest location number can be obtained from seed number 82, which corresponds to soil 84, fertilizer 84, water 84, light 77, temperature 45, humidity 46, and location 46. So, the lowest location number is 46.\n",
    "\n",
    "Consider all of the initial seed numbers listed in the ranges on the first line of the almanac. What is the lowest location number that corresponds to any of the initial seed numbers?\n"
   ]
  },
  {
   "cell_type": "code",
   "execution_count": 1,
   "id": "e252716d",
   "metadata": {},
   "outputs": [],
   "source": [
    "filepath = \"..\\\\data\\\\input_day_05.txt\"\n",
    "test1 = \"..\\\\test\\\\test05_1.txt\"\n",
    "test2 = \"..\\\\test\\\\test05_2.txt\""
   ]
  },
  {
   "cell_type": "code",
   "execution_count": 2,
   "id": "eb8b832d",
   "metadata": {},
   "outputs": [],
   "source": [
    "def read_input(filepath):\n",
    "    with open(filepath, 'r') as f:\n",
    "        lines = f.readlines()\n",
    "    \n",
    "    return lines"
   ]
  },
  {
   "cell_type": "code",
   "execution_count": 3,
   "id": "ec78a50c",
   "metadata": {},
   "outputs": [],
   "source": [
    "def get_seeds(lines):\n",
    "    \n",
    "    seeds = []\n",
    "    for i in lines[0].strip().split(\":\")[1].split():\n",
    "        seeds.append(int(i))\n",
    "    return seeds"
   ]
  },
  {
   "cell_type": "code",
   "execution_count": 4,
   "id": "55b50c2a",
   "metadata": {},
   "outputs": [],
   "source": [
    "def convert_seeds(seeds):\n",
    "    new_seeds = set()\n",
    "    N = len(seeds)\n",
    "    for i in range(0, N, 2):\n",
    "        #print(seeds[i], seeds[i+1])\n",
    "        [new_seeds.add(j) for j in range(seeds[i], seeds[i]+ seeds[i+1])]\n",
    "    return new_seeds"
   ]
  },
  {
   "cell_type": "code",
   "execution_count": 5,
   "id": "dcd47028",
   "metadata": {},
   "outputs": [],
   "source": [
    "def get_mapping(lines):\n",
    "    mapping = dict()\n",
    "    found_Start = False\n",
    "    start = \"map\"\n",
    "    for line in lines:\n",
    "        if line == \"\\n\":\n",
    "            found_Start = False\n",
    "        if found_Start:\n",
    "            b_start, a_start, N = [int(i) for i in line.split()]\n",
    "            mapping[(a,b)][(a_start, a_start+N)] = b_start\n",
    "        if start in line:\n",
    "            a = line.split(\"-\")[0].strip()\n",
    "            b = line.split()[0].split(\"-\")[-1].strip()\n",
    "            found_Start = True\n",
    "            mapping[(a,b)] = dict()\n",
    "        \n",
    "    return mapping"
   ]
  },
  {
   "cell_type": "code",
   "execution_count": 6,
   "id": "20cb44cc",
   "metadata": {},
   "outputs": [],
   "source": [
    "def get_possibles(a, val,mapping):\n",
    "    \n",
    "    for key in mapping.keys():\n",
    "        if key[0] == a:\n",
    "            b = key[1]\n",
    "            for (a_start, a_end) in mapping[key].keys():\n",
    "                if val in range(a_start, a_end):\n",
    "                    delta = val-a_start\n",
    "                    return b, mapping[key][(a_start, a_end)] + delta\n",
    "            return b, val"
   ]
  },
  {
   "cell_type": "code",
   "execution_count": 7,
   "id": "122e5145",
   "metadata": {},
   "outputs": [],
   "source": [
    "def get_locations(mapping, origin=\"seed\", destination=\"location\", origin_val=-1):\n",
    "    \n",
    "    a = origin\n",
    "    possible = origin_val\n",
    "    while a!=destination:\n",
    "        #print(a, possible)\n",
    "        a, possible = get_possibles(a, possible, mapping)\n",
    "        \n",
    "    #print(possible)\n",
    "    return possible"
   ]
  },
  {
   "cell_type": "code",
   "execution_count": 8,
   "id": "c72641db",
   "metadata": {
    "scrolled": false
   },
   "outputs": [],
   "source": [
    "def day05a(filepath):\n",
    "    \n",
    "    \n",
    "    # read the seeds and the mapping\n",
    "    lines = read_input(filepath)\n",
    "    seeds = get_seeds(lines)\n",
    "    mapping = get_mapping(lines)\n",
    "    \n",
    "    \n",
    "    locations = []\n",
    "    for seed in seeds:\n",
    "        locations.append(get_locations(mapping, origin_val=seed))\n",
    "        \n",
    "    print(f\"The lowest location number is {min(locations)}.\")\n",
    "    return min(locations)"
   ]
  },
  {
   "cell_type": "code",
   "execution_count": 9,
   "id": "e2e9c31d",
   "metadata": {},
   "outputs": [],
   "source": [
    "def day05b(filepath):\n",
    "    \n",
    "    \n",
    "    # read the seeds and the mapping\n",
    "    lines = read_input(filepath)\n",
    "    seeds = get_seeds(lines)\n",
    "    print(seeds)\n",
    "    seeds = convert_seeds(seeds)\n",
    "    print(seeds)\n",
    "    mapping = get_mapping(lines)\n",
    "    \n",
    "    \n",
    "    locations = []\n",
    "    for seed in seeds:\n",
    "        locations.append(get_locations(mapping, origin_val=seed))\n",
    "        \n",
    "    print(f\"The lowest location number is {min(locations)}.\")\n",
    "    return min(locations)"
   ]
  },
  {
   "cell_type": "code",
   "execution_count": 10,
   "id": "7aa74981",
   "metadata": {},
   "outputs": [],
   "source": [
    "def test05():\n",
    "    \n",
    "    # test get_locations\n",
    "    lines = read_input(test1)\n",
    "    mapping = get_mapping(lines)\n",
    "    \n",
    "    assert get_locations(mapping, origin_val=79) == 82\n",
    "    assert get_locations(mapping, origin_val=14) == 43\n",
    "    assert get_locations(mapping, origin_val=55) == 86\n",
    "    assert get_locations(mapping, origin_val=13) == 35\n",
    "    \n",
    "    print(\"get locations passed all tests\")\n",
    "    \n",
    "    assert day05a(test1)==35\n",
    "    assert day05b(test1)==46\n",
    "    \n",
    "    print(\"Passed the test input\")"
   ]
  },
  {
   "cell_type": "code",
   "execution_count": 11,
   "id": "bdb97cbb",
   "metadata": {},
   "outputs": [
    {
     "name": "stdout",
     "output_type": "stream",
     "text": [
      "get locations passed all tests\n",
      "The lowest location number is 35.\n",
      "[79, 14, 55, 13]\n",
      "{55, 56, 57, 58, 59, 60, 61, 62, 63, 64, 65, 66, 67, 79, 80, 81, 82, 83, 84, 85, 86, 87, 88, 89, 90, 91, 92}\n",
      "The lowest location number is 46.\n",
      "Passed the test input\n"
     ]
    }
   ],
   "source": [
    "test05()"
   ]
  },
  {
   "cell_type": "code",
   "execution_count": 12,
   "id": "a184ba6b",
   "metadata": {},
   "outputs": [
    {
     "name": "stdout",
     "output_type": "stream",
     "text": [
      "The lowest location number is 403695602.\n"
     ]
    },
    {
     "data": {
      "text/plain": [
       "403695602"
      ]
     },
     "execution_count": 12,
     "metadata": {},
     "output_type": "execute_result"
    }
   ],
   "source": [
    "day05a(filepath)"
   ]
  },
  {
   "cell_type": "code",
   "execution_count": 13,
   "id": "fbf8c2d6",
   "metadata": {},
   "outputs": [
    {
     "name": "stdout",
     "output_type": "stream",
     "text": [
      "[629551616, 310303897, 265998072, 58091853, 3217788227, 563748665, 2286940694, 820803307, 1966060902, 108698829, 190045874, 3206262, 4045963015, 223661537, 1544688274, 293696584, 1038807941, 31756878, 1224711373, 133647424]\n"
     ]
    },
    {
     "ename": "MemoryError",
     "evalue": "",
     "output_type": "error",
     "traceback": [
      "\u001b[1;31m---------------------------------------------------------------------------\u001b[0m",
      "\u001b[1;31mMemoryError\u001b[0m                               Traceback (most recent call last)",
      "Cell \u001b[1;32mIn[13], line 1\u001b[0m\n\u001b[1;32m----> 1\u001b[0m \u001b[43mday05b\u001b[49m\u001b[43m(\u001b[49m\u001b[43mfilepath\u001b[49m\u001b[43m)\u001b[49m\n",
      "Cell \u001b[1;32mIn[9], line 8\u001b[0m, in \u001b[0;36mday05b\u001b[1;34m(filepath)\u001b[0m\n\u001b[0;32m      6\u001b[0m seeds \u001b[38;5;241m=\u001b[39m get_seeds(lines)\n\u001b[0;32m      7\u001b[0m \u001b[38;5;28mprint\u001b[39m(seeds)\n\u001b[1;32m----> 8\u001b[0m seeds \u001b[38;5;241m=\u001b[39m \u001b[43mconvert_seeds\u001b[49m\u001b[43m(\u001b[49m\u001b[43mseeds\u001b[49m\u001b[43m)\u001b[49m\n\u001b[0;32m      9\u001b[0m \u001b[38;5;28mprint\u001b[39m(seeds)\n\u001b[0;32m     10\u001b[0m mapping \u001b[38;5;241m=\u001b[39m get_mapping(lines)\n",
      "Cell \u001b[1;32mIn[4], line 6\u001b[0m, in \u001b[0;36mconvert_seeds\u001b[1;34m(seeds)\u001b[0m\n\u001b[0;32m      3\u001b[0m N \u001b[38;5;241m=\u001b[39m \u001b[38;5;28mlen\u001b[39m(seeds)\n\u001b[0;32m      4\u001b[0m \u001b[38;5;28;01mfor\u001b[39;00m i \u001b[38;5;129;01min\u001b[39;00m \u001b[38;5;28mrange\u001b[39m(\u001b[38;5;241m0\u001b[39m, N, \u001b[38;5;241m2\u001b[39m):\n\u001b[0;32m      5\u001b[0m     \u001b[38;5;66;03m#print(seeds[i], seeds[i+1])\u001b[39;00m\n\u001b[1;32m----> 6\u001b[0m     [new_seeds\u001b[38;5;241m.\u001b[39madd(j) \u001b[38;5;28;01mfor\u001b[39;00m j \u001b[38;5;129;01min\u001b[39;00m \u001b[38;5;28mrange\u001b[39m(seeds[i], seeds[i]\u001b[38;5;241m+\u001b[39m seeds[i\u001b[38;5;241m+\u001b[39m\u001b[38;5;241m1\u001b[39m])]\n\u001b[0;32m      7\u001b[0m \u001b[38;5;28;01mreturn\u001b[39;00m new_seeds\n",
      "Cell \u001b[1;32mIn[4], line 6\u001b[0m, in \u001b[0;36m<listcomp>\u001b[1;34m(.0)\u001b[0m\n\u001b[0;32m      3\u001b[0m N \u001b[38;5;241m=\u001b[39m \u001b[38;5;28mlen\u001b[39m(seeds)\n\u001b[0;32m      4\u001b[0m \u001b[38;5;28;01mfor\u001b[39;00m i \u001b[38;5;129;01min\u001b[39;00m \u001b[38;5;28mrange\u001b[39m(\u001b[38;5;241m0\u001b[39m, N, \u001b[38;5;241m2\u001b[39m):\n\u001b[0;32m      5\u001b[0m     \u001b[38;5;66;03m#print(seeds[i], seeds[i+1])\u001b[39;00m\n\u001b[1;32m----> 6\u001b[0m     [\u001b[43mnew_seeds\u001b[49m\u001b[38;5;241;43m.\u001b[39;49m\u001b[43madd\u001b[49m\u001b[43m(\u001b[49m\u001b[43mj\u001b[49m\u001b[43m)\u001b[49m \u001b[38;5;28;01mfor\u001b[39;00m j \u001b[38;5;129;01min\u001b[39;00m \u001b[38;5;28mrange\u001b[39m(seeds[i], seeds[i]\u001b[38;5;241m+\u001b[39m seeds[i\u001b[38;5;241m+\u001b[39m\u001b[38;5;241m1\u001b[39m])]\n\u001b[0;32m      7\u001b[0m \u001b[38;5;28;01mreturn\u001b[39;00m new_seeds\n",
      "\u001b[1;31mMemoryError\u001b[0m: "
     ]
    }
   ],
   "source": [
    "day05b(filepath)"
   ]
  },
  {
   "cell_type": "code",
   "execution_count": null,
   "id": "f83d6b67",
   "metadata": {},
   "outputs": [],
   "source": []
  }
 ],
 "metadata": {
  "kernelspec": {
   "display_name": "Python 3 (ipykernel)",
   "language": "python",
   "name": "python3"
  },
  "language_info": {
   "codemirror_mode": {
    "name": "ipython",
    "version": 3
   },
   "file_extension": ".py",
   "mimetype": "text/x-python",
   "name": "python",
   "nbconvert_exporter": "python",
   "pygments_lexer": "ipython3",
   "version": "3.10.9"
  }
 },
 "nbformat": 4,
 "nbformat_minor": 5
}
