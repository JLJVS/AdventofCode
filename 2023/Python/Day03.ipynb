{
 "cells": [
  {
   "cell_type": "markdown",
   "id": "e22bf58c",
   "metadata": {},
   "source": [
    "--- Day 3: Gear Ratios ---\n",
    "\n",
    "You and the Elf eventually reach a gondola lift station; he says the gondola lift will take you up to the water source, but this is as far as he can bring you. You go inside.\n",
    "\n",
    "It doesn't take long to find the gondolas, but there seems to be a problem: they're not moving.\n",
    "\n",
    "\"Aaah!\"\n",
    "\n",
    "You turn around to see a slightly-greasy Elf with a wrench and a look of surprise. \"Sorry, I wasn't expecting anyone! The gondola lift isn't working right now; it'll still be a while before I can fix it.\" You offer to help.\n",
    "\n",
    "The engineer explains that an engine part seems to be missing from the engine, but nobody can figure out which one. If you can add up all the part numbers in the engine schematic, it should be easy to work out which part is missing.\n",
    "\n",
    "The engine schematic (your puzzle input) consists of a visual representation of the engine. There are lots of numbers and symbols you don't really understand, but apparently any number adjacent to a symbol, even diagonally, is a \"part number\" and should be included in your sum. (Periods (.) do not count as a symbol.)\n",
    "\n",
    "Here is an example engine schematic:\n",
    "\n",
    "467..114..  \n",
    "...*......  \n",
    "..35..633.  \n",
    "......#...  \n",
    "617*......  \n",
    ".....+.58.  \n",
    "..592.....  \n",
    "......755.  \n",
    "...$.*....  \n",
    ".664.598..  \n",
    "\n",
    "In this schematic, two numbers are not part numbers because they are not adjacent to a symbol: 114 (top right) and 58 (middle right). Every other number is adjacent to a symbol and so is a part number; their sum is 4361.\n",
    "\n",
    "Of course, the actual engine schematic is much larger. What is the sum of all of the part numbers in the engine schematic?\n",
    "\n",
    "\n",
    "--- Part Two ---\n",
    "\n",
    "The engineer finds the missing part and installs it in the engine! As the engine springs to life, you jump in the closest gondola, finally ready to ascend to the water source.\n",
    "\n",
    "You don't seem to be going very fast, though. Maybe something is still wrong? Fortunately, the gondola has a phone labeled \"help\", so you pick it up and the engineer answers.\n",
    "\n",
    "Before you can explain the situation, she suggests that you look out the window. There stands the engineer, holding a phone in one hand and waving with the other. You're going so slowly that you haven't even left the station. You exit the gondola.\n",
    "\n",
    "The missing part wasn't the only issue - one of the gears in the engine is wrong. A gear is any * symbol that is adjacent to exactly two part numbers. Its gear ratio is the result of multiplying those two numbers together.\n",
    "\n",
    "This time, you need to find the gear ratio of every gear and add them all up so that the engineer can figure out which gear needs to be replaced.\n",
    "\n",
    "Consider the same engine schematic again:\n",
    "\n",
    "467..114..  \n",
    "...*......  \n",
    "..35..633.  \n",
    "......#...  \n",
    "617*......  \n",
    ".....+.58.  \n",
    "..592.....  \n",
    "......755.  \n",
    "...$.*....  \n",
    ".664.598..  \n",
    "\n",
    "In this schematic, there are two gears. The first is in the top left; it has part numbers 467 and 35, so its gear ratio is 16345. The second gear is in the lower right; its gear ratio is 451490. (The * adjacent to 617 is not a gear because it is only adjacent to one part number.) Adding up all of the gear ratios produces 467835.\n",
    "\n",
    "What is the sum of all of the gear ratios in your engine schematic?\n"
   ]
  },
  {
   "cell_type": "code",
   "execution_count": 1,
   "id": "77e9f018",
   "metadata": {},
   "outputs": [],
   "source": [
    "filepath = \"..\\\\data\\\\input_day_03.txt\"\n",
    "test1 = \"..\\\\test\\\\test03_1.txt\"\n",
    "test2 = \"..\\\\test\\\\test03_2.txt\""
   ]
  },
  {
   "cell_type": "code",
   "execution_count": 2,
   "id": "89c1355b",
   "metadata": {},
   "outputs": [],
   "source": [
    "def read_input(filepath):\n",
    "    with open(filepath, 'r') as f:\n",
    "        lines = f.readlines()\n",
    "    \n",
    "    return lines"
   ]
  },
  {
   "cell_type": "code",
   "execution_count": 3,
   "id": "dab89030",
   "metadata": {},
   "outputs": [],
   "source": [
    "def convert_to_grid(lines):\n",
    "    grid = [list(i.strip()) for i in lines]\n",
    "    return grid"
   ]
  },
  {
   "cell_type": "code",
   "execution_count": 86,
   "id": "20bb9011",
   "metadata": {},
   "outputs": [],
   "source": [
    "def find_specials(grid):\n",
    "    '''\n",
    "    Finds the locations on our grid that are special characters\n",
    "    \n",
    "    i.e.\n",
    "    \n",
    "    ..#\n",
    "    .!.\n",
    "    ...\n",
    "    \n",
    "    returns  [[0,2], [1,1]]\n",
    "    '''\n",
    "    specials = []\n",
    "    not_specials = \"0123456789.\"\n",
    "    \n",
    "    for i, row in enumerate(grid):\n",
    "        for j, col in enumerate(row):\n",
    "            if col not in not_specials:\n",
    "                specials.append([i,j])\n",
    "        \n",
    "    return specials"
   ]
  },
  {
   "cell_type": "code",
   "execution_count": 144,
   "id": "5ce32f62",
   "metadata": {},
   "outputs": [],
   "source": [
    "def find_number(coord, grid):\n",
    "    \n",
    "    i,j = coord\n",
    "    row = grid[i]\n",
    "    N = len(row)\n",
    "    allowed = range(N)\n",
    "    \n",
    "    # find the first digit of the number\n",
    "    while j in allowed:\n",
    "        if row[j-1].isdigit():\n",
    "            j -= 1\n",
    "        else:\n",
    "            break\n",
    "    \n",
    "    # construct the number by going to the right while we still see digits\n",
    "    num = \"\"\n",
    "    while j in allowed:\n",
    "        if row[j].isdigit():\n",
    "            num += row[j]\n",
    "            j += 1\n",
    "        else:\n",
    "            break\n",
    "    \n",
    "    return int(num)\n",
    "    "
   ]
  },
  {
   "cell_type": "code",
   "execution_count": 145,
   "id": "7c18b222",
   "metadata": {},
   "outputs": [],
   "source": [
    "def generate_neighbors(coord):\n",
    "    '''\n",
    "    Finds the adjacent locations on our grid\n",
    "    let C be the coord, returns the coordinates for the following positions\n",
    "    \n",
    "          C_x-1 C_x C_x+1\n",
    "    C_y-1|  x  | x |  x  |\n",
    "    C_y-1|  x  | C |  x  |\n",
    "    C_y+1|  x  | x |  x  |\n",
    "    \n",
    "    '''\n",
    "    x, y = coord\n",
    "    neighbors = []\n",
    "    \n",
    "    for dx in range(-1, 2):\n",
    "        for dy in range(-1, 2):\n",
    "            neighbors.append([x+dx, y+dy])\n",
    "    \n",
    "    return neighbors"
   ]
  },
  {
   "cell_type": "code",
   "execution_count": 199,
   "id": "a4197362",
   "metadata": {},
   "outputs": [],
   "source": [
    "def day03a(filepath):\n",
    "    \n",
    "    # convert our input to a grid \n",
    "    lines = read_input(filepath)\n",
    "    grid = convert_to_grid(lines)\n",
    "    \n",
    "    # create an iterator for allowed values of x and y\n",
    "    allowed = range(len(grid[0]))\n",
    "    \n",
    "    # find the special characters and the corresponding coordinates\n",
    "    specials = find_specials(grid)\n",
    "    \n",
    "    total = 0\n",
    "    for special in specials:\n",
    "        nums = set()\n",
    "        # get all adjacent squares \"neighbors\"\n",
    "        neighbors = generate_neighbors(special)\n",
    "        for neighbor in neighbors:\n",
    "            x, y = neighbor\n",
    "            if (x in allowed) and(y in allowed) and (grid[x][y].isdigit()):\n",
    "                nums.add(find_number(neighbor, grid))\n",
    "        \n",
    "        total += sum(list(nums))\n",
    "    \n",
    "    print(f\"The sum of all machine parts is {total}.\")\n",
    "    return total"
   ]
  },
  {
   "cell_type": "code",
   "execution_count": 202,
   "id": "656787c6",
   "metadata": {},
   "outputs": [],
   "source": [
    "def day03b(filepath):\n",
    "    \n",
    "    # convert our input to a grid \n",
    "    lines = read_input(filepath)\n",
    "    grid = convert_to_grid(lines)\n",
    "    # create an iterator for allowed values of x and y\n",
    "    allowed = range(len(grid[0]))\n",
    "    \n",
    "    # find the special characters and the corresponding coordinates\n",
    "    specials = find_specials(grid)\n",
    "    \n",
    "    total = 0\n",
    "    \n",
    "    for special in specials:\n",
    "        x_s,y_s = special\n",
    "        # we're only interested in the products of two numbers so check for *\n",
    "        if grid[x_s][y_s]==\"*\":\n",
    "            nums = set()\n",
    "            # get all adjacent squares \"neighbors\"\n",
    "            neighbors = generate_neighbors(special)\n",
    "            for neighbor in neighbors:\n",
    "                x, y = neighbor\n",
    "                \n",
    "                if (x in allowed) and(y in allowed) and (grid[x][y].isdigit()):\n",
    "                    nums.add(find_number(neighbor, grid))\n",
    "            \n",
    "            # check if we have two numbers to multiply\n",
    "            if len(nums) == 2:\n",
    "                a, b = nums\n",
    "                total += a*b\n",
    "\n",
    "    print(f\"The sum of all the gear ratios is {total}.\")\n",
    "    return total"
   ]
  },
  {
   "cell_type": "code",
   "execution_count": 203,
   "id": "cfe88638",
   "metadata": {},
   "outputs": [],
   "source": [
    "def test03():\n",
    "    \n",
    "    # check the test input\n",
    "    assert day03a(test1) == 4361\n",
    "    assert day03b(test1) == 467835\n",
    "    print(\"Passed all checks\")\n",
    "    \n",
    "    "
   ]
  },
  {
   "cell_type": "code",
   "execution_count": 204,
   "id": "38a37194",
   "metadata": {},
   "outputs": [
    {
     "name": "stdout",
     "output_type": "stream",
     "text": [
      "The sum of all machine parts is 4361.\n",
      "The sum of all the gear ratios is 467835.\n",
      "Passed all checks\n"
     ]
    }
   ],
   "source": [
    "test03()"
   ]
  },
  {
   "cell_type": "code",
   "execution_count": 205,
   "id": "b521ddaa",
   "metadata": {},
   "outputs": [
    {
     "name": "stdout",
     "output_type": "stream",
     "text": [
      "The sum of all machine parts is 525119.\n"
     ]
    },
    {
     "data": {
      "text/plain": [
       "525119"
      ]
     },
     "execution_count": 205,
     "metadata": {},
     "output_type": "execute_result"
    }
   ],
   "source": [
    "day03a(filepath)"
   ]
  },
  {
   "cell_type": "code",
   "execution_count": 206,
   "id": "1af797c4",
   "metadata": {},
   "outputs": [
    {
     "name": "stdout",
     "output_type": "stream",
     "text": [
      "The sum of all the gear ratios is 76504829.\n"
     ]
    },
    {
     "data": {
      "text/plain": [
       "76504829"
      ]
     },
     "execution_count": 206,
     "metadata": {},
     "output_type": "execute_result"
    }
   ],
   "source": [
    "day03b(filepath)"
   ]
  }
 ],
 "metadata": {
  "kernelspec": {
   "display_name": "Python 3 (ipykernel)",
   "language": "python",
   "name": "python3"
  },
  "language_info": {
   "codemirror_mode": {
    "name": "ipython",
    "version": 3
   },
   "file_extension": ".py",
   "mimetype": "text/x-python",
   "name": "python",
   "nbconvert_exporter": "python",
   "pygments_lexer": "ipython3",
   "version": "3.10.9"
  }
 },
 "nbformat": 4,
 "nbformat_minor": 5
}
