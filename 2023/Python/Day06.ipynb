{
 "cells": [
  {
   "cell_type": "markdown",
   "id": "b767c0dd",
   "metadata": {},
   "source": [
    "--- Day 6: Wait For It ---\n",
    "\n",
    "The ferry quickly brings you across Island Island. After asking around, you discover that there is indeed normally a large pile of sand somewhere near here, but you don't see anything besides lots of water and the small island where the ferry has docked.\n",
    "\n",
    "As you try to figure out what to do next, you notice a poster on a wall near the ferry dock. \"Boat races! Open to the public! Grand prize is an all-expenses-paid trip to Desert Island!\" That must be where the sand comes from! Best of all, the boat races are starting in just a few minutes.\n",
    "\n",
    "You manage to sign up as a competitor in the boat races just in time. The organizer explains that it's not really a traditional race - instead, you will get a fixed amount of time during which your boat has to travel as far as it can, and you win if your boat goes the farthest.\n",
    "\n",
    "As part of signing up, you get a sheet of paper (your puzzle input) that lists the time allowed for each race and also the best distance ever recorded in that race. To guarantee you win the grand prize, you need to make sure you go farther in each race than the current record holder.\n",
    "\n",
    "The organizer brings you over to the area where the boat races are held. The boats are much smaller than you expected - they're actually toy boats, each with a big button on top. Holding down the button charges the boat, and releasing the button allows the boat to move. Boats move faster if their button was held longer, but time spent holding the button counts against the total race time. You can only hold the button at the start of the race, and boats don't move until the button is released.\n",
    "\n",
    "For example:\n",
    "\n",
    "Time:      7  15   30\n",
    "Distance:  9  40  200\n",
    "\n",
    "This document describes three races:\n",
    "\n",
    "    The first race lasts 7 milliseconds. The record distance in this race is 9 millimeters.\n",
    "    The second race lasts 15 milliseconds. The record distance in this race is 40 millimeters.\n",
    "    The third race lasts 30 milliseconds. The record distance in this race is 200 millimeters.\n",
    "\n",
    "Your toy boat has a starting speed of zero millimeters per millisecond. For each whole millisecond you spend at the beginning of the race holding down the button, the boat's speed increases by one millimeter per millisecond.\n",
    "\n",
    "So, because the first race lasts 7 milliseconds, you only have a few options:\n",
    "\n",
    "    Don't hold the button at all (that is, hold it for 0 milliseconds) at the start of the race. The boat won't move; it will have traveled 0 millimeters by the end of the race.\n",
    "    Hold the button for 1 millisecond at the start of the race. Then, the boat will travel at a speed of 1 millimeter per millisecond for 6 milliseconds, reaching a total distance traveled of 6 millimeters.\n",
    "    Hold the button for 2 milliseconds, giving the boat a speed of 2 millimeters per millisecond. It will then get 5 milliseconds to move, reaching a total distance of 10 millimeters.\n",
    "    Hold the button for 3 milliseconds. After its remaining 4 milliseconds of travel time, the boat will have gone 12 millimeters.\n",
    "    Hold the button for 4 milliseconds. After its remaining 3 milliseconds of travel time, the boat will have gone 12 millimeters.\n",
    "    Hold the button for 5 milliseconds, causing the boat to travel a total of 10 millimeters.\n",
    "    Hold the button for 6 milliseconds, causing the boat to travel a total of 6 millimeters.\n",
    "    Hold the button for 7 milliseconds. That's the entire duration of the race. You never let go of the button. The boat can't move until you let go of the button. Please make sure you let go of the button so the boat gets to move. 0 millimeters.\n",
    "\n",
    "Since the current record for this race is 9 millimeters, there are actually 4 different ways you could win: you could hold the button for 2, 3, 4, or 5 milliseconds at the start of the race.\n",
    "\n",
    "In the second race, you could hold the button for at least 4 milliseconds and at most 11 milliseconds and beat the record, a total of 8 different ways to win.\n",
    "\n",
    "In the third race, you could hold the button for at least 11 milliseconds and no more than 19 milliseconds and still beat the record, a total of 9 ways you could win.\n",
    "\n",
    "To see how much margin of error you have, determine the number of ways you can beat the record in each race; in this example, if you multiply these values together, you get 288 (4 * 8 * 9).\n",
    "\n",
    "Determine the number of ways you could beat the record in each race. What do you get if you multiply these numbers together?\n"
   ]
  },
  {
   "cell_type": "code",
   "execution_count": 1,
   "id": "313f55a1",
   "metadata": {},
   "outputs": [],
   "source": [
    "filepath = \"..\\\\data\\\\input_day_06.txt\"\n",
    "test1 = \"..\\\\test\\\\test06_1.txt\"\n",
    "test2 = \"..\\\\test\\\\test06_2.txt\""
   ]
  },
  {
   "cell_type": "code",
   "execution_count": 2,
   "id": "e754b7a2",
   "metadata": {},
   "outputs": [],
   "source": [
    "def read_input(filepath):\n",
    "    with open(filepath, 'r') as f:\n",
    "        lines = f.readlines()\n",
    "    \n",
    "    return lines"
   ]
  },
  {
   "cell_type": "code",
   "execution_count": 7,
   "id": "f89bed15",
   "metadata": {},
   "outputs": [],
   "source": [
    "def convert_data(lines):\n",
    "    \n",
    "    times = [int(i) for i in lines[0].strip().split()[1:]]\n",
    "    distances = [int(i) for i in lines[1].strip().split()[1:]]\n",
    "    return times, distances"
   ]
  },
  {
   "cell_type": "code",
   "execution_count": 11,
   "id": "cef0d46e",
   "metadata": {},
   "outputs": [],
   "source": [
    "def race_calculator(time, target_distance):\n",
    "    '''\n",
    "    Finds the winning amount of time to hold the button for the toyboats.\n",
    "    \n",
    "    Returns a list with the hold times that will win.\n",
    "    '''\n",
    "    \n",
    "    \n",
    "    winners = []\n",
    "    \n",
    "    total = time\n",
    "    for t in range(time):\n",
    "        speed = t\n",
    "        d = speed*(total-t)\n",
    "        if d > target_distance:\n",
    "            winners.append(t)\n",
    "    return winners"
   ]
  },
  {
   "cell_type": "code",
   "execution_count": 29,
   "id": "f0a6523c",
   "metadata": {},
   "outputs": [],
   "source": [
    "def improve_kerning(times, distances):\n",
    "    \n",
    "    time = int(\"\".join([str(i) for i in times]))\n",
    "    distance = int(\"\".join([str(i) for i in distances]))\n",
    "    return time, distance"
   ]
  },
  {
   "cell_type": "code",
   "execution_count": 30,
   "id": "7e772bc2",
   "metadata": {},
   "outputs": [],
   "source": [
    "def day06a(filepath):\n",
    "    \n",
    "    \n",
    "    lines = read_input(filepath)\n",
    "    times, distances = convert_data(lines)\n",
    "    race_info = [i for i in zip(times, distances)]\n",
    "    winners = 1\n",
    "    \n",
    "    for time, distance in race_info:\n",
    "        winners *= len(race_calculator(time, distance))\n",
    "    \n",
    "    print(f\"The numbers multiply to {winners}.\")\n",
    "    return winners"
   ]
  },
  {
   "cell_type": "code",
   "execution_count": 41,
   "id": "b3a377d7",
   "metadata": {},
   "outputs": [],
   "source": [
    "def day06b(filepath):\n",
    "    \n",
    "    \n",
    "    lines = read_input(filepath)\n",
    "    times, distances = convert_data(lines)\n",
    "    time, distance = improve_kerning(times, distances)\n",
    "    \n",
    "   \n",
    "    winners = race_calculator(time, distance)\n",
    "    \n",
    "    \n",
    "    print(f\"There are {len(winners)} ways to win.\")\n",
    "    return len(winners)"
   ]
  },
  {
   "cell_type": "code",
   "execution_count": 42,
   "id": "f4ac9ac8",
   "metadata": {},
   "outputs": [],
   "source": [
    "def test06():\n",
    "    \n",
    "    # Test on the test input\n",
    "    assert day06a(test1) == 288\n",
    "    assert day06b(test1) == 71503\n",
    "    \n",
    "    print(\"Passed all checks\")"
   ]
  },
  {
   "cell_type": "code",
   "execution_count": 43,
   "id": "8220887d",
   "metadata": {},
   "outputs": [
    {
     "name": "stdout",
     "output_type": "stream",
     "text": [
      "The numbers multiply to 288.\n",
      "There are 71503 ways to win.\n",
      "Passed all checks\n"
     ]
    }
   ],
   "source": [
    "test06()"
   ]
  },
  {
   "cell_type": "code",
   "execution_count": 44,
   "id": "3474896d",
   "metadata": {},
   "outputs": [
    {
     "name": "stdout",
     "output_type": "stream",
     "text": [
      "The numbers multiply to 512295.\n"
     ]
    },
    {
     "data": {
      "text/plain": [
       "512295"
      ]
     },
     "execution_count": 44,
     "metadata": {},
     "output_type": "execute_result"
    }
   ],
   "source": [
    "day06a(filepath)"
   ]
  },
  {
   "cell_type": "code",
   "execution_count": 45,
   "id": "18f2cbf4",
   "metadata": {},
   "outputs": [
    {
     "name": "stdout",
     "output_type": "stream",
     "text": [
      "There are 36530883 ways to win.\n"
     ]
    },
    {
     "data": {
      "text/plain": [
       "36530883"
      ]
     },
     "execution_count": 45,
     "metadata": {},
     "output_type": "execute_result"
    }
   ],
   "source": [
    "day06b(filepath)"
   ]
  }
 ],
 "metadata": {
  "kernelspec": {
   "display_name": "Python 3 (ipykernel)",
   "language": "python",
   "name": "python3"
  },
  "language_info": {
   "codemirror_mode": {
    "name": "ipython",
    "version": 3
   },
   "file_extension": ".py",
   "mimetype": "text/x-python",
   "name": "python",
   "nbconvert_exporter": "python",
   "pygments_lexer": "ipython3",
   "version": "3.10.9"
  }
 },
 "nbformat": 4,
 "nbformat_minor": 5
}
