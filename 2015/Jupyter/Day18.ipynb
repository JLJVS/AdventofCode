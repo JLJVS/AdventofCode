{
 "cells": [
  {
   "cell_type": "markdown",
   "id": "a7571b62",
   "metadata": {},
   "source": [
    "--- Day 18: Like a GIF For Your Yard ---\n",
    "\n",
    "After the million lights incident, the fire code has gotten stricter: now, at most ten thousand lights are allowed. You arrange them in a 100x100 grid.\n",
    "\n",
    "Never one to let you down, Santa again mails you instructions on the ideal lighting configuration. With so few lights, he says, you'll have to resort to animation.\n",
    "\n",
    "Start by setting your lights to the included initial configuration (your puzzle input). A # means \"on\", and a . means \"off\".\n",
    "\n",
    "Then, animate your grid in steps, where each step decides the next configuration based on the current one. Each light's next state (either on or off) depends on its current state and the current states of the eight lights adjacent to it (including diagonals). Lights on the edge of the grid might have fewer than eight neighbors; the missing ones always count as \"off\".\n",
    "\n",
    "For example, in a simplified 6x6 grid, the light marked A has the neighbors numbered 1 through 8, and the light marked B, which is on an edge, only has the neighbors marked 1 through 5:\n",
    "\n",
    "1B5...  \n",
    "234...  \n",
    "......  \n",
    "..123.  \n",
    "..8A4.  \n",
    "..765.  \n",
    "\n",
    "The state a light should have next is based on its current state (on or off) plus the number of neighbors that are on:\n",
    "\n",
    "    A light which is on stays on when 2 or 3 neighbors are on, and turns off otherwise.\n",
    "    A light which is off turns on if exactly 3 neighbors are on, and stays off otherwise.\n",
    "\n",
    "All of the lights update simultaneously; they all consider the same current state before moving to the next.\n",
    "\n",
    "Here's a few steps from an example configuration of another 6x6 grid:\n",
    "\n",
    "Initial state:  \n",
    ".#.#.#    \n",
    "...##.  \n",
    "#....#  \n",
    "..#...  \n",
    "#.#..#  \n",
    "####..  \n",
    "\n",
    "After 1 step:\n",
    "..##..  \n",
    "..##.#  \n",
    "...##.  \n",
    "......  \n",
    "#.....  \n",
    "#.##..  \n",
    "\n",
    "After 2 steps:\n",
    "..###.  \n",
    "......  \n",
    "..###.  \n",
    "......  \n",
    ".#....  \n",
    ".#....  \n",
    "\n",
    "After 3 steps:\n",
    "...#..  \n",
    "......  \n",
    "...#..  \n",
    "..##..  \n",
    "......  \n",
    "......  \n",
    "\n",
    "After 4 steps:\n",
    "......  \n",
    "......  \n",
    "..##..  \n",
    "..##..  \n",
    "......  \n",
    "......  \n",
    "\n",
    "After 4 steps, this example has four lights on.\n",
    "\n",
    "In your grid of 100x100 lights, given your initial configuration, how many lights are on after 100 steps?\n"
   ]
  },
  {
   "cell_type": "code",
   "execution_count": 1,
   "id": "77fc8834",
   "metadata": {},
   "outputs": [],
   "source": [
    "filepath = \"..\\\\data\\\\input_day_18.txt\"\n",
    "test1 = \"..\\\\test\\\\test18_1.txt\"\n",
    "test2 = \"..\\\\test\\\\test18_2.txt\"\n",
    "test3 = \"..\\\\test\\\\test18_3.txt\""
   ]
  },
  {
   "cell_type": "code",
   "execution_count": 2,
   "id": "ab78886f",
   "metadata": {},
   "outputs": [],
   "source": [
    "# first we import our files\n",
    "def read_input(filepath):\n",
    "    with open(filepath, 'r') as f:\n",
    "        lines = f.readlines()\n",
    "    \n",
    "    return lines"
   ]
  },
  {
   "cell_type": "code",
   "execution_count": 3,
   "id": "b0a73e73",
   "metadata": {},
   "outputs": [],
   "source": [
    "def convert_input(grid):\n",
    "    return [i.strip() for i in grid]"
   ]
  },
  {
   "cell_type": "code",
   "execution_count": 4,
   "id": "200d86e4",
   "metadata": {},
   "outputs": [],
   "source": [
    "def find_valid_neighbors(x, y, N):\n",
    "    # finds the neighbors for a given x, y position and returns the valid neighbors\n",
    "    allowed = set(range(N))\n",
    "    valid = []\n",
    "    for dx in [-1, 0, 1]:\n",
    "        for dy in[-1, 0, 1]:\n",
    "            if x+dx in allowed and y+dy in allowed:\n",
    "                valid.append([x+dx, y+dy])\n",
    "    valid.remove([x, y])\n",
    "    return valid"
   ]
  },
  {
   "cell_type": "code",
   "execution_count": 5,
   "id": "982e5a93",
   "metadata": {},
   "outputs": [],
   "source": [
    "def check_light(x, y, grid):\n",
    "    '''\n",
    "    Determines if the light will be turned on next iteration\n",
    "    '''\n",
    "    N = len(grid)\n",
    "    # generate the neighbors\n",
    "    neighbors = find_valid_neighbors(x, y, N)\n",
    "    \n",
    "    on_count = 0\n",
    "    # check which neighbors are on \n",
    "    \n",
    "    for neighbor in neighbors:\n",
    "        dx, dy = neighbor\n",
    "        if grid[dx][dy] == \"#\":\n",
    "            on_count += 1\n",
    "    \n",
    "    # if the light is on it stays on if it has 2 or 3 neighbors on otherwise turns off\n",
    "    if grid[x][y] == \"#\":\n",
    "        if on_count == 2:\n",
    "            return \"#\"\n",
    "        \n",
    "    # if the light is off it turns on if 3 neighbors are on otherwise it stays off\n",
    "    if on_count == 3:\n",
    "        return \"#\"\n",
    "    return \".\""
   ]
  },
  {
   "cell_type": "code",
   "execution_count": 6,
   "id": "d123e3e6",
   "metadata": {},
   "outputs": [],
   "source": [
    "def day18a(filepath, iterations=100):\n",
    "    \n",
    "    # read our grid and determine the size\n",
    "    grid = read_input(filepath)\n",
    "    grid = convert_input(grid)\n",
    "    N = len(grid)\n",
    "    \n",
    "    \n",
    "    # time to start iterating\n",
    "    for iteration in range(iterations):\n",
    "        new_grid = [[0 for _ in range(N)] for _ in range(N)]\n",
    "        for x in range(N):\n",
    "            for y in range(N):\n",
    "                new_grid[x][y] = check_light(x, y, grid)\n",
    "        grid = [\"\".join(row) for row in new_grid]\n",
    "    \n",
    "    #print()\n",
    "    #for row in grid:\n",
    "    #    print(\"\".join(row))\n",
    "        \n",
    "    lights_on = 0\n",
    "    for row in grid:\n",
    "        lights_on += len([i for i in row if i==\"#\"])\n",
    "    print(f\"There are {lights_on} lights on after {iterations} steps.\")\n",
    "    return lights_on"
   ]
  },
  {
   "cell_type": "code",
   "execution_count": 7,
   "id": "0624ad0a",
   "metadata": {},
   "outputs": [],
   "source": [
    "def day18b(filepath, iterations=100):\n",
    "    \n",
    "    # read our grid and determine the size\n",
    "    grid = read_input(filepath)\n",
    "    grid = convert_input(grid)\n",
    "    N = len(grid)\n",
    "    \n",
    "    \n",
    "    # time to start iterating\n",
    "    for iteration in range(iterations):\n",
    "        new_grid = [[0 for _ in range(N)] for _ in range(N)]\n",
    "        for x in range(N):\n",
    "            for y in range(N):\n",
    "                new_grid[x][y] = check_light(x, y, grid)\n",
    "        # the corner lights are stuck on\n",
    "        for x, y in [[0,0], [0,N-1], [N-1, 0], [N-1, N-1]]:\n",
    "            new_grid[x][y] = \"#\"\n",
    "        grid = [\"\".join(row) for row in new_grid]\n",
    "        \n",
    "    \n",
    "    #print()\n",
    "    #for row in grid:\n",
    "    #    print(\"\".join(row))\n",
    "        \n",
    "    lights_on = 0\n",
    "    for row in grid:\n",
    "        lights_on += len([i for i in row if i==\"#\"])\n",
    "    print(f\"There are {lights_on} lights on after {iterations} steps.\")\n",
    "    return lights_on"
   ]
  },
  {
   "cell_type": "code",
   "execution_count": 8,
   "id": "225b7520",
   "metadata": {},
   "outputs": [],
   "source": [
    "def test18a():\n",
    "    \n",
    "    # check if the found neighbors are correct\n",
    "    assert find_valid_neighbors(0,1,6) == [[0, 0], [0, 2], [1, 0], [1, 1], [1, 2]] # from example given this is position B\n",
    "    assert find_valid_neighbors(4,3,6) == [[3, 2], [3, 3], [3, 4], [4, 2], [4, 4], [5, 2], [5, 3], [5, 4]] # this is position A\n",
    "    assert find_valid_neighbors(5,5,6) == [[4, 4], [4, 5], [5, 4]]\n",
    "    assert find_valid_neighbors(0, 0, 3) == [[0,1], [1, 0], [1, 1]]\n",
    "    assert find_valid_neighbors(0, 1, 3) == [[0,0], [0, 2], [1, 0], [1, 1], [1, 2]]\n",
    "    assert find_valid_neighbors(1, 1, 3) == [[0,0], [0, 1], [0, 2], [1, 0], [1, 2], [2,0], [2,1], [2, 2]]\n",
    "    print(\"Passed all neighbors tests\")\n",
    "    \n",
    "    # check the check lights function\n",
    "    check_light_board = convert_input(read_input(test2))\n",
    "    # check light board\n",
    "    #  1 1 1\n",
    "    #  0 0 0\n",
    "    #  0 0 0\n",
    "    \n",
    "    assert check_light(0,0, check_light_board) == \".\"\n",
    "    assert check_light(0,1, check_light_board) == \"#\"\n",
    "    assert check_light(1,1, check_light_board) == \"#\"\n",
    "    assert check_light(2,2, check_light_board) == \".\"\n",
    "    assert check_light(2,1, check_light_board) == \".\"\n",
    "    print(\"Passed all check light tests\")\n",
    "    \n",
    "    # check the lights from the 6x6 example\n",
    "    assert day18a(test1, iterations = 1) == 11\n",
    "    assert day18a(test1, iterations = 2) == 8\n",
    "    assert day18a(test1, iterations = 3) == 4\n",
    "    assert day18a(test1, iterations = 4) == 4\n",
    "    print(\"Passed all grid examples checks\")"
   ]
  },
  {
   "cell_type": "code",
   "execution_count": 9,
   "id": "e1de6a50",
   "metadata": {},
   "outputs": [],
   "source": [
    "def test18b():\n",
    "    \n",
    "    assert day18b(test1, iterations = 4) == 14\n",
    "    assert day18b(test3, iterations = 5) == 17\n",
    "    print(\"Passed all grid examples checks\")"
   ]
  },
  {
   "cell_type": "code",
   "execution_count": 10,
   "id": "58b5704a",
   "metadata": {},
   "outputs": [
    {
     "name": "stdout",
     "output_type": "stream",
     "text": [
      "Passed all neighbors tests\n",
      "Passed all check light tests\n",
      "There are 11 lights on after 1 steps.\n",
      "There are 8 lights on after 2 steps.\n",
      "There are 4 lights on after 3 steps.\n",
      "There are 4 lights on after 4 steps.\n",
      "Passed all grid examples checks\n"
     ]
    }
   ],
   "source": [
    "test18a()"
   ]
  },
  {
   "cell_type": "code",
   "execution_count": 11,
   "id": "cb196878",
   "metadata": {},
   "outputs": [
    {
     "name": "stdout",
     "output_type": "stream",
     "text": [
      "There are 14 lights on after 4 steps.\n",
      "There are 17 lights on after 5 steps.\n",
      "Passed all grid examples checks\n"
     ]
    }
   ],
   "source": [
    "test18b()"
   ]
  },
  {
   "cell_type": "code",
   "execution_count": 12,
   "id": "23dce80f",
   "metadata": {},
   "outputs": [
    {
     "name": "stdout",
     "output_type": "stream",
     "text": [
      "There are 1061 lights on after 100 steps.\n"
     ]
    },
    {
     "data": {
      "text/plain": [
       "1061"
      ]
     },
     "execution_count": 12,
     "metadata": {},
     "output_type": "execute_result"
    }
   ],
   "source": [
    "day18a(filepath)"
   ]
  },
  {
   "cell_type": "code",
   "execution_count": 13,
   "id": "addc997d",
   "metadata": {
    "scrolled": true
   },
   "outputs": [
    {
     "name": "stdout",
     "output_type": "stream",
     "text": [
      "There are 1006 lights on after 100 steps.\n"
     ]
    },
    {
     "data": {
      "text/plain": [
       "1006"
      ]
     },
     "execution_count": 13,
     "metadata": {},
     "output_type": "execute_result"
    }
   ],
   "source": [
    "day18b(filepath)"
   ]
  }
 ],
 "metadata": {
  "kernelspec": {
   "display_name": "Python 3 (ipykernel)",
   "language": "python",
   "name": "python3"
  },
  "language_info": {
   "codemirror_mode": {
    "name": "ipython",
    "version": 3
   },
   "file_extension": ".py",
   "mimetype": "text/x-python",
   "name": "python",
   "nbconvert_exporter": "python",
   "pygments_lexer": "ipython3",
   "version": "3.10.9"
  }
 },
 "nbformat": 4,
 "nbformat_minor": 5
}
