{
 "cells": [
  {
   "cell_type": "markdown",
   "id": "ec9add21",
   "metadata": {},
   "source": [
    "--- Day 11: Corporate Policy ---\n",
    "\n",
    "Santa's previous password expired, and he needs help choosing a new one.\n",
    "\n",
    "To help him remember his new password after the old one expires, Santa has devised a method of coming up with a password based on the previous one. Corporate policy dictates that passwords must be exactly eight lowercase letters (for security reasons), so he finds his new password by incrementing his old password string repeatedly until it is valid.\n",
    "\n",
    "Incrementing is just like counting with numbers: xx, xy, xz, ya, yb, and so on. Increase the rightmost letter one step; if it was z, it wraps around to a, and repeat with the next letter to the left until one doesn't wrap around.\n",
    "\n",
    "Unfortunately for Santa, a new Security-Elf recently started, and he has imposed some additional password requirements:\n",
    "\n",
    "    Passwords must include one increasing straight of at least three letters, like abc, bcd, cde, and so on, up to xyz. They cannot skip letters; abd doesn't count.\n",
    "    Passwords may not contain the letters i, o, or l, as these letters can be mistaken for other characters and are therefore confusing.\n",
    "    Passwords must contain at least two different, non-overlapping pairs of letters, like aa, bb, or zz.\n",
    "\n",
    "For example:\n",
    "\n",
    "    hijklmmn meets the first requirement (because it contains the straight hij) but fails the second requirement requirement (because it contains i and l).\n",
    "    abbceffg meets the third requirement (because it repeats bb and ff) but fails the first requirement.\n",
    "    abbcegjk fails the third requirement, because it only has one double letter (bb).\n",
    "    The next password after abcdefgh is abcdffaa.\n",
    "    The next password after ghijklmn is ghjaabcc, because you eventually skip all the passwords that start with ghi..., since i is not allowed.\n",
    "\n",
    "Given Santa's current password (your puzzle input), what should his next password be?\n"
   ]
  },
  {
   "cell_type": "code",
   "execution_count": 1,
   "id": "e79e5943",
   "metadata": {},
   "outputs": [],
   "source": [
    "filepath = \"..\\\\data\\\\input_day_11.txt\"\n",
    "test1 = \"..\\\\test\\\\test11_1.txt\"\n",
    "test2 = \"..\\\\test\\\\test11_2.txt\"\n",
    "test3 = \"..\\\\test\\\\test11_3.txt\"\n",
    "test4 = \"..\\\\test\\\\test11_4.txt\"\n",
    "test5 = \"..\\\\test\\\\test11_5.txt\""
   ]
  },
  {
   "cell_type": "code",
   "execution_count": 2,
   "id": "6a80261e",
   "metadata": {},
   "outputs": [],
   "source": [
    "# first we import our files\n",
    "def read_input(filepath):\n",
    "    with open(filepath, 'r') as f:\n",
    "        lines = f.readlines()\n",
    "    \n",
    "    return lines"
   ]
  },
  {
   "cell_type": "code",
   "execution_count": 32,
   "id": "9baaad4f",
   "metadata": {},
   "outputs": [],
   "source": [
    "def increasing_rule(line):\n",
    "    # checks for three increasing (continuous) characters i.e. abc not abd returns False if it fails\n",
    "    for i, char in enumerate(line[:-2]):\n",
    "        if (ord(char) == ord(line[i+1])-1) and (ord(line[i+1]) == ord(line[i+2])-1):\n",
    "            return True\n",
    "    return False\n",
    "        "
   ]
  },
  {
   "cell_type": "code",
   "execution_count": 40,
   "id": "db3b2541",
   "metadata": {},
   "outputs": [],
   "source": [
    "def forbidden_letters_rule(line):\n",
    "    # The letters i, o or l are forbidden returns False if it fails\n",
    "    forbidden = \"iol\"\n",
    "    for char in forbidden:\n",
    "        if char in line:\n",
    "            return False\n",
    "    return True"
   ]
  },
  {
   "cell_type": "code",
   "execution_count": 45,
   "id": "a9e8c49d",
   "metadata": {},
   "outputs": [],
   "source": [
    "def non_overlapping_pair_rule(line):\n",
    "    # checks for non overlapping pairs i.e. aa \n",
    "    double_count = 0\n",
    "    previous = False\n",
    "    for i, char in enumerate(line[:-1]):\n",
    "        if previous:\n",
    "            previous = False\n",
    "        else:\n",
    "            if char== line[i+1]:\n",
    "                double_count += 1\n",
    "                previous = True\n",
    "    return double_count>=2"
   ]
  },
  {
   "cell_type": "code",
   "execution_count": 51,
   "id": "fc923688",
   "metadata": {},
   "outputs": [],
   "source": [
    "def increment_letter(char):\n",
    "    if char == \"z\":\n",
    "        return \"a\", False\n",
    "    else:\n",
    "        char = chr(ord(char)+1)\n",
    "        return char, True"
   ]
  },
  {
   "cell_type": "code",
   "execution_count": 58,
   "id": "ae4393b2",
   "metadata": {},
   "outputs": [],
   "source": [
    "def increment_password(line):\n",
    "    new_password = \"\"\n",
    "    for i, char in enumerate(line[::-1]):\n",
    "        incremented, valid = increment_letter(char)\n",
    "        new_password = incremented + new_password\n",
    "        if valid:\n",
    "            return line[:-(1+i)] + new_password"
   ]
  },
  {
   "cell_type": "code",
   "execution_count": 77,
   "id": "2f7d4563",
   "metadata": {},
   "outputs": [],
   "source": [
    "def day11a(filepath):\n",
    "    \n",
    "    password = read_input(filepath)[0]\n",
    "    new_password = increment_password(password)\n",
    "    \n",
    "    while not (increasing_rule(new_password) & forbidden_letters_rule(new_password) & non_overlapping_pair_rule(new_password)):\n",
    "        new_password = increment_password(new_password)\n",
    "    print(f\"Santa's new password should be {new_password}\")\n",
    "    return new_password"
   ]
  },
  {
   "cell_type": "code",
   "execution_count": 79,
   "id": "84b2b0ad",
   "metadata": {},
   "outputs": [],
   "source": [
    "def day11b(filepath):\n",
    "    password = day11a(filepath)\n",
    "    new_password = increment_password(password)\n",
    "    \n",
    "    while not (increasing_rule(new_password) & forbidden_letters_rule(new_password) & non_overlapping_pair_rule(new_password)):\n",
    "        new_password = increment_password(new_password)\n",
    "    print(f\"Santa's new password should be {new_password}\")\n",
    "    return new_password"
   ]
  },
  {
   "cell_type": "code",
   "execution_count": 73,
   "id": "36e4e48d",
   "metadata": {},
   "outputs": [
    {
     "data": {
      "text/plain": [
       "'abcdffaa'"
      ]
     },
     "execution_count": 73,
     "metadata": {},
     "output_type": "execute_result"
    }
   ],
   "source": [
    "day11a(test4)"
   ]
  },
  {
   "cell_type": "code",
   "execution_count": 74,
   "id": "dff2789d",
   "metadata": {},
   "outputs": [],
   "source": [
    "def test11a():\n",
    "    \n",
    "    # test the increasing rule / first rule\n",
    "    assert increasing_rule(read_input(test1)[0]) == True\n",
    "    assert increasing_rule(read_input(test2)[0]) == False\n",
    "    print(\"Passed all increasing rule checks\")\n",
    "    \n",
    "    # test the forbidden letters rule / second rule\n",
    "    assert forbidden_letters_rule(read_input(test1)[0]) == False\n",
    "    assert forbidden_letters_rule(read_input(test2)[0]) == True\n",
    "    assert forbidden_letters_rule(read_input(test3)[0]) == True\n",
    "    print(\"Passed all forbidden letters checks\")\n",
    "    \n",
    "    # test the double pair rule / third rule\n",
    "    assert non_overlapping_pair_rule(read_input(test1)[0]) == False\n",
    "    assert non_overlapping_pair_rule(read_input(test2)[0]) == True\n",
    "    assert non_overlapping_pair_rule(read_input(test3)[0]) == False\n",
    "    print(\"Passed all non overlapping pairs checks\")\n",
    "    \n",
    "    # test the found password\n",
    "    assert day11a(test4) == \"abcdffaa\"\n",
    "    assert day11a(test5) == \"ghjaabcc\"\n",
    "    print(\"Passed all found passwords checks\")"
   ]
  },
  {
   "cell_type": "code",
   "execution_count": 75,
   "id": "e8088359",
   "metadata": {},
   "outputs": [
    {
     "name": "stdout",
     "output_type": "stream",
     "text": [
      "Passed all increasing rule checks\n",
      "Passed all forbidden letters checks\n",
      "Passed all non overlapping pairs checks\n",
      "Passed all found passwords checks\n"
     ]
    }
   ],
   "source": [
    "test11a()"
   ]
  },
  {
   "cell_type": "code",
   "execution_count": 78,
   "id": "1f277618",
   "metadata": {},
   "outputs": [
    {
     "name": "stdout",
     "output_type": "stream",
     "text": [
      "Santa's new password should be cqjxxyzz\n"
     ]
    },
    {
     "data": {
      "text/plain": [
       "'cqjxxyzz'"
      ]
     },
     "execution_count": 78,
     "metadata": {},
     "output_type": "execute_result"
    }
   ],
   "source": [
    "day11a(filepath)"
   ]
  },
  {
   "cell_type": "code",
   "execution_count": 80,
   "id": "c6e9b652",
   "metadata": {},
   "outputs": [
    {
     "name": "stdout",
     "output_type": "stream",
     "text": [
      "Santa's new password should be cqjxxyzz\n",
      "Santa's new password should be cqkaabcc\n"
     ]
    },
    {
     "data": {
      "text/plain": [
       "'cqkaabcc'"
      ]
     },
     "execution_count": 80,
     "metadata": {},
     "output_type": "execute_result"
    }
   ],
   "source": [
    "day11b(filepath)"
   ]
  }
 ],
 "metadata": {
  "kernelspec": {
   "display_name": "Python 3 (ipykernel)",
   "language": "python",
   "name": "python3"
  },
  "language_info": {
   "codemirror_mode": {
    "name": "ipython",
    "version": 3
   },
   "file_extension": ".py",
   "mimetype": "text/x-python",
   "name": "python",
   "nbconvert_exporter": "python",
   "pygments_lexer": "ipython3",
   "version": "3.10.9"
  }
 },
 "nbformat": 4,
 "nbformat_minor": 5
}
