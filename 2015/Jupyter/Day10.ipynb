{
 "cells": [
  {
   "cell_type": "markdown",
   "id": "9abc9f5a",
   "metadata": {},
   "source": [
    "--- Day 10: Elves Look, Elves Say ---\n",
    "\n",
    "Today, the Elves are playing a game called look-and-say. They take turns making sequences by reading aloud the previous sequence and using that reading as the next sequence. For example, 211 is read as \"one two, two ones\", which becomes 1221 (1 2, 2 1s).\n",
    "\n",
    "Look-and-say sequences are generated iteratively, using the previous value as input for the next step. For each step, take the previous value, and replace each run of digits (like 111) with the number of digits (3) followed by the digit itself (1).\n",
    "\n",
    "For example:\n",
    "\n",
    "    1 becomes 11 (1 copy of digit 1).  \n",
    "    11 becomes 21 (2 copies of digit 1).  \n",
    "    21 becomes 1211 (one 2 followed by one 1).  \n",
    "    1211 becomes 111221 (one 1, one 2, and two 1s).  \n",
    "    111221 becomes 312211 (three 1s, two 2s, and one 1).  \n",
    "\n",
    "Starting with the digits in your puzzle input, apply this process 40 times. What is the length of the result?\n"
   ]
  },
  {
   "cell_type": "code",
   "execution_count": 3,
   "id": "1a807fa9",
   "metadata": {},
   "outputs": [],
   "source": [
    "filepath = \"..\\\\data\\\\input_day_10.txt\"\n",
    "test1 = \"..\\\\test\\\\test10_1.txt\""
   ]
  },
  {
   "cell_type": "code",
   "execution_count": 4,
   "id": "eb5da3e2",
   "metadata": {},
   "outputs": [],
   "source": [
    "# first we import our files\n",
    "def read_input(filepath):\n",
    "    with open(filepath, 'r') as f:\n",
    "        lines = f.readlines()\n",
    "    \n",
    "    return lines"
   ]
  },
  {
   "cell_type": "code",
   "execution_count": 14,
   "id": "0050d4dd",
   "metadata": {},
   "outputs": [],
   "source": [
    "def char_counts(line):\n",
    "    '''\n",
    "    Returns a new string with a count of the chars\n",
    "    example:\n",
    "    1211 -> 1 * 1 , 1 * 2, 2 * 1-> 111221\n",
    "    '''\n",
    "    new_line = \"\"\n",
    "    current_char, count = \"\" , 1\n",
    "    for char in line:\n",
    "        # for the first character\n",
    "        if current_char == \"\":\n",
    "            current_char = char\n",
    "        # Check for matching characters\n",
    "        elif current_char == char:\n",
    "            count += 1\n",
    "        # if not add to the new_line and reset the current char and count\n",
    "        else:\n",
    "            new_line = new_line + str(count) + current_char\n",
    "            current_char, count = char, 1\n",
    "    new_line = new_line + str(count) + current_char\n",
    "    \n",
    "    return new_line\n",
    "    "
   ]
  },
  {
   "cell_type": "code",
   "execution_count": 47,
   "id": "5d329a5e",
   "metadata": {},
   "outputs": [],
   "source": [
    "def day10a(filepath, n):\n",
    "    \n",
    "    line = read_input(filepath)[0]\n",
    "    for i in range(n):\n",
    "        line = char_counts(line)\n",
    "        \n",
    "    print(f\"After repeating the process {n} times there are {len(line)} digits.\")\n",
    "    return len(line), line"
   ]
  },
  {
   "cell_type": "code",
   "execution_count": 48,
   "id": "7a8c2de3",
   "metadata": {},
   "outputs": [],
   "source": [
    "def test10a():\n",
    "    \n",
    "    assert day10a(test1, n=1)[1] == \"11\"\n",
    "    assert day10a(test1, n=2)[1] == \"21\"\n",
    "    assert day10a(test1, n=3)[1] == \"1211\"\n",
    "    assert day10a(test1, n=4)[1] == \"111221\"\n",
    "    assert day10a(test1, n=5)[1] == \"312211\""
   ]
  },
  {
   "cell_type": "code",
   "execution_count": 49,
   "id": "d71535c6",
   "metadata": {},
   "outputs": [
    {
     "name": "stdout",
     "output_type": "stream",
     "text": [
      "After repeating the process 1 times there are 2 digits.\n",
      "After repeating the process 2 times there are 2 digits.\n",
      "After repeating the process 3 times there are 4 digits.\n",
      "After repeating the process 4 times there are 6 digits.\n",
      "After repeating the process 5 times there are 6 digits.\n"
     ]
    }
   ],
   "source": [
    "test10a()"
   ]
  },
  {
   "cell_type": "code",
   "execution_count": 50,
   "id": "8fc47af8",
   "metadata": {},
   "outputs": [
    {
     "name": "stdout",
     "output_type": "stream",
     "text": [
      "After repeating the process 40 times there are 492982 digits.\n"
     ]
    },
    {
     "data": {
      "text/plain": [
       "492982"
      ]
     },
     "execution_count": 50,
     "metadata": {},
     "output_type": "execute_result"
    }
   ],
   "source": [
    "day10a(filepath, n=40)[0]"
   ]
  },
  {
   "cell_type": "code",
   "execution_count": 51,
   "id": "eddec758",
   "metadata": {},
   "outputs": [
    {
     "name": "stdout",
     "output_type": "stream",
     "text": [
      "After repeating the process 50 times there are 6989950 digits.\n"
     ]
    },
    {
     "data": {
      "text/plain": [
       "6989950"
      ]
     },
     "execution_count": 51,
     "metadata": {},
     "output_type": "execute_result"
    }
   ],
   "source": [
    "day10a(filepath, n=50)[0] # very slow see function below for speed up"
   ]
  },
  {
   "cell_type": "code",
   "execution_count": 68,
   "id": "ae1cd5d2",
   "metadata": {},
   "outputs": [],
   "source": [
    "from itertools import groupby \n",
    "# https://www.geeksforgeeks.org/itertools-groupby-in-python/\n",
    "# this is still slow because we don't use the iterator from groupby\n",
    "# this is just to illustrate how it works\n",
    "def day10b(filepath, n):\n",
    "    \n",
    "    line = read_input(filepath)[0]\n",
    "    for _ in range(n):\n",
    "        new_line = \"\"\n",
    "        for k, v in groupby(line):\n",
    "            count = str(len(list(v)))\n",
    "            new_line = new_line + count + k\n",
    "        line = new_line\n",
    "    return len(line)\n"
   ]
  },
  {
   "cell_type": "code",
   "execution_count": 67,
   "id": "0c11fb10",
   "metadata": {
    "scrolled": true
   },
   "outputs": [
    {
     "ename": "KeyboardInterrupt",
     "evalue": "",
     "output_type": "error",
     "traceback": [
      "\u001b[1;31m---------------------------------------------------------------------------\u001b[0m",
      "\u001b[1;31mKeyboardInterrupt\u001b[0m                         Traceback (most recent call last)",
      "Cell \u001b[1;32mIn[67], line 1\u001b[0m\n\u001b[1;32m----> 1\u001b[0m \u001b[43mday10b\u001b[49m\u001b[43m(\u001b[49m\u001b[43mfilepath\u001b[49m\u001b[43m,\u001b[49m\u001b[43m \u001b[49m\u001b[43mn\u001b[49m\u001b[38;5;241;43m=\u001b[39;49m\u001b[38;5;241;43m50\u001b[39;49m\u001b[43m)\u001b[49m\n",
      "Cell \u001b[1;32mIn[60], line 10\u001b[0m, in \u001b[0;36mday10b\u001b[1;34m(filepath, n)\u001b[0m\n\u001b[0;32m      8\u001b[0m new_line \u001b[38;5;241m=\u001b[39m \u001b[38;5;124m\"\u001b[39m\u001b[38;5;124m\"\u001b[39m\n\u001b[0;32m      9\u001b[0m \u001b[38;5;28;01mfor\u001b[39;00m k, v \u001b[38;5;129;01min\u001b[39;00m groupby(line):\n\u001b[1;32m---> 10\u001b[0m     count \u001b[38;5;241m=\u001b[39m \u001b[38;5;28mstr\u001b[39m(\u001b[38;5;28mlen\u001b[39m(\u001b[38;5;28;43mlist\u001b[39;49m\u001b[43m(\u001b[49m\u001b[43mv\u001b[49m\u001b[43m)\u001b[49m))\n\u001b[0;32m     11\u001b[0m     new_line \u001b[38;5;241m=\u001b[39m new_line \u001b[38;5;241m+\u001b[39m count \u001b[38;5;241m+\u001b[39m k\n\u001b[0;32m     12\u001b[0m line \u001b[38;5;241m=\u001b[39m new_line\n",
      "\u001b[1;31mKeyboardInterrupt\u001b[0m: "
     ]
    }
   ],
   "source": [
    "day10b(filepath, n=50)"
   ]
  },
  {
   "cell_type": "code",
   "execution_count": 69,
   "id": "e519542f",
   "metadata": {},
   "outputs": [],
   "source": [
    "# taken from the aoc subreddit\n",
    "def look_and_say(line):\n",
    "    return ''.join(str(len(list(v))) + k for k, v in groupby(line))"
   ]
  },
  {
   "cell_type": "code",
   "execution_count": 70,
   "id": "a6d3261d",
   "metadata": {},
   "outputs": [
    {
     "name": "stdout",
     "output_type": "stream",
     "text": [
      "6989950\n"
     ]
    }
   ],
   "source": [
    "line = read_input(filepath)[0]\n",
    "for _ in range(50):\n",
    "    line = look_and_say(line)\n",
    "print(len(line))"
   ]
  },
  {
   "cell_type": "code",
   "execution_count": null,
   "id": "fdf9b18b",
   "metadata": {},
   "outputs": [],
   "source": []
  }
 ],
 "metadata": {
  "kernelspec": {
   "display_name": "Python 3 (ipykernel)",
   "language": "python",
   "name": "python3"
  },
  "language_info": {
   "codemirror_mode": {
    "name": "ipython",
    "version": 3
   },
   "file_extension": ".py",
   "mimetype": "text/x-python",
   "name": "python",
   "nbconvert_exporter": "python",
   "pygments_lexer": "ipython3",
   "version": "3.10.9"
  }
 },
 "nbformat": 4,
 "nbformat_minor": 5
}
