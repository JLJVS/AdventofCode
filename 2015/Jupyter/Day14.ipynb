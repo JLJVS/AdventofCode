{
 "cells": [
  {
   "cell_type": "markdown",
   "id": "869e9a69",
   "metadata": {},
   "source": [
    "--- Day 14: Reindeer Olympics ---\n",
    "\n",
    "This year is the Reindeer Olympics! Reindeer can fly at high speeds, but must rest occasionally to recover their energy. Santa would like to know which of his reindeer is fastest, and so he has them race.\n",
    "\n",
    "Reindeer can only either be flying (always at their top speed) or resting (not moving at all), and always spend whole seconds in either state.\n",
    "\n",
    "For example, suppose you have the following Reindeer:\n",
    "\n",
    "    Comet can fly 14 km/s for 10 seconds, but then must rest for 127 seconds.\n",
    "    Dancer can fly 16 km/s for 11 seconds, but then must rest for 162 seconds.\n",
    "\n",
    "After one second, Comet has gone 14 km, while Dancer has gone 16 km. After ten seconds, Comet has gone 140 km, while Dancer has gone 160 km. On the eleventh second, Comet begins resting (staying at 140 km), and Dancer continues on for a total distance of 176 km. On the 12th second, both reindeer are resting. They continue to rest until the 138th second, when Comet flies for another ten seconds. On the 174th second, Dancer flies for another 11 seconds.\n",
    "\n",
    "In this example, after the 1000th second, both reindeer are resting, and Comet is in the lead at 1120 km (poor Dancer has only gotten 1056 km by that point). So, in this situation, Comet would win (if the race ended at 1000 seconds).\n",
    "\n",
    "Given the descriptions of each reindeer (in your puzzle input), after exactly 2503 seconds, what distance has the winning reindeer traveled?\n",
    "\n",
    "--- Part Two ---\n",
    "\n",
    "Seeing how reindeer move in bursts, Santa decides he's not pleased with the old scoring system.\n",
    "\n",
    "Instead, at the end of each second, he awards one point to the reindeer currently in the lead. (If there are multiple reindeer tied for the lead, they each get one point.) He keeps the traditional 2503 second time limit, of course, as doing otherwise would be entirely ridiculous.\n",
    "\n",
    "Given the example reindeer from above, after the first second, Dancer is in the lead and gets one point. He stays in the lead until several seconds into Comet's second burst: after the 140th second, Comet pulls into the lead and gets his first point. Of course, since Dancer had been in the lead for the 139 seconds before that, he has accumulated 139 points by the 140th second.\n",
    "\n",
    "After the 1000th second, Dancer has accumulated 689 points, while poor Comet, our old champion, only has 312. So, with the new scoring system, Dancer would win (if the race ended at 1000 seconds).\n",
    "\n",
    "Again given the descriptions of each reindeer (in your puzzle input), after exactly 2503 seconds, how many points does the winning reindeer have?\n"
   ]
  },
  {
   "cell_type": "code",
   "execution_count": 1,
   "id": "bc647d4b",
   "metadata": {},
   "outputs": [],
   "source": [
    "filepath = \"..\\\\data\\\\input_day_14.txt\"\n",
    "test1 = \"..\\\\test\\\\test14_1.txt\""
   ]
  },
  {
   "cell_type": "code",
   "execution_count": 2,
   "id": "d8b43422",
   "metadata": {},
   "outputs": [],
   "source": [
    "# first we import our files\n",
    "def read_input(filepath):\n",
    "    with open(filepath, 'r') as f:\n",
    "        lines = f.readlines()\n",
    "    \n",
    "    return lines"
   ]
  },
  {
   "cell_type": "code",
   "execution_count": 3,
   "id": "30e3a69c",
   "metadata": {},
   "outputs": [],
   "source": [
    "def convert_input(lines):\n",
    "    '''\n",
    "    Converts the lines from the input to a dictionary with the name, speed, duration and rest times\n",
    "    example:\n",
    "    Comet can fly 14 km/s for 10 seconds, but then must rest for 127 seconds.\n",
    "    reindeer = {\"Comet\": {\"speed\": 14, \"duration\": 10, \"rest\": 127}}\n",
    "    '''\n",
    "    \n",
    "    reindeer = dict()\n",
    "    for line in lines:\n",
    "        name = line.split()[0]\n",
    "        speed = int(line.split()[3])\n",
    "        duration = int(line.split()[6])\n",
    "        rest = int(line.split()[-2])\n",
    "        reindeer[name] = {\"speed\": speed, \"duration\": duration, \"rest\": rest}\n",
    "    return reindeer"
   ]
  },
  {
   "cell_type": "code",
   "execution_count": 4,
   "id": "0d24608c",
   "metadata": {},
   "outputs": [],
   "source": [
    "def distance_calc(speed, duration, rest, time):\n",
    "    '''\n",
    "    Calculates the distance travelled for the given time.\n",
    "    '''\n",
    "    \n",
    "    total = duration+rest\n",
    "    distance_per_cycle = speed*duration\n",
    "    completed = time//total*distance_per_cycle\n",
    "    left_over = time%total\n",
    "    if left_over >= duration:\n",
    "        return completed + distance_per_cycle\n",
    "    else:\n",
    "        return completed + left_over*speed"
   ]
  },
  {
   "cell_type": "code",
   "execution_count": 5,
   "id": "1acc265e",
   "metadata": {},
   "outputs": [],
   "source": [
    "def day14a(filepath, time=2503):\n",
    "    \n",
    "    lines = read_input(filepath)\n",
    "    reindeers = convert_input(lines)\n",
    "    distances = dict()\n",
    "    \n",
    "    \n",
    "    for reindeer in reindeers:\n",
    "        # read the info for the reindeer\n",
    "        name = reindeer\n",
    "        speed = reindeers[name][\"speed\"]\n",
    "        duration = reindeers[name][\"duration\"]\n",
    "        rest = reindeers[name][\"rest\"]\n",
    "        # calculate the distance travelled\n",
    "        distance = distance_calc(speed, duration, rest, time)\n",
    "        distances[name] = distance\n",
    "        \n",
    "    furthest = [i for i in distances.items()]\n",
    "    furthest.sort(reverse=True, key=lambda x: x[1])\n",
    "    print(f\"The winning reindeer {furthest[0][0]} travelled {furthest[0][1]} km.\")\n",
    "    return furthest[0]"
   ]
  },
  {
   "cell_type": "code",
   "execution_count": 6,
   "id": "025c8bcd",
   "metadata": {},
   "outputs": [],
   "source": [
    "def day14b(filepath, time=2503):\n",
    "    \n",
    "    lines = read_input(filepath)\n",
    "    reindeers = convert_input(lines)\n",
    "    points = {key: 0 for key in reindeers.keys()}\n",
    "    \n",
    "    \n",
    "    for t in range(1, time):\n",
    "        fastest = \"\"\n",
    "        distances = {}\n",
    "        \n",
    "        for reindeer in reindeers:\n",
    "            name = reindeer\n",
    "            speed = reindeers[name][\"speed\"]\n",
    "            duration = reindeers[name][\"duration\"]\n",
    "            rest = reindeers[name][\"rest\"]\n",
    "            distance = distance_calc(speed, duration, rest, t)\n",
    "            distances[name] = distance\n",
    "        \n",
    "        distances = [i for i in distances.items()]\n",
    "        distances.sort(reverse=True, key=lambda x: x[1])\n",
    "        max_distance = distances[0][1]\n",
    "        for name, distance in distances:\n",
    "            if distance == max_distance:\n",
    "                points[name] += 1\n",
    "            \n",
    "    # sort the points for each reindeer and get the true winner\n",
    "    winners = [i for i in points.items()]\n",
    "    winners.sort(reverse=True, key=lambda x: x[1])\n",
    "    print(f\"The winning reindeer {winners[0][0]} has {winners[0][1]} points.\")\n",
    "    return winners[0]"
   ]
  },
  {
   "cell_type": "code",
   "execution_count": 7,
   "id": "c6af9c99",
   "metadata": {},
   "outputs": [],
   "source": [
    "def test14a():\n",
    "    assert day14a(test1, 1000) == ('Comet', 1120)\n",
    "    print(\"Passed all tests\")"
   ]
  },
  {
   "cell_type": "code",
   "execution_count": 8,
   "id": "854aac3f",
   "metadata": {},
   "outputs": [],
   "source": [
    "def test14b():\n",
    "    assert day14b(test1, 1000) == ('Dancer', 689)\n",
    "    print(\"Passed all tests\")"
   ]
  },
  {
   "cell_type": "code",
   "execution_count": 9,
   "id": "2e429a51",
   "metadata": {},
   "outputs": [
    {
     "name": "stdout",
     "output_type": "stream",
     "text": [
      "The winning reindeer Comet travelled 1120 km.\n",
      "Passed all tests\n"
     ]
    }
   ],
   "source": [
    "test14a()"
   ]
  },
  {
   "cell_type": "code",
   "execution_count": 10,
   "id": "562c4169",
   "metadata": {},
   "outputs": [
    {
     "name": "stdout",
     "output_type": "stream",
     "text": [
      "The winning reindeer Dancer has 689 points.\n",
      "Passed all tests\n"
     ]
    }
   ],
   "source": [
    "test14b()"
   ]
  },
  {
   "cell_type": "code",
   "execution_count": 11,
   "id": "b36a1f14",
   "metadata": {},
   "outputs": [
    {
     "name": "stdout",
     "output_type": "stream",
     "text": [
      "The winning reindeer Rudolph travelled 2640 km.\n"
     ]
    },
    {
     "data": {
      "text/plain": [
       "('Rudolph', 2640)"
      ]
     },
     "execution_count": 11,
     "metadata": {},
     "output_type": "execute_result"
    }
   ],
   "source": [
    "day14a(filepath)"
   ]
  },
  {
   "cell_type": "code",
   "execution_count": 12,
   "id": "762edb18",
   "metadata": {},
   "outputs": [
    {
     "name": "stdout",
     "output_type": "stream",
     "text": [
      "The winning reindeer Donner has 1102 points.\n"
     ]
    },
    {
     "data": {
      "text/plain": [
       "('Donner', 1102)"
      ]
     },
     "execution_count": 12,
     "metadata": {},
     "output_type": "execute_result"
    }
   ],
   "source": [
    "day14b(filepath)"
   ]
  }
 ],
 "metadata": {
  "kernelspec": {
   "display_name": "Python 3 (ipykernel)",
   "language": "python",
   "name": "python3"
  },
  "language_info": {
   "codemirror_mode": {
    "name": "ipython",
    "version": 3
   },
   "file_extension": ".py",
   "mimetype": "text/x-python",
   "name": "python",
   "nbconvert_exporter": "python",
   "pygments_lexer": "ipython3",
   "version": "3.10.9"
  }
 },
 "nbformat": 4,
 "nbformat_minor": 5
}
