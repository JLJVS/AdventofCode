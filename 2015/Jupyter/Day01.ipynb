{
 "cells": [
  {
   "cell_type": "markdown",
   "id": "da19855e",
   "metadata": {},
   "source": [
    "--- Day 1: Not Quite Lisp ---\n",
    "\n",
    "Santa was hoping for a white Christmas, but his weather machine's \"snow\" function is powered by stars, and he's fresh out! To save Christmas, he needs you to collect fifty stars by December 25th.\n",
    "\n",
    "Collect stars by helping Santa solve puzzles. Two puzzles will be made available on each day in the Advent calendar; the second puzzle is unlocked when you complete the first. Each puzzle grants one star. Good luck!\n",
    "\n",
    "Here's an easy puzzle to warm you up.\n",
    "\n",
    "Santa is trying to deliver presents in a large apartment building, but he can't find the right floor - the directions he got are a little confusing. He starts on the ground floor (floor 0) and then follows the instructions one character at a time.\n",
    "\n",
    "An opening parenthesis, (, means he should go up one floor, and a closing parenthesis, ), means he should go down one floor.\n",
    "\n",
    "The apartment building is very tall, and the basement is very deep; he will never find the top or bottom floors.\n",
    "\n",
    "For example:\n",
    "\n",
    "    (()) and ()() both result in floor 0.\n",
    "    ((( and (()(()( both result in floor 3.\n",
    "    ))((((( also results in floor 3.\n",
    "    ()) and ))( both result in floor -1 (the first basement level).\n",
    "    ))) and )())()) both result in floor -3.\n",
    "\n",
    "To what floor do the instructions take Santa?\n",
    "\n",
    "--- Part Two ---\n",
    "\n",
    "Now, given the same instructions, find the position of the first character that causes him to enter the basement (floor -1). The first character in the instructions has position 1, the second character has position 2, and so on.\n",
    "\n",
    "For example:\n",
    "\n",
    "    ) causes him to enter the basement at character position 1.\n",
    "    ()()) causes him to enter the basement at character position 5.\n",
    "\n",
    "What is the position of the character that causes Santa to first enter the basement?\n",
    "\n"
   ]
  },
  {
   "cell_type": "code",
   "execution_count": 6,
   "id": "0b37bf74",
   "metadata": {},
   "outputs": [],
   "source": [
    "# importthe modules \n",
    "import os \n"
   ]
  },
  {
   "cell_type": "code",
   "execution_count": 3,
   "id": "5fb17210",
   "metadata": {},
   "outputs": [],
   "source": [
    "# first we import our files\n",
    "def read_input(filepath):\n",
    "    with open(filepath, 'r') as f:\n",
    "        lines = f.readlines()\n",
    "    \n",
    "    return lines"
   ]
  },
  {
   "cell_type": "code",
   "execution_count": 57,
   "id": "12da8ae4",
   "metadata": {},
   "outputs": [],
   "source": [
    "def day01a(filepath):\n",
    "    directions = read_input(filepath)[0]\n",
    "    floor = sum([-1  if direction==\")\" else 1 for direction in directions ])\n",
    "    print(f\"We end up on floor {floor}.\")\n",
    "    return floor"
   ]
  },
  {
   "cell_type": "code",
   "execution_count": 77,
   "id": "34d630b2",
   "metadata": {},
   "outputs": [],
   "source": [
    "def day01b(filepath):\n",
    "    directions = read_input(filepath)[0]\n",
    "    floor = 0\n",
    "    for i, direction in enumerate(directions):\n",
    "        if direction==\"(\":\n",
    "            floor += 1\n",
    "        else:\n",
    "            floor -= 1\n",
    "        if floor == -1:\n",
    "            print(f\"We enter the basement at instruction {i+1}.\")\n",
    "            return i+1"
   ]
  },
  {
   "cell_type": "code",
   "execution_count": 78,
   "id": "d491fefa",
   "metadata": {},
   "outputs": [],
   "source": [
    "def test01a():\n",
    "    # let's run our script on our 5 testcases\n",
    "    assert day01a(test1)==0  # we should end on floor 0\n",
    "    assert day01a(test2)==3  # we should end on floor 3\n",
    "    assert day01a(test3)==3  # we should end on floor 3\n",
    "    assert day01a(test4)==-1 # we should end on floor -1\n",
    "    assert day01a(test5)==-3 # we should end on floor -3"
   ]
  },
  {
   "cell_type": "code",
   "execution_count": 79,
   "id": "46effb3f",
   "metadata": {},
   "outputs": [],
   "source": [
    "def test01b():\n",
    "    # let's run our script on our 5 testcases\n",
    "    assert day01b(test6)==1  # We first enter the basement for instruction 1\n",
    "    assert day01b(test7)==5  # We first enter the basement for instruction 5"
   ]
  },
  {
   "cell_type": "code",
   "execution_count": 80,
   "id": "c66cf869",
   "metadata": {},
   "outputs": [],
   "source": [
    "filepath = \"..\\\\data\\\\input_day_01.txt\"\n",
    "test1 = \"..\\\\test\\\\test01_1.txt\"\n",
    "test2 = \"..\\\\test\\\\test01_2.txt\"\n",
    "test3 = \"..\\\\test\\\\test01_3.txt\"\n",
    "test4 = \"..\\\\test\\\\test01_4.txt\"\n",
    "test5 = \"..\\\\test\\\\test01_5.txt\"\n",
    "test6 = \"..\\\\test\\\\test01_6.txt\"\n",
    "test7 = \"..\\\\test\\\\test01_7.txt\""
   ]
  },
  {
   "cell_type": "code",
   "execution_count": 81,
   "id": "dda0b500",
   "metadata": {},
   "outputs": [
    {
     "name": "stdout",
     "output_type": "stream",
     "text": [
      "We end up on floor 0.\n",
      "We end up on floor 3.\n",
      "We end up on floor 3.\n",
      "We end up on floor -1.\n",
      "We end up on floor -3.\n"
     ]
    }
   ],
   "source": [
    "test01a()"
   ]
  },
  {
   "cell_type": "code",
   "execution_count": 82,
   "id": "7847b039",
   "metadata": {},
   "outputs": [
    {
     "name": "stdout",
     "output_type": "stream",
     "text": [
      "We end up on floor 280.\n"
     ]
    },
    {
     "data": {
      "text/plain": [
       "280"
      ]
     },
     "execution_count": 82,
     "metadata": {},
     "output_type": "execute_result"
    }
   ],
   "source": [
    "day01a(filepath)"
   ]
  },
  {
   "cell_type": "code",
   "execution_count": 83,
   "id": "0d4e0418",
   "metadata": {},
   "outputs": [
    {
     "name": "stdout",
     "output_type": "stream",
     "text": [
      "We enter the basement at instruction 1.\n",
      "We enter the basement at instruction 5.\n"
     ]
    }
   ],
   "source": [
    "test01b()"
   ]
  },
  {
   "cell_type": "code",
   "execution_count": 84,
   "id": "c1fb780d",
   "metadata": {},
   "outputs": [
    {
     "name": "stdout",
     "output_type": "stream",
     "text": [
      "We enter the basement at instruction 1797.\n"
     ]
    },
    {
     "data": {
      "text/plain": [
       "1797"
      ]
     },
     "execution_count": 84,
     "metadata": {},
     "output_type": "execute_result"
    }
   ],
   "source": [
    "day01b(filepath)"
   ]
  },
  {
   "cell_type": "code",
   "execution_count": null,
   "id": "0283179a",
   "metadata": {},
   "outputs": [],
   "source": []
  }
 ],
 "metadata": {
  "kernelspec": {
   "display_name": "Python 3 (ipykernel)",
   "language": "python",
   "name": "python3"
  },
  "language_info": {
   "codemirror_mode": {
    "name": "ipython",
    "version": 3
   },
   "file_extension": ".py",
   "mimetype": "text/x-python",
   "name": "python",
   "nbconvert_exporter": "python",
   "pygments_lexer": "ipython3",
   "version": "3.10.9"
  }
 },
 "nbformat": 4,
 "nbformat_minor": 5
}
