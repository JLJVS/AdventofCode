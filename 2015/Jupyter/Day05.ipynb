{
 "cells": [
  {
   "cell_type": "markdown",
   "id": "e2909585",
   "metadata": {},
   "source": [
    "--- Day 5: Doesn't He Have Intern-Elves For This? ---\n",
    "\n",
    "Santa needs help figuring out which strings in his text file are naughty or nice.\n",
    "\n",
    "A nice string is one with all of the following properties:\n",
    "\n",
    "    It contains at least three vowels (aeiou only), like aei, xazegov, or aeiouaeiouaeiou.\n",
    "    It contains at least one letter that appears twice in a row, like xx, abcdde (dd), or aabbccdd (aa, bb, cc, or dd).\n",
    "    It does not contain the strings ab, cd, pq, or xy, even if they are part of one of the other requirements.\n",
    "\n",
    "For example:\n",
    "\n",
    "    ugknbfddgicrmopn is nice because it has at least three vowels (u...i...o...), a double letter (...dd...), and none of the disallowed substrings.\n",
    "    aaa is nice because it has at least three vowels and a double letter, even though the letters used by different rules overlap.\n",
    "    jchzalrnumimnmhp is naughty because it has no double letter.\n",
    "    haegwjzuvuyypxyu is naughty because it contains the string xy.\n",
    "    dvszwmarrgswjxmb is naughty because it contains only one vowel.\n",
    "\n",
    "How many strings are nice?\n"
   ]
  },
  {
   "cell_type": "code",
   "execution_count": 35,
   "id": "50c3cb7d",
   "metadata": {},
   "outputs": [],
   "source": [
    "filepath = \"..\\\\data\\\\input_day_05.txt\"\n",
    "test1 = \"..\\\\test\\\\test05_1.txt\"\n",
    "test2 = \"..\\\\test\\\\test05_2.txt\"\n",
    "test3 = \"..\\\\test\\\\test05_3.txt\"\n",
    "test4 = \"..\\\\test\\\\test05_4.txt\"\n",
    "test5 = \"..\\\\test\\\\test05_5.txt\"\n",
    "test6 = \"..\\\\test\\\\test05_6.txt\"\n",
    "test7 = \"..\\\\test\\\\test05_7.txt\"\n",
    "test8 = \"..\\\\test\\\\test05_8.txt\"\n",
    "test9 = \"..\\\\test\\\\test05_9.txt\""
   ]
  },
  {
   "cell_type": "code",
   "execution_count": 3,
   "id": "697cf9fd",
   "metadata": {},
   "outputs": [],
   "source": [
    "# first we import our files\n",
    "def read_input(filepath):\n",
    "    with open(filepath, 'r') as f:\n",
    "        lines = f.readlines()\n",
    "    \n",
    "    return lines"
   ]
  },
  {
   "cell_type": "code",
   "execution_count": 5,
   "id": "7a11e4d0",
   "metadata": {},
   "outputs": [],
   "source": [
    "def threeVowelRule(text):\n",
    "    '''\n",
    "    Counts the vowels aeiou in a text and returns true if it finds at least three\n",
    "    '''\n",
    "    vowel_count = 0\n",
    "    vowels = \"aeiou\"\n",
    "    for letter in text:\n",
    "        if letter in vowels:\n",
    "            vowel_count += 1\n",
    "        if vowel_count>2:\n",
    "            return True\n",
    "    return False\n",
    "  "
   ]
  },
  {
   "cell_type": "code",
   "execution_count": 6,
   "id": "8268cab7",
   "metadata": {},
   "outputs": [],
   "source": [
    "def doubleLetterRule(text):\n",
    "    '''\n",
    "    Checks if there is a pair of letters in the text i.e. dd\n",
    "    '''\n",
    "    for i, letter in enumerate(text[:-1]):\n",
    "        if letter==text[i+1]:\n",
    "            return True\n",
    "    return False"
   ]
  },
  {
   "cell_type": "code",
   "execution_count": 28,
   "id": "64d40c6a",
   "metadata": {},
   "outputs": [],
   "source": [
    "def notAllowedRule(text):\n",
    "    '''\n",
    "    checks if there is a forbidden pair in the text. returns True if it's found.\n",
    "    '''\n",
    "    forbidden = set([\"ab\", \"cd\", \"pq\", \"xy\"])\n",
    "    for pair in forbidden:\n",
    "        if pair in text:\n",
    "            return False\n",
    "    return True\n",
    "    "
   ]
  },
  {
   "cell_type": "code",
   "execution_count": 95,
   "id": "5f74b1c3",
   "metadata": {},
   "outputs": [],
   "source": [
    "def doubleLetterPairRule(text):\n",
    "    '''\n",
    "    Checks if there is a pair of double letters in the text i.e. dd\n",
    "    '''\n",
    "    pairs = dict()\n",
    "    for i, letter in enumerate(text[:-1]):\n",
    "        if letter+text[i+1] in pairs.keys():\n",
    "            if pairs[letter+text[i+1]][-1]+1<i:\n",
    "                pairs[letter+text[i+1]].append(i)\n",
    "        else:\n",
    "            pairs[letter+text[i+1]] = [i]\n",
    "    #print(pairs)\n",
    "    for pair in pairs:\n",
    "        \n",
    "        if len(pairs[pair])>=2:\n",
    "            return True\n",
    "    return False"
   ]
  },
  {
   "cell_type": "code",
   "execution_count": 84,
   "id": "f0e5a323",
   "metadata": {},
   "outputs": [],
   "source": [
    "def repeatingLetterWithSkip(text):\n",
    "    '''\n",
    "    Checks if there is at least one letter which repeats with exactly one different letter inbetween\n",
    "    '''\n",
    "    \n",
    "    for i, letter in enumerate(text[:-2]):\n",
    "        if (letter==text[i+2]) and (letter != text[i+1]):\n",
    "            return True\n",
    "    return False"
   ]
  },
  {
   "cell_type": "code",
   "execution_count": 85,
   "id": "8b95d690",
   "metadata": {},
   "outputs": [],
   "source": [
    "def day05a(filepath):\n",
    "    \n",
    "    text = read_input(filepath)\n",
    "    nice = 0\n",
    "    for line in text:\n",
    "        if threeVowelRule(line)&doubleLetterRule(line)& (notAllowedRule(line)):\n",
    "            nice += 1\n",
    "    return nice"
   ]
  },
  {
   "cell_type": "code",
   "execution_count": 86,
   "id": "d4ce327f",
   "metadata": {},
   "outputs": [],
   "source": [
    "def day05b(filepath):\n",
    "    text = read_input(filepath)\n",
    "    nice = 0\n",
    "    for line in text:\n",
    "        if doubleLetterPairRule(line) & repeatingLetterWithSkip(line):\n",
    "            nice += 1\n",
    "    return nice"
   ]
  },
  {
   "cell_type": "code",
   "execution_count": 87,
   "id": "917a4f09",
   "metadata": {},
   "outputs": [],
   "source": [
    "def test05a():\n",
    "    assert day05a(test1) == 1 # nice\n",
    "    assert day05a(test2) == 1 # nice\n",
    "    assert day05a(test3) == 0 # naughty\n",
    "    assert day05a(test4) == 0 # naughty\n",
    "    assert day05a(test5) == 0 # naughty\n",
    "    "
   ]
  },
  {
   "cell_type": "code",
   "execution_count": 96,
   "id": "767df3b4",
   "metadata": {},
   "outputs": [],
   "source": [
    "def test05b():\n",
    "    assert day05b(test6) == 1 # nice\n",
    "    assert day05b(test7) == 1 # nice\n",
    "    assert day05b(test8) == 0 # naughty\n",
    "    assert day05b(test9) == 0 # naughty\n",
    "    "
   ]
  },
  {
   "cell_type": "code",
   "execution_count": 97,
   "id": "bc98e5b0",
   "metadata": {},
   "outputs": [],
   "source": [
    "test05a()"
   ]
  },
  {
   "cell_type": "code",
   "execution_count": 98,
   "id": "14d297e4",
   "metadata": {},
   "outputs": [],
   "source": [
    "test05b()"
   ]
  },
  {
   "cell_type": "code",
   "execution_count": 32,
   "id": "baa8ae9a",
   "metadata": {},
   "outputs": [
    {
     "data": {
      "text/plain": [
       "236"
      ]
     },
     "execution_count": 32,
     "metadata": {},
     "output_type": "execute_result"
    }
   ],
   "source": [
    "day05a(filepath)"
   ]
  },
  {
   "cell_type": "code",
   "execution_count": 99,
   "id": "de6f2224",
   "metadata": {},
   "outputs": [
    {
     "data": {
      "text/plain": [
       "51"
      ]
     },
     "execution_count": 99,
     "metadata": {},
     "output_type": "execute_result"
    }
   ],
   "source": [
    "day05b(filepath)"
   ]
  }
 ],
 "metadata": {
  "kernelspec": {
   "display_name": "Python 3 (ipykernel)",
   "language": "python",
   "name": "python3"
  },
  "language_info": {
   "codemirror_mode": {
    "name": "ipython",
    "version": 3
   },
   "file_extension": ".py",
   "mimetype": "text/x-python",
   "name": "python",
   "nbconvert_exporter": "python",
   "pygments_lexer": "ipython3",
   "version": "3.10.9"
  }
 },
 "nbformat": 4,
 "nbformat_minor": 5
}
