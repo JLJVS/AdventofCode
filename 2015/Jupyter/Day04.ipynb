{
 "cells": [
  {
   "cell_type": "markdown",
   "id": "829cca34",
   "metadata": {},
   "source": [
    "--- Day 4: The Ideal Stocking Stuffer ---\n",
    "\n",
    "Santa needs help mining some AdventCoins (very similar to bitcoins) to use as gifts for all the economically forward-thinking little girls and boys.\n",
    "\n",
    "To do this, he needs to find MD5 hashes which, in hexadecimal, start with at least five zeroes. The input to the MD5 hash is some secret key (your puzzle input, given below) followed by a number in decimal. To mine AdventCoins, you must find Santa the lowest positive number (no leading zeroes: 1, 2, 3, ...) that produces such a hash.\n",
    "\n",
    "For example:\n",
    "\n",
    "    If your secret key is abcdef, the answer is 609043, because the MD5 hash of abcdef609043 starts with five zeroes (000001dbbfa...), and it is the lowest such number to do so.\n",
    "    If your secret key is pqrstuv, the lowest number it combines with to make an MD5 hash starting with five zeroes is 1048970; that is, the MD5 hash of pqrstuv1048970 looks like 000006136ef....\n",
    "\n",
    "--- Part Two ---\n",
    "\n",
    "Now find one that starts with six zeroes.\n"
   ]
  },
  {
   "cell_type": "code",
   "execution_count": 29,
   "id": "23d8325f",
   "metadata": {},
   "outputs": [],
   "source": [
    "import hashlib"
   ]
  },
  {
   "cell_type": "code",
   "execution_count": 2,
   "id": "31029829",
   "metadata": {},
   "outputs": [],
   "source": [
    "filepath = \"..\\\\data\\\\input_day_04.txt\"\n",
    "test1 = \"..\\\\test\\\\test04_1.txt\"\n",
    "test2 = \"..\\\\test\\\\test04_2.txt\""
   ]
  },
  {
   "cell_type": "code",
   "execution_count": 3,
   "id": "3565d9f6",
   "metadata": {},
   "outputs": [],
   "source": [
    "# first we import our files\n",
    "def read_input(filepath):\n",
    "    with open(filepath, 'r') as f:\n",
    "        lines = f.readlines()\n",
    "    \n",
    "    return lines"
   ]
  },
  {
   "cell_type": "code",
   "execution_count": 43,
   "id": "1a75bff8",
   "metadata": {},
   "outputs": [],
   "source": [
    "def day04a(filepath):\n",
    "    \n",
    "    secretKey = read_input(filepath)[0]\n",
    "    N = 10000000\n",
    "    for i in range(1, N):\n",
    "        toHash = secretKey + str(i)\n",
    "        hashed = hashlib.md5(toHash.encode()).hexdigest()\n",
    "        if str(hashed)[:5]==\"00000\":\n",
    "            print(secretKey + str(i))\n",
    "            return i\n",
    "    "
   ]
  },
  {
   "cell_type": "code",
   "execution_count": 56,
   "id": "2adf2f3e",
   "metadata": {},
   "outputs": [],
   "source": [
    "def day04b(filepath):\n",
    "    \n",
    "    secretKey = read_input(filepath)[0]\n",
    "    N = 1000000000\n",
    "    for i in range(1000000, N):\n",
    "        toHash = secretKey + str(i)\n",
    "        hashed = hashlib.md5(toHash.encode()).hexdigest()\n",
    "        if str(hashed)[:6]==\"000000\":\n",
    "            print(secretKey + str(i))\n",
    "            return i"
   ]
  },
  {
   "cell_type": "code",
   "execution_count": 57,
   "id": "c10114e4",
   "metadata": {},
   "outputs": [],
   "source": [
    "def test04a():\n",
    "    assert day04a(test1) == 609043\n",
    "    assert day04a(test2) == 1048970"
   ]
  },
  {
   "cell_type": "code",
   "execution_count": 58,
   "id": "da141455",
   "metadata": {},
   "outputs": [
    {
     "name": "stdout",
     "output_type": "stream",
     "text": [
      "bgvyzdsv254575\n"
     ]
    },
    {
     "data": {
      "text/plain": [
       "254575"
      ]
     },
     "execution_count": 58,
     "metadata": {},
     "output_type": "execute_result"
    }
   ],
   "source": [
    "day04a(filepath)"
   ]
  },
  {
   "cell_type": "code",
   "execution_count": 59,
   "id": "4480a77f",
   "metadata": {},
   "outputs": [
    {
     "name": "stdout",
     "output_type": "stream",
     "text": [
      "bgvyzdsv1038736\n"
     ]
    },
    {
     "data": {
      "text/plain": [
       "1038736"
      ]
     },
     "execution_count": 59,
     "metadata": {},
     "output_type": "execute_result"
    }
   ],
   "source": [
    "day04b(filepath)"
   ]
  }
 ],
 "metadata": {
  "kernelspec": {
   "display_name": "Python 3 (ipykernel)",
   "language": "python",
   "name": "python3"
  },
  "language_info": {
   "codemirror_mode": {
    "name": "ipython",
    "version": 3
   },
   "file_extension": ".py",
   "mimetype": "text/x-python",
   "name": "python",
   "nbconvert_exporter": "python",
   "pygments_lexer": "ipython3",
   "version": "3.10.9"
  }
 },
 "nbformat": 4,
 "nbformat_minor": 5
}
