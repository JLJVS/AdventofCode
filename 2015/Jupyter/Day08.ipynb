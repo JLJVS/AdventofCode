{
 "cells": [
  {
   "cell_type": "markdown",
   "id": "b88edcbe",
   "metadata": {},
   "source": [
    "--- Day 8: Matchsticks ---\n",
    "\n",
    "Space on the sleigh is limited this year, and so Santa will be bringing his list as a digital copy. He needs to know how much space it will take up when stored.\n",
    "\n",
    "It is common in many programming languages to provide a way to escape special characters in strings. For example, C, JavaScript, Perl, Python, and even PHP handle special characters in very similar ways.\n",
    "\n",
    "However, it is important to realize the difference between the number of characters in the code representation of the string literal and the number of characters in the in-memory string itself.\n",
    "\n",
    "For example:\n",
    "\n",
    "    \"\" is 2 characters of code (the two double quotes), but the string contains zero characters.\n",
    "    \"abc\" is 5 characters of code, but 3 characters in the string data.\n",
    "    \"aaa\\\"aaa\" is 10 characters of code, but the string itself contains six \"a\" characters and a single, escaped quote character, for a total of 7 characters in the string data.\n",
    "    \"\\x27\" is 6 characters of code, but the string itself contains just one - an apostrophe ('), escaped using hexadecimal notation.\n",
    "\n",
    "Santa's list is a file that contains many double-quoted string literals, one on each line. The only escape sequences used are \\\\ (which represents a single backslash), \\\" (which represents a lone double-quote character), and \\x plus two hexadecimal characters (which represents a single character with that ASCII code).\n",
    "\n",
    "Disregarding the whitespace in the file, what is the number of characters of code for string literals minus the number of characters in memory for the values of the strings in total for the entire file?\n",
    "\n",
    "For example, given the four strings above, the total number of characters of string code (2 + 5 + 10 + 6 = 23) minus the total number of characters in memory for string values (0 + 3 + 7 + 1 = 11) is 23 - 11 = 12.\n",
    "\n",
    "\n",
    "--- Part Two ---\n",
    "\n",
    "Now, let's go the other way. In addition to finding the number of characters of code, you should now encode each code representation as a new string and find the number of characters of the new encoded representation, including the surrounding double quotes.\n",
    "\n",
    "For example:\n",
    "\n",
    "    \"\" encodes to \"\\\"\\\"\", an increase from 2 characters to 6.\n",
    "    \"abc\" encodes to \"\\\"abc\\\"\", an increase from 5 characters to 9.\n",
    "    \"aaa\\\"aaa\" encodes to \"\\\"aaa\\\\\\\"aaa\\\"\", an increase from 10 characters to 16.\n",
    "    \"\\x27\" encodes to \"\\\"\\\\x27\\\"\", an increase from 6 characters to 11.\n",
    "\n",
    "Your task is to find the total number of characters to represent the newly encoded strings minus the number of characters of code in each original string literal. For example, for the strings above, the total encoded length (6 + 9 + 16 + 11 = 42) minus the characters in the original code representation (23, just like in the first part of this puzzle) is 42 - 23 = 19.\n"
   ]
  },
  {
   "cell_type": "code",
   "execution_count": 1,
   "id": "b4607a66",
   "metadata": {},
   "outputs": [],
   "source": [
    "filepath = \"..\\\\data\\\\input_day_08.txt\"\n",
    "test1 = \"..\\\\test\\\\test08_1.txt\""
   ]
  },
  {
   "cell_type": "code",
   "execution_count": 2,
   "id": "4983f86a",
   "metadata": {},
   "outputs": [],
   "source": [
    "# first we import our files\n",
    "def read_input(filepath):\n",
    "    with open(filepath, 'r') as f:\n",
    "        lines = f.readlines()\n",
    "    \n",
    "    return lines\n"
   ]
  },
  {
   "cell_type": "code",
   "execution_count": 3,
   "id": "8f14267a",
   "metadata": {},
   "outputs": [],
   "source": [
    "def day08a(filepath):\n",
    "    \n",
    "    lines = read_input(filepath)\n",
    "    total = 0\n",
    "    for line in lines:\n",
    "        raw_length = len(line[:-1])\n",
    "        eval_length = len(eval(line))\n",
    "        total += raw_length-eval_length\n",
    "        \n",
    "    return total"
   ]
  },
  {
   "cell_type": "code",
   "execution_count": 4,
   "id": "1c2017c8",
   "metadata": {},
   "outputs": [],
   "source": [
    "def day08b(filepath):\n",
    "    lines = read_input(filepath)\n",
    "    total = 0\n",
    "    for line in lines:\n",
    "        slash_count = line.count(\"\\\\\")\n",
    "        apo_count = line.count('\"')\n",
    "        total += 2 + slash_count + apo_count\n",
    "    return total"
   ]
  },
  {
   "cell_type": "code",
   "execution_count": 5,
   "id": "9d50af71",
   "metadata": {},
   "outputs": [
    {
     "data": {
      "text/plain": [
       "11"
      ]
     },
     "execution_count": 5,
     "metadata": {},
     "output_type": "execute_result"
    }
   ],
   "source": [
    "# we only have one test case so it doesn't make sense to write a test function\n",
    "# the test case should give 12, but it gives 11?\n",
    "day08a(test1)"
   ]
  },
  {
   "cell_type": "code",
   "execution_count": 6,
   "id": "3ec5db7e",
   "metadata": {},
   "outputs": [
    {
     "data": {
      "text/plain": [
       "19"
      ]
     },
     "execution_count": 6,
     "metadata": {},
     "output_type": "execute_result"
    }
   ],
   "source": [
    "# on the test case we should get 19 \n",
    "day08b(test1)"
   ]
  },
  {
   "cell_type": "code",
   "execution_count": 7,
   "id": "b403ce9f",
   "metadata": {},
   "outputs": [
    {
     "data": {
      "text/plain": [
       "1350"
      ]
     },
     "execution_count": 7,
     "metadata": {},
     "output_type": "execute_result"
    }
   ],
   "source": [
    "day08a(filepath)"
   ]
  },
  {
   "cell_type": "code",
   "execution_count": 8,
   "id": "943174ea",
   "metadata": {},
   "outputs": [
    {
     "data": {
      "text/plain": [
       "2085"
      ]
     },
     "execution_count": 8,
     "metadata": {},
     "output_type": "execute_result"
    }
   ],
   "source": [
    "day08b(filepath)"
   ]
  }
 ],
 "metadata": {
  "kernelspec": {
   "display_name": "Python 3 (ipykernel)",
   "language": "python",
   "name": "python3"
  },
  "language_info": {
   "codemirror_mode": {
    "name": "ipython",
    "version": 3
   },
   "file_extension": ".py",
   "mimetype": "text/x-python",
   "name": "python",
   "nbconvert_exporter": "python",
   "pygments_lexer": "ipython3",
   "version": "3.10.9"
  }
 },
 "nbformat": 4,
 "nbformat_minor": 5
}
