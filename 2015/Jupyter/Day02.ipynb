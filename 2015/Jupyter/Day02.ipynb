{
 "cells": [
  {
   "cell_type": "markdown",
   "id": "8d1622bd",
   "metadata": {},
   "source": [
    "--- Day 2: I Was Told There Would Be No Math ---\n",
    "\n",
    "The elves are running low on wrapping paper, and so they need to submit an order for more. They have a list of the dimensions (length l, width w, and height h) of each present, and only want to order exactly as much as they need.\n",
    "\n",
    "Fortunately, every present is a box (a perfect right rectangular prism), which makes calculating the required wrapping paper for each gift a little easier: find the surface area of the box, which is 2*l*w + 2*w*h + 2*h*l. The elves also need a little extra paper for each present: the area of the smallest side.\n",
    "\n",
    "For example:\n",
    "\n",
    "    A present with dimensions 2x3x4 requires 2*6 + 2*12 + 2*8 = 52 square feet of wrapping paper plus 6 square feet of slack, for a total of 58 square feet.\n",
    "    A present with dimensions 1x1x10 requires 2*1 + 2*10 + 2*10 = 42 square feet of wrapping paper plus 1 square foot of slack, for a total of 43 square feet.\n",
    "\n",
    "All numbers in the elves' list are in feet. How many total square feet of wrapping paper should they order?\n",
    "\n",
    "\n",
    "--- Part Two ---\n",
    "\n",
    "The elves are also running low on ribbon. Ribbon is all the same width, so they only have to worry about the length they need to order, which they would again like to be exact.\n",
    "\n",
    "The ribbon required to wrap a present is the shortest distance around its sides, or the smallest perimeter of any one face. Each present also requires a bow made out of ribbon as well; the feet of ribbon required for the perfect bow is equal to the cubic feet of volume of the present. Don't ask how they tie the bow, though; they'll never tell.\n",
    "\n",
    "For example:\n",
    "\n",
    "    A present with dimensions 2x3x4 requires 2+2+3+3 = 10 feet of ribbon to wrap the present plus 2*3*4 = 24 feet of ribbon for the bow, for a total of 34 feet.\n",
    "    A present with dimensions 1x1x10 requires 1+1+1+1 = 4 feet of ribbon to wrap the present plus 1*1*10 = 10 feet of ribbon for the bow, for a total of 14 feet.\n",
    "\n",
    "How many total feet of ribbon should they order?\n"
   ]
  },
  {
   "cell_type": "code",
   "execution_count": 30,
   "id": "7762c57a",
   "metadata": {},
   "outputs": [],
   "source": [
    "filepath = \"..\\\\data\\\\input_day_02.txt\"\n",
    "test1 = \"..\\\\test\\\\test02_1.txt\"\n",
    "test2 = \"..\\\\test\\\\test02_2.txt\"\n"
   ]
  },
  {
   "cell_type": "code",
   "execution_count": 31,
   "id": "7f00ec64",
   "metadata": {},
   "outputs": [],
   "source": [
    "# first we import our files\n",
    "def read_input(filepath):\n",
    "    with open(filepath, 'r') as f:\n",
    "        lines = f.readlines()\n",
    "    \n",
    "    return lines\n",
    "\n",
    "def convert_input(dimensions):\n",
    "    converted = []\n",
    "    for dimension in dimensions:\n",
    "        dimension=dimension.replace(\"\\n\", \"\")\n",
    "        converted.append([int(i) for i in dimension.split(\"x\")])\n",
    "    return converted"
   ]
  },
  {
   "cell_type": "code",
   "execution_count": 32,
   "id": "2e2ffc10",
   "metadata": {},
   "outputs": [],
   "source": [
    "def day02a(filepath):\n",
    "    \n",
    "    dimensions = read_input(filepath)\n",
    "    dimensions = convert_input(dimensions)\n",
    "    \n",
    "    total = 0\n",
    "    for dims in dimensions:\n",
    "        l, w, h = dims\n",
    "        \n",
    "        total += 2*l*w + 2*w*h + 2*h*l + min([l*w, w*h, h*l])\n",
    "    print(f\"The elves need to order {total} square feet of wrapping paper.\")\n",
    "    return total"
   ]
  },
  {
   "cell_type": "code",
   "execution_count": 33,
   "id": "76c4fc7d",
   "metadata": {},
   "outputs": [],
   "source": [
    "def day02b(filepath):\n",
    "    \n",
    "    dimensions = read_input(filepath)\n",
    "    dimensions = convert_input(dimensions)\n",
    "    \n",
    "    length = 0\n",
    "    for dims in dimensions:\n",
    "        dims.sort()\n",
    "        l, w, h = dims\n",
    "        \n",
    "        length += 2*l + 2*w +l*w*h\n",
    "    print(f\"The evels should order {length} feet of ribbon.\")\n",
    "    return length\n",
    "    "
   ]
  },
  {
   "cell_type": "code",
   "execution_count": 34,
   "id": "1676d130",
   "metadata": {},
   "outputs": [],
   "source": [
    "def test02a():\n",
    "    assert day02a(test1) == 58 # the total square feet should be 58 feet\n",
    "    assert day02a(test2) == 43 # the total square feet should be 43 feet"
   ]
  },
  {
   "cell_type": "code",
   "execution_count": 35,
   "id": "db5a204b",
   "metadata": {},
   "outputs": [],
   "source": [
    "def test02b():\n",
    "    assert day02b(test1) == 34 # you would need 34 feet of ribbon\n",
    "    assert day02b(test2) == 14 # you would need 14 feet of ribbon"
   ]
  },
  {
   "cell_type": "code",
   "execution_count": 36,
   "id": "5d1711cb",
   "metadata": {},
   "outputs": [
    {
     "name": "stdout",
     "output_type": "stream",
     "text": [
      "The elves need to order 58 square feet of wrapping paper.\n",
      "The elves need to order 43 square feet of wrapping paper.\n"
     ]
    }
   ],
   "source": [
    "test02a()"
   ]
  },
  {
   "cell_type": "code",
   "execution_count": 37,
   "id": "2e0378f3",
   "metadata": {},
   "outputs": [
    {
     "name": "stdout",
     "output_type": "stream",
     "text": [
      "The evels should order 34 feet of ribbon.\n",
      "The evels should order 14 feet of ribbon.\n"
     ]
    }
   ],
   "source": [
    "test02b()"
   ]
  },
  {
   "cell_type": "code",
   "execution_count": 38,
   "id": "77a55400",
   "metadata": {},
   "outputs": [
    {
     "name": "stdout",
     "output_type": "stream",
     "text": [
      "The elves need to order 1588178 square feet of wrapping paper.\n"
     ]
    },
    {
     "data": {
      "text/plain": [
       "1588178"
      ]
     },
     "execution_count": 38,
     "metadata": {},
     "output_type": "execute_result"
    }
   ],
   "source": [
    "day02a(filepath)"
   ]
  },
  {
   "cell_type": "code",
   "execution_count": 39,
   "id": "6e5b8d00",
   "metadata": {},
   "outputs": [
    {
     "name": "stdout",
     "output_type": "stream",
     "text": [
      "The evels should order 3783758 feet of ribbon.\n"
     ]
    },
    {
     "data": {
      "text/plain": [
       "3783758"
      ]
     },
     "execution_count": 39,
     "metadata": {},
     "output_type": "execute_result"
    }
   ],
   "source": [
    "day02b(filepath)"
   ]
  }
 ],
 "metadata": {
  "kernelspec": {
   "display_name": "Python 3 (ipykernel)",
   "language": "python",
   "name": "python3"
  },
  "language_info": {
   "codemirror_mode": {
    "name": "ipython",
    "version": 3
   },
   "file_extension": ".py",
   "mimetype": "text/x-python",
   "name": "python",
   "nbconvert_exporter": "python",
   "pygments_lexer": "ipython3",
   "version": "3.10.9"
  }
 },
 "nbformat": 4,
 "nbformat_minor": 5
}
