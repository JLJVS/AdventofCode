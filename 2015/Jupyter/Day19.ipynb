{
 "cells": [
  {
   "cell_type": "markdown",
   "id": "6d5b3cdc",
   "metadata": {},
   "source": [
    "--- Day 19: Medicine for Rudolph ---\n",
    "\n",
    "Rudolph the Red-Nosed Reindeer is sick! His nose isn't shining very brightly, and he needs medicine.\n",
    "\n",
    "Red-Nosed Reindeer biology isn't similar to regular reindeer biology; Rudolph is going to need custom-made medicine. Unfortunately, Red-Nosed Reindeer chemistry isn't similar to regular reindeer chemistry, either.\n",
    "\n",
    "The North Pole is equipped with a Red-Nosed Reindeer nuclear fusion/fission plant, capable of constructing any Red-Nosed Reindeer molecule you need. It works by starting with some input molecule and then doing a series of replacements, one per step, until it has the right molecule.\n",
    "\n",
    "However, the machine has to be calibrated before it can be used. Calibration involves determining the number of molecules that can be generated in one step from a given starting point.\n",
    "\n",
    "For example, imagine a simpler machine that supports only the following replacements:\n",
    "\n",
    "H => HO  \n",
    "H => OH  \n",
    "O => HH  \n",
    "\n",
    "Given the replacements above and starting with HOH, the following molecules could be generated:\n",
    "\n",
    "    HOOH (via H => HO on the first H).\n",
    "    HOHO (via H => HO on the second H).\n",
    "    OHOH (via H => OH on the first H).\n",
    "    HOOH (via H => OH on the second H).\n",
    "    HHHH (via O => HH).\n",
    "\n",
    "So, in the example above, there are 4 distinct molecules (not five, because HOOH appears twice) after one replacement from HOH. Santa's favorite molecule, HOHOHO, can become 7 distinct molecules (over nine replacements: six from H, and three from O).\n",
    "\n",
    "The machine replaces without regard for the surrounding characters. For example, given the string H2O, the transition H => OO would result in OO2O.\n",
    "\n",
    "Your puzzle input describes all of the possible replacements and, at the bottom, the medicine molecule for which you need to calibrate the machine. How many distinct molecules can be created after all the different ways you can do one replacement on the medicine molecule?\n",
    "\n",
    "\n",
    "--- Part Two ---\n",
    "\n",
    "Now that the machine is calibrated, you're ready to begin molecule fabrication.\n",
    "\n",
    "Molecule fabrication always begins with just a single electron, e, and applying replacements one at a time, just like the ones during calibration.\n",
    "\n",
    "For example, suppose you have the following replacements:\n",
    "\n",
    "e => H\n",
    "e => O\n",
    "H => HO\n",
    "H => OH\n",
    "O => HH\n",
    "\n",
    "If you'd like to make HOH, you start with e, and then make the following replacements:\n",
    "\n",
    "    e => O to get O\n",
    "    O => HH to get HH\n",
    "    H => OH (on the second H) to get HOH\n",
    "\n",
    "So, you could make HOH after 3 steps. Santa's favorite molecule, HOHOHO, can be made in 6 steps.\n",
    "\n",
    "How long will it take to make the medicine? Given the available replacements and the medicine molecule in your puzzle input, what is the fewest number of steps to go from e to the medicine molecule?\n"
   ]
  },
  {
   "cell_type": "code",
   "execution_count": 1,
   "id": "e155a754",
   "metadata": {},
   "outputs": [],
   "source": [
    "filepath = \"..\\\\data\\\\input_day_19.txt\"\n",
    "test1 = \"..\\\\test\\\\test19_1.txt\"\n",
    "test2 = \"..\\\\test\\\\test19_2.txt\"\n",
    "test3 = \"..\\\\test\\\\test19_3.txt\"\n",
    "test4 = \"..\\\\test\\\\test19_4.txt\""
   ]
  },
  {
   "cell_type": "code",
   "execution_count": 2,
   "id": "8967705d",
   "metadata": {},
   "outputs": [],
   "source": [
    "# first we import our files\n",
    "def read_input(filepath):\n",
    "    with open(filepath, 'r') as f:\n",
    "        lines = f.readlines()\n",
    "    \n",
    "    return lines"
   ]
  },
  {
   "cell_type": "code",
   "execution_count": 3,
   "id": "a8a85a33",
   "metadata": {},
   "outputs": [],
   "source": [
    "def convert_input(lines):\n",
    "    \n",
    "    molecule = lines[-1].strip()\n",
    "    replacements = dict()\n",
    "    replacements_inv = dict()\n",
    "    \n",
    "    for line in lines[:-2]:        \n",
    "        original, _ , new = line.split()\n",
    "        \n",
    "        if original in replacements:\n",
    "            replacements[original].append(new)\n",
    "        else:\n",
    "            replacements[original] = [new]\n",
    "            \n",
    "        if new in replacements_inv:\n",
    "            replacements_inv[new].append(original)\n",
    "        else:\n",
    "            replacements_inv[new] = [original]\n",
    "            \n",
    "    return molecule, replacements, replacements_inv"
   ]
  },
  {
   "cell_type": "code",
   "execution_count": 4,
   "id": "1d706b5f",
   "metadata": {},
   "outputs": [],
   "source": [
    "def convert_input_two(lines):\n",
    "    \n",
    "    molecule = lines[-1].strip()\n",
    "    replacements_inv = dict()\n",
    "    \n",
    "    for line in lines[:-2]:\n",
    "        original, _ , new = line.split()\n",
    "        \n",
    "        #if original in replacements_inv:\n",
    "        #    replacements_inv[new].append(original)\n",
    "        #else:\n",
    "        replacements_inv[new] = original\n",
    "        \n",
    "               \n",
    "    return molecule,  replacements_inv"
   ]
  },
  {
   "cell_type": "code",
   "execution_count": 5,
   "id": "c3e6a7a0",
   "metadata": {},
   "outputs": [],
   "source": [
    "def perform_replacement(original, position, replacement, double=False):\n",
    "    '''\n",
    "    Performs the desired replacement at the position and returns the new molecule\n",
    "    example:\n",
    "    original = HOH, position = 0, replacement: H => HO\n",
    "    returns\n",
    "    HOOH\n",
    "    '''\n",
    "    if double:\n",
    "        if position != len(original) - 1:\n",
    "            original = original[:position]+\"x\"+original[position+2:]\n",
    "        else:\n",
    "            original = original[:position] + \"x\"\n",
    "    if position != len(original) - 1 :\n",
    "        return original[:position] + replacement + original[position+1:]\n",
    "    return original[:position] + replacement \n",
    "    "
   ]
  },
  {
   "cell_type": "code",
   "execution_count": 6,
   "id": "9bd2c205",
   "metadata": {},
   "outputs": [],
   "source": [
    "def molecule_viable(molecule, target_molecule):#, not_viable):\n",
    "    \n",
    "    '''\n",
    "    Ar is a product that keeps accumulating in our molecule and does not gets replaced. \n",
    "    This makes Ar a target to check if the molecule can still become our target molecule.\n",
    "    '''\n",
    "    length_viable = len(molecule)<len(target_molecule)\n",
    "    Ar_viable = molecule.count(\"Ar\") <= target_molecule.count(\"Ar\")\n",
    "    Rn_viable = molecule.count(\"Rn\") <= target_molecule.count(\"Rn\")\n",
    "    Y_viable  = molecule.count(\"Y\") <= target_molecule.count(\"Y\")\n",
    "    return length_viable and Ar_viable and Rn_viable #and (molecule not in not_viable)"
   ]
  },
  {
   "cell_type": "code",
   "execution_count": 7,
   "id": "34000007",
   "metadata": {},
   "outputs": [],
   "source": [
    "def day19a(filepath):\n",
    "    \n",
    "    # read the input and extract the original molecule and the replacements performed\n",
    "    lines = read_input(filepath)\n",
    "    molecule, replacements, _ = convert_input(lines)\n",
    "    \n",
    "    # use a set so we don't have copies of molecules\n",
    "    new_molecules = set()\n",
    "    \n",
    "    for i, atom in enumerate(molecule):\n",
    "        # check the one letter atoms\n",
    "        if atom in replacements.keys():\n",
    "            for new_atom in replacements[atom]:\n",
    "                new_molecule = perform_replacement(molecule, i, new_atom)\n",
    "                new_molecules.add(new_molecule)\n",
    "        # check the two letter atoms\n",
    "        if i!= len(molecule)-1:\n",
    "            atom_pair = atom+molecule[i+1]\n",
    "            if atom_pair in replacements.keys():\n",
    "                for new_atom in replacements[atom_pair]:\n",
    "                    new_molecule = perform_replacement(molecule, i, new_atom, double=True)\n",
    "                    new_molecules.add(new_molecule)\n",
    "    \n",
    "    print(f\"We get {len(new_molecules)} distinct molecules by performing one atom replacements.\")\n",
    "    #print(new_molecules)\n",
    "    return len(new_molecules)"
   ]
  },
  {
   "cell_type": "code",
   "execution_count": 8,
   "id": "778e4aa3",
   "metadata": {},
   "outputs": [],
   "source": [
    "def day19b(filepath):\n",
    "    \n",
    "    import random\n",
    "    \n",
    "    # read the input and extract the original molecule and the replacements performed\n",
    "    lines = read_input(filepath)\n",
    "    target_molecule, replacements, replacements_inv = convert_input(lines)\n",
    "    \n",
    "    # Start with all possible products from the electron\n",
    "    current_gen = set(replacements[\"e\"])\n",
    "    operation_count = 1\n",
    "    target_length = len(target_molecule)\n",
    "    #not_viable = set()\n",
    "    \n",
    "    for i in range(100):\n",
    "        print(i)\n",
    "        operation_count += 1\n",
    "        new_gen = set()\n",
    "        for molecule in current_gen:\n",
    "            for i, atom in enumerate(molecule):\n",
    "                # check the one letter atoms\n",
    "                if atom in replacements.keys():\n",
    "                    for new_atom in replacements[atom]:\n",
    "                        new_molecule = perform_replacement(molecule, i, new_atom)\n",
    "                        if molecule_viable(new_molecule, target_molecule):#, not_viable):\n",
    "                            new_gen.add(new_molecule)\n",
    "                        #else:\n",
    "                        #    not_viable.add(new_molecule)\n",
    "                # check the two letter atoms\n",
    "                if i!= len(molecule)-1:\n",
    "                    atom_pair = atom+molecule[i+1]\n",
    "                    if atom_pair in replacements.keys():\n",
    "                        for new_atom in replacements[atom_pair]:\n",
    "                            new_molecule = perform_replacement(molecule, i, new_atom, double=True)\n",
    "                            if molecule_viable(new_molecule, target_molecule):#, not_viable):\n",
    "                                new_gen.add(new_molecule)\n",
    "                            #else:\n",
    "                            #    not_viable.add(new_molecule)\n",
    "                \n",
    "                if new_molecule == target_molecule:\n",
    "                    return operation_count\n",
    "        current_gen = new_gen"
   ]
  },
  {
   "cell_type": "code",
   "execution_count": 9,
   "id": "32ab3a06",
   "metadata": {},
   "outputs": [],
   "source": [
    "def reverse_processing(molecule, target_molecule, replacements_inv):\n",
    "    ''' \n",
    "    This is based on the solution by what-a-baller on the code of advent subreddit, I'm not sure how this process guarantees \n",
    "    an optimal solution.\n",
    "    '''\n",
    "    count = 0\n",
    "    old_molecule = \"\"\n",
    "    end_products = list(replacements_inv.keys())\n",
    "    \n",
    "    while old_molecule != molecule:\n",
    "        old_molecule = molecule[::]\n",
    "        for ep in end_products:\n",
    "            while ep in molecule:\n",
    "                count += molecule.count(ep)\n",
    "                molecule = molecule.replace(ep, replacements_inv[ep])\n",
    "    return (molecule==target_molecule)*count\n",
    "            \n",
    "   \n"
   ]
  },
  {
   "cell_type": "code",
   "execution_count": 19,
   "id": "7ccd87d6",
   "metadata": {},
   "outputs": [],
   "source": [
    "def day19b_v2(filepath):\n",
    "\n",
    "    import random\n",
    "\n",
    "    # read the input and extract the original molecule and the replacements performed\n",
    "    lines = read_input(filepath)\n",
    "    molecule, replacements_inv = convert_input_two(lines)\n",
    "    target_molecule = \"e\"\n",
    "    \n",
    "    steps = 0\n",
    "    while steps==0:\n",
    "        steps = reverse_processing(molecule, target_molecule, replacements_inv)\n",
    "    print(f\"The medicine can be made in {steps} steps.\")"
   ]
  },
  {
   "cell_type": "code",
   "execution_count": 11,
   "id": "39b91cfe",
   "metadata": {},
   "outputs": [
    {
     "name": "stdout",
     "output_type": "stream",
     "text": [
      "The medicine can be made in 200.\n"
     ]
    }
   ],
   "source": [
    "day19b_v2(filepath)"
   ]
  },
  {
   "cell_type": "code",
   "execution_count": 12,
   "id": "a867bb8c",
   "metadata": {},
   "outputs": [],
   "source": [
    "def test19a():\n",
    "    # Test perform_replacement with the example given\n",
    "    original_test = \"HOH\"\n",
    "    assert perform_replacement(original_test, 0 , \"HO\") == \"HOOH\"\n",
    "    assert perform_replacement(original_test, 2 , \"HO\") == \"HOHO\"\n",
    "    assert perform_replacement(original_test, 0 , \"OH\") == \"OHOH\"\n",
    "    assert perform_replacement(original_test, 2 , \"OH\") == \"HOOH\"\n",
    "    assert perform_replacement(original_test, 1 , \"HH\") == \"HHHH\"\n",
    "    print(\"Passed all replacement checks\")\n",
    "    \n",
    "    # test the entire function on our example\n",
    "    assert day19a(test1) == 4 # we get 4 distinct molecules\n",
    "    assert day19a(test2) == 8\n",
    "    print(\"Passed all checks\")"
   ]
  },
  {
   "cell_type": "code",
   "execution_count": 13,
   "id": "9b6490b5",
   "metadata": {},
   "outputs": [],
   "source": [
    "def test19b():\n",
    "    \n",
    "    # from the example given\n",
    "    assert day19b(test3) == 3\n",
    "    assert day19b(test4) == 6\n",
    "    \n",
    "    print(\"Passed all checks\")"
   ]
  },
  {
   "cell_type": "code",
   "execution_count": 14,
   "id": "57c13767",
   "metadata": {},
   "outputs": [
    {
     "name": "stdout",
     "output_type": "stream",
     "text": [
      "Passed all replacement checks\n",
      "We get 4 distinct molecules by performing one atom replacements.\n",
      "We get 8 distinct molecules by performing one atom replacements.\n",
      "Passed all checks\n"
     ]
    }
   ],
   "source": [
    "test19a()"
   ]
  },
  {
   "cell_type": "code",
   "execution_count": 15,
   "id": "eaa1d5d1",
   "metadata": {},
   "outputs": [
    {
     "name": "stdout",
     "output_type": "stream",
     "text": [
      "0\n",
      "1\n",
      "0\n",
      "1\n",
      "2\n",
      "3\n",
      "4\n",
      "Passed all checks\n"
     ]
    }
   ],
   "source": [
    "test19b()"
   ]
  },
  {
   "cell_type": "code",
   "execution_count": 16,
   "id": "c926f929",
   "metadata": {},
   "outputs": [
    {
     "name": "stdout",
     "output_type": "stream",
     "text": [
      "We get 518 distinct molecules by performing one atom replacements.\n"
     ]
    },
    {
     "data": {
      "text/plain": [
       "518"
      ]
     },
     "execution_count": 16,
     "metadata": {},
     "output_type": "execute_result"
    }
   ],
   "source": [
    "day19a(filepath)"
   ]
  },
  {
   "cell_type": "code",
   "execution_count": 18,
   "id": "2de435ed",
   "metadata": {},
   "outputs": [
    {
     "name": "stdout",
     "output_type": "stream",
     "text": [
      "The medicine can be made in 200.\n"
     ]
    }
   ],
   "source": [
    "day19b_v2(filepath)"
   ]
  }
 ],
 "metadata": {
  "kernelspec": {
   "display_name": "Python 3 (ipykernel)",
   "language": "python",
   "name": "python3"
  },
  "language_info": {
   "codemirror_mode": {
    "name": "ipython",
    "version": 3
   },
   "file_extension": ".py",
   "mimetype": "text/x-python",
   "name": "python",
   "nbconvert_exporter": "python",
   "pygments_lexer": "ipython3",
   "version": "3.10.9"
  }
 },
 "nbformat": 4,
 "nbformat_minor": 5
}
