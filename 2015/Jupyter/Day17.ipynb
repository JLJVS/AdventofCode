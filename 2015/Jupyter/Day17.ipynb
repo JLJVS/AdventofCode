{
 "cells": [
  {
   "cell_type": "markdown",
   "id": "68bc3c74",
   "metadata": {},
   "source": [
    "--- Day 17: No Such Thing as Too Much ---\n",
    "\n",
    "The elves bought too much eggnog again - 150 liters this time. To fit it all into your refrigerator, you'll need to move it into smaller containers. You take an inventory of the capacities of the available containers.\n",
    "\n",
    "For example, suppose you have containers of size 20, 15, 10, 5, and 5 liters. If you need to store 25 liters, there are four ways to do it:\n",
    "\n",
    "    15 and 10\n",
    "    20 and 5 (the first 5)\n",
    "    20 and 5 (the second 5)\n",
    "    15, 5, and 5\n",
    "\n",
    "Filling all containers entirely, how many different combinations of containers can exactly fit all 150 liters of eggnog?\n",
    "\n",
    "\n",
    "--- Part Two ---\n",
    "\n",
    "While playing with all the containers in the kitchen, another load of eggnog arrives! The shipping and receiving department is requesting as many containers as you can spare.\n",
    "\n",
    "Find the minimum number of containers that can exactly fit all 150 liters of eggnog. How many different ways can you fill that number of containers and still hold exactly 150 litres?\n",
    "\n",
    "In the example above, the minimum number of containers was two. There were three ways to use that many containers, and so the answer there would be 3.\n"
   ]
  },
  {
   "cell_type": "code",
   "execution_count": 1,
   "id": "0ed8cfa3",
   "metadata": {},
   "outputs": [],
   "source": [
    "from itertools import combinations"
   ]
  },
  {
   "cell_type": "code",
   "execution_count": 2,
   "id": "0c5b23ca",
   "metadata": {},
   "outputs": [],
   "source": [
    "filepath = \"..\\\\data\\\\input_day_17.txt\"\n",
    "test1 = \"..\\\\test\\\\test17_1.txt\""
   ]
  },
  {
   "cell_type": "code",
   "execution_count": 3,
   "id": "2e5432af",
   "metadata": {},
   "outputs": [],
   "source": [
    "# first we import our files\n",
    "def read_input(filepath):\n",
    "    with open(filepath, 'r') as f:\n",
    "        lines = f.readlines()\n",
    "    \n",
    "    return lines"
   ]
  },
  {
   "cell_type": "code",
   "execution_count": 4,
   "id": "84cce82b",
   "metadata": {},
   "outputs": [],
   "source": [
    "def convert_input(containers):\n",
    "    containers = [int(i.strip()) for i in containers]\n",
    "    return containers"
   ]
  },
  {
   "cell_type": "code",
   "execution_count": 5,
   "id": "531e0805",
   "metadata": {},
   "outputs": [],
   "source": [
    "def day17a(filepath, liters = 150):\n",
    "    \n",
    "    # read our input\n",
    "    containers = read_input(filepath)\n",
    "    containers = convert_input(containers)\n",
    "    \n",
    "    # find all possible combinations of containers\n",
    "    container_sets = []\n",
    "    for i in range(1, len(containers)+1):\n",
    "        container_sets.extend(list(combinations(containers, i)))\n",
    "    \n",
    "    # only take out the combinations that contain the liters desired\n",
    "    valid_combinations = [container for container in container_sets if sum(container)==liters]\n",
    "    print(f\"There are {len(valid_combinations)} combinations of containers for our {liters} liters of eggnog.\")\n",
    "    return len(valid_combinations)"
   ]
  },
  {
   "cell_type": "code",
   "execution_count": 6,
   "id": "18b4d490",
   "metadata": {},
   "outputs": [],
   "source": [
    "def day17b(filepath, liters = 150):\n",
    "    \n",
    "    # read our input\n",
    "    containers = read_input(filepath)\n",
    "    containers = convert_input(containers)\n",
    "    \n",
    "    # find all possible combinations of containers\n",
    "    container_sets = []\n",
    "    for i in range(1, len(containers)+1):\n",
    "        container_sets.extend(list(combinations(containers, i)))\n",
    "    \n",
    "    # only take out the combinations that contain the liters desired\n",
    "    valid_combinations = [container for container in container_sets if sum(container)==liters]\n",
    "    min_containers = min([len(combi) for combi in valid_combinations])\n",
    "    valid_combinations = [combi for combi in valid_combinations if len(combi)==min_containers]\n",
    "    print(f\"There are {len(valid_combinations)} combinations of containers for our {liters} liters of eggnog.\")\n",
    "    return len(valid_combinations)"
   ]
  },
  {
   "cell_type": "code",
   "execution_count": 7,
   "id": "b6deb9df",
   "metadata": {},
   "outputs": [],
   "source": [
    "def test17a():\n",
    "    assert day17a(test1, liters = 25) == 4 # there are 4 valid combinations\n",
    "    print(\"Passed all checks\")"
   ]
  },
  {
   "cell_type": "code",
   "execution_count": 8,
   "id": "8920a2af",
   "metadata": {},
   "outputs": [],
   "source": [
    "def test17b():\n",
    "    assert day17b(test1, liters = 25) == 3 # there are 4 valid combinations\n",
    "    print(\"Passed all checks\")"
   ]
  },
  {
   "cell_type": "code",
   "execution_count": 9,
   "id": "f55fb5fe",
   "metadata": {},
   "outputs": [
    {
     "name": "stdout",
     "output_type": "stream",
     "text": [
      "There are 4 combinations of containers for our 25 liters of eggnog.\n",
      "Passed all checks\n"
     ]
    }
   ],
   "source": [
    "test17a()"
   ]
  },
  {
   "cell_type": "code",
   "execution_count": 10,
   "id": "62a9f7dc",
   "metadata": {
    "scrolled": true
   },
   "outputs": [
    {
     "name": "stdout",
     "output_type": "stream",
     "text": [
      "There are 3 combinations of containers for our 25 liters of eggnog.\n",
      "Passed all checks\n"
     ]
    }
   ],
   "source": [
    "test17b()"
   ]
  },
  {
   "cell_type": "code",
   "execution_count": 11,
   "id": "a4d60d79",
   "metadata": {},
   "outputs": [
    {
     "name": "stdout",
     "output_type": "stream",
     "text": [
      "There are 1638 combinations of containers for our 150 liters of eggnog.\n"
     ]
    },
    {
     "data": {
      "text/plain": [
       "1638"
      ]
     },
     "execution_count": 11,
     "metadata": {},
     "output_type": "execute_result"
    }
   ],
   "source": [
    "day17a(filepath)"
   ]
  },
  {
   "cell_type": "code",
   "execution_count": 12,
   "id": "46a9d163",
   "metadata": {},
   "outputs": [
    {
     "name": "stdout",
     "output_type": "stream",
     "text": [
      "There are 17 combinations of containers for our 150 liters of eggnog.\n"
     ]
    },
    {
     "data": {
      "text/plain": [
       "17"
      ]
     },
     "execution_count": 12,
     "metadata": {},
     "output_type": "execute_result"
    }
   ],
   "source": [
    "day17b(filepath)"
   ]
  }
 ],
 "metadata": {
  "kernelspec": {
   "display_name": "Python 3 (ipykernel)",
   "language": "python",
   "name": "python3"
  },
  "language_info": {
   "codemirror_mode": {
    "name": "ipython",
    "version": 3
   },
   "file_extension": ".py",
   "mimetype": "text/x-python",
   "name": "python",
   "nbconvert_exporter": "python",
   "pygments_lexer": "ipython3",
   "version": "3.10.9"
  }
 },
 "nbformat": 4,
 "nbformat_minor": 5
}
