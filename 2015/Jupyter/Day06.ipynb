{
 "cells": [
  {
   "cell_type": "markdown",
   "id": "98d1b610",
   "metadata": {},
   "source": [
    "--- Day 6: Probably a Fire Hazard ---\n",
    "\n",
    "Because your neighbors keep defeating you in the holiday house decorating contest year after year, you've decided to deploy one million lights in a 1000x1000 grid.\n",
    "\n",
    "Furthermore, because you've been especially nice this year, Santa has mailed you instructions on how to display the ideal lighting configuration.\n",
    "\n",
    "Lights in your grid are numbered from 0 to 999 in each direction; the lights at each corner are at 0,0, 0,999, 999,999, and 999,0. The instructions include whether to turn on, turn off, or toggle various inclusive ranges given as coordinate pairs. Each coordinate pair represents opposite corners of a rectangle, inclusive; a coordinate pair like 0,0 through 2,2 therefore refers to 9 lights in a 3x3 square. The lights all start turned off.\n",
    "\n",
    "To defeat your neighbors this year, all you have to do is set up your lights by doing the instructions Santa sent you in order.\n",
    "\n",
    "For example:\n",
    "\n",
    "    turn on 0,0 through 999,999 would turn on (or leave on) every light.\n",
    "    toggle 0,0 through 999,0 would toggle the first line of 1000 lights, turning off the ones that were on, and turning on the ones that were off.\n",
    "    turn off 499,499 through 500,500 would turn off (or leave off) the middle four lights.\n",
    "\n",
    "After following the instructions, how many lights are lit?\n",
    "\n",
    "\n",
    "--- Part Two ---\n",
    "\n",
    "You just finish implementing your winning light pattern when you realize you mistranslated Santa's message from Ancient Nordic Elvish.\n",
    "\n",
    "The light grid you bought actually has individual brightness controls; each light can have a brightness of zero or more. The lights all start at zero.\n",
    "\n",
    "The phrase turn on actually means that you should increase the brightness of those lights by 1.\n",
    "\n",
    "The phrase turn off actually means that you should decrease the brightness of those lights by 1, to a minimum of zero.\n",
    "\n",
    "The phrase toggle actually means that you should increase the brightness of those lights by 2.\n",
    "\n",
    "What is the total brightness of all lights combined after following Santa's instructions?\n",
    "\n",
    "For example:\n",
    "\n",
    "    turn on 0,0 through 0,0 would increase the total brightness by 1.\n",
    "    toggle 0,0 through 999,999 would increase the total brightness by 2000000.\n",
    "\n",
    "\n"
   ]
  },
  {
   "cell_type": "code",
   "execution_count": 30,
   "id": "ba5442fa",
   "metadata": {},
   "outputs": [],
   "source": [
    "filepath = \"..\\\\data\\\\input_day_06.txt\"\n",
    "test1 = \"..\\\\test\\\\test06_1.txt\"\n",
    "test2 = \"..\\\\test\\\\test06_2.txt\"\n",
    "test3 = \"..\\\\test\\\\test06_3.txt\"\n",
    "test4 = \"..\\\\test\\\\test06_4.txt\"\n",
    "test5 = \"..\\\\test\\\\test06_5.txt\""
   ]
  },
  {
   "cell_type": "code",
   "execution_count": 2,
   "id": "5b933591",
   "metadata": {},
   "outputs": [],
   "source": [
    "# first we import our files\n",
    "def read_input(filepath):\n",
    "    with open(filepath, 'r') as f:\n",
    "        lines = f.readlines()\n",
    "    \n",
    "    return lines"
   ]
  },
  {
   "cell_type": "code",
   "execution_count": 5,
   "id": "c3685335",
   "metadata": {},
   "outputs": [],
   "source": [
    "def convert_input(instructions):\n",
    "    commands, x_starts, x_ends, y_starts, y_ends = [], [], [], [], []\n",
    "    for line in instructions:\n",
    "        # identify the command in the instruction\n",
    "        if line.split()[0] == \"toggle\":\n",
    "            command = line.split()[0]\n",
    "            index_start = 1\n",
    "        if line.split()[0] == \"turn\":\n",
    "            command = line.split()[1]\n",
    "            index_start = 2\n",
    "        \n",
    "        # extract the start and end coordinates\n",
    "        x_start, y_start = [int(i) for i in line.strip().split()[index_start].split(\",\")]\n",
    "        x_end, y_end = [int(i) for i in line.strip().split()[-1].split(\",\")]\n",
    "        \n",
    "        \n",
    "        commands.append(command)\n",
    "        x_starts.append(x_start)\n",
    "        y_starts.append(y_start)\n",
    "        x_ends.append(x_end)\n",
    "        y_ends.append(y_end)\n",
    "        \n",
    "    return commands, x_starts, y_starts, x_ends, y_ends"
   ]
  },
  {
   "cell_type": "code",
   "execution_count": 8,
   "id": "253c0a83",
   "metadata": {},
   "outputs": [],
   "source": [
    "def changeLight(command, grid, x, y):\n",
    "    '''\n",
    "    Changes the light based on the commands: turn on, turn off or toggle the light for the given grid\n",
    "    '''\n",
    "    \n",
    "    if command==\"toggle\":\n",
    "        # if the light is off/0 it will turn on/1, if the light is already on the light will turn off\n",
    "        # 1->2 and 2%2==0\n",
    "        grid[x][y] = (grid[x][y] +1)%2\n",
    "    elif command == \"on\":\n",
    "        grid[x][y] = 1\n",
    "    else:\n",
    "        grid[x][y] = 0\n",
    "    \n",
    "    return grid\n",
    "    "
   ]
  },
  {
   "cell_type": "code",
   "execution_count": 22,
   "id": "f3912fc0",
   "metadata": {},
   "outputs": [],
   "source": [
    "def adjustBrightness(command, grid, x, y):\n",
    "    '''\n",
    "    Adjusts the brightness for the light at coordinate x,y\n",
    "    '''\n",
    "    if command==\"toggle\":\n",
    "        # if the light is off/0 it will turn on/1, if the light is already on the light will turn off\n",
    "        # 1->2 and 2%2==0\n",
    "        grid[x][y] += 2\n",
    "    elif command == \"on\":\n",
    "        grid[x][y] += 1\n",
    "    else:\n",
    "        grid[x][y] = max(grid[x][y]-1, 0)\n",
    "    \n",
    "    return grid\n",
    "    "
   ]
  },
  {
   "cell_type": "code",
   "execution_count": 18,
   "id": "9adb5d10",
   "metadata": {},
   "outputs": [],
   "source": [
    "def day06a(filepath):\n",
    "    \n",
    "    instructions = read_input(filepath)\n",
    "    commands, x_starts, y_starts, x_ends, y_ends = convert_input(instructions)\n",
    "    grid = [[0 for i in range(1000)] for _ in range(1000)]\n",
    "    \n",
    "    for i, command in enumerate(commands):\n",
    "        x_start = x_starts[i]\n",
    "        y_start = y_starts[i]\n",
    "        x_end = x_ends[i]\n",
    "        y_end = y_ends[i]\n",
    "        for x in range(x_start, x_end+1):\n",
    "            for y in range(y_start, y_end+1):\n",
    "                grid = changeLight(command, grid, x, y)\n",
    "    print(f\"After all the instructions there are {sum([sum(i) for i in grid])} lights on.\")\n",
    "    return sum([sum(i) for i in grid])\n",
    "        "
   ]
  },
  {
   "cell_type": "code",
   "execution_count": 32,
   "id": "1c4e45f5",
   "metadata": {},
   "outputs": [],
   "source": [
    "def day06b(filepath):\n",
    "    \n",
    "    instructions = read_input(filepath)\n",
    "    commands, x_starts, y_starts, x_ends, y_ends = convert_input(instructions)\n",
    "    grid = [[0 for i in range(1000)] for _ in range(1000)]\n",
    "    \n",
    "    for i, command in enumerate(commands):\n",
    "        x_start = x_starts[i]\n",
    "        y_start = y_starts[i]\n",
    "        x_end = x_ends[i]\n",
    "        y_end = y_ends[i]\n",
    "        for x in range(x_start, x_end+1):\n",
    "            for y in range(y_start, y_end+1):\n",
    "                grid = adjustBrightness(command, grid, x, y)\n",
    "    print(f\"After all the instructions the total brightness is {sum([sum(i) for i in grid])}.\")\n",
    "    return sum([sum(i) for i in grid])\n",
    "        "
   ]
  },
  {
   "cell_type": "code",
   "execution_count": 33,
   "id": "772b577e",
   "metadata": {},
   "outputs": [],
   "source": [
    "def test06a():\n",
    "    assert day06a(test1) == 1000*1000"
   ]
  },
  {
   "cell_type": "code",
   "execution_count": 34,
   "id": "67aa0f90",
   "metadata": {},
   "outputs": [],
   "source": [
    "def test06b():\n",
    "    assert day06b(test4) == 1 # brightness should be 1\n",
    "    assert day06b(test5) == 2000000 # brightness should be 2000000"
   ]
  },
  {
   "cell_type": "code",
   "execution_count": 35,
   "id": "8191ade6",
   "metadata": {},
   "outputs": [
    {
     "name": "stdout",
     "output_type": "stream",
     "text": [
      "After all the instructions there are 1000000 lights on.\n"
     ]
    }
   ],
   "source": [
    "test06a()"
   ]
  },
  {
   "cell_type": "code",
   "execution_count": 36,
   "id": "a831e753",
   "metadata": {},
   "outputs": [
    {
     "name": "stdout",
     "output_type": "stream",
     "text": [
      "After all the instructions the total brightness is 1.\n",
      "After all the instructions the total brightness is 2000000.\n"
     ]
    }
   ],
   "source": [
    "test06b()"
   ]
  },
  {
   "cell_type": "code",
   "execution_count": 21,
   "id": "8aa431d7",
   "metadata": {},
   "outputs": [
    {
     "name": "stdout",
     "output_type": "stream",
     "text": [
      "After all the instructions there are 543903 lights on.\n"
     ]
    },
    {
     "data": {
      "text/plain": [
       "543903"
      ]
     },
     "execution_count": 21,
     "metadata": {},
     "output_type": "execute_result"
    }
   ],
   "source": [
    "day06a(filepath)"
   ]
  },
  {
   "cell_type": "code",
   "execution_count": 37,
   "id": "3aff6474",
   "metadata": {},
   "outputs": [
    {
     "name": "stdout",
     "output_type": "stream",
     "text": [
      "After all the instructions the total brightness is 14687245.\n"
     ]
    },
    {
     "data": {
      "text/plain": [
       "14687245"
      ]
     },
     "execution_count": 37,
     "metadata": {},
     "output_type": "execute_result"
    }
   ],
   "source": [
    "day06b(filepath)"
   ]
  }
 ],
 "metadata": {
  "kernelspec": {
   "display_name": "Python 3 (ipykernel)",
   "language": "python",
   "name": "python3"
  },
  "language_info": {
   "codemirror_mode": {
    "name": "ipython",
    "version": 3
   },
   "file_extension": ".py",
   "mimetype": "text/x-python",
   "name": "python",
   "nbconvert_exporter": "python",
   "pygments_lexer": "ipython3",
   "version": "3.10.9"
  }
 },
 "nbformat": 4,
 "nbformat_minor": 5
}
