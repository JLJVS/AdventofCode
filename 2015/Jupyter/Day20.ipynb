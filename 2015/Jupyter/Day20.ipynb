{
 "cells": [
  {
   "cell_type": "markdown",
   "id": "b57cb1b0",
   "metadata": {},
   "source": [
    "--- Day 20: Infinite Elves and Infinite Houses ---\n",
    "\n",
    "To keep the Elves busy, Santa has them deliver some presents by hand, door-to-door. He sends them down a street with infinite houses numbered sequentially: 1, 2, 3, 4, 5, and so on.\n",
    "\n",
    "Each Elf is assigned a number, too, and delivers presents to houses based on that number:\n",
    "\n",
    "    The first Elf (number 1) delivers presents to every house: 1, 2, 3, 4, 5, ....\n",
    "    The second Elf (number 2) delivers presents to every second house: 2, 4, 6, 8, 10, ....\n",
    "    Elf number 3 delivers presents to every third house: 3, 6, 9, 12, 15, ....\n",
    "\n",
    "There are infinitely many Elves, numbered starting with 1. Each Elf delivers presents equal to ten times his or her number at each house.\n",
    "\n",
    "So, the first nine houses on the street end up like this:\n",
    "\n",
    "House 1 got 10 presents.  \n",
    "House 2 got 30 presents.  \n",
    "House 3 got 40 presents.  \n",
    "House 4 got 70 presents.  \n",
    "House 5 got 60 presents.  \n",
    "House 6 got 120 presents.  \n",
    "House 7 got 80 presents.  \n",
    "House 8 got 150 presents.  \n",
    "House 9 got 130 presents.  \n",
    "\n",
    "The first house gets 10 presents: it is visited only by Elf 1, which delivers 1 * 10 = 10 presents. The fourth house gets 70 presents, because it is visited by Elves 1, 2, and 4, for a total of 10 + 20 + 40 = 70 presents.\n",
    "\n",
    "What is the lowest house number of the house to get at least as many presents as the number in your puzzle input?\n",
    "\n",
    "\n",
    "--- Part Two ---\n",
    "\n",
    "The Elves decide they don't want to visit an infinite number of houses. Instead, each Elf will stop after delivering presents to 50 houses. To make up for it, they decide to deliver presents equal to eleven times their number at each house.\n",
    "\n",
    "With these changes, what is the new lowest house number of the house to get at least as many presents as the number in your puzzle input?\n",
    "\n"
   ]
  },
  {
   "cell_type": "code",
   "execution_count": 1,
   "id": "6ba5655f",
   "metadata": {},
   "outputs": [],
   "source": [
    "filepath = \"..\\\\data\\\\input_day_20.txt\"\n",
    "test1 = \"..\\\\test\\\\test20_1.txt\"\n",
    "test2 = \"..\\\\test\\\\test20_2.txt\"\n",
    "test3 = \"..\\\\test\\\\test20_3.txt\"\n",
    "test4 = \"..\\\\test\\\\test20_4.txt\""
   ]
  },
  {
   "cell_type": "code",
   "execution_count": 2,
   "id": "78f1e50c",
   "metadata": {},
   "outputs": [],
   "source": [
    "# first we import our files\n",
    "def read_input(filepath):\n",
    "    with open(filepath, 'r') as f:\n",
    "        lines = f.readlines()\n",
    "    \n",
    "    return lines"
   ]
  },
  {
   "cell_type": "code",
   "execution_count": 3,
   "id": "3db908f5",
   "metadata": {},
   "outputs": [],
   "source": [
    "def find_factors(number):\n",
    "    factors = set()\n",
    "    if number == 1:\n",
    "        return 1\n",
    "    for i in range(1, int(number**0.5)+1):\n",
    "        if number%i==0:\n",
    "            factors.add(i)\n",
    "            factors.add(int(number/i))\n",
    "    return sum(factors)"
   ]
  },
  {
   "cell_type": "code",
   "execution_count": 4,
   "id": "99ad90e3",
   "metadata": {},
   "outputs": [],
   "source": [
    "def find_factors_limited(number):\n",
    "    factors = set()\n",
    "    if number == 1:\n",
    "        return 1\n",
    "    for i in range(1, int(number**0.5)+1):\n",
    "        if number%i==0:\n",
    "            factors.add(i)\n",
    "            factors.add(int(number/i))\n",
    "    return sum([factor for factor in factors if factor >= number//50])"
   ]
  },
  {
   "cell_type": "code",
   "execution_count": 5,
   "id": "9c11eaff",
   "metadata": {},
   "outputs": [],
   "source": [
    "def day20a(filepath):\n",
    "    \n",
    "    target = int(read_input(filepath)[0])\n",
    "    not_found = True\n",
    "    N = 1000000\n",
    "    for i in range(int(target**0.5), target+1):\n",
    "        \n",
    "        if 10*find_factors(i) >= target:\n",
    "            print(f\"The lowest house number is {i}\")\n",
    "            return i\n",
    "        #print(10*find_factors(i))\n",
    "        \n",
    "        "
   ]
  },
  {
   "cell_type": "code",
   "execution_count": 6,
   "id": "ec37bed6",
   "metadata": {},
   "outputs": [],
   "source": [
    "def day20b(filepath):\n",
    "    \n",
    "    target = int(read_input(filepath)[0])\n",
    "    not_found = True\n",
    "    N = 1000000\n",
    "    for i in range(1, target+1):\n",
    "        \n",
    "        if 11*find_factors_limited(i) >= target:\n",
    "            print(f\"The lowest house number is {i}\")\n",
    "            return i\n",
    "            #return houses.index(True)"
   ]
  },
  {
   "cell_type": "code",
   "execution_count": 7,
   "id": "0e53a77c",
   "metadata": {},
   "outputs": [],
   "source": [
    "def test20a():\n",
    "    \n",
    "    # test the find factors function\n",
    "    assert find_factors(9)==13 # house number 9 -> 130\n",
    "    assert find_factors(8)==15 # house number 8 -> 150\n",
    "    print(\"Passed the factor checks\")\n",
    "    # test the funtion as a whole\n",
    "    #assert day20a(test1)==1  # house number 1 -> 10\n",
    "    #assert day20a(test2)==4  # house number 4 -> 70\n",
    "    #print(\"Passed all the day checks\")\n",
    "    # Dayfunction has been streamlined for the larger numbers\n",
    "    print(\"Passed all checks\")"
   ]
  },
  {
   "cell_type": "code",
   "execution_count": 8,
   "id": "a67d67c1",
   "metadata": {},
   "outputs": [
    {
     "name": "stdout",
     "output_type": "stream",
     "text": [
      "Passed the factor checks\n",
      "Passed all checks\n"
     ]
    }
   ],
   "source": [
    "test20a()"
   ]
  },
  {
   "cell_type": "code",
   "execution_count": 9,
   "id": "2b912b93",
   "metadata": {},
   "outputs": [
    {
     "name": "stdout",
     "output_type": "stream",
     "text": [
      "The lowest house number is 665280\n"
     ]
    },
    {
     "data": {
      "text/plain": [
       "665280"
      ]
     },
     "execution_count": 9,
     "metadata": {},
     "output_type": "execute_result"
    }
   ],
   "source": [
    "day20a(filepath)"
   ]
  },
  {
   "cell_type": "code",
   "execution_count": 10,
   "id": "56d72cba",
   "metadata": {},
   "outputs": [
    {
     "name": "stdout",
     "output_type": "stream",
     "text": [
      "The lowest house number is 705600\n"
     ]
    },
    {
     "data": {
      "text/plain": [
       "705600"
      ]
     },
     "execution_count": 10,
     "metadata": {},
     "output_type": "execute_result"
    }
   ],
   "source": [
    "day20b(filepath)"
   ]
  }
 ],
 "metadata": {
  "kernelspec": {
   "display_name": "Python 3 (ipykernel)",
   "language": "python",
   "name": "python3"
  },
  "language_info": {
   "codemirror_mode": {
    "name": "ipython",
    "version": 3
   },
   "file_extension": ".py",
   "mimetype": "text/x-python",
   "name": "python",
   "nbconvert_exporter": "python",
   "pygments_lexer": "ipython3",
   "version": "3.10.9"
  }
 },
 "nbformat": 4,
 "nbformat_minor": 5
}
