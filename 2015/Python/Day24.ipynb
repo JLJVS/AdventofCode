{
 "cells": [
  {
   "cell_type": "markdown",
   "id": "f4d3c108",
   "metadata": {},
   "source": [
    "--- Day 24: It Hangs in the Balance ---\n",
    "\n",
    "It's Christmas Eve, and Santa is loading up the sleigh for this year's deliveries. However, there's one small problem: he can't get the sleigh to balance. If it isn't balanced, he can't defy physics, and nobody gets presents this year.\n",
    "\n",
    "No pressure.\n",
    "\n",
    "Santa has provided you a list of the weights of every package he needs to fit on the sleigh. The packages need to be split into three groups of exactly the same weight, and every package has to fit. The first group goes in the passenger compartment of the sleigh, and the second and third go in containers on either side. Only when all three groups weigh exactly the same amount will the sleigh be able to fly. Defying physics has rules, you know!\n",
    "\n",
    "Of course, that's not the only problem. The first group - the one going in the passenger compartment - needs as few packages as possible so that Santa has some legroom left over. It doesn't matter how many packages are in either of the other two groups, so long as all of the groups weigh the same.\n",
    "\n",
    "Furthermore, Santa tells you, if there are multiple ways to arrange the packages such that the fewest possible are in the first group, you need to choose the way where the first group has the smallest quantum entanglement to reduce the chance of any \"complications\". The quantum entanglement of a group of packages is the product of their weights, that is, the value you get when you multiply their weights together. Only consider quantum entanglement if the first group has the fewest possible number of packages in it and all groups weigh the same amount.\n",
    "\n",
    "For example, suppose you have ten packages with weights 1 through 5 and 7 through 11. For this situation, some of the unique first groups, their quantum entanglements, and a way to divide the remaining packages are as follows:\n",
    "\n",
    "Group 1;             Group 2; Group 3    \n",
    "11 9       (QE= 99); 10 8 2;  7 5 4 3 1  \n",
    "10 9 1     (QE= 90); 11 7 2;  8 5 4 3  \n",
    "10 8 2     (QE=160); 11 9;    7 5 4 3 1  \n",
    "10 7 3     (QE=210); 11 9;    8 5 4 2 1  \n",
    "10 5 4 1   (QE=200); 11 9;    8 7 3 2  \n",
    "10 5 3 2   (QE=300); 11 9;    8 7 4 1  \n",
    "10 4 3 2 1 (QE=240); 11 9;    8 7 5  \n",
    "9 8 3      (QE=216); 11 7 2;  10 5 4 1  \n",
    "9 7 4      (QE=252); 11 8 1;  10 5 3 2  \n",
    "9 5 4 2    (QE=360); 11 8 1;  10 7 3  \n",
    "8 7 5      (QE=280); 11 9;    10 4 3 2 1  \n",
    "8 5 4 3    (QE=480); 11 9;    10 7 2 1  \n",
    "7 5 4 3 1  (QE=420); 11 9;    10 8 2  \n",
    "\n",
    "Of these, although 10 9 1 has the smallest quantum entanglement (90), the configuration with only two packages, 11 9, in the passenger compartment gives Santa the most legroom and wins. In this situation, the quantum entanglement for the ideal configuration is therefore 99. Had there been two configurations with only two packages in the first group, the one with the smaller quantum entanglement would be chosen.\n",
    "\n",
    "What is the quantum entanglement of the first group of packages in the ideal configuration?\n"
   ]
  },
  {
   "cell_type": "code",
   "execution_count": 1,
   "id": "22fea280",
   "metadata": {},
   "outputs": [],
   "source": [
    "filepath = \"..\\\\data\\\\input_day_24.txt\"\n",
    "test1 = \"..\\\\test\\\\test24_1.txt\""
   ]
  },
  {
   "cell_type": "code",
   "execution_count": 2,
   "id": "86e17582",
   "metadata": {},
   "outputs": [],
   "source": [
    "# first we import our files\n",
    "def read_input(filepath):\n",
    "    with open(filepath, 'r') as f:\n",
    "        lines = f.readlines()\n",
    "    \n",
    "    return lines"
   ]
  },
  {
   "cell_type": "code",
   "execution_count": 4,
   "id": "8ba91b03",
   "metadata": {},
   "outputs": [],
   "source": [
    "def convert_input(lines):\n",
    "    weights = []\n",
    "    for line in lines:\n",
    "        weights.append(int(line))\n",
    "    return weights"
   ]
  },
  {
   "cell_type": "code",
   "execution_count": 137,
   "id": "e012a6d2",
   "metadata": {},
   "outputs": [],
   "source": [
    "def day24a(filepath):\n",
    "    \n",
    "    from itertools import combinations\n",
    "    \n",
    "    # read the input\n",
    "    lines = read_input(filepath)\n",
    "    weights = convert_input(lines)\n",
    "    \n",
    "    # get the weight per compartment\n",
    "    total = sum(weights)\n",
    "    target = total//3\n",
    "    \n",
    "    # Note we only have to find the smallest set because if we have 3 groups, finding the first guarantees that the \n",
    "    # other two sets are equal\n",
    "    \n",
    "    for i in range(1, len(weights)):\n",
    "        possible = [combi for combi in combinations(weights, i) if sum(combi)==target]\n",
    "        if len(possible)>0:\n",
    "            QE = []\n",
    "            for combi in possible:\n",
    "                qe = 1\n",
    "                for weight in combi:\n",
    "                    qe *= weight\n",
    "                QE.append([qe, combi])\n",
    "            QE.sort()\n",
    "            print(f\"The first group of packages {QE[0][1]} has a QE of {QE[0][0]}.\")\n",
    "            return QE[0]\n",
    "            \n",
    "            break"
   ]
  },
  {
   "cell_type": "code",
   "execution_count": 150,
   "id": "cffd423c",
   "metadata": {},
   "outputs": [],
   "source": [
    "def day24b(filepath):\n",
    "    \n",
    "    from itertools import combinations\n",
    "    \n",
    "    # read the input\n",
    "    lines = read_input(filepath)\n",
    "    weights = convert_input(lines)\n",
    "        \n",
    "    # get the weight per compartment\n",
    "    total = sum(weights)\n",
    "    target = total//4\n",
    "    \n",
    "    # Now we have 4 groups so we only have to find 2 groups \n",
    "    # other two sets are equal\n",
    "    \n",
    "    for i in range(1, len(weights)):\n",
    "        possible = [combi for combi in combinations(weights, i) if sum(combi)==target]\n",
    "        if len(possible)>0:\n",
    "            QE = []\n",
    "            for combi in possible:\n",
    "                qe = 1\n",
    "                for weight in combi:\n",
    "                    qe *= weight\n",
    "                QE.append([qe, combi])\n",
    "            QE.sort()\n",
    "            group1 = set(QE[0][1])\n",
    "            remaining_weights = list(set(weights)- group1)\n",
    "            remaining_weights.sort()\n",
    "            # check if we can find a second group that matches\n",
    "            for i in range(1, len(remaining_weights)):\n",
    "                possible = [combi for combi in combinations(weights, i) if sum(combi)==target]\n",
    "                if len(possible)>0:\n",
    "                    print(f\"The first group of packages {QE[0][1]} has a QE of {QE[0][0]}.\")\n",
    "                    return QE[0]"
   ]
  },
  {
   "cell_type": "code",
   "execution_count": 151,
   "id": "90fa8177",
   "metadata": {},
   "outputs": [],
   "source": [
    "def test24a():\n",
    "    assert day24a(test1) == [99, (9, 11)]\n",
    "    print(\"Passed all checks\")"
   ]
  },
  {
   "cell_type": "code",
   "execution_count": 152,
   "id": "83c66493",
   "metadata": {},
   "outputs": [],
   "source": [
    "def test24b():\n",
    "    assert day24b(test1) == [44, (4, 11)]\n",
    "    print(\"Passed all checks\")"
   ]
  },
  {
   "cell_type": "code",
   "execution_count": 153,
   "id": "75399cfd",
   "metadata": {},
   "outputs": [
    {
     "name": "stdout",
     "output_type": "stream",
     "text": [
      "The first group of packages (9, 11) has a QE of 99.\n",
      "Passed all checks\n"
     ]
    }
   ],
   "source": [
    "test24a()"
   ]
  },
  {
   "cell_type": "code",
   "execution_count": 154,
   "id": "5478e531",
   "metadata": {},
   "outputs": [
    {
     "name": "stdout",
     "output_type": "stream",
     "text": [
      "The first group of packages (4, 11) has a QE of 44.\n",
      "Passed all checks\n"
     ]
    }
   ],
   "source": [
    "test24b()"
   ]
  },
  {
   "cell_type": "code",
   "execution_count": 148,
   "id": "dcf9e4f4",
   "metadata": {},
   "outputs": [
    {
     "name": "stdout",
     "output_type": "stream",
     "text": [
      "The first group of packages (1, 89, 101, 107, 109, 113) has a QE of 11846773891.\n"
     ]
    },
    {
     "data": {
      "text/plain": [
       "[11846773891, (1, 89, 101, 107, 109, 113)]"
      ]
     },
     "execution_count": 148,
     "metadata": {},
     "output_type": "execute_result"
    }
   ],
   "source": [
    "day24a(filepath)"
   ]
  },
  {
   "cell_type": "code",
   "execution_count": 144,
   "id": "1df11d78",
   "metadata": {},
   "outputs": [
    {
     "name": "stdout",
     "output_type": "stream",
     "text": [
      "[1, 2, 3, 7, 11, 13, 17, 19, 23, 31, 37, 41, 43, 47, 53, 59, 61, 67, 71, 73, 79, 83, 89, 97, 101, 103, 107, 109, 113]\n",
      "The first group of packages (61, 107, 109, 113) has a QE of 80393059.\n"
     ]
    },
    {
     "data": {
      "text/plain": [
       "[80393059, (61, 107, 109, 113)]"
      ]
     },
     "execution_count": 144,
     "metadata": {},
     "output_type": "execute_result"
    }
   ],
   "source": [
    "day24b(filepath)"
   ]
  }
 ],
 "metadata": {
  "kernelspec": {
   "display_name": "Python 3 (ipykernel)",
   "language": "python",
   "name": "python3"
  },
  "language_info": {
   "codemirror_mode": {
    "name": "ipython",
    "version": 3
   },
   "file_extension": ".py",
   "mimetype": "text/x-python",
   "name": "python",
   "nbconvert_exporter": "python",
   "pygments_lexer": "ipython3",
   "version": "3.10.9"
  }
 },
 "nbformat": 4,
 "nbformat_minor": 5
}
