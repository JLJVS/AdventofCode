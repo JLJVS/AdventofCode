{
 "cells": [
  {
   "cell_type": "markdown",
   "id": "bd71a662",
   "metadata": {},
   "source": [
    "--- Day 7: Some Assembly Required ---\n",
    "\n",
    "This year, Santa brought little Bobby Tables a set of wires and bitwise logic gates! Unfortunately, little Bobby is a little under the recommended age range, and he needs help assembling the circuit.\n",
    "\n",
    "Each wire has an identifier (some lowercase letters) and can carry a 16-bit signal (a number from 0 to 65535). A signal is provided to each wire by a gate, another wire, or some specific value. Each wire can only get a signal from one source, but can provide its signal to multiple destinations. A gate provides no signal until all of its inputs have a signal.\n",
    "\n",
    "The included instructions booklet describes how to connect the parts together: x AND y -> z means to connect wires x and y to an AND gate, and then connect its output to wire z.\n",
    "\n",
    "For example:\n",
    "\n",
    "    123 -> x means that the signal 123 is provided to wire x.\n",
    "    x AND y -> z means that the bitwise AND of wire x and wire y is provided to wire z.\n",
    "    p LSHIFT 2 -> q means that the value from wire p is left-shifted by 2 and then provided to wire q.\n",
    "    NOT e -> f means that the bitwise complement of the value from wire e is provided to wire f.\n",
    "\n",
    "Other possible gates include OR (bitwise OR) and RSHIFT (right-shift). If, for some reason, you'd like to emulate the circuit instead, almost all programming languages (for example, C, JavaScript, or Python) provide operators for these gates.\n",
    "\n",
    "For example, here is a simple circuit:\n",
    "\n",
    "123 -> x\n",
    "456 -> y\n",
    "x AND y -> d\n",
    "x OR y -> e\n",
    "x LSHIFT 2 -> f\n",
    "y RSHIFT 2 -> g\n",
    "NOT x -> h\n",
    "NOT y -> i\n",
    "\n",
    "After it is run, these are the signals on the wires:\n",
    "\n",
    "d: 72\n",
    "e: 507\n",
    "f: 492\n",
    "g: 114\n",
    "h: 65412\n",
    "i: 65079\n",
    "x: 123\n",
    "y: 456\n",
    "\n",
    "In little Bobby's kit's instructions booklet (provided as your puzzle input), what signal is ultimately provided to wire a?\n",
    "\n",
    "--- Part Two ---\n",
    "\n",
    "Now, take the signal you got on wire a, override wire b to that signal, and reset the other wires (including wire a). What new signal is ultimately provided to wire a?\n",
    "\n"
   ]
  },
  {
   "cell_type": "code",
   "execution_count": 139,
   "id": "36fe7589",
   "metadata": {},
   "outputs": [],
   "source": [
    "filepath = \"..\\\\data\\\\input_day_07.txt\"\n",
    "test1 = \"..\\\\test\\\\test07_1.txt\"\n"
   ]
  },
  {
   "cell_type": "code",
   "execution_count": 4,
   "id": "864dccd1",
   "metadata": {},
   "outputs": [],
   "source": [
    "# first we import our files\n",
    "def read_input(filepath):\n",
    "    with open(filepath, 'r') as f:\n",
    "        lines = f.readlines()\n",
    "    \n",
    "    return lines\n"
   ]
  },
  {
   "cell_type": "code",
   "execution_count": 145,
   "id": "07ac48d5",
   "metadata": {},
   "outputs": [],
   "source": [
    "def convert_input(instructions):\n",
    "    '''\n",
    "    Splits the instructions to a left hand side and right hand side (seperated by ->)\n",
    "    '''\n",
    "    results = []\n",
    "    for instruction in instructions:\n",
    "        l, r = instruction.strip().split(\" -> \")\n",
    "        results.append([l, r])\n",
    "    return results"
   ]
  },
  {
   "cell_type": "code",
   "execution_count": 60,
   "id": "51ad385e",
   "metadata": {},
   "outputs": [],
   "source": [
    "def rightShift(number, toShift):\n",
    "    return number>>toShift\n",
    "\n",
    "def leftShift(number, toShift):\n",
    "    return number<<toShift\n",
    "\n",
    "def bitwiseNOT(number):\n",
    "    return  number^65535\n",
    "\n",
    "def bitwiseAND(number1, number2):\n",
    "    return number1 & number2\n",
    "\n",
    "def bitwiseOR(number1, number2):\n",
    "    return number1 | number2"
   ]
  },
  {
   "cell_type": "code",
   "execution_count": 134,
   "id": "6612950d",
   "metadata": {},
   "outputs": [],
   "source": [
    "def day07a(filepath):\n",
    "    \n",
    "    instructions = read_input(filepath)\n",
    "    instructions = convert_input(instructions)\n",
    "    \n",
    "    N = len(instructions)\n",
    "    found = dict()\n",
    "    \n",
    "    for instruction in instructions:\n",
    "        if len(instruction[0].split()) == 1 and instruction[0].isdigit():\n",
    "            found[instruction[1]] = int(instruction[0])\n",
    "    \n",
    "    # we fill our found values iteratively so we'll use a while loop\n",
    "    while len(found) != N :\n",
    "                \n",
    "        for instruction in instructions:\n",
    "            lhs = instruction[0].split()\n",
    "            rhs = instruction[1]\n",
    "            \n",
    "            \n",
    "            # Check if there's just an equal value connection i.e. a=b\n",
    "            if len(lhs) == 1:\n",
    "                if lhs[0] in found.keys():\n",
    "                    found[rhs] = found[lhs[0]]\n",
    "                \n",
    "            \n",
    "            # Check for NOT operations with already found results\n",
    "            elif len(lhs) == 2:\n",
    "                if lhs[1] in found.keys():\n",
    "                    number1 = found[lhs[1]]\n",
    "                    result = bitwiseNOT(found[lhs[1]])\n",
    "                    found[rhs] = result\n",
    "                                    \n",
    "            # Check for  operations with known keys or digits as the second number\n",
    "            elif len(lhs) == 3:\n",
    "                if ((lhs[0] in found.keys()or lhs[0].isdigit())\n",
    "                      and (lhs[2] in found.keys() or lhs[2].isdigit())):\n",
    "                    # check if the first entry is already found or an integer\n",
    "                    if lhs[0] in found.keys():\n",
    "                        number1 = found[lhs[0]]\n",
    "                    else:\n",
    "                        number1 = int(lhs[0])\n",
    "                    # check if our second entry is already found or an integer\n",
    "                    if lhs[2] in found.keys():\n",
    "                        number2 = found[lhs[2]]\n",
    "                    else:\n",
    "                        number2 = int(lhs[2])\n",
    "\n",
    "                    # check for AND, OR, RSHIFT or LSHIFT\n",
    "                    command = lhs[1]\n",
    "                    if command == \"AND\":\n",
    "                        result = bitwiseAND(number1, number2)\n",
    "                    elif command == \"OR\":\n",
    "                        result = bitwiseOR(number1, number2)\n",
    "                    elif command == \"RSHIFT\":\n",
    "                        result = rightShift(number1, number2)\n",
    "                    elif command == \"LSHIFT\":\n",
    "                        result = leftShift(number1, number2)\n",
    "\n",
    "                    found[rhs] = result\n",
    "                  \n",
    "                                    \n",
    "    return found \n",
    "    "
   ]
  },
  {
   "cell_type": "code",
   "execution_count": 140,
   "id": "b6818a6d",
   "metadata": {},
   "outputs": [],
   "source": [
    "def day07b(filepath):\n",
    "    \n",
    "    instructions = read_input(filepath)\n",
    "    instructions = convert_input(instructions)\n",
    "    \n",
    "    N = len(instructions)\n",
    "    found = dict()\n",
    "    \n",
    "    for instruction in instructions:\n",
    "        if len(instruction[0].split()) == 1 and instruction[0].isdigit():\n",
    "            found[instruction[1]] = int(instruction[0])\n",
    "    # we override the value for b with the result found in part one\n",
    "    found[\"b\"] = day07a(filepath)[\"a\"]\n",
    "    \n",
    "    while len(found) != N :\n",
    "        \n",
    "        for instruction in instructions:\n",
    "            lhs = instruction[0].split()\n",
    "            rhs = instruction[1]\n",
    "            \n",
    "            \n",
    "            # Check if there's just an equal value connection i.e. a=b\n",
    "            if len(lhs) == 1:\n",
    "                if lhs[0] in found.keys():\n",
    "                    found[rhs] = found[lhs[0]]\n",
    "                \n",
    "            \n",
    "            # Check for NOT operations with already found results\n",
    "            elif len(lhs) == 2:\n",
    "                if lhs[1] in found.keys():\n",
    "                    number1 = found[lhs[1]]\n",
    "                    result = bitwiseNOT(found[lhs[1]])\n",
    "                    found[rhs] = result\n",
    "                                    \n",
    "            # Check for  operations with known keys or digits as the second number\n",
    "            elif len(lhs) == 3:\n",
    "                if ((lhs[0] in found.keys()or lhs[0].isdigit())\n",
    "                      and (lhs[2] in found.keys() or lhs[2].isdigit())):\n",
    "                    # check if the first entry is already found or an integer\n",
    "                    if lhs[0] in found.keys():\n",
    "                        number1 = found[lhs[0]]\n",
    "                    else:\n",
    "                        number1 = int(lhs[0])\n",
    "                    # check if our second entry is already found or an integer\n",
    "                    if lhs[2] in found.keys():\n",
    "                        number2 = found[lhs[2]]\n",
    "                    else:\n",
    "                        number2 = int(lhs[2])\n",
    "\n",
    "                    # check for AND, OR, RSHIFT or LSHIFT\n",
    "                    command = lhs[1]\n",
    "                    if command == \"AND\":\n",
    "                        result = bitwiseAND(number1, number2)\n",
    "                    elif command == \"OR\":\n",
    "                        result = bitwiseOR(number1, number2)\n",
    "                    elif command == \"RSHIFT\":\n",
    "                        result = rightShift(number1, number2)\n",
    "                    elif command == \"LSHIFT\":\n",
    "                        result = leftShift(number1, number2)\n",
    "\n",
    "                    found[rhs] = result\n",
    "                  \n",
    "                                    \n",
    "    return found "
   ]
  },
  {
   "cell_type": "code",
   "execution_count": 141,
   "id": "8b30b2b3",
   "metadata": {},
   "outputs": [],
   "source": [
    "def test07a():\n",
    "    test_dict = {\"d\": 72, \"e\": 507, 'f': 492, \"g\": 114,\n",
    "                 \"h\": 65412, \"i\": 65079, \"x\": 123, \"y\": 456}\n",
    "    \n",
    "    assert day07a(test1) == test_dict"
   ]
  },
  {
   "cell_type": "code",
   "execution_count": 142,
   "id": "2973d9b3",
   "metadata": {},
   "outputs": [],
   "source": [
    "test07a()"
   ]
  },
  {
   "cell_type": "code",
   "execution_count": 143,
   "id": "291dec5e",
   "metadata": {},
   "outputs": [
    {
     "data": {
      "text/plain": [
       "3176"
      ]
     },
     "execution_count": 143,
     "metadata": {},
     "output_type": "execute_result"
    }
   ],
   "source": [
    "day07a(filepath)[\"a\"]"
   ]
  },
  {
   "cell_type": "code",
   "execution_count": 144,
   "id": "f8741ba7",
   "metadata": {
    "scrolled": false
   },
   "outputs": [
    {
     "data": {
      "text/plain": [
       "14710"
      ]
     },
     "execution_count": 144,
     "metadata": {},
     "output_type": "execute_result"
    }
   ],
   "source": [
    "day07b(filepath)[\"a\"]"
   ]
  }
 ],
 "metadata": {
  "kernelspec": {
   "display_name": "Python 3 (ipykernel)",
   "language": "python",
   "name": "python3"
  },
  "language_info": {
   "codemirror_mode": {
    "name": "ipython",
    "version": 3
   },
   "file_extension": ".py",
   "mimetype": "text/x-python",
   "name": "python",
   "nbconvert_exporter": "python",
   "pygments_lexer": "ipython3",
   "version": "3.10.9"
  }
 },
 "nbformat": 4,
 "nbformat_minor": 5
}
