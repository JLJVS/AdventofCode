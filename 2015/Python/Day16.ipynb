{
 "cells": [
  {
   "cell_type": "markdown",
   "id": "412035ee",
   "metadata": {},
   "source": [
    "--- Day 16: Aunt Sue ---\n",
    "\n",
    "Your Aunt Sue has given you a wonderful gift, and you'd like to send her a thank you card. However, there's a small problem: she signed it \"From, Aunt Sue\".\n",
    "\n",
    "You have 500 Aunts named \"Sue\".\n",
    "\n",
    "So, to avoid sending the card to the wrong person, you need to figure out which Aunt Sue (which you conveniently number 1 to 500, for sanity) gave you the gift. You open the present and, as luck would have it, good ol' Aunt Sue got you a My First Crime Scene Analysis Machine! Just what you wanted. Or needed, as the case may be.\n",
    "\n",
    "The My First Crime Scene Analysis Machine (MFCSAM for short) can detect a few specific compounds in a given sample, as well as how many distinct kinds of those compounds there are. According to the instructions, these are what the MFCSAM can detect:\n",
    "\n",
    "    children, by human DNA age analysis.\n",
    "    cats. It doesn't differentiate individual breeds.\n",
    "    Several seemingly random breeds of dog: samoyeds, pomeranians, akitas, and vizslas.\n",
    "    goldfish. No other kinds of fish.\n",
    "    trees, all in one group.\n",
    "    cars, presumably by exhaust or gasoline or something.\n",
    "    perfumes, which is handy, since many of your Aunts Sue wear a few kinds.\n",
    "\n",
    "In fact, many of your Aunts Sue have many of these. You put the wrapping from the gift into the MFCSAM. It beeps inquisitively at you a few times and then prints out a message on ticker tape:\n",
    "\n",
    "children: 3  \n",
    "cats: 7  \n",
    "samoyeds: 2  \n",
    "pomeranians: 3  \n",
    "akitas: 0  \n",
    "vizslas: 0  \n",
    "goldfish: 5  \n",
    "trees: 3  \n",
    "cars: 2  \n",
    "perfumes: 1  \n",
    "\n",
    "You make a list of the things you can remember about each Aunt Sue. Things missing from your list aren't zero - you simply don't remember the value.\n",
    "\n",
    "What is the number of the Sue that got you the gift\n",
    "\n",
    "\n",
    "--- Part Two ---\n",
    "\n",
    "As you're about to send the thank you note, something in the MFCSAM's instructions catches your eye. Apparently, it has an outdated retroencabulator, and so the output from the machine isn't exact values - some of them indicate ranges.\n",
    "\n",
    "In particular, the cats and trees readings indicates that there are greater than that many (due to the unpredictable nuclear decay of cat dander and tree pollen), while the pomeranians and goldfish readings indicate that there are fewer than that many (due to the modial interaction of magnetoreluctance).\n",
    "\n",
    "What is the number of the real Aunt Sue?\n"
   ]
  },
  {
   "cell_type": "code",
   "execution_count": 1,
   "id": "2ace4dff",
   "metadata": {},
   "outputs": [],
   "source": [
    "filepath = \"..\\\\data\\\\input_day_16.txt\"\n",
    "test1 = \"..\\\\test\\\\test16_1.txt\""
   ]
  },
  {
   "cell_type": "code",
   "execution_count": 2,
   "id": "a9b9de1b",
   "metadata": {},
   "outputs": [],
   "source": [
    "# first we import our files\n",
    "def read_input(filepath):\n",
    "    with open(filepath, 'r') as f:\n",
    "        lines = f.readlines()\n",
    "    \n",
    "    return lines"
   ]
  },
  {
   "cell_type": "code",
   "execution_count": 3,
   "id": "692ac8d4",
   "metadata": {},
   "outputs": [],
   "source": [
    "def convert_input(sues):\n",
    "    \n",
    "    cleaned_sues = dict()\n",
    "    \n",
    "    for i, sue in enumerate(sues):\n",
    "        sue = sue.replace(\",\",\"\").replace(\":\",\"\").strip()\n",
    "        _, _, item1, val1, item2, val2, item3, val3 = sue.split()\n",
    "        cleaned_sues[i+1] = {item1: int(val1),\n",
    "                            item2: int(val2),\n",
    "                            item3: int(val3)}\n",
    "    return cleaned_sues"
   ]
  },
  {
   "cell_type": "code",
   "execution_count": 4,
   "id": "0fe7c008",
   "metadata": {},
   "outputs": [],
   "source": [
    "def check_result(key, sue, results):\n",
    "    return sue[key] == results[key]"
   ]
  },
  {
   "cell_type": "code",
   "execution_count": 5,
   "id": "6f0f3203",
   "metadata": {},
   "outputs": [],
   "source": [
    "def check_result_updated(key, sue, results):\n",
    "    if key in [\"cats\", \"trees\"]:\n",
    "        return sue[key] > results[key]\n",
    "    if key in [\"pomeranians\", \"goldfish\"]:\n",
    "        return sue[key] < results[key]\n",
    "    return sue[key] == results[key]"
   ]
  },
  {
   "cell_type": "code",
   "execution_count": 6,
   "id": "b765989a",
   "metadata": {},
   "outputs": [],
   "source": [
    "def day16a(filepath):\n",
    "    \n",
    "    sues =  read_input(filepath)\n",
    "    all_sues = convert_input(sues)\n",
    "    #print(sues)\n",
    "    results = {\"children\": 3, 'cats': 7, \"samoyeds\": 2, \"pomeranians\": 3, 'akitas': 0,\n",
    "               \"vizslas\": 0, \"goldfish\": 5, \"trees\": 3, \"cars\": 2, 'perfumes': 1}\n",
    "    \n",
    "    for sue_num in all_sues:\n",
    "        the_one = True\n",
    "        items = [i for i in all_sues[sue_num].keys()]\n",
    "        for item in items:\n",
    "            if not check_result(item, all_sues[sue_num], results):\n",
    "                the_one = False\n",
    "        if the_one:\n",
    "            print(f\"Aunt sue {sue_num} is the one that got you the gift.\")\n",
    "            break\n",
    "        "
   ]
  },
  {
   "cell_type": "code",
   "execution_count": 7,
   "id": "eb454e8d",
   "metadata": {},
   "outputs": [],
   "source": [
    "def day16b(filepath):\n",
    "    \n",
    "    sues =  read_input(filepath)\n",
    "    all_sues = convert_input(sues)\n",
    "    #print(sues)\n",
    "    results = {\"children\": 3, 'cats': 7, \"samoyeds\": 2, \"pomeranians\": 3, 'akitas': 0,\n",
    "               \"vizslas\": 0, \"goldfish\": 5, \"trees\": 3, \"cars\": 2, 'perfumes': 1}\n",
    "    \n",
    "    for sue_num in all_sues:\n",
    "        the_one = True\n",
    "        items = [i for i in all_sues[sue_num].keys()]\n",
    "        for item in items:\n",
    "            if not check_result_updated(item, all_sues[sue_num], results):\n",
    "                the_one = False\n",
    "        if the_one:\n",
    "            print(f\"Aunt sue {sue_num} is the one that got you the gift.\")\n",
    "            break"
   ]
  },
  {
   "cell_type": "code",
   "execution_count": 8,
   "id": "ec3241ca",
   "metadata": {},
   "outputs": [
    {
     "name": "stdout",
     "output_type": "stream",
     "text": [
      "Aunt sue 373 is the one that got you the gift.\n"
     ]
    }
   ],
   "source": [
    "day16a(filepath)"
   ]
  },
  {
   "cell_type": "code",
   "execution_count": 9,
   "id": "b132912a",
   "metadata": {},
   "outputs": [
    {
     "name": "stdout",
     "output_type": "stream",
     "text": [
      "Aunt sue 260 is the one that got you the gift.\n"
     ]
    }
   ],
   "source": [
    "day16b(filepath)"
   ]
  }
 ],
 "metadata": {
  "kernelspec": {
   "display_name": "Python 3 (ipykernel)",
   "language": "python",
   "name": "python3"
  },
  "language_info": {
   "codemirror_mode": {
    "name": "ipython",
    "version": 3
   },
   "file_extension": ".py",
   "mimetype": "text/x-python",
   "name": "python",
   "nbconvert_exporter": "python",
   "pygments_lexer": "ipython3",
   "version": "3.10.9"
  }
 },
 "nbformat": 4,
 "nbformat_minor": 5
}
