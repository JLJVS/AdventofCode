{
 "cells": [
  {
   "cell_type": "markdown",
   "id": "93889740",
   "metadata": {},
   "source": [
    "--- Day 9: All in a Single Night ---\n",
    "\n",
    "Every year, Santa manages to deliver all of his presents in a single night.\n",
    "\n",
    "This year, however, he has some new locations to visit; his elves have provided him the distances between every pair of locations. He can start and end at any two (different) locations he wants, but he must visit each location exactly once. What is the shortest distance he can travel to achieve this?\n",
    "\n",
    "For example, given the following distances:\n",
    "\n",
    "London to Dublin = 464  \n",
    "London to Belfast = 518  \n",
    "Dublin to Belfast = 141  \n",
    "  \n",
    "The possible routes are therefore:\n",
    "\n",
    "Dublin -> London -> Belfast = 982  \n",
    "London -> Dublin -> Belfast = 605  \n",
    "London -> Belfast -> Dublin = 659  \n",
    "Dublin -> Belfast -> London = 659  \n",
    "Belfast -> Dublin -> London = 605  \n",
    "Belfast -> London -> Dublin = 982  \n",
    "\n",
    "The shortest of these is London -> Dublin -> Belfast = 605, and so the answer is 605 in this example.\n",
    "\n",
    "What is the distance of the shortest route?\n",
    "\n",
    "\n",
    "--- Part Two ---\n",
    "\n",
    "The next year, just to show off, Santa decides to take the route with the longest distance instead.\n",
    "\n",
    "He can still start and end at any two (different) locations he wants, and he still must visit each location exactly once.\n",
    "\n",
    "For example, given the distances above, the longest route would be 982 via (for example) Dublin -> London -> Belfast.\n",
    "\n",
    "What is the distance of the longest route?\n",
    "\n"
   ]
  },
  {
   "cell_type": "code",
   "execution_count": 16,
   "id": "843531b9",
   "metadata": {},
   "outputs": [],
   "source": [
    "from itertools import permutations "
   ]
  },
  {
   "cell_type": "code",
   "execution_count": 38,
   "id": "7fb94964",
   "metadata": {},
   "outputs": [],
   "source": [
    "filepath = \"..\\\\data\\\\input_day_09.txt\"\n",
    "test1 = \"..\\\\test\\\\test09_1.txt\""
   ]
  },
  {
   "cell_type": "code",
   "execution_count": 39,
   "id": "4fbda449",
   "metadata": {},
   "outputs": [],
   "source": [
    "# first we import our files\n",
    "def read_input(filepath):\n",
    "    with open(filepath, 'r') as f:\n",
    "        lines = f.readlines()\n",
    "    \n",
    "    return lines\n"
   ]
  },
  {
   "cell_type": "code",
   "execution_count": 40,
   "id": "93d09dd7",
   "metadata": {},
   "outputs": [],
   "source": [
    "def convert_input(connections):\n",
    "    '''\n",
    "    Takes the travel string and extracts the origin, the destination and the distance\n",
    "    example transforms:\n",
    "    London to Dublin = 464\n",
    "    ['London', 'Dublin', 464]\n",
    "    '''\n",
    "    formatted = []\n",
    "    for connection in connections:\n",
    "        origin = connection.split()[0]\n",
    "        destination = connection.split()[2]\n",
    "        distance = int(connection.strip().split()[-1])\n",
    "        formatted.append([origin, destination, distance])\n",
    "    return formatted"
   ]
  },
  {
   "cell_type": "code",
   "execution_count": 41,
   "id": "450e8770",
   "metadata": {},
   "outputs": [],
   "source": [
    "def extract_Locations_Distances(formatted):\n",
    "    # create a set for all locations to travel to and from\n",
    "    locations = set()\n",
    "    # create a dictionary for all connections with distances\n",
    "    distances = dict()\n",
    "    \n",
    "    for info in formatted:\n",
    "        origin, destination, distance = info\n",
    "        \n",
    "        # add the locations\n",
    "        locations.add(origin)\n",
    "        locations.add(destination)\n",
    "        \n",
    "        if origin in distances.keys():\n",
    "            distances[origin][destination] = distance\n",
    "        else:\n",
    "            distances[origin] = {destination: distance}\n",
    "        if destination in distances.keys():\n",
    "            distances[destination][origin] = distance\n",
    "        else:\n",
    "            distances[destination] = {origin: distance}\n",
    "\n",
    "    #print(locations)\n",
    "    #print(distances)\n",
    "    return locations, distances"
   ]
  },
  {
   "cell_type": "code",
   "execution_count": 81,
   "id": "b654a72e",
   "metadata": {},
   "outputs": [],
   "source": [
    "def find_paths(locations, distances):\n",
    "    paths = permutations(locations)\n",
    "    costs = []\n",
    "    for path in paths:\n",
    "        cost = 0\n",
    "        for i, location in enumerate(path[:-1]):\n",
    "            cost += distances[location][path[i+1]]\n",
    "        costs.append([cost, path])\n",
    "\n",
    "    costs.sort()\n",
    "    #print(costs[0])\n",
    "    return costs"
   ]
  },
  {
   "cell_type": "code",
   "execution_count": 111,
   "id": "c85c3960",
   "metadata": {},
   "outputs": [],
   "source": [
    "def day09a(filepath):\n",
    "    '''\n",
    "    Finds the shortest path that visits all locations exactly once,\n",
    "    returns the travel cost and the path taken\n",
    "    '''\n",
    "\n",
    "    raw_input = read_input(filepath)\n",
    "    clean_input = convert_input(raw_input)\n",
    "    locations, distances = extract_Locations_Distances(clean_input)\n",
    "    shortest_path = find_paths(locations, distances)\n",
    "    print(f\"The shortest path would have a length of {shortest_path[-1][0]} and goes:\\n{'->'.join(shortest_path[-1][1])}.\")\n",
    "    \n",
    "    return shortest_path[0]"
   ]
  },
  {
   "cell_type": "code",
   "execution_count": 112,
   "id": "c4a5eab6",
   "metadata": {},
   "outputs": [],
   "source": [
    "def day09b(filepath):\n",
    "    '''\n",
    "    Finds the longest path that visits all locations exactly once,\n",
    "    returns the travel cost and the path taken\n",
    "    '''\n",
    "\n",
    "    raw_input = read_input(filepath)\n",
    "    clean_input = convert_input(raw_input)\n",
    "    locations, distances = extract_Locations_Distances(clean_input)\n",
    "    longest_path = find_paths(locations, distances)\n",
    "    print(f\"The longest path would have a length of {longest_path[-1][0]} and goes:\\n{'->'.join(longest_path[-1][1])}.\")\n",
    "    return longest_path[-1]"
   ]
  },
  {
   "cell_type": "code",
   "execution_count": 113,
   "id": "e6a5a660",
   "metadata": {},
   "outputs": [],
   "source": [
    "def test09a():\n",
    "    assert day09a(test1)[0] == 605 # London -> Dublin -> Belfast = 605"
   ]
  },
  {
   "cell_type": "code",
   "execution_count": 114,
   "id": "2bad5633",
   "metadata": {},
   "outputs": [],
   "source": [
    "def test09b():\n",
    "    assert day09b(test1)[0] == 982 # Dublin -> London -> Belfast = 982"
   ]
  },
  {
   "cell_type": "code",
   "execution_count": 115,
   "id": "6fbc2371",
   "metadata": {},
   "outputs": [
    {
     "name": "stdout",
     "output_type": "stream",
     "text": [
      "The shortest path would have a length of 982 and goes:\n",
      "Dublin->London->Belfast.\n"
     ]
    }
   ],
   "source": [
    "test09a()"
   ]
  },
  {
   "cell_type": "code",
   "execution_count": 116,
   "id": "f71caff8",
   "metadata": {},
   "outputs": [
    {
     "name": "stdout",
     "output_type": "stream",
     "text": [
      "The longest path would have a length of 982 and goes:\n",
      "Dublin->London->Belfast.\n"
     ]
    }
   ],
   "source": [
    "test09b()"
   ]
  },
  {
   "cell_type": "code",
   "execution_count": 117,
   "id": "156c70d9",
   "metadata": {},
   "outputs": [
    {
     "name": "stdout",
     "output_type": "stream",
     "text": [
      "The shortest path would have a length of 736 and goes:\n",
      "Faerun->Norrath->Tambi->Straylight->Snowdin->Tristram->Arbre->AlphaCentauri.\n"
     ]
    },
    {
     "data": {
      "text/plain": [
       "[141,\n",
       " ('Arbre',\n",
       "  'Tambi',\n",
       "  'Snowdin',\n",
       "  'Faerun',\n",
       "  'Straylight',\n",
       "  'Norrath',\n",
       "  'AlphaCentauri',\n",
       "  'Tristram')]"
      ]
     },
     "execution_count": 117,
     "metadata": {},
     "output_type": "execute_result"
    }
   ],
   "source": [
    "day09a(filepath)"
   ]
  },
  {
   "cell_type": "code",
   "execution_count": 118,
   "id": "cf674b14",
   "metadata": {},
   "outputs": [
    {
     "name": "stdout",
     "output_type": "stream",
     "text": [
      "The longest path would have a length of 736 and goes:\n",
      "Faerun->Norrath->Tambi->Straylight->Snowdin->Tristram->Arbre->AlphaCentauri.\n"
     ]
    },
    {
     "data": {
      "text/plain": [
       "[736,\n",
       " ('Faerun',\n",
       "  'Norrath',\n",
       "  'Tambi',\n",
       "  'Straylight',\n",
       "  'Snowdin',\n",
       "  'Tristram',\n",
       "  'Arbre',\n",
       "  'AlphaCentauri')]"
      ]
     },
     "execution_count": 118,
     "metadata": {},
     "output_type": "execute_result"
    }
   ],
   "source": [
    "day09b(filepath)"
   ]
  }
 ],
 "metadata": {
  "kernelspec": {
   "display_name": "Python 3 (ipykernel)",
   "language": "python",
   "name": "python3"
  },
  "language_info": {
   "codemirror_mode": {
    "name": "ipython",
    "version": 3
   },
   "file_extension": ".py",
   "mimetype": "text/x-python",
   "name": "python",
   "nbconvert_exporter": "python",
   "pygments_lexer": "ipython3",
   "version": "3.10.9"
  }
 },
 "nbformat": 4,
 "nbformat_minor": 5
}
