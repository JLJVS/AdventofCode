{
 "cells": [
  {
   "cell_type": "markdown",
   "id": "c2af21a3",
   "metadata": {},
   "source": [
    "--- Day 13: Knights of the Dinner Table ---\n",
    "\n",
    "In years past, the holiday feast with your family hasn't gone so well. Not everyone gets along! This year, you resolve, will be different. You're going to find the optimal seating arrangement and avoid all those awkward conversations.\n",
    "\n",
    "You start by writing up a list of everyone invited and the amount their happiness would increase or decrease if they were to find themselves sitting next to each other person. You have a circular table that will be just big enough to fit everyone comfortably, and so each person will have exactly two neighbors.\n",
    "\n",
    "For example, suppose you have only four attendees planned, and you calculate their potential happiness as follows:\n",
    "\n",
    "Alice would gain 54 happiness units by sitting next to Bob.\n",
    "Alice would lose 79 happiness units by sitting next to Carol.\n",
    "Alice would lose 2 happiness units by sitting next to David.\n",
    "Bob would gain 83 happiness units by sitting next to Alice.\n",
    "Bob would lose 7 happiness units by sitting next to Carol.\n",
    "Bob would lose 63 happiness units by sitting next to David.\n",
    "Carol would lose 62 happiness units by sitting next to Alice.\n",
    "Carol would gain 60 happiness units by sitting next to Bob.\n",
    "Carol would gain 55 happiness units by sitting next to David.\n",
    "David would gain 46 happiness units by sitting next to Alice.\n",
    "David would lose 7 happiness units by sitting next to Bob.\n",
    "David would gain 41 happiness units by sitting next to Carol.\n",
    "\n",
    "Then, if you seat Alice next to David, Alice would lose 2 happiness units (because David talks so much), but David would gain 46 happiness units (because Alice is such a good listener), for a total change of 44.\n",
    "\n",
    "If you continue around the table, you could then seat Bob next to Alice (Bob gains 83, Alice gains 54). Finally, seat Carol, who sits next to Bob (Carol gains 60, Bob loses 7) and David (Carol gains 55, David gains 41). The arrangement looks like this:\n",
    "\n",
    "     +41 +46  \n",
    "+55   David    -2  \n",
    "Carol       Alice  \n",
    "+60    Bob    +54  \n",
    "     -7  +83  \n",
    "\n",
    "After trying every other seating arrangement in this hypothetical scenario, you find that this one is the most optimal, with a total change in happiness of 330.\n",
    "\n",
    "What is the total change in happiness for the optimal seating arrangement of the actual guest list?\n",
    "\n",
    "\n",
    "--- Part Two ---\n",
    "\n",
    "In all the commotion, you realize that you forgot to seat yourself. At this point, you're pretty apathetic toward the whole thing, and your happiness wouldn't really go up or down regardless of who you sit next to. You assume everyone else would be just as ambivalent about sitting next to you, too.\n",
    "\n",
    "So, add yourself to the list, and give all happiness relationships that involve you a score of 0.\n",
    "\n",
    "What is the total change in happiness for the optimal seating arrangement that actually includes yourself?\n"
   ]
  },
  {
   "cell_type": "code",
   "execution_count": 34,
   "id": "e4ba6759",
   "metadata": {},
   "outputs": [],
   "source": [
    "from itertools import permutations"
   ]
  },
  {
   "cell_type": "code",
   "execution_count": 1,
   "id": "9c268ecf",
   "metadata": {},
   "outputs": [],
   "source": [
    "filepath = \"..\\\\data\\\\input_day_13.txt\"\n",
    "test1 = \"..\\\\test\\\\test13_1.txt\""
   ]
  },
  {
   "cell_type": "code",
   "execution_count": 2,
   "id": "5525d267",
   "metadata": {},
   "outputs": [],
   "source": [
    "# first we import our files\n",
    "def read_input(filepath):\n",
    "    with open(filepath, 'r') as f:\n",
    "        lines = f.readlines()\n",
    "    \n",
    "    return lines"
   ]
  },
  {
   "cell_type": "code",
   "execution_count": 35,
   "id": "8a5c3e18",
   "metadata": {},
   "outputs": [],
   "source": [
    "def convert_input(lines):\n",
    "    '''\n",
    "    Extracts the relationship between guest1 and guest2 and their happiness score and the set of everybody invited\n",
    "    example:\n",
    "    guest1 would gain x happiness units by sitting next to guest2.\n",
    "    guests = {guest1: {guest2: x}}\n",
    "    '''\n",
    "    \n",
    "    guests = dict()\n",
    "    persons = set()\n",
    "    for line in lines:\n",
    "        # read out the guests\n",
    "        guest1, *_, guest2 = line.split()\n",
    "        guest2 = guest2[:-1]\n",
    "        persons.add(guest1)\n",
    "        persons.add(guest2)\n",
    "        # find the corresponding happiness score\n",
    "        val = int(line.split()[3])\n",
    "        if \"lose\" in line:\n",
    "            val *= -1\n",
    "            \n",
    "        # add the relationship and happiness score to the dict\n",
    "        if guest1 in guests:\n",
    "            guests[guest1][guest2] = val\n",
    "        else:\n",
    "            guests[guest1] = {guest2: val}\n",
    "    return guests, persons"
   ]
  },
  {
   "cell_type": "code",
   "execution_count": 71,
   "id": "3205c00e",
   "metadata": {},
   "outputs": [],
   "source": [
    "def generate_seating(persons):\n",
    "    return [list(i) for i in permutations(persons)]"
   ]
  },
  {
   "cell_type": "code",
   "execution_count": 79,
   "id": "8a611412",
   "metadata": {},
   "outputs": [],
   "source": [
    "def insert_self(relations, persons):\n",
    "    persons.add(\"x\")\n",
    "    relations[\"x\"] = dict()\n",
    "    for person in relations:\n",
    "        relations[person][\"x\"] = 0\n",
    "        relations[\"x\"][person] = 0\n",
    "    return relations, persons"
   ]
  },
  {
   "cell_type": "code",
   "execution_count": 92,
   "id": "583e6b9b",
   "metadata": {},
   "outputs": [],
   "source": [
    "def day13a(filepath):\n",
    "    \n",
    "    # read the text file and convert to the relation\n",
    "    lines = read_input(filepath)\n",
    "    relations, persons = convert_input(lines)\n",
    "    \n",
    "    # generate all possible seatings\n",
    "    seatings = generate_seating(persons)\n",
    "    \n",
    "    greatest_happiness = 0\n",
    "    best_seating = []\n",
    "    for seating in seatings:\n",
    "        # because we're seated at a round table we need to connect the first person to the last person\n",
    "        seating.append(seating[0])\n",
    "        happiness = 0\n",
    "        for i, person1 in enumerate(seating[:-1]):\n",
    "            # \"forward\" happiness\n",
    "            happiness += relations[person1][seating[i+1]]\n",
    "            # \"backward\" happiness\n",
    "            happiness += relations[seating[i+1]][person1]\n",
    "                \n",
    "        if greatest_happiness < happiness:\n",
    "            greatest_happiness = happiness\n",
    "            best_seating = seating\n",
    "    \n",
    "    print(f\"The optimal seating arrangment yields a happiness of {greatest_happiness}.\")\n",
    "    return greatest_happiness, best_seating"
   ]
  },
  {
   "cell_type": "code",
   "execution_count": 93,
   "id": "5c55d840",
   "metadata": {},
   "outputs": [],
   "source": [
    "def day13b(filepath):\n",
    "    \n",
    "    # read the text file and convert to the relation\n",
    "    lines = read_input(filepath)\n",
    "    relations, persons = convert_input(lines)\n",
    "    \n",
    "    # insert yourself\n",
    "    relations, persons = insert_self(relations, persons)\n",
    "    \n",
    "    # generate all possible seatings\n",
    "    seatings = generate_seating(persons)\n",
    "    \n",
    "    greatest_happiness = 0\n",
    "    best_seating = []\n",
    "    for seating in seatings:\n",
    "        # because we're seated at a round table we need to connect the first person to the last person\n",
    "        seating.append(seating[0])\n",
    "        happiness = 0\n",
    "        for i, person1 in enumerate(seating[:-1]):\n",
    "            # \"forward\" happiness\n",
    "            happiness += relations[person1][seating[i+1]]\n",
    "            # \"backward\" happiness\n",
    "            happiness += relations[seating[i+1]][person1]\n",
    "                \n",
    "        if greatest_happiness < happiness:\n",
    "            greatest_happiness = happiness\n",
    "            best_seating = seating\n",
    "\n",
    "    print(f\"The optimal seating arrangment yields a happiness of {greatest_happiness}.\")\n",
    "    return greatest_happiness, best_seating"
   ]
  },
  {
   "cell_type": "code",
   "execution_count": 94,
   "id": "da496bae",
   "metadata": {},
   "outputs": [],
   "source": [
    "def test13a():\n",
    "    assert day13a(test1)[0] == 330  #,['Alice', 'David', 'Carol', 'Bob', 'Alice']\n",
    "    print(\"passed all tests\")\n"
   ]
  },
  {
   "cell_type": "code",
   "execution_count": 95,
   "id": "6f4c3d99",
   "metadata": {},
   "outputs": [
    {
     "name": "stdout",
     "output_type": "stream",
     "text": [
      "The optimal seating arrangment yields a happiness of 330.\n",
      "passed all tests\n"
     ]
    }
   ],
   "source": [
    "test13a()"
   ]
  },
  {
   "cell_type": "code",
   "execution_count": 96,
   "id": "0c4d5d1a",
   "metadata": {},
   "outputs": [
    {
     "name": "stdout",
     "output_type": "stream",
     "text": [
      "The optimal seating arrangment yields a happiness of 664.\n"
     ]
    },
    {
     "data": {
      "text/plain": [
       "(664,\n",
       " ['Alice',\n",
       "  'Bob',\n",
       "  'George',\n",
       "  'Eric',\n",
       "  'Frank',\n",
       "  'Carol',\n",
       "  'Mallory',\n",
       "  'David',\n",
       "  'Alice'])"
      ]
     },
     "execution_count": 96,
     "metadata": {},
     "output_type": "execute_result"
    }
   ],
   "source": [
    "day13a(filepath)"
   ]
  },
  {
   "cell_type": "code",
   "execution_count": 97,
   "id": "2963f021",
   "metadata": {},
   "outputs": [
    {
     "name": "stdout",
     "output_type": "stream",
     "text": [
      "The optimal seating arrangment yields a happiness of 640.\n"
     ]
    },
    {
     "data": {
      "text/plain": [
       "(640,\n",
       " ['Alice',\n",
       "  'Bob',\n",
       "  'George',\n",
       "  'Eric',\n",
       "  'Frank',\n",
       "  'x',\n",
       "  'Carol',\n",
       "  'Mallory',\n",
       "  'David',\n",
       "  'Alice'])"
      ]
     },
     "execution_count": 97,
     "metadata": {},
     "output_type": "execute_result"
    }
   ],
   "source": [
    "day13b(filepath)"
   ]
  }
 ],
 "metadata": {
  "kernelspec": {
   "display_name": "Python 3 (ipykernel)",
   "language": "python",
   "name": "python3"
  },
  "language_info": {
   "codemirror_mode": {
    "name": "ipython",
    "version": 3
   },
   "file_extension": ".py",
   "mimetype": "text/x-python",
   "name": "python",
   "nbconvert_exporter": "python",
   "pygments_lexer": "ipython3",
   "version": "3.10.9"
  }
 },
 "nbformat": 4,
 "nbformat_minor": 5
}
