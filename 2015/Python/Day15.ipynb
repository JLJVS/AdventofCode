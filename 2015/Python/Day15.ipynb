{
 "cells": [
  {
   "cell_type": "markdown",
   "id": "962a69b5",
   "metadata": {},
   "source": [
    "--- Day 15: Science for Hungry People ---\n",
    "\n",
    "Today, you set out on the task of perfecting your milk-dunking cookie recipe. All you have to do is find the right balance of ingredients.\n",
    "\n",
    "Your recipe leaves room for exactly 100 teaspoons of ingredients. You make a list of the remaining ingredients you could use to finish the recipe (your puzzle input) and their properties per teaspoon:\n",
    "\n",
    "    capacity (how well it helps the cookie absorb milk)\n",
    "    durability (how well it keeps the cookie intact when full of milk)\n",
    "    flavor (how tasty it makes the cookie)\n",
    "    texture (how it improves the feel of the cookie)\n",
    "    calories (how many calories it adds to the cookie)\n",
    "\n",
    "You can only measure ingredients in whole-teaspoon amounts accurately, and you have to be accurate so you can reproduce your results in the future. The total score of a cookie can be found by adding up each of the properties (negative totals become 0) and then multiplying together everything except calories.\n",
    "\n",
    "For instance, suppose you have these two ingredients:\n",
    "\n",
    "Butterscotch: capacity -1, durability -2, flavor 6, texture 3, calories 8  \n",
    "Cinnamon: capacity 2, durability 3, flavor -2, texture -1, calories 3\n",
    "\n",
    "Then, choosing to use 44 teaspoons of butterscotch and 56 teaspoons of cinnamon (because the amounts of each ingredient must add up to 100) would result in a cookie with the following properties:\n",
    "\n",
    "    A capacity of 44*-1 + 56*2 = 68\n",
    "    A durability of 44*-2 + 56*3 = 80\n",
    "    A flavor of 44*6 + 56*-2 = 152\n",
    "    A texture of 44*3 + 56*-1 = 76\n",
    "\n",
    "Multiplying these together (68 * 80 * 152 * 76, ignoring calories for now) results in a total score of 62842880, which happens to be the best score possible given these ingredients. If any properties had produced a negative total, it would have instead become zero, causing the whole score to multiply to zero.\n",
    "\n",
    "Given the ingredients in your kitchen and their properties, what is the total score of the highest-scoring cookie you can make?\n",
    "\n",
    "\n",
    "--- Part Two ---\n",
    "\n",
    "Your cookie recipe becomes wildly popular! Someone asks if you can make another recipe that has exactly 500 calories per cookie (so they can use it as a meal replacement). Keep the rest of your award-winning process the same (100 teaspoons, same ingredients, same scoring system).\n",
    "\n",
    "For example, given the ingredients above, if you had instead selected 40 teaspoons of butterscotch and 60 teaspoons of cinnamon (which still adds to 100), the total calorie count would be 40*8 + 60*3 = 500. The total score would go down, though: only 57600000, the best you can do in such trying circumstances.\n",
    "\n",
    "Given the ingredients in your kitchen and their properties, what is the total score of the highest-scoring cookie you can make with a calorie total of 500?\n"
   ]
  },
  {
   "cell_type": "code",
   "execution_count": 1,
   "id": "2878235f",
   "metadata": {},
   "outputs": [],
   "source": [
    "filepath = \"..\\\\data\\\\input_day_15.txt\"\n",
    "test1 = \"..\\\\test\\\\test15_1.txt\""
   ]
  },
  {
   "cell_type": "code",
   "execution_count": 2,
   "id": "44da2eff",
   "metadata": {},
   "outputs": [],
   "source": [
    "# first we import our files\n",
    "def read_input(filepath):\n",
    "    with open(filepath, 'r') as f:\n",
    "        lines = f.readlines()\n",
    "    \n",
    "    return lines"
   ]
  },
  {
   "cell_type": "code",
   "execution_count": 20,
   "id": "5a4f7e00",
   "metadata": {},
   "outputs": [],
   "source": [
    "def convert_input(lines):\n",
    "    ingredients = dict()\n",
    "    for line in lines:\n",
    "        name , _, capacity, _, durability, _, flavor, _, texture ,_, cal = line.replace(\":\",\"\").replace(\",\", \"\").strip().split()\n",
    "        ingredients[name] = {\"cap\": int(capacity),\n",
    "                            \"dur\": int(durability),\n",
    "                            \"flav\": int(flavor),\n",
    "                            \"text\": int(texture),\n",
    "                            \"cal\": int(cal)}\n",
    "    return ingredients"
   ]
  },
  {
   "cell_type": "code",
   "execution_count": 21,
   "id": "dd433795",
   "metadata": {},
   "outputs": [
    {
     "name": "stdout",
     "output_type": "stream",
     "text": [
      "{'Butterscotch': {'cap': -1, 'dur': -2, 'flav': 6, 'text': 3, 'cal': 8}, 'Cinnamon': {'cap': 2, 'dur': 3, 'flav': -2, 'text': -1, 'cal': 3}}\n"
     ]
    }
   ],
   "source": [
    "ingredients = read_input(test1)\n",
    "ingredients = convert_input(ingredients)\n",
    "print(ingredients)"
   ]
  },
  {
   "cell_type": "code",
   "execution_count": 32,
   "id": "bc842cf3",
   "metadata": {},
   "outputs": [],
   "source": [
    "def day15a(filepath):\n",
    "    \n",
    "    ingredients = read_input(filepath)\n",
    "    ingredients = convert_input(ingredients)\n",
    "    N = 100\n",
    "    highest_total = 0\n",
    "    ratio = [0, 0, 0, 0]\n",
    "    # i is the number of teaspoons for the first ingredient, j, k, l for the 2nd, 3rd and 4th respectively\n",
    "    ingr1, ingr2, ingr3, ingr4 = ingredients.keys()\n",
    "    \n",
    "    for i in range(N+1):\n",
    "        for j in range(N+1):\n",
    "            for k in range(N+1):\n",
    "                for l in range(N+1):\n",
    "                    if i+j+k+l != N:\n",
    "                        pass\n",
    "                    else:\n",
    "                        \n",
    "                        cap = i*ingredients[ingr1][\"cap\"] + j*ingredients[ingr2][\"cap\"] + k*ingredients[ingr3][\"cap\"]+ l*ingredients[ingr4][\"cap\"]\n",
    "                        dur = i*ingredients[ingr1][\"dur\"] + j*ingredients[ingr2][\"dur\"] + k*ingredients[ingr3][\"dur\"]+ l*ingredients[ingr4][\"dur\"]\n",
    "                        flav = i*ingredients[ingr1][\"flav\"] + j*ingredients[ingr2][\"flav\"] + k*ingredients[ingr3][\"flav\"]+ l*ingredients[ingr4][\"flav\"]\n",
    "                        text = i*ingredients[ingr1][\"text\"] + j*ingredients[ingr2][\"text\"] + k*ingredients[ingr3][\"text\"]+ l*ingredients[ingr4][\"text\"]\n",
    "                        total = max(cap, 0)*max(dur, 0)*max(flav, 0)* max(text, 0)\n",
    "                        if total > highest_total:\n",
    "                            highest_total = total\n",
    "                            ratio = [i, j, k, l]\n",
    "    \n",
    "    val1, val2, val3, val4 = ratio\n",
    "    print(f\"We get the highest score of {highest_total} by using:\")\n",
    "    print(f\"{ingr1}: {val1} teaspoons \\n{ingr2}: {val2} teaspoons \\n{ingr3}: {val3} teaspoons \\n{ingr4}: {val4} teaspoons \\n\")\n",
    "    return highest_total, ratio"
   ]
  },
  {
   "cell_type": "code",
   "execution_count": 34,
   "id": "95b1e9c7",
   "metadata": {},
   "outputs": [],
   "source": [
    "def day15b(filepath):\n",
    "    \n",
    "    ingredients = read_input(filepath)\n",
    "    ingredients = convert_input(ingredients)\n",
    "    N = 100\n",
    "    highest_total = 0\n",
    "    ratio = [0, 0, 0, 0]\n",
    "    # i is the number of teaspoons for the first ingredient, j, k, l for the 2nd, 3rd and 4th respectively\n",
    "    ingr1, ingr2, ingr3, ingr4 = ingredients.keys()\n",
    "    \n",
    "    for i in range(N+1):\n",
    "        for j in range(N+1):\n",
    "            for k in range(N+1):\n",
    "                for l in range(N+1):\n",
    "                    if i+j+k+l != N:\n",
    "                        pass\n",
    "                    else:\n",
    "                        \n",
    "                        cap = i*ingredients[ingr1][\"cap\"] + j*ingredients[ingr2][\"cap\"] + k*ingredients[ingr3][\"cap\"]+ l*ingredients[ingr4][\"cap\"]\n",
    "                        dur = i*ingredients[ingr1][\"dur\"] + j*ingredients[ingr2][\"dur\"] + k*ingredients[ingr3][\"dur\"]+ l*ingredients[ingr4][\"dur\"]\n",
    "                        flav = i*ingredients[ingr1][\"flav\"] + j*ingredients[ingr2][\"flav\"] + k*ingredients[ingr3][\"flav\"]+ l*ingredients[ingr4][\"flav\"]\n",
    "                        text = i*ingredients[ingr1][\"text\"] + j*ingredients[ingr2][\"text\"] + k*ingredients[ingr3][\"text\"]+ l*ingredients[ingr4][\"text\"]\n",
    "                        total = max(cap, 0)*max(dur, 0)*max(flav, 0)* max(text, 0)\n",
    "                        cal = i*ingredients[ingr1][\"cal\"] + j*ingredients[ingr2][\"cal\"] + k*ingredients[ingr3][\"cal\"]+ l*ingredients[ingr4][\"cal\"]\n",
    "                        if total > highest_total and cal==500:\n",
    "                            highest_total = total\n",
    "                            ratio = [i, j, k, l]\n",
    "    \n",
    "    val1, val2, val3, val4 = ratio\n",
    "    print(f\"We get the highest score of {highest_total} by using:\")\n",
    "    print(f\"{ingr1}: {val1} teaspoons \\n{ingr2}: {val2} teaspoons \\n{ingr3}: {val3} teaspoons \\n{ingr4}: {val4} teaspoons \\n\")\n",
    "    return highest_total, ratio"
   ]
  },
  {
   "cell_type": "code",
   "execution_count": 35,
   "id": "5aeb617f",
   "metadata": {},
   "outputs": [
    {
     "name": "stdout",
     "output_type": "stream",
     "text": [
      "We get the highest score of 222870 by using:\n",
      "Sugar: 21 teaspoons \n",
      "Sprinkles: 5 teaspoons \n",
      "Candy: 31 teaspoons \n",
      "Chocolate: 43 teaspoons \n",
      "\n"
     ]
    },
    {
     "data": {
      "text/plain": [
       "(222870, [21, 5, 31, 43])"
      ]
     },
     "execution_count": 35,
     "metadata": {},
     "output_type": "execute_result"
    }
   ],
   "source": [
    "day15a(filepath)"
   ]
  },
  {
   "cell_type": "code",
   "execution_count": 36,
   "id": "57dbd7c8",
   "metadata": {},
   "outputs": [
    {
     "name": "stdout",
     "output_type": "stream",
     "text": [
      "We get the highest score of 117936 by using:\n",
      "Sugar: 21 teaspoons \n",
      "Sprinkles: 8 teaspoons \n",
      "Candy: 26 teaspoons \n",
      "Chocolate: 45 teaspoons \n",
      "\n"
     ]
    },
    {
     "data": {
      "text/plain": [
       "(117936, [21, 8, 26, 45])"
      ]
     },
     "execution_count": 36,
     "metadata": {},
     "output_type": "execute_result"
    }
   ],
   "source": [
    "day15b(filepath)"
   ]
  }
 ],
 "metadata": {
  "kernelspec": {
   "display_name": "Python 3 (ipykernel)",
   "language": "python",
   "name": "python3"
  },
  "language_info": {
   "codemirror_mode": {
    "name": "ipython",
    "version": 3
   },
   "file_extension": ".py",
   "mimetype": "text/x-python",
   "name": "python",
   "nbconvert_exporter": "python",
   "pygments_lexer": "ipython3",
   "version": "3.10.9"
  }
 },
 "nbformat": 4,
 "nbformat_minor": 5
}
