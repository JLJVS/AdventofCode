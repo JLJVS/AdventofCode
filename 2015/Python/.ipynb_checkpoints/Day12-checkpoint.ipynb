{
 "cells": [
  {
   "cell_type": "markdown",
   "id": "aede513f",
   "metadata": {},
   "source": [
    "--- Day 12: JSAbacusFramework.io ---\n",
    "\n",
    "Santa's Accounting-Elves need help balancing the books after a recent order. Unfortunately, their accounting software uses a peculiar storage format. That's where you come in.\n",
    "\n",
    "They have a JSON document which contains a variety of things: arrays ([1,2,3]), objects ({\"a\":1, \"b\":2}), numbers, and strings. Your first job is to simply find all of the numbers throughout the document and add them together.\n",
    "\n",
    "For example:\n",
    "\n",
    "    [1,2,3] and {\"a\":2,\"b\":4} both have a sum of 6.\n",
    "    [[[3]]] and {\"a\":{\"b\":4},\"c\":-1} both have a sum of 3.\n",
    "    {\"a\":[-1,1]} and [-1,{\"a\":1}] both have a sum of 0.\n",
    "    [] and {} both have a sum of 0.\n",
    "\n",
    "You will not encounter any strings containing numbers.\n",
    "\n",
    "What is the sum of all numbers in the document?\n",
    "\n",
    "\n",
    "--- Part Two ---\n",
    "\n",
    "Uh oh - the Accounting-Elves have realized that they double-counted everything red.\n",
    "\n",
    "Ignore any object (and all of its children) which has any property with the value \"red\". Do this only for objects ({...}), not arrays ([...]).\n",
    "\n",
    "    [1,2,3] still has a sum of 6.\n",
    "    [1,{\"c\":\"red\",\"b\":2},3] now has a sum of 4, because the middle object is ignored.\n",
    "    {\"d\":\"red\",\"e\":[1,2,3,4],\"f\":5} now has a sum of 0, because the entire structure is ignored.\n",
    "    [1,\"red\",5] has a sum of 6, because \"red\" in an array has no effect.\n",
    "\n"
   ]
  },
  {
   "cell_type": "code",
   "execution_count": 1,
   "id": "b21de2ce",
   "metadata": {},
   "outputs": [],
   "source": [
    "import re\n",
    "import json"
   ]
  },
  {
   "cell_type": "code",
   "execution_count": 23,
   "id": "0b15bd5d",
   "metadata": {},
   "outputs": [],
   "source": [
    "filepath = \"..\\\\data\\\\input_day_12.txt\"\n",
    "test1 = \"..\\\\test\\\\test12_1.txt\"\n",
    "test2 = \"..\\\\test\\\\test12_2.txt\"\n",
    "test3 = \"..\\\\test\\\\test12_3.txt\"\n",
    "test4 = \"..\\\\test\\\\test12_4.txt\"\n",
    "test5 = \"..\\\\test\\\\test12_5.txt\"\n",
    "test6 = \"..\\\\test\\\\test12_6.txt\"\n",
    "test7 = \"..\\\\test\\\\test12_7.txt\"\n",
    "test8 = \"..\\\\test\\\\test12_8.txt\""
   ]
  },
  {
   "cell_type": "code",
   "execution_count": 24,
   "id": "e6248f7e",
   "metadata": {},
   "outputs": [],
   "source": [
    "# first we import our files\n",
    "def read_input(filepath):\n",
    "    with open(filepath, 'r') as f:\n",
    "        lines = f.readlines()\n",
    "    \n",
    "    return lines"
   ]
  },
  {
   "cell_type": "code",
   "execution_count": 25,
   "id": "40512a77",
   "metadata": {},
   "outputs": [],
   "source": [
    "def find_numbers(line):\n",
    "    return sum([int(i) for i in re.findall('-*\\d+', line)])"
   ]
  },
  {
   "cell_type": "code",
   "execution_count": 35,
   "id": "84b5750f",
   "metadata": {},
   "outputs": [],
   "source": [
    "def red_parser(obj):\n",
    "    '''\n",
    "    There are three type of entries that can contribute integers, lists and dictonaries. Except for dictionaries with red in it\n",
    "    '''\n",
    "    \n",
    "    # if the object is an int return the object\n",
    "    if isinstance(obj, int):\n",
    "        return obj\n",
    "    \n",
    "    # if it's a list call the function for all list entries \n",
    "    if isinstance(obj, list):\n",
    "        return sum([red_parser(i) for i in obj])\n",
    "    \n",
    "    # if the object is a string return 0\n",
    "    if isinstance(obj, str):\n",
    "        return 0\n",
    "    \n",
    "    # check if red is in the dictonary\n",
    "    if \"red\" in obj.values():\n",
    "        return 0\n",
    "    \n",
    "    return red_parser([i for i in obj.values()])\n",
    "\n"
   ]
  },
  {
   "cell_type": "code",
   "execution_count": 27,
   "id": "3cff387a",
   "metadata": {},
   "outputs": [],
   "source": [
    "def day12a(filepath):\n",
    "    line = read_input(filepath)[0]\n",
    "    total = find_numbers(line)\n",
    "    print(f\"The sum of all numbers in the document is {total}.\")\n",
    "    return total"
   ]
  },
  {
   "cell_type": "code",
   "execution_count": 28,
   "id": "ff770e2e",
   "metadata": {},
   "outputs": [],
   "source": [
    "def day12b(filepath):\n",
    "    line = read_input(filepath)[0]\n",
    "    json_loaded = json.loads(line)\n",
    "    total = red_parser(json_loaded)\n",
    "    print(f\"The sum of all numbers in the document is {total}.\")\n",
    "    return total"
   ]
  },
  {
   "cell_type": "code",
   "execution_count": 29,
   "id": "c62d5fa8",
   "metadata": {},
   "outputs": [],
   "source": [
    "def test12a():\n",
    "    assert day12a(test1) == 6\n",
    "    assert day12a(test2) == 6\n",
    "    assert day12a(test3) == 3\n",
    "    assert day12a(test4) == 3\n",
    "    assert day12a(test5) == 0\n",
    "    assert day12a(test6) == 0\n",
    "    print(\"all tests passed\")"
   ]
  },
  {
   "cell_type": "code",
   "execution_count": 30,
   "id": "d13afcd6",
   "metadata": {},
   "outputs": [],
   "source": [
    "def test12b():\n",
    "    assert day12b(test1) == 6\n",
    "    assert day12b(test7) == 4\n",
    "    assert day12b(test8) == 6\n",
    "    print(\"all tests passed\")"
   ]
  },
  {
   "cell_type": "code",
   "execution_count": 31,
   "id": "20a30774",
   "metadata": {},
   "outputs": [
    {
     "name": "stdout",
     "output_type": "stream",
     "text": [
      "The sum of all numbers in the document is 6.\n",
      "The sum of all numbers in the document is 6.\n",
      "The sum of all numbers in the document is 3.\n",
      "The sum of all numbers in the document is 3.\n",
      "The sum of all numbers in the document is 0.\n",
      "The sum of all numbers in the document is 0.\n",
      "all tests passed\n"
     ]
    }
   ],
   "source": [
    "test12a()"
   ]
  },
  {
   "cell_type": "code",
   "execution_count": 32,
   "id": "76d7b393",
   "metadata": {},
   "outputs": [
    {
     "name": "stdout",
     "output_type": "stream",
     "text": [
      "The sum of all numbers in the document is 6.\n",
      "The sum of all numbers in the document is 4.\n",
      "The sum of all numbers in the document is 6.\n",
      "all tests passed\n"
     ]
    }
   ],
   "source": [
    "test12b()"
   ]
  },
  {
   "cell_type": "code",
   "execution_count": 33,
   "id": "54253bf6",
   "metadata": {},
   "outputs": [
    {
     "name": "stdout",
     "output_type": "stream",
     "text": [
      "The sum of all numbers in the document is 111754.\n"
     ]
    },
    {
     "data": {
      "text/plain": [
       "111754"
      ]
     },
     "execution_count": 33,
     "metadata": {},
     "output_type": "execute_result"
    }
   ],
   "source": [
    "day12a(filepath)"
   ]
  },
  {
   "cell_type": "code",
   "execution_count": 34,
   "id": "882f6b8d",
   "metadata": {},
   "outputs": [
    {
     "name": "stdout",
     "output_type": "stream",
     "text": [
      "The sum of all numbers in the document is 65402.\n"
     ]
    },
    {
     "data": {
      "text/plain": [
       "65402"
      ]
     },
     "execution_count": 34,
     "metadata": {},
     "output_type": "execute_result"
    }
   ],
   "source": [
    "day12b(filepath)"
   ]
  }
 ],
 "metadata": {
  "kernelspec": {
   "display_name": "Python 3 (ipykernel)",
   "language": "python",
   "name": "python3"
  },
  "language_info": {
   "codemirror_mode": {
    "name": "ipython",
    "version": 3
   },
   "file_extension": ".py",
   "mimetype": "text/x-python",
   "name": "python",
   "nbconvert_exporter": "python",
   "pygments_lexer": "ipython3",
   "version": "3.10.9"
  }
 },
 "nbformat": 4,
 "nbformat_minor": 5
}
