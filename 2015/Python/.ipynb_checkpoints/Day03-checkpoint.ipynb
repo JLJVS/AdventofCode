{
 "cells": [
  {
   "cell_type": "markdown",
   "id": "a4d1f064",
   "metadata": {},
   "source": [
    "--- Day 3: Perfectly Spherical Houses in a Vacuum ---\n",
    "\n",
    "Santa is delivering presents to an infinite two-dimensional grid of houses.\n",
    "\n",
    "He begins by delivering a present to the house at his starting location, and then an elf at the North Pole calls him via radio and tells him where to move next. Moves are always exactly one house to the north (^), south (v), east (>), or west (<). After each move, he delivers another present to the house at his new location.\n",
    "\n",
    "However, the elf back at the north pole has had a little too much eggnog, and so his directions are a little off, and Santa ends up visiting some houses more than once. How many houses receive at least one present?\n",
    "\n",
    "For example:\n",
    "\n",
    "    > delivers presents to 2 houses: one at the starting location, and one to the east.\n",
    "    ^>v< delivers presents to 4 houses in a square, including twice to the house at his starting/ending location.\n",
    "    ^v^v^v^v^v delivers a bunch of presents to some very lucky children at only 2 houses.\n",
    "\n",
    "--- Part Two ---\n",
    "\n",
    "The next year, to speed up the process, Santa creates a robot version of himself, Robo-Santa, to deliver presents with him.\n",
    "\n",
    "Santa and Robo-Santa start at the same location (delivering two presents to the same starting house), then take turns moving based on instructions from the elf, who is eggnoggedly reading from the same script as the previous year.\n",
    "\n",
    "This year, how many houses receive at least one present?\n",
    "\n",
    "For example:\n",
    "\n",
    "    ^v delivers presents to 3 houses, because Santa goes north, and then Robo-Santa goes south.\n",
    "    ^>v< now delivers presents to 3 houses, and Santa and Robo-Santa end up back where they started.\n",
    "    ^v^v^v^v^v now delivers presents to 11 houses, with Santa going one direction and Robo-Santa going the other.\n",
    "\n"
   ]
  },
  {
   "cell_type": "code",
   "execution_count": 2,
   "id": "fd8548c2",
   "metadata": {},
   "outputs": [],
   "source": [
    "filepath = \"..\\\\data\\\\input_day_03.txt\"\n",
    "test1 = \"..\\\\test\\\\test03_1.txt\"\n",
    "test2 = \"..\\\\test\\\\test03_2.txt\"\n",
    "test3 = \"..\\\\test\\\\test03_3.txt\""
   ]
  },
  {
   "cell_type": "code",
   "execution_count": 1,
   "id": "6ea151cd",
   "metadata": {},
   "outputs": [],
   "source": [
    "# first we import our files\n",
    "def read_input(filepath):\n",
    "    with open(filepath, 'r') as f:\n",
    "        lines = f.readlines()\n",
    "    \n",
    "    return lines"
   ]
  },
  {
   "cell_type": "code",
   "execution_count": 5,
   "id": "574fb08e",
   "metadata": {},
   "outputs": [],
   "source": [
    "def getNewLocation(currentLocation, direction):\n",
    "    x, y = currentLocation\n",
    "    dx, dy = 0, 0\n",
    "    if direction == \"^\":\n",
    "        dy += 1\n",
    "    elif direction == \"v\":\n",
    "        dy -= 1\n",
    "    elif direction == \"<\":\n",
    "        dx -= 1\n",
    "    else:\n",
    "        dx += 1\n",
    "    return x+dx, y+dy"
   ]
  },
  {
   "cell_type": "code",
   "execution_count": 21,
   "id": "3d40345b",
   "metadata": {},
   "outputs": [],
   "source": [
    "def day03a(filepath):\n",
    "    \n",
    "    directions = read_input(filepath)[0]\n",
    "    visited = set()\n",
    "    \n",
    "    location = (0,0)\n",
    "    visited.add(location)\n",
    "    for direction in directions:\n",
    "        location = getNewLocation(location, direction)\n",
    "        visited.add(location)\n",
    "    print(f\"Santa visited {len(visited)} houses this year.\")\n",
    "    return len(visited)"
   ]
  },
  {
   "cell_type": "code",
   "execution_count": 24,
   "id": "ec28bc39",
   "metadata": {},
   "outputs": [],
   "source": [
    "def day03b(filepath):\n",
    "    \n",
    "    directions = read_input(filepath)[0]\n",
    "    visited = set()\n",
    "    \n",
    "    location, roboLocation = (0,0), (0,0)\n",
    "    visited.add(location)\n",
    "    for i, direction in enumerate(directions):\n",
    "        if i%2==0:\n",
    "            location = getNewLocation(location, direction)\n",
    "            visited.add(location)\n",
    "        else:\n",
    "            roboLocation = getNewLocation(roboLocation, direction)\n",
    "            visited.add(roboLocation)\n",
    "    print(f\"Santa visited {len(visited)} houses this year.\")\n",
    "    return len(visited)"
   ]
  },
  {
   "cell_type": "code",
   "execution_count": 25,
   "id": "951d6b7e",
   "metadata": {},
   "outputs": [],
   "source": [
    "def test03a():\n",
    "    assert day03a(test1) == 2 # we visited 2 houses\n",
    "    assert day03a(test2) == 4 # we visited 4 houses\n",
    "    assert day03a(test3) == 2 # we visited 2 houses"
   ]
  },
  {
   "cell_type": "code",
   "execution_count": 26,
   "id": "778dbca5",
   "metadata": {},
   "outputs": [],
   "source": [
    "def test03b():\n",
    "    assert day03b(test1) == 3 # we visited 2 houses\n",
    "    assert day03b(test2) == 3 # we visited 4 houses\n",
    "    assert day03b(test3) == 11 # we visited 2 houses"
   ]
  },
  {
   "cell_type": "code",
   "execution_count": 27,
   "id": "5f1c7e37",
   "metadata": {},
   "outputs": [
    {
     "name": "stdout",
     "output_type": "stream",
     "text": [
      "Santa visited 2565 houses this year.\n"
     ]
    },
    {
     "data": {
      "text/plain": [
       "2565"
      ]
     },
     "execution_count": 27,
     "metadata": {},
     "output_type": "execute_result"
    }
   ],
   "source": [
    "day03a(filepath)"
   ]
  },
  {
   "cell_type": "code",
   "execution_count": 28,
   "id": "04209c09",
   "metadata": {},
   "outputs": [
    {
     "name": "stdout",
     "output_type": "stream",
     "text": [
      "Santa visited 2639 houses this year.\n"
     ]
    },
    {
     "data": {
      "text/plain": [
       "2639"
      ]
     },
     "execution_count": 28,
     "metadata": {},
     "output_type": "execute_result"
    }
   ],
   "source": [
    "day03b(filepath)"
   ]
  }
 ],
 "metadata": {
  "kernelspec": {
   "display_name": "Python 3 (ipykernel)",
   "language": "python",
   "name": "python3"
  },
  "language_info": {
   "codemirror_mode": {
    "name": "ipython",
    "version": 3
   },
   "file_extension": ".py",
   "mimetype": "text/x-python",
   "name": "python",
   "nbconvert_exporter": "python",
   "pygments_lexer": "ipython3",
   "version": "3.10.9"
  }
 },
 "nbformat": 4,
 "nbformat_minor": 5
}
