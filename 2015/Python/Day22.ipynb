{
 "cells": [
  {
   "cell_type": "markdown",
   "id": "ac3d7587",
   "metadata": {},
   "source": [
    "--- Day 22: Wizard Simulator 20XX ---\n",
    "\n",
    "Little Henry Case decides that defeating bosses with swords and stuff is boring. Now he's playing the game with a wizard. Of course, he gets stuck on another boss and needs your help again.\n",
    "\n",
    "In this version, combat still proceeds with the player and the boss taking alternating turns. The player still goes first. Now, however, you don't get any equipment; instead, you must choose one of your spells to cast. The first character at or below 0 hit points loses.\n",
    "\n",
    "Since you're a wizard, you don't get to wear armor, and you can't attack normally. However, since you do magic damage, your opponent's armor is ignored, and so the boss effectively has zero armor as well. As before, if armor (from a spell, in this case) would reduce damage below 1, it becomes 1 instead - that is, the boss' attacks always deal at least 1 damage.\n",
    "\n",
    "On each of your turns, you must select one of your spells to cast. If you cannot afford to cast any spell, you lose. Spells cost mana; you start with 500 mana, but have no maximum limit. You must have enough mana to cast a spell, and its cost is immediately deducted when you cast it. Your spells are Magic Missile, Drain, Shield, Poison, and Recharge.\n",
    "\n",
    "    Magic Missile costs 53 mana. It instantly does 4 damage.\n",
    "    Drain costs 73 mana. It instantly does 2 damage and heals you for 2 hit points.\n",
    "    Shield costs 113 mana. It starts an effect that lasts for 6 turns. While it is active, your armor is increased by 7.\n",
    "    Poison costs 173 mana. It starts an effect that lasts for 6 turns. At the start of each turn while it is active, it deals the boss 3 damage.\n",
    "    Recharge costs 229 mana. It starts an effect that lasts for 5 turns. At the start of each turn while it is active, it gives you 101 new mana.\n",
    "\n",
    "Effects all work the same way. Effects apply at the start of both the player's turns and the boss' turns. Effects are created with a timer (the number of turns they last); at the start of each turn, after they apply any effect they have, their timer is decreased by one. If this decreases the timer to zero, the effect ends. You cannot cast a spell that would start an effect which is already active. However, effects can be started on the same turn they end.\n",
    "\n",
    "For example, suppose the player has 10 hit points and 250 mana, and that the boss has 13 hit points and 8 damage:\n",
    "\n",
    "-- Player turn --\n",
    "- Player has 10 hit points, 0 armor, 250 mana\n",
    "- Boss has 13 hit points\n",
    "Player casts Poison.\n",
    "\n",
    "-- Boss turn --\n",
    "- Player has 10 hit points, 0 armor, 77 mana\n",
    "- Boss has 13 hit points\n",
    "Poison deals 3 damage; its timer is now 5.\n",
    "Boss attacks for 8 damage.\n",
    "\n",
    "-- Player turn --\n",
    "- Player has 2 hit points, 0 armor, 77 mana\n",
    "- Boss has 10 hit points\n",
    "Poison deals 3 damage; its timer is now 4.\n",
    "Player casts Magic Missile, dealing 4 damage.\n",
    "\n",
    "-- Boss turn --\n",
    "- Player has 2 hit points, 0 armor, 24 mana\n",
    "- Boss has 3 hit points\n",
    "Poison deals 3 damage. This kills the boss, and the player wins.\n",
    "\n",
    "Now, suppose the same initial conditions, except that the boss has 14 hit points instead:\n",
    "\n",
    "-- Player turn --\n",
    "- Player has 10 hit points, 0 armor, 250 mana\n",
    "- Boss has 14 hit points\n",
    "Player casts Recharge.\n",
    "\n",
    "-- Boss turn --\n",
    "- Player has 10 hit points, 0 armor, 21 mana\n",
    "- Boss has 14 hit points\n",
    "Recharge provides 101 mana; its timer is now 4.\n",
    "Boss attacks for 8 damage!\n",
    "\n",
    "-- Player turn --\n",
    "- Player has 2 hit points, 0 armor, 122 mana\n",
    "- Boss has 14 hit points\n",
    "Recharge provides 101 mana; its timer is now 3.\n",
    "Player casts Shield, increasing armor by 7.\n",
    "\n",
    "-- Boss turn --\n",
    "- Player has 2 hit points, 7 armor, 110 mana\n",
    "- Boss has 14 hit points\n",
    "Shield's timer is now 5.\n",
    "Recharge provides 101 mana; its timer is now 2.\n",
    "Boss attacks for 8 - 7 = 1 damage!\n",
    "\n",
    "-- Player turn --\n",
    "- Player has 1 hit point, 7 armor, 211 mana\n",
    "- Boss has 14 hit points\n",
    "Shield's timer is now 4.\n",
    "Recharge provides 101 mana; its timer is now 1.\n",
    "Player casts Drain, dealing 2 damage, and healing 2 hit points.\n",
    "\n",
    "-- Boss turn --\n",
    "- Player has 3 hit points, 7 armor, 239 mana\n",
    "- Boss has 12 hit points\n",
    "Shield's timer is now 3.\n",
    "Recharge provides 101 mana; its timer is now 0.\n",
    "Recharge wears off.\n",
    "Boss attacks for 8 - 7 = 1 damage!\n",
    "\n",
    "-- Player turn --\n",
    "- Player has 2 hit points, 7 armor, 340 mana\n",
    "- Boss has 12 hit points\n",
    "Shield's timer is now 2.\n",
    "Player casts Poison.\n",
    "\n",
    "-- Boss turn --\n",
    "- Player has 2 hit points, 7 armor, 167 mana\n",
    "- Boss has 12 hit points\n",
    "Shield's timer is now 1.\n",
    "Poison deals 3 damage; its timer is now 5.\n",
    "Boss attacks for 8 - 7 = 1 damage!\n",
    "\n",
    "-- Player turn --\n",
    "- Player has 1 hit point, 7 armor, 167 mana\n",
    "- Boss has 9 hit points\n",
    "Shield's timer is now 0.\n",
    "Shield wears off, decreasing armor by 7.\n",
    "Poison deals 3 damage; its timer is now 4.\n",
    "Player casts Magic Missile, dealing 4 damage.\n",
    "\n",
    "-- Boss turn --\n",
    "- Player has 1 hit point, 0 armor, 114 mana\n",
    "- Boss has 2 hit points\n",
    "Poison deals 3 damage. This kills the boss, and the player wins.\n",
    "\n",
    "You start with 50 hit points and 500 mana points. The boss's actual stats are in your puzzle input. What is the least amount of mana you can spend and still win the fight? (Do not include mana recharge effects as \"spending\" negative mana.)\n"
   ]
  },
  {
   "cell_type": "code",
   "execution_count": 1,
   "id": "c2230d9e",
   "metadata": {},
   "outputs": [],
   "source": [
    "filepath = \"..\\\\data\\\\input_day_22.txt\"\n",
    "test1 = \"..\\\\test\\\\test22_1.txt\""
   ]
  },
  {
   "cell_type": "code",
   "execution_count": 2,
   "id": "4fe4473b",
   "metadata": {},
   "outputs": [],
   "source": [
    "# first we import our files\n",
    "def read_input(filepath):\n",
    "    with open(filepath, 'r') as f:\n",
    "        lines = f.readlines()\n",
    "    \n",
    "    return lines"
   ]
  },
  {
   "cell_type": "code",
   "execution_count": 3,
   "id": "5e1c0bea",
   "metadata": {},
   "outputs": [],
   "source": [
    "def get_boss(lines):\n",
    "    for line in lines:\n",
    "        \n",
    "        if \"Hit Points\" in line:\n",
    "            hp = int(line.strip().split()[-1])\n",
    "        else:\n",
    "            damage = int(line.strip().split()[-1])\n",
    "    return {\"hp\": hp, \"dmg\": damage, \"poison\": 0}"
   ]
  },
  {
   "cell_type": "code",
   "execution_count": 4,
   "id": "4412fd4b",
   "metadata": {},
   "outputs": [],
   "source": [
    "def get_player():\n",
    "    return {\"hp\": 50, \"mana\": 500, \"armor\": 0, \"shield\": 0, \"recharge\": 0}"
   ]
  },
  {
   "cell_type": "code",
   "execution_count": 5,
   "id": "3436de87",
   "metadata": {},
   "outputs": [],
   "source": [
    "def set_poison(boss):\n",
    "    boss[\"poison\"] = 6\n",
    "    return boss"
   ]
  },
  {
   "cell_type": "code",
   "execution_count": 6,
   "id": "89cd6fcc",
   "metadata": {},
   "outputs": [],
   "source": [
    "def set_shield(player):\n",
    "    player[\"shield\"] = 6\n",
    "    return player"
   ]
  },
  {
   "cell_type": "code",
   "execution_count": 7,
   "id": "a32c07e2",
   "metadata": {},
   "outputs": [],
   "source": [
    "def set_recharge(player):\n",
    "    player[\"recharge\"] = 5\n",
    "    return player"
   ]
  },
  {
   "cell_type": "code",
   "execution_count": 8,
   "id": "b3d5bd24",
   "metadata": {},
   "outputs": [],
   "source": [
    "def update_turn_player(player):\n",
    "    player[\"armor\"] = 0\n",
    "    \n",
    "    # check for shield and update\n",
    "    if player[\"shield\"] > 0:\n",
    "        player[\"armor\"] += 7\n",
    "        player[\"shield\"] -= 1\n",
    "        \n",
    "    # check for recharge\n",
    "    if player[\"recharge\"] > 0:\n",
    "        player[\"mana\"] += 101\n",
    "        player[\"recharge\"] -= 1\n",
    "        \n",
    "    return player"
   ]
  },
  {
   "cell_type": "code",
   "execution_count": 9,
   "id": "f14a8566",
   "metadata": {},
   "outputs": [],
   "source": [
    "def update_turn_boss(boss):\n",
    "    \n",
    "    if boss[\"poison\"] > 0:\n",
    "        boss[\"hp\"] -= 3\n",
    "        boss[\"poison\"] -= 1\n",
    "    \n",
    "    return boss"
   ]
  },
  {
   "cell_type": "code",
   "execution_count": 10,
   "id": "e2f05901",
   "metadata": {},
   "outputs": [],
   "source": [
    "def determine_winner(player, boss):\n",
    "    \n",
    "    # if the boss wins\n",
    "    if player[\"hp\"] <= 0:\n",
    "        return 2\n",
    "    \n",
    "    # if the player wins\n",
    "    if boss[\"hp\"] <= 0:\n",
    "        return 1\n",
    "    \n",
    "    # nobody wins\n",
    "    return 0 "
   ]
  },
  {
   "cell_type": "code",
   "execution_count": 11,
   "id": "f1d535c2",
   "metadata": {},
   "outputs": [],
   "source": [
    "def cast_spell(player, boss, spell):\n",
    "    \n",
    "    costs = {\"Magic Missile\": 53, \"Drain\": 73, \"Shield\": 113,\n",
    "             \"Poison\": 173, \"Recharge\": 229}\n",
    "    cost = 0    \n",
    "    # player casts magic missile\n",
    "    if spell == \"Magic Missile\":\n",
    "        player[\"mana\"] -= costs[spell]\n",
    "        if player[\"mana\"] <= 0:\n",
    "            return True, 0, 0, 0\n",
    "        boss[\"hp\"] -= 4\n",
    "        \n",
    "    if spell == \"Drain\":\n",
    "        player[\"mana\"] -= costs[spell]\n",
    "        if player[\"mana\"] <= 0:\n",
    "            return True, 0, 0, 0\n",
    "        boss[\"hp\"] -= 2\n",
    "        player[\"hp\"] += 2\n",
    "    \n",
    "    if spell == \"Shield\":\n",
    "        player[\"mana\"] -= costs[spell]\n",
    "        if player[\"mana\"] <= 0 or player[\"shield\"]>0:\n",
    "            return True, 0, 0, 0\n",
    "        player = set_shield(player)\n",
    "        \n",
    "    if spell == \"Poison\":\n",
    "        player[\"mana\"] -= costs[spell]\n",
    "        if player[\"mana\"] <= 0 or boss[\"poison\"]>0:\n",
    "            return True, 0, 0, 0\n",
    "        boss = set_poison(boss)\n",
    "        \n",
    "    if spell == \"Recharge\":\n",
    "        player[\"mana\"] -= costs[spell]\n",
    "        if player[\"mana\"] <= 0 or player[\"recharge\"]>0:\n",
    "            return True, 0, 0, 0\n",
    "        player = set_recharge(player)\n",
    "        \n",
    "    return False, player, boss, costs[spell]"
   ]
  },
  {
   "cell_type": "code",
   "execution_count": 12,
   "id": "8ccfca7d",
   "metadata": {},
   "outputs": [],
   "source": [
    "def boss_damage(player, boss):\n",
    "    \n",
    "    player[\"hp\"] -= max((boss[\"dmg\"]-player[\"armor\"]), 1)\n",
    "    return player, boss"
   ]
  },
  {
   "cell_type": "code",
   "execution_count": 38,
   "id": "94aa8b70",
   "metadata": {},
   "outputs": [],
   "source": [
    "def simulate_fight(player, spells, boss):\n",
    "    \n",
    "    # keep track of the mana spent\n",
    "    mana_spent = 0\n",
    "    \n",
    "    for spell in spells:\n",
    "        # each round of combat consists of two phases the player phase and the boss phase        \n",
    "        # player phase\n",
    "        #print(spell, player, boss)\n",
    "        # update shield and recharge\n",
    "        player = update_turn_player(player)\n",
    "        \n",
    "        # player casts his spell\n",
    "        no_mana, player, boss, cost = cast_spell(player, boss, spell)\n",
    "        if no_mana:\n",
    "            #print(\"no mana\")\n",
    "            return False, cost\n",
    "        mana_spent += cost\n",
    "        \n",
    "        result = determine_winner(player, boss)\n",
    "        if result == 2:\n",
    "            return False, cost\n",
    "        if result == 1:\n",
    "            return True, cost\n",
    "        \n",
    "        # boss phase\n",
    "        # update health for poison \n",
    "        boss = update_turn_boss(boss)\n",
    "        \n",
    "        result = determine_winner(player, boss)\n",
    "        if result == 2:\n",
    "            return False, cost\n",
    "        if result == 1:\n",
    "            return True, cost\n",
    "        \n",
    "        \n",
    "        player, boss = boss_damage(player, boss)\n",
    "        \n",
    "        result = determine_winner(player, boss)\n",
    "        if result == 2:\n",
    "            return False, cost\n",
    "        if result == 1:\n",
    "            return True, cost\n",
    "    print(spell, player, boss)\n",
    "    return False, cost\n",
    "        "
   ]
  },
  {
   "cell_type": "code",
   "execution_count": 41,
   "id": "62205797",
   "metadata": {},
   "outputs": [],
   "source": [
    "def day22a(filepath):\n",
    "    \n",
    "    from itertools import combinations_with_replacement\n",
    "    \n",
    "    boss_stats = read_input(filepath)\n",
    "    spells = [\"Magic Missile\", \"Drain\", \"Shield\", \"Poison\", \"Recharge\"]\n",
    "    combinations = list(combinations_with_replacement(spells, 100))\n",
    "    costs = []\n",
    "    \n",
    "    for combi in combinations:\n",
    "        #print(combi)\n",
    "        \n",
    "        boss = get_boss(boss_stats)\n",
    "        player = get_player()\n",
    "        \n",
    "        player_wins, cost = simulate_fight(player, combi, boss)\n",
    "        if player_wins:\n",
    "            costs.append(cost)\n",
    "            \n",
    "    print(costs)"
   ]
  },
  {
   "cell_type": "code",
   "execution_count": 42,
   "id": "b5b90115",
   "metadata": {},
   "outputs": [
    {
     "name": "stdout",
     "output_type": "stream",
     "text": [
      "[]\n"
     ]
    }
   ],
   "source": [
    "day22a(filepath)"
   ]
  },
  {
   "cell_type": "code",
   "execution_count": 16,
   "id": "166e3d6b",
   "metadata": {},
   "outputs": [
    {
     "name": "stdout",
     "output_type": "stream",
     "text": [
      "Hit Points: 51\n",
      "\n",
      "Damage: 9\n",
      "\n",
      "{'hp': 51, 'dmg': 9, 'poison': 0}\n"
     ]
    }
   ],
   "source": [
    "lines = read_input(filepath)\n",
    "\n",
    "\n",
    "for line in lines:\n",
    "    print(line)\n",
    "    if \"Hit Points\" in line:\n",
    "        hp = int(line.strip().split()[-1])\n",
    "    else:\n",
    "        damage = int(line.strip().split()[-1])\n",
    "print({\"hp\": hp, \"dmg\": damage, \"poison\": 0}) "
   ]
  },
  {
   "cell_type": "code",
   "execution_count": null,
   "id": "95a35adc",
   "metadata": {},
   "outputs": [],
   "source": []
  },
  {
   "cell_type": "code",
   "execution_count": null,
   "id": "31abb85d",
   "metadata": {},
   "outputs": [],
   "source": []
  },
  {
   "cell_type": "code",
   "execution_count": null,
   "id": "29db8632",
   "metadata": {},
   "outputs": [],
   "source": []
  },
  {
   "cell_type": "code",
   "execution_count": null,
   "id": "08ee81d4",
   "metadata": {},
   "outputs": [],
   "source": []
  },
  {
   "cell_type": "code",
   "execution_count": null,
   "id": "07fa5ef3",
   "metadata": {},
   "outputs": [],
   "source": []
  },
  {
   "cell_type": "code",
   "execution_count": null,
   "id": "17a549b4",
   "metadata": {},
   "outputs": [],
   "source": []
  },
  {
   "cell_type": "code",
   "execution_count": null,
   "id": "7451e5a9",
   "metadata": {},
   "outputs": [],
   "source": []
  },
  {
   "cell_type": "code",
   "execution_count": null,
   "id": "561c7d1f",
   "metadata": {},
   "outputs": [],
   "source": []
  },
  {
   "cell_type": "code",
   "execution_count": null,
   "id": "09edd477",
   "metadata": {},
   "outputs": [],
   "source": []
  },
  {
   "cell_type": "code",
   "execution_count": null,
   "id": "8621076d",
   "metadata": {},
   "outputs": [],
   "source": []
  },
  {
   "cell_type": "code",
   "execution_count": null,
   "id": "0d245cbf",
   "metadata": {},
   "outputs": [],
   "source": []
  },
  {
   "cell_type": "code",
   "execution_count": null,
   "id": "7408c80f",
   "metadata": {},
   "outputs": [],
   "source": []
  }
 ],
 "metadata": {
  "kernelspec": {
   "display_name": "Python 3 (ipykernel)",
   "language": "python",
   "name": "python3"
  },
  "language_info": {
   "codemirror_mode": {
    "name": "ipython",
    "version": 3
   },
   "file_extension": ".py",
   "mimetype": "text/x-python",
   "name": "python",
   "nbconvert_exporter": "python",
   "pygments_lexer": "ipython3",
   "version": "3.10.9"
  }
 },
 "nbformat": 4,
 "nbformat_minor": 5
}
