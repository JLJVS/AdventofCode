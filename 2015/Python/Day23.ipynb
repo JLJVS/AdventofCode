{
 "cells": [
  {
   "cell_type": "markdown",
   "id": "7e6324e3",
   "metadata": {},
   "source": [
    "--- Day 23: Opening the Turing Lock ---\n",
    "\n",
    "Little Jane Marie just got her very first computer for Christmas from some unknown benefactor. It comes with instructions and an example program, but the computer itself seems to be malfunctioning. She's curious what the program does, and would like you to help her run it.\n",
    "\n",
    "The manual explains that the computer supports two registers and six instructions (truly, it goes on to remind the reader, a state-of-the-art technology). The registers are named a and b, can hold any non-negative integer, and begin with a value of 0. The instructions are as follows:\n",
    "\n",
    "   - hlf r sets register r to half its current value, then continues with the next instruction.\n",
    "   - tpl r sets register r to triple its current value, then continues with the next instruction.\n",
    "   - inc r increments register r, adding 1 to it, then continues with the next instruction.\n",
    "   - jmp offset is a jump; it continues with the instruction offset away relative to itself.\n",
    "   - jie r, offset is like jmp, but only jumps if register r is even (\"jump if even\").\n",
    "   - jio r, offset is like jmp, but only jumps if register r is 1 (\"jump if one\", not odd).\n",
    "\n",
    "All three jump instructions work with an offset relative to that instruction. The offset is always written with a prefix + or - to indicate the direction of the jump (forward or backward, respectively). For example, jmp +1 would simply continue with the next instruction, while jmp +0 would continuously jump back to itself forever.\n",
    "\n",
    "The program exits when it tries to run an instruction beyond the ones defined.\n",
    "\n",
    "For example, this program sets a to 2, because the jio instruction causes it to skip the tpl instruction:\n",
    "\n",
    "inc a  \n",
    "jio a, +2  \n",
    "tpl a  \n",
    "inc a  \n",
    "\n",
    "What is the value in register b when the program in your puzzle input is finished executing?\n",
    "\n",
    "\n",
    "--- Part Two ---\n",
    "\n",
    "The unknown benefactor is very thankful for releasi-- er, helping little Jane Marie with her computer. Definitely not to distract you, what is the value in register b after the program is finished executing if register a starts as 1 instead?\n"
   ]
  },
  {
   "cell_type": "code",
   "execution_count": 1,
   "id": "93c81b27",
   "metadata": {},
   "outputs": [],
   "source": [
    "filepath = \"..\\\\data\\\\input_day_23.txt\"\n",
    "test1 = \"..\\\\test\\\\test23_1.txt\""
   ]
  },
  {
   "cell_type": "code",
   "execution_count": 2,
   "id": "c92f7136",
   "metadata": {},
   "outputs": [],
   "source": [
    "# first we import our files\n",
    "def read_input(filepath):\n",
    "    with open(filepath, 'r') as f:\n",
    "        lines = f.readlines()\n",
    "    \n",
    "    return lines"
   ]
  },
  {
   "cell_type": "code",
   "execution_count": 3,
   "id": "b2d6b6a3",
   "metadata": {},
   "outputs": [],
   "source": [
    "def convert_input(lines):\n",
    "    '''\n",
    "    converts the lines into tuples with the command, register, and possible size\n",
    "    \n",
    "    i.e. \n",
    "    jio a, +18 -> (jio, a, 18)\n",
    "    '''\n",
    "    \n",
    "    converted = {}\n",
    "    for i, line in enumerate(lines):\n",
    "        split_line = line.strip().replace(\",\", \"\").split()\n",
    "        converted[i] = split_line\n",
    "    return converted"
   ]
  },
  {
   "cell_type": "code",
   "execution_count": 4,
   "id": "44c4a71e",
   "metadata": {},
   "outputs": [],
   "source": [
    "def execute_command(i, command, a, b):\n",
    "    \n",
    "    \n",
    "    command_type = command[0]\n",
    "    skip = 1\n",
    "    \n",
    "    \n",
    "    if \"a\" in command:\n",
    "        target = a\n",
    "        \n",
    "    if \"b\" in command:\n",
    "        target = b\n",
    "        \n",
    "    if command_type == \"hlf\":\n",
    "        target = int(target/2)\n",
    "    elif command_type == \"tpl\":\n",
    "        target *= 3\n",
    "    elif command_type == \"inc\":\n",
    "        target += 1\n",
    "    elif command_type == \"jmp\":\n",
    "        skip = int(command[1])\n",
    "    elif command_type == \"jie\":\n",
    "        if target%2==0:\n",
    "            skip = int(command[2])\n",
    "    elif command_type == \"jio\":\n",
    "        if target==1:\n",
    "            skip = int(command[2])\n",
    "            \n",
    "    if \"a\" in command:\n",
    "        a = target\n",
    "        \n",
    "    if \"b\" in command:\n",
    "        b = target\n",
    "    \n",
    "    return a, b, i + skip"
   ]
  },
  {
   "cell_type": "code",
   "execution_count": 5,
   "id": "07934535",
   "metadata": {},
   "outputs": [],
   "source": [
    "def day23a(filepath):\n",
    "    \n",
    "    # read our input\n",
    "    lines = read_input(filepath)\n",
    "    commands = convert_input(lines)\n",
    "    \n",
    "    # set the initial state for our registers\n",
    "    a, b = 0, 0\n",
    "    i = 0\n",
    "    while i <= len(commands):\n",
    "        \n",
    "        if i not in commands:\n",
    "            break\n",
    "        \n",
    "        a, b, i = execute_command(i, commands[i], a, b)\n",
    "    print(f\"The final values of the registers for a = {a} and b = {b}.\")\n",
    "    return (a,b)"
   ]
  },
  {
   "cell_type": "code",
   "execution_count": 6,
   "id": "dfaa7989",
   "metadata": {},
   "outputs": [],
   "source": [
    "def day23b(filepath):\n",
    "    \n",
    "    # read our input\n",
    "    lines = read_input(filepath)\n",
    "    commands = convert_input(lines)\n",
    "    \n",
    "    # set the initial state for our registers\n",
    "    a, b = 1, 0\n",
    "    i = 0\n",
    "    while i <= len(commands):\n",
    "        \n",
    "        if i not in commands:\n",
    "            break\n",
    "        \n",
    "        a, b, i = execute_command(i, commands[i], a, b)\n",
    "    print(f\"The final values of the registers for a = {a} and b = {b}.\")\n",
    "    return (a,b)"
   ]
  },
  {
   "cell_type": "code",
   "execution_count": 7,
   "id": "179efb8e",
   "metadata": {},
   "outputs": [],
   "source": [
    "def test23a():\n",
    "    # test if the function works on our example\n",
    "    assert day23a(test1) == (2,0)\n",
    "    print(\"Passed all checks\")"
   ]
  },
  {
   "cell_type": "code",
   "execution_count": 8,
   "id": "f5776b8f",
   "metadata": {},
   "outputs": [
    {
     "name": "stdout",
     "output_type": "stream",
     "text": [
      "The final values of the registers for a = 2 and b = 0.\n",
      "Passed all checks\n"
     ]
    }
   ],
   "source": [
    "test23a()"
   ]
  },
  {
   "cell_type": "code",
   "execution_count": 9,
   "id": "3822efaa",
   "metadata": {},
   "outputs": [
    {
     "name": "stdout",
     "output_type": "stream",
     "text": [
      "The final values of the registers for a = 1 and b = 307.\n"
     ]
    },
    {
     "data": {
      "text/plain": [
       "(1, 307)"
      ]
     },
     "execution_count": 9,
     "metadata": {},
     "output_type": "execute_result"
    }
   ],
   "source": [
    "day23a(filepath)"
   ]
  },
  {
   "cell_type": "code",
   "execution_count": 10,
   "id": "8930c34c",
   "metadata": {},
   "outputs": [
    {
     "name": "stdout",
     "output_type": "stream",
     "text": [
      "The final values of the registers for a = 1 and b = 160.\n"
     ]
    },
    {
     "data": {
      "text/plain": [
       "(1, 160)"
      ]
     },
     "execution_count": 10,
     "metadata": {},
     "output_type": "execute_result"
    }
   ],
   "source": [
    "day23b(filepath)"
   ]
  }
 ],
 "metadata": {
  "kernelspec": {
   "display_name": "Python 3 (ipykernel)",
   "language": "python",
   "name": "python3"
  },
  "language_info": {
   "codemirror_mode": {
    "name": "ipython",
    "version": 3
   },
   "file_extension": ".py",
   "mimetype": "text/x-python",
   "name": "python",
   "nbconvert_exporter": "python",
   "pygments_lexer": "ipython3",
   "version": "3.10.9"
  }
 },
 "nbformat": 4,
 "nbformat_minor": 5
}
