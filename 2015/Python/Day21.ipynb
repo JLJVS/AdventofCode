{
 "cells": [
  {
   "cell_type": "markdown",
   "id": "a350d711",
   "metadata": {},
   "source": [
    "--- Day 21: RPG Simulator 20XX ---\n",
    "\n",
    "Little Henry Case got a new video game for Christmas. It's an RPG, and he's stuck on a boss. He needs to know what equipment to buy at the shop. He hands you the controller.\n",
    "\n",
    "In this game, the player (you) and the enemy (the boss) take turns attacking. The player always goes first. Each attack reduces the opponent's hit points by at least 1. The first character at or below 0 hit points loses.\n",
    "\n",
    "Damage dealt by an attacker each turn is equal to the attacker's damage score minus the defender's armor score. An attacker always does at least 1 damage. So, if the attacker has a damage score of 8, and the defender has an armor score of 3, the defender loses 5 hit points. If the defender had an armor score of 300, the defender would still lose 1 hit point.\n",
    "\n",
    "Your damage score and armor score both start at zero. They can be increased by buying items in exchange for gold. You start with no items and have as much gold as you need. Your total damage or armor is equal to the sum of those stats from all of your items. You have 100 hit points.\n",
    "\n",
    "Here is what the item shop is selling:  \n",
    "```\n",
    "Weapons:    Cost  Damage  Armor  \n",
    "Dagger        8     4       0  \n",
    "Shortsword   10     5       0  \n",
    "Warhammer    25     6       0  \n",
    "Longsword    40     7       0  \n",
    "Greataxe     74     8       0  \n",
    "\n",
    "Armor:      Cost  Damage  Armor  \n",
    "Leather      13     0       1  \n",
    "Chainmail    31     0       2  \n",
    "Splintmail   53     0       3  \n",
    "Bandedmail   75     0       4  \n",
    "Platemail   102     0       5  \n",
    "\n",
    "Rings:      Cost  Damage  Armor  \n",
    "Damage +1    25     1       0  \n",
    "Damage +2    50     2       0  \n",
    "Damage +3   100     3       0  \n",
    "Defense +1   20     0       1  \n",
    "Defense +2   40     0       2  \n",
    "Defense +3   80     0       3  \n",
    "```\n",
    "You must buy exactly one weapon; no dual-wielding. Armor is optional, but you can't use more than one. You can buy 0-2 rings (at most one for each hand). You must use any items you buy. The shop only has one of each item, so you can't buy, for example, two rings of Damage +3.\n",
    "\n",
    "For example, suppose you have 8 hit points, 5 damage, and 5 armor, and that the boss has 12 hit points, 7 damage, and 2 armor:\n",
    "\n",
    "    The player deals 5-2 = 3 damage; the boss goes down to 9 hit points.\n",
    "    The boss deals 7-5 = 2 damage; the player goes down to 6 hit points.\n",
    "    The player deals 5-2 = 3 damage; the boss goes down to 6 hit points.\n",
    "    The boss deals 7-5 = 2 damage; the player goes down to 4 hit points.\n",
    "    The player deals 5-2 = 3 damage; the boss goes down to 3 hit points.\n",
    "    The boss deals 7-5 = 2 damage; the player goes down to 2 hit points.\n",
    "    The player deals 5-2 = 3 damage; the boss goes down to 0 hit points.\n",
    "\n",
    "In this scenario, the player wins! (Barely.)\n",
    "\n",
    "You have 100 hit points. The boss's actual stats are in your puzzle input. What is the least amount of gold you can spend and still win the fight?\n",
    "\n",
    "\n",
    "--- Part Two ---\n",
    "\n",
    "Turns out the shopkeeper is working with the boss, and can persuade you to buy whatever items he wants. The other rules still apply, and he still only has one of each item.\n",
    "\n",
    "What is the most amount of gold you can spend and still lose the fight?\n"
   ]
  },
  {
   "cell_type": "code",
   "execution_count": 1,
   "id": "ad8662c7",
   "metadata": {},
   "outputs": [],
   "source": [
    "from itertools import combinations"
   ]
  },
  {
   "cell_type": "code",
   "execution_count": 2,
   "id": "e4da56a6",
   "metadata": {},
   "outputs": [],
   "source": [
    "filepath = \"..\\\\data\\\\input_day_21.txt\"\n",
    "test1 = \"..\\\\test\\\\test21_1.txt\""
   ]
  },
  {
   "cell_type": "code",
   "execution_count": 3,
   "id": "87c1623d",
   "metadata": {},
   "outputs": [],
   "source": [
    "# first we import our files\n",
    "def read_input(filepath):\n",
    "    with open(filepath, 'r') as f:\n",
    "        lines = f.readlines()\n",
    "    \n",
    "    return lines"
   ]
  },
  {
   "cell_type": "code",
   "execution_count": 4,
   "id": "7df3ee02",
   "metadata": {},
   "outputs": [],
   "source": [
    "def convert_input(lines):\n",
    "    \n",
    "    for line in lines:\n",
    "        if \"Hit Points\" in line:\n",
    "            hp = int(line.strip().split(\":\")[-1])\n",
    "        if \"Damage\" in line:\n",
    "            dmg = int(line.strip().split(\":\")[-1])\n",
    "        if \"Armor\" in line:\n",
    "            arm = int(line.strip().split(\":\")[-1])\n",
    "    return hp, dmg, arm"
   ]
  },
  {
   "cell_type": "code",
   "execution_count": 5,
   "id": "15ba1584",
   "metadata": {},
   "outputs": [],
   "source": [
    "def get_items():\n",
    "    weapon_path = \"..\\\\data\\\\weapons.txt\"\n",
    "    armor_path = \"..\\\\data\\\\armors.txt\"\n",
    "    rings_path = \"..\\\\data\\\\rings.txt\"\n",
    "    \n",
    "    weapon_lines = read_input(weapon_path)\n",
    "    armor_lines = read_input(armor_path)\n",
    "    rings_lines = read_input(rings_path)\n",
    "    \n",
    "    weapons = {}\n",
    "    armors = {}\n",
    "    rings = {}\n",
    "    \n",
    "    for line in weapon_lines:\n",
    "        if \":\" not in line:\n",
    "            name, cost, damage, armor = line.strip().split() \n",
    "            weapons[name] = {\"cost\": int(cost), \"damage\": int(damage), \"armor\": int(armor)}\n",
    "    \n",
    "    for line in armor_lines:\n",
    "        if \":\" not in line:\n",
    "            name, cost, damage, armor = line.strip().split() \n",
    "            armors[name] = {\"cost\": int(cost), \"damage\": int(damage), \"armor\": int(armor)}\n",
    "            \n",
    "    for line in rings_lines:\n",
    "        if \":\" not in line:\n",
    "            name, cost, damage, armor = line.strip().split() \n",
    "            rings[name] = {\"cost\": int(cost), \"damage\": int(damage), \"armor\": int(armor)}\n",
    "            \n",
    "    return weapons, armors, rings"
   ]
  },
  {
   "cell_type": "code",
   "execution_count": 20,
   "id": "e9ff91a3",
   "metadata": {},
   "outputs": [],
   "source": [
    "def fight_update(attacker, defender):\n",
    "    attacker_dmg = attacker[\"dmg\"]\n",
    "    defender_arm = defender[\"arm\"]\n",
    "    defender[\"hp\"] -= max(attacker_dmg-defender_arm, 1)\n",
    "    #print(attacker, defender)\n",
    "    return attacker, defender"
   ]
  },
  {
   "cell_type": "code",
   "execution_count": 43,
   "id": "18d82ae5",
   "metadata": {},
   "outputs": [
    {
     "name": "stdout",
     "output_type": "stream",
     "text": [
      "{'hp': 8, 'dmg': 5, 'arm': 5} {'hp': 10, 'dmg': 7, 'arm': 3}\n",
      "{'hp': 6, 'dmg': 5, 'arm': 5} {'hp': 10, 'dmg': 7, 'arm': 3}\n",
      "{'hp': 6, 'dmg': 5, 'arm': 5} {'hp': 8, 'dmg': 7, 'arm': 3}\n",
      "{'hp': 4, 'dmg': 5, 'arm': 5} {'hp': 8, 'dmg': 7, 'arm': 3}\n",
      "{'hp': 4, 'dmg': 5, 'arm': 5} {'hp': 6, 'dmg': 7, 'arm': 3}\n",
      "{'hp': 2, 'dmg': 5, 'arm': 5} {'hp': 6, 'dmg': 7, 'arm': 3}\n",
      "{'hp': 2, 'dmg': 5, 'arm': 5} {'hp': 4, 'dmg': 7, 'arm': 3}\n",
      "{'hp': 0, 'dmg': 5, 'arm': 5} {'hp': 4, 'dmg': 7, 'arm': 3}\n",
      "{'hp': 0, 'dmg': 5, 'arm': 5} {'hp': 2, 'dmg': 7, 'arm': 3}\n",
      "{'hp': -2, 'dmg': 5, 'arm': 5} {'hp': 2, 'dmg': 7, 'arm': 3}\n",
      "{'hp': -2, 'dmg': 5, 'arm': 5} {'hp': 0, 'dmg': 7, 'arm': 3}\n",
      "{'hp': -4, 'dmg': 5, 'arm': 5} {'hp': 0, 'dmg': 7, 'arm': 3}\n",
      "{'hp': -4, 'dmg': 5, 'arm': 5} {'hp': -2, 'dmg': 7, 'arm': 3}\n",
      "{'hp': -6, 'dmg': 5, 'arm': 5} {'hp': -2, 'dmg': 7, 'arm': 3}\n",
      "{'hp': -6, 'dmg': 5, 'arm': 5} {'hp': -4, 'dmg': 7, 'arm': 3}\n",
      "{'hp': -8, 'dmg': 5, 'arm': 5} {'hp': -4, 'dmg': 7, 'arm': 3}\n"
     ]
    }
   ],
   "source": [
    "boss = {\"hp\": 12, \"dmg\": 7,\"arm\": 3}\n",
    "you = {\"hp\": 8, \"dmg\": 5, \"arm\": 5}\n",
    "you, boss = fight_update(you, boss)\n",
    "print(you, boss)\n",
    "boss, you = fight_update(boss, you)\n",
    "print(you, boss)\n",
    "you, boss = fight_update(you, boss)\n",
    "print(you, boss)\n",
    "boss, you = fight_update(boss, you)\n",
    "print(you, boss)\n",
    "you, boss = fight_update(you, boss)\n",
    "print(you, boss)\n",
    "boss, you = fight_update(boss, you)\n",
    "print(you, boss)\n",
    "you, boss = fight_update(you, boss)\n",
    "print(you, boss)\n",
    "boss, you = fight_update(boss, you)\n",
    "print(you, boss)\n",
    "you, boss = fight_update(you, boss)\n",
    "print(you, boss)\n",
    "boss, you = fight_update(boss, you)\n",
    "print(you, boss)\n",
    "you, boss = fight_update(you, boss)\n",
    "print(you, boss)\n",
    "boss, you = fight_update(boss, you)\n",
    "print(you, boss)\n",
    "you, boss = fight_update(you, boss)\n",
    "print(you, boss)\n",
    "boss, you = fight_update(boss, you)\n",
    "print(you, boss)\n",
    "you, boss = fight_update(you, boss)\n",
    "print(you, boss)\n",
    "boss, you = fight_update(boss, you)\n",
    "print(you, boss)"
   ]
  },
  {
   "cell_type": "code",
   "execution_count": 8,
   "id": "4da674df",
   "metadata": {},
   "outputs": [],
   "source": [
    "def determine_winner(player, boss):\n",
    "    # boss wins\n",
    "    if player[\"hp\"] <= 0:\n",
    "        return 2\n",
    "    # player wins\n",
    "    if boss[\"hp\"] <= 0:\n",
    "        return 1\n",
    "    # nobody wins\n",
    "    return 0"
   ]
  },
  {
   "cell_type": "code",
   "execution_count": 29,
   "id": "3b5bd96a",
   "metadata": {},
   "outputs": [],
   "source": [
    "def simulate_fight(player, boss):\n",
    "    for i in range(0, 300):\n",
    "        player, boss = fight_update(player, boss)\n",
    "        state = determine_winner(player, boss)\n",
    "        if state == 1:\n",
    "            return True\n",
    "        if state == 2:\n",
    "            return False\n",
    "        boss, player = fight_update(boss, player)\n",
    "        state = determine_winner(player, boss)\n",
    "        if state == 1:\n",
    "            return True\n",
    "        if state == 2:\n",
    "            return False"
   ]
  },
  {
   "cell_type": "code",
   "execution_count": 30,
   "id": "13a5aa68",
   "metadata": {},
   "outputs": [],
   "source": [
    "def get_boss(stats):\n",
    "    hp, dmg, armor = stats\n",
    "    return {\"hp\": hp, \"dmg\": dmg, \"arm\": armor}"
   ]
  },
  {
   "cell_type": "code",
   "execution_count": 51,
   "id": "f98836ce",
   "metadata": {},
   "outputs": [],
   "source": [
    "def equip_player(items, weapons, armors, rings):\n",
    "    player = {\"hp\": 100, \"dmg\": 0, \"arm\": 0}\n",
    "    cost = 0\n",
    "    for item in items:\n",
    "        # Check if it's a weapon\n",
    "        if item in weapons:\n",
    "            cost +=           weapons[item][\"cost\"] \n",
    "            player[\"dmg\"] +=  weapons[item][\"damage\"]\n",
    "        # Check if it's armor\n",
    "        if item in armors:\n",
    "            cost +=           armors[item][\"cost\"] \n",
    "            player[\"arm\"] +=  armors[item][\"armor\"]\n",
    "        # Check if it's a ring\n",
    "        if item in rings:\n",
    "            cost += rings[item][\"cost\"]\n",
    "            player[\"dmg\"] +=  rings[item][\"damage\"]\n",
    "            player[\"arm\"] +=  rings[item][\"armor\"]\n",
    "            \n",
    "    return player, cost"
   ]
  },
  {
   "cell_type": "code",
   "execution_count": 52,
   "id": "428561e5",
   "metadata": {},
   "outputs": [],
   "source": [
    "def day21a(filepath):\n",
    "    \n",
    "    # first create the boss\n",
    "    lines = read_input(filepath)\n",
    "    boss_stats = convert_input(lines)\n",
    "    weapons, armors, rings = get_items()\n",
    "    \n",
    "    \n",
    "    weapon_keys = list(weapons.keys())\n",
    "    armor_keys = list(armors.keys())\n",
    "    ring_keys = list(rings.keys())\n",
    "    \n",
    "    # now we need to generate loadouts\n",
    "    load_outs = []\n",
    "    \n",
    "    for weapon in weapon_keys:\n",
    "        # we always require a weapon\n",
    "        load_outs.append([weapon])\n",
    "        # armor and rings are optional\n",
    "        for armor in armor_keys:\n",
    "            # just armor\n",
    "            load_outs.append([weapon, armor])\n",
    "            for ring in ring_keys:\n",
    "                # armor and one ring\n",
    "                load_outs.append([weapon, armor, ring])\n",
    "            for pair_of_rings in combinations(ring_keys, 2):\n",
    "                # armor and two rings\n",
    "                load_outs.append([weapon, armor, *pair_of_rings])\n",
    "    \n",
    "    lowest_cost = 100000\n",
    "    lowest_equipment = []\n",
    "    for equipment in load_outs:\n",
    "        player, cost = equip_player(equipment, weapons, armors, rings)\n",
    "        boss = get_boss(boss_stats)\n",
    "        if simulate_fight(player, boss):\n",
    "            if cost<lowest_cost:\n",
    "                lowest_cost = cost\n",
    "                lowest_equipment = equipment\n",
    "    return lowest_cost, lowest_equipment\n",
    "    "
   ]
  },
  {
   "cell_type": "code",
   "execution_count": 63,
   "id": "a7098d19",
   "metadata": {},
   "outputs": [],
   "source": [
    "def day21b(filepath):\n",
    "    \n",
    "    # first get the boss info\n",
    "    lines = read_input(filepath)\n",
    "    boss_stats = convert_input(lines)\n",
    "    weapons, armors, rings = get_items()    \n",
    "    \n",
    "    weapon_keys = list(weapons.keys())\n",
    "    armor_keys = list(armors.keys())\n",
    "    ring_keys = list(rings.keys())\n",
    "    \n",
    "    # now we need to generate loadouts\n",
    "    load_outs = []\n",
    "    \n",
    "    for weapon in weapon_keys:\n",
    "        # we always require a weapon\n",
    "        load_outs.append([weapon])\n",
    "        # armor and rings are optional\n",
    "        for armor in armor_keys:\n",
    "            # just armor\n",
    "            load_outs.append([weapon, armor])\n",
    "            for ring in ring_keys:\n",
    "                # armor and one ring\n",
    "                load_outs.append([weapon, armor, ring])\n",
    "            for pair_of_rings in combinations(ring_keys, 2):\n",
    "                # armor and two rings\n",
    "                load_outs.append([weapon, armor, *pair_of_rings])\n",
    "    \n",
    "    highest_cost = -1\n",
    "    highest_equipment = []\n",
    "    \n",
    "    for equipment in load_outs:\n",
    "        # build the player and boss\n",
    "        player, cost = equip_player(equipment, weapons, armors, rings)\n",
    "        boss = get_boss(boss_stats)\n",
    "        if cost == 158:\n",
    "            print(equipment)\n",
    "            \n",
    "        if not simulate_fight(player, boss):\n",
    "            if cost>highest_cost:\n",
    "                highest_cost = cost\n",
    "                highest_equipment = equipment\n",
    "    \n",
    "    return highest_cost, highest_equipment"
   ]
  },
  {
   "cell_type": "code",
   "execution_count": 64,
   "id": "6246ea33",
   "metadata": {},
   "outputs": [],
   "source": [
    "def test21a():\n",
    "    # check the fight simulation\n",
    "    player_example = {\"hp\": 8, \"dmg\": 5, \"arm\": 5}\n",
    "    boss_example = {\"hp\": 12, \"dmg\": 7, \"arm\": 2}\n",
    "    assert simulate_fight(player_example, boss_example) == True\n",
    "    print(\"Passed the fight simulation check\")\n",
    "    print(\"Passed all checks\")"
   ]
  },
  {
   "cell_type": "code",
   "execution_count": 65,
   "id": "96a25757",
   "metadata": {},
   "outputs": [
    {
     "name": "stdout",
     "output_type": "stream",
     "text": [
      "Passed the fight simulation check\n",
      "Passed all checks\n"
     ]
    }
   ],
   "source": [
    "test21a()"
   ]
  },
  {
   "cell_type": "code",
   "execution_count": 66,
   "id": "c4aff3a7",
   "metadata": {},
   "outputs": [
    {
     "data": {
      "text/plain": [
       "(91, ['Longsword', 'Chainmail', 'Defense+1'])"
      ]
     },
     "execution_count": 66,
     "metadata": {},
     "output_type": "execute_result"
    }
   ],
   "source": [
    "day21a(filepath)"
   ]
  },
  {
   "cell_type": "code",
   "execution_count": 67,
   "id": "fa84ad9c",
   "metadata": {},
   "outputs": [
    {
     "name": "stdout",
     "output_type": "stream",
     "text": [
      "['Dagger', 'Bandedmail', 'Damage+1', 'Damage+2']\n",
      "['Warhammer', 'Leather', 'Damage+3', 'Defense+1']\n",
      "['Warhammer', 'Leather', 'Defense+2', 'Defense+3']\n",
      "['Warhammer', 'Splintmail', 'Defense+3']\n",
      "['Longsword', 'Leather', 'Damage+1', 'Defense+3']\n",
      "['Longsword', 'Splintmail', 'Damage+1', 'Defense+2']\n"
     ]
    },
    {
     "data": {
      "text/plain": [
       "(146, ['Dagger', 'Leather', 'Damage+1', 'Damage+3'])"
      ]
     },
     "execution_count": 67,
     "metadata": {},
     "output_type": "execute_result"
    }
   ],
   "source": [
    "day21b(filepath)"
   ]
  },
  {
   "cell_type": "markdown",
   "id": "b2027d37",
   "metadata": {},
   "source": [
    "# day 21 b should be 158, I'll need to come back later and inspect what's going wrong\n",
    "\n",
    "I've already found the set of equipments that should lose but somehow win so we can go through those in more detail"
   ]
  },
  {
   "cell_type": "code",
   "execution_count": null,
   "id": "6d14eb9d",
   "metadata": {},
   "outputs": [],
   "source": [
    "possible = [\n",
    "    ['Dagger', 'Bandedmail', 'Damage+1', 'Damage+2'],\n",
    "    ['Warhammer', 'Leather', 'Damage+3', 'Defense+1'],\n",
    "    ['Warhammer', 'Leather', 'Defense+2', 'Defense+3'],\n",
    "    ['Warhammer', 'Splintmail', 'Defense+3'],\n",
    "    ['Longsword', 'Leather', 'Damage+1', 'Defense+3'],\n",
    "    ['Longsword', 'Splintmail', 'Damage+1', 'Defense+2']\n",
    "]\n"
   ]
  }
 ],
 "metadata": {
  "kernelspec": {
   "display_name": "Python 3 (ipykernel)",
   "language": "python",
   "name": "python3"
  },
  "language_info": {
   "codemirror_mode": {
    "name": "ipython",
    "version": 3
   },
   "file_extension": ".py",
   "mimetype": "text/x-python",
   "name": "python",
   "nbconvert_exporter": "python",
   "pygments_lexer": "ipython3",
   "version": "3.10.9"
  }
 },
 "nbformat": 4,
 "nbformat_minor": 5
}
